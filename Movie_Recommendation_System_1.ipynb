{
  "nbformat": 4,
  "nbformat_minor": 0,
  "metadata": {
    "kernelspec": {
      "display_name": "Python 2",
      "language": "python",
      "name": "python2"
    },
    "language_info": {
      "mimetype": "text/x-python",
      "name": "python",
      "pygments_lexer": "ipython2",
      "codemirror_mode": {
        "name": "ipython",
        "version": "2"
      },
      "version": "2.7.14",
      "nbconvert_exporter": "python",
      "file_extension": ".py"
    },
    "name": "HW2_Moive_data_MLbased",
    "notebookId": 711568355430196,
    "colab": {
      "name": "Movie Recommendation System 1.ipynb",
      "provenance": [],
      "include_colab_link": true
    }
  },
  "cells": [
    {
      "cell_type": "markdown",
      "metadata": {
        "id": "view-in-github",
        "colab_type": "text"
      },
      "source": [
        "<a href=\"https://colab.research.google.com/github/Zhangmingyang-Su/Big-Data-Project/blob/master/Movie_Recommendation_System_1.ipynb\" target=\"_parent\"><img src=\"https://colab.research.google.com/assets/colab-badge.svg\" alt=\"Open In Colab\"/></a>"
      ]
    },
    {
      "cell_type": "markdown",
      "metadata": {
        "id": "sxMEuSqPDlUw",
        "colab_type": "text"
      },
      "source": [
        "### Spark Moive Recommendation\n",
        "In this notebook, we will use an Alternating Least Squares (ALS) algorithm with Spark APIs to predict the ratings for the movies in [MovieLens small dataset](https://grouplens.org/datasets/movielens/latest/)"
      ]
    },
    {
      "cell_type": "code",
      "metadata": {
        "collapsed": true,
        "id": "hRwEgqNWDlUx",
        "colab_type": "code",
        "colab": {},
        "outputId": "a1ffb184-69a9-4cfe-e8da-00b4eadafa0f"
      },
      "source": [
        "import numpy as np\n",
        "import pandas as pd\n",
        "import seaborn as sns\n",
        "import matplotlib.pyplot as plt\n",
        "import math\n",
        "%matplotlib inline"
      ],
      "execution_count": 0,
      "outputs": [
        {
          "output_type": "display_data",
          "data": {
            "text/html": [
              "<style scoped>\n",
              "  .ansiout {\n",
              "    display: block;\n",
              "    unicode-bidi: embed;\n",
              "    white-space: pre-wrap;\n",
              "    word-wrap: break-word;\n",
              "    word-break: break-all;\n",
              "    font-family: \"Source Code Pro\", \"Menlo\", monospace;;\n",
              "    font-size: 13px;\n",
              "    color: #555;\n",
              "    margin-left: 4px;\n",
              "    line-height: 19px;\n",
              "  }\n",
              "</style>\n",
              "<div class=\"ansiout\"></div>"
            ]
          },
          "metadata": {
            "tags": []
          }
        }
      ]
    },
    {
      "cell_type": "code",
      "metadata": {
        "collapsed": true,
        "id": "ZcVSjF-mDlU1",
        "colab_type": "code",
        "colab": {},
        "outputId": "0d60d437-5cf8-4943-821a-08c4ba989874"
      },
      "source": [
        "import os\n",
        "os.environ[\"PYSPARK_PYTHON\"] = \"python3\""
      ],
      "execution_count": 0,
      "outputs": [
        {
          "output_type": "display_data",
          "data": {
            "text/html": [
              "<style scoped>\n",
              "  .ansiout {\n",
              "    display: block;\n",
              "    unicode-bidi: embed;\n",
              "    white-space: pre-wrap;\n",
              "    word-wrap: break-word;\n",
              "    word-break: break-all;\n",
              "    font-family: \"Source Code Pro\", \"Menlo\", monospace;;\n",
              "    font-size: 13px;\n",
              "    color: #555;\n",
              "    margin-left: 4px;\n",
              "    line-height: 19px;\n",
              "  }\n",
              "</style>\n",
              "<div class=\"ansiout\"></div>"
            ]
          },
          "metadata": {
            "tags": []
          }
        }
      ]
    },
    {
      "cell_type": "markdown",
      "metadata": {
        "id": "SnhirGybDlU4",
        "colab_type": "text"
      },
      "source": [
        "## Part1: Data ETL and Data Exploration"
      ]
    },
    {
      "cell_type": "code",
      "metadata": {
        "collapsed": true,
        "id": "MHtkx55DDlU4",
        "colab_type": "code",
        "colab": {},
        "outputId": "5d648c6a-dbb5-46cf-ff7e-179b4464f75a"
      },
      "source": [
        "from pyspark.sql import SparkSession\n",
        "spark = SparkSession \\\n",
        "    .builder \\\n",
        "    .appName(\"moive analysis\") \\\n",
        "    .config(\"spark.some.config.option\", \"some-value\") \\\n",
        "    .getOrCreate()"
      ],
      "execution_count": 0,
      "outputs": [
        {
          "output_type": "display_data",
          "data": {
            "text/html": [
              "<style scoped>\n",
              "  .ansiout {\n",
              "    display: block;\n",
              "    unicode-bidi: embed;\n",
              "    white-space: pre-wrap;\n",
              "    word-wrap: break-word;\n",
              "    word-break: break-all;\n",
              "    font-family: \"Source Code Pro\", \"Menlo\", monospace;;\n",
              "    font-size: 13px;\n",
              "    color: #555;\n",
              "    margin-left: 4px;\n",
              "    line-height: 19px;\n",
              "  }\n",
              "</style>\n",
              "<div class=\"ansiout\"></div>"
            ]
          },
          "metadata": {
            "tags": []
          }
        }
      ]
    },
    {
      "cell_type": "code",
      "metadata": {
        "collapsed": true,
        "id": "1KcHlHUtDlU7",
        "colab_type": "code",
        "colab": {},
        "outputId": "29694b90-1936-4d95-caf7-0f337b8dc741"
      },
      "source": [
        "movies_df = spark.read.load(\"/FileStore/tables/movies.csv\", format='csv', header = True)\n",
        "ratings_df = spark.read.load(\"/FileStore/tables/ratings.csv\", format='csv', header = True)\n",
        "links_df = spark.read.load(\"/FileStore/tables/links.csv\", format='csv', header = True)\n",
        "tags_df = spark.read.load(\"/FileStore/tables/tags.csv\", format='csv', header = True)"
      ],
      "execution_count": 0,
      "outputs": [
        {
          "output_type": "display_data",
          "data": {
            "text/html": [
              "<style scoped>\n",
              "  .ansiout {\n",
              "    display: block;\n",
              "    unicode-bidi: embed;\n",
              "    white-space: pre-wrap;\n",
              "    word-wrap: break-word;\n",
              "    word-break: break-all;\n",
              "    font-family: \"Source Code Pro\", \"Menlo\", monospace;;\n",
              "    font-size: 13px;\n",
              "    color: #555;\n",
              "    margin-left: 4px;\n",
              "    line-height: 19px;\n",
              "  }\n",
              "</style>\n",
              "<div class=\"ansiout\"></div>"
            ]
          },
          "metadata": {
            "tags": []
          }
        }
      ]
    },
    {
      "cell_type": "code",
      "metadata": {
        "id": "jEfMqq_XDlU-",
        "colab_type": "code",
        "colab": {},
        "outputId": "85ce1e3c-e393-4caa-c49e-e8c129ff2935"
      },
      "source": [
        "movies_df.show(5)"
      ],
      "execution_count": 0,
      "outputs": [
        {
          "output_type": "display_data",
          "data": {
            "text/html": [
              "<style scoped>\n",
              "  .ansiout {\n",
              "    display: block;\n",
              "    unicode-bidi: embed;\n",
              "    white-space: pre-wrap;\n",
              "    word-wrap: break-word;\n",
              "    word-break: break-all;\n",
              "    font-family: \"Source Code Pro\", \"Menlo\", monospace;;\n",
              "    font-size: 13px;\n",
              "    color: #555;\n",
              "    margin-left: 4px;\n",
              "    line-height: 19px;\n",
              "  }\n",
              "</style>\n",
              "<div class=\"ansiout\">+-------+--------------------+--------------------+\n",
              "movieId|               title|              genres|\n",
              "+-------+--------------------+--------------------+\n",
              "      1|    Toy Story (1995)|Adventure|Animati...|\n",
              "      2|      Jumanji (1995)|Adventure|Childre...|\n",
              "      3|Grumpier Old Men ...|      Comedy|Romance|\n",
              "      4|Waiting to Exhale...|Comedy|Drama|Romance|\n",
              "      5|Father of the Bri...|              Comedy|\n",
              "+-------+--------------------+--------------------+\n",
              "only showing top 5 rows\n",
              "\n",
              "</div>"
            ]
          },
          "metadata": {
            "tags": []
          }
        }
      ]
    },
    {
      "cell_type": "code",
      "metadata": {
        "id": "z_sWV8guDlVA",
        "colab_type": "code",
        "colab": {},
        "outputId": "14eba220-30b8-458e-e7dd-fdce3cdee42f"
      },
      "source": [
        "ratings_df.show(5)"
      ],
      "execution_count": 0,
      "outputs": [
        {
          "output_type": "display_data",
          "data": {
            "text/html": [
              "<style scoped>\n",
              "  .ansiout {\n",
              "    display: block;\n",
              "    unicode-bidi: embed;\n",
              "    white-space: pre-wrap;\n",
              "    word-wrap: break-word;\n",
              "    word-break: break-all;\n",
              "    font-family: \"Source Code Pro\", \"Menlo\", monospace;;\n",
              "    font-size: 13px;\n",
              "    color: #555;\n",
              "    margin-left: 4px;\n",
              "    line-height: 19px;\n",
              "  }\n",
              "</style>\n",
              "<div class=\"ansiout\">+------+-------+------+---------+\n",
              "userId|movieId|rating|timestamp|\n",
              "+------+-------+------+---------+\n",
              "     1|      1|   4.0|964982703|\n",
              "     1|      3|   4.0|964981247|\n",
              "     1|      6|   4.0|964982224|\n",
              "     1|     47|   5.0|964983815|\n",
              "     1|     50|   5.0|964982931|\n",
              "+------+-------+------+---------+\n",
              "only showing top 5 rows\n",
              "\n",
              "</div>"
            ]
          },
          "metadata": {
            "tags": []
          }
        }
      ]
    },
    {
      "cell_type": "code",
      "metadata": {
        "id": "kSFRfm8uDlVD",
        "colab_type": "code",
        "colab": {},
        "outputId": "92aae7c6-c354-408c-bee7-6b1a7937ea1f"
      },
      "source": [
        "links_df.show(5)"
      ],
      "execution_count": 0,
      "outputs": [
        {
          "output_type": "display_data",
          "data": {
            "text/html": [
              "<style scoped>\n",
              "  .ansiout {\n",
              "    display: block;\n",
              "    unicode-bidi: embed;\n",
              "    white-space: pre-wrap;\n",
              "    word-wrap: break-word;\n",
              "    word-break: break-all;\n",
              "    font-family: \"Source Code Pro\", \"Menlo\", monospace;;\n",
              "    font-size: 13px;\n",
              "    color: #555;\n",
              "    margin-left: 4px;\n",
              "    line-height: 19px;\n",
              "  }\n",
              "</style>\n",
              "<div class=\"ansiout\">+-------+-------+------+\n",
              "movieId| imdbId|tmdbId|\n",
              "+-------+-------+------+\n",
              "      1|0114709|   862|\n",
              "      2|0113497|  8844|\n",
              "      3|0113228| 15602|\n",
              "      4|0114885| 31357|\n",
              "      5|0113041| 11862|\n",
              "+-------+-------+------+\n",
              "only showing top 5 rows\n",
              "\n",
              "</div>"
            ]
          },
          "metadata": {
            "tags": []
          }
        }
      ]
    },
    {
      "cell_type": "code",
      "metadata": {
        "id": "UEOBwpSxDlVF",
        "colab_type": "code",
        "colab": {},
        "outputId": "9ef0995d-f41f-4aea-f338-373b4bac9787"
      },
      "source": [
        "tags_df.show(5)"
      ],
      "execution_count": 0,
      "outputs": [
        {
          "output_type": "display_data",
          "data": {
            "text/html": [
              "<style scoped>\n",
              "  .ansiout {\n",
              "    display: block;\n",
              "    unicode-bidi: embed;\n",
              "    white-space: pre-wrap;\n",
              "    word-wrap: break-word;\n",
              "    word-break: break-all;\n",
              "    font-family: \"Source Code Pro\", \"Menlo\", monospace;;\n",
              "    font-size: 13px;\n",
              "    color: #555;\n",
              "    margin-left: 4px;\n",
              "    line-height: 19px;\n",
              "  }\n",
              "</style>\n",
              "<div class=\"ansiout\">+------+-------+---------------+----------+\n",
              "userId|movieId|            tag| timestamp|\n",
              "+------+-------+---------------+----------+\n",
              "     2|  60756|          funny|1445714994|\n",
              "     2|  60756|Highly quotable|1445714996|\n",
              "     2|  60756|   will ferrell|1445714992|\n",
              "     2|  89774|   Boxing story|1445715207|\n",
              "     2|  89774|            MMA|1445715200|\n",
              "+------+-------+---------------+----------+\n",
              "only showing top 5 rows\n",
              "\n",
              "</div>"
            ]
          },
          "metadata": {
            "tags": []
          }
        }
      ]
    },
    {
      "cell_type": "code",
      "metadata": {
        "id": "wI-vwcSTDlVI",
        "colab_type": "code",
        "colab": {},
        "outputId": "14a37f09-9a96-498b-f1ff-ea38344c9379"
      },
      "source": [
        "tmp1 = ratings_df.groupBy(\"userID\").count().toPandas()['count'].min()\n",
        "tmp2 = ratings_df.groupBy(\"movieId\").count().toPandas()['count'].min()\n",
        "print('For the users that rated movies and the movies that were rated:')\n",
        "print('Minimum number of ratings per user is {}'.format(tmp1))\n",
        "print('Minimum number of ratings per movie is {}'.format(tmp2))"
      ],
      "execution_count": 0,
      "outputs": [
        {
          "output_type": "display_data",
          "data": {
            "text/html": [
              "<style scoped>\n",
              "  .ansiout {\n",
              "    display: block;\n",
              "    unicode-bidi: embed;\n",
              "    white-space: pre-wrap;\n",
              "    word-wrap: break-word;\n",
              "    word-break: break-all;\n",
              "    font-family: \"Source Code Pro\", \"Menlo\", monospace;;\n",
              "    font-size: 13px;\n",
              "    color: #555;\n",
              "    margin-left: 4px;\n",
              "    line-height: 19px;\n",
              "  }\n",
              "</style>\n",
              "<div class=\"ansiout\">For the users that rated movies and the movies that were rated:\n",
              "Minimum number of ratings per user is 20\n",
              "Minimum number of ratings per movie is 1\n",
              "</div>"
            ]
          },
          "metadata": {
            "tags": []
          }
        }
      ]
    },
    {
      "cell_type": "code",
      "metadata": {
        "id": "ooO8q20eDlVL",
        "colab_type": "code",
        "colab": {},
        "outputId": "22558756-b08b-41ce-f406-4d103d618797"
      },
      "source": [
        "tmp1 = sum(ratings_df.groupBy(\"movieId\").count().toPandas()['count'] == 1)\n",
        "tmp2 = ratings_df.select('movieId').distinct().count()\n",
        "print('{} out of {} movies are rated by only one user'.format(tmp1, tmp2))"
      ],
      "execution_count": 0,
      "outputs": [
        {
          "output_type": "display_data",
          "data": {
            "text/html": [
              "<style scoped>\n",
              "  .ansiout {\n",
              "    display: block;\n",
              "    unicode-bidi: embed;\n",
              "    white-space: pre-wrap;\n",
              "    word-wrap: break-word;\n",
              "    word-break: break-all;\n",
              "    font-family: \"Source Code Pro\", \"Menlo\", monospace;;\n",
              "    font-size: 13px;\n",
              "    color: #555;\n",
              "    margin-left: 4px;\n",
              "    line-height: 19px;\n",
              "  }\n",
              "</style>\n",
              "<div class=\"ansiout\">3446 out of 9724 movies are rated by only one user\n",
              "</div>"
            ]
          },
          "metadata": {
            "tags": []
          }
        }
      ]
    },
    {
      "cell_type": "markdown",
      "metadata": {
        "id": "5yBcxIPXDlVO",
        "colab_type": "text"
      },
      "source": [
        "\n",
        "\n",
        "```\n",
        "# This is formatted as code\n",
        "```\n",
        "\n",
        "## Part 2: Spark SQL and OLAP"
      ]
    },
    {
      "cell_type": "code",
      "metadata": {
        "id": "tdekQ47_DlVP",
        "colab_type": "code",
        "colab": {},
        "outputId": "a5c0b563-c811-43d2-ac16-2452fe06ad52"
      },
      "source": [
        "movies_df.registerTempTable(\"movies\")\n",
        "ratings_df.registerTempTable(\"ratings\")\n",
        "links_df.registerTempTable(\"links\")\n",
        "tags_df.registerTempTable(\"tags\")"
      ],
      "execution_count": 0,
      "outputs": [
        {
          "output_type": "display_data",
          "data": {
            "text/html": [
              "<style scoped>\n",
              "  .ansiout {\n",
              "    display: block;\n",
              "    unicode-bidi: embed;\n",
              "    white-space: pre-wrap;\n",
              "    word-wrap: break-word;\n",
              "    word-break: break-all;\n",
              "    font-family: \"Source Code Pro\", \"Menlo\", monospace;;\n",
              "    font-size: 13px;\n",
              "    color: #555;\n",
              "    margin-left: 4px;\n",
              "    line-height: 19px;\n",
              "  }\n",
              "</style>\n",
              "<div class=\"ansiout\"></div>"
            ]
          },
          "metadata": {
            "tags": []
          }
        }
      ]
    },
    {
      "cell_type": "markdown",
      "metadata": {
        "id": "828cXJi3DlVR",
        "colab_type": "text"
      },
      "source": [
        "### Q1: The number of Users"
      ]
    },
    {
      "cell_type": "code",
      "metadata": {
        "id": "FGtcaAk6DlVS",
        "colab_type": "code",
        "colab": {},
        "outputId": "8ba4c794-a619-49f3-992a-0f506ac91344"
      },
      "source": [
        "%sql select count(distinct userId) as users_number from ratings"
      ],
      "execution_count": 0,
      "outputs": [
        {
          "output_type": "display_data",
          "data": {
            "text/html": [
              "<style scoped>\n",
              "  .table-result-container {\n",
              "    max-height: 300px;\n",
              "    overflow: auto;\n",
              "  }\n",
              "  table, th, td {\n",
              "    border: 1px solid black;\n",
              "    border-collapse: collapse;\n",
              "  }\n",
              "  th, td {\n",
              "    padding: 5px;\n",
              "  }\n",
              "  th {\n",
              "    text-align: left;\n",
              "  }\n",
              "</style><div class='table-result-container'><table class='table-result'><thead style='background-color: white'><tr><th>users_number</th></tr></thead><tbody><tr><td>610</td></tr></tbody></table></div>"
            ]
          },
          "metadata": {
            "tags": []
          }
        }
      ]
    },
    {
      "cell_type": "markdown",
      "metadata": {
        "id": "uZcDX5NeDlVU",
        "colab_type": "text"
      },
      "source": [
        "### Q2: The number of Movies"
      ]
    },
    {
      "cell_type": "code",
      "metadata": {
        "id": "CTIUaUSeDlVU",
        "colab_type": "code",
        "colab": {},
        "outputId": "341b5e0b-eb8c-43e6-e95d-6a6f24b62ba5"
      },
      "source": [
        "%sql select count(movieId) as movies_number from movies"
      ],
      "execution_count": 0,
      "outputs": [
        {
          "output_type": "display_data",
          "data": {
            "text/html": [
              "<style scoped>\n",
              "  .table-result-container {\n",
              "    max-height: 300px;\n",
              "    overflow: auto;\n",
              "  }\n",
              "  table, th, td {\n",
              "    border: 1px solid black;\n",
              "    border-collapse: collapse;\n",
              "  }\n",
              "  th, td {\n",
              "    padding: 5px;\n",
              "  }\n",
              "  th {\n",
              "    text-align: left;\n",
              "  }\n",
              "</style><div class='table-result-container'><table class='table-result'><thead style='background-color: white'><tr><th>movies_number</th></tr></thead><tbody><tr><td>9742</td></tr></tbody></table></div>"
            ]
          },
          "metadata": {
            "tags": []
          }
        }
      ]
    },
    {
      "cell_type": "markdown",
      "metadata": {
        "id": "lmBt_1azDlVW",
        "colab_type": "text"
      },
      "source": [
        "### Q3:  How many movies are rated by users? List movies not rated before"
      ]
    },
    {
      "cell_type": "code",
      "metadata": {
        "id": "zLPhaKaXDlVX",
        "colab_type": "code",
        "colab": {},
        "outputId": "3d26d997-f967-433a-c9d9-a95abfa85cc4"
      },
      "source": [
        "%sql select title, genres\n",
        "from movies\n",
        "where movieId not in (select m.movieId from ratings r join movies m on m.movieId = r.movieId) "
      ],
      "execution_count": 0,
      "outputs": [
        {
          "output_type": "display_data",
          "data": {
            "text/html": [
              "<style scoped>\n",
              "  .table-result-container {\n",
              "    max-height: 300px;\n",
              "    overflow: auto;\n",
              "  }\n",
              "  table, th, td {\n",
              "    border: 1px solid black;\n",
              "    border-collapse: collapse;\n",
              "  }\n",
              "  th, td {\n",
              "    padding: 5px;\n",
              "  }\n",
              "  th {\n",
              "    text-align: left;\n",
              "  }\n",
              "</style><div class='table-result-container'><table class='table-result'><thead style='background-color: white'><tr><th>title</th><th>genres</th></tr></thead><tbody><tr><td>Innocents, The (1961)</td><td>Drama|Horror|Thriller</td></tr><tr><td>Niagara (1953)</td><td>Drama|Thriller</td></tr><tr><td>For All Mankind (1989)</td><td>Documentary</td></tr><tr><td>Color of Paradise, The (Rang-e khoda) (1999)</td><td>Drama</td></tr><tr><td>I Know Where I'm Going! (1945)</td><td>Drama|Romance|War</td></tr><tr><td>Chosen, The (1981)</td><td>Drama</td></tr><tr><td>Road Home, The (Wo de fu qin mu qin) (1999)</td><td>Drama|Romance</td></tr><tr><td>Scrooge (1970)</td><td>Drama|Fantasy|Musical</td></tr><tr><td>Proof (1991)</td><td>Comedy|Drama|Romance</td></tr><tr><td>Parallax View, The (1974)</td><td>Thriller</td></tr><tr><td>This Gun for Hire (1942)</td><td>Crime|Film-Noir|Thriller</td></tr><tr><td>Roaring Twenties, The (1939)</td><td>Crime|Drama|Thriller</td></tr><tr><td>Mutiny on the Bounty (1962)</td><td>Adventure|Drama|Romance</td></tr><tr><td>In the Realms of the Unreal (2004)</td><td>Animation|Documentary</td></tr><tr><td>Twentieth Century (1934)</td><td>Comedy</td></tr><tr><td>Call Northside 777 (1948)</td><td>Crime|Drama|Film-Noir</td></tr><tr><td>Browning Version, The (1951)</td><td>Drama</td></tr><tr><td>Chalet Girl (2011)</td><td>Comedy|Romance</td></tr></tbody></table></div>"
            ]
          },
          "metadata": {
            "tags": []
          }
        }
      ]
    },
    {
      "cell_type": "code",
      "metadata": {
        "id": "2vu4P-NyDlVZ",
        "colab_type": "code",
        "colab": {},
        "outputId": "8b6de9cf-2981-4fed-b7d8-effa89accbb7"
      },
      "source": [
        "%sql select count(distinct(m.movieId)) as Number_movies_by_users from ratings r join movies m on m.movieId = r.movieId"
      ],
      "execution_count": 0,
      "outputs": [
        {
          "output_type": "display_data",
          "data": {
            "text/html": [
              "<style scoped>\n",
              "  .table-result-container {\n",
              "    max-height: 300px;\n",
              "    overflow: auto;\n",
              "  }\n",
              "  table, th, td {\n",
              "    border: 1px solid black;\n",
              "    border-collapse: collapse;\n",
              "  }\n",
              "  th, td {\n",
              "    padding: 5px;\n",
              "  }\n",
              "  th {\n",
              "    text-align: left;\n",
              "  }\n",
              "</style><div class='table-result-container'><table class='table-result'><thead style='background-color: white'><tr><th>Number_movies_by_users</th></tr></thead><tbody><tr><td>9724</td></tr></tbody></table></div>"
            ]
          },
          "metadata": {
            "tags": []
          }
        }
      ]
    },
    {
      "cell_type": "markdown",
      "metadata": {
        "id": "aRvX0eJYDlVe",
        "colab_type": "text"
      },
      "source": [
        "### Q4: List Movie Genres"
      ]
    },
    {
      "cell_type": "code",
      "metadata": {
        "id": "8xBThqI6DlVe",
        "colab_type": "code",
        "colab": {},
        "outputId": "3915bce9-dc99-4ebb-e30a-568d30ccbf25"
      },
      "source": [
        "%sql\n",
        "select title, genres from movies"
      ],
      "execution_count": 0,
      "outputs": [
        {
          "output_type": "display_data",
          "data": {
            "text/html": [
              "<style scoped>\n",
              "  .table-result-container {\n",
              "    max-height: 300px;\n",
              "    overflow: auto;\n",
              "  }\n",
              "  table, th, td {\n",
              "    border: 1px solid black;\n",
              "    border-collapse: collapse;\n",
              "  }\n",
              "  th, td {\n",
              "    padding: 5px;\n",
              "  }\n",
              "  th {\n",
              "    text-align: left;\n",
              "  }\n",
              "</style><div class='table-result-container'><table class='table-result'><thead style='background-color: white'><tr><th>title</th><th>genres</th></tr></thead><tbody><tr><td>Toy Story (1995)</td><td>Adventure|Animation|Children|Comedy|Fantasy</td></tr><tr><td>Jumanji (1995)</td><td>Adventure|Children|Fantasy</td></tr><tr><td>Grumpier Old Men (1995)</td><td>Comedy|Romance</td></tr><tr><td>Waiting to Exhale (1995)</td><td>Comedy|Drama|Romance</td></tr><tr><td>Father of the Bride Part II (1995)</td><td>Comedy</td></tr><tr><td>Heat (1995)</td><td>Action|Crime|Thriller</td></tr><tr><td>Sabrina (1995)</td><td>Comedy|Romance</td></tr><tr><td>Tom and Huck (1995)</td><td>Adventure|Children</td></tr><tr><td>Sudden Death (1995)</td><td>Action</td></tr><tr><td>GoldenEye (1995)</td><td>Action|Adventure|Thriller</td></tr><tr><td>American President, The (1995)</td><td>Comedy|Drama|Romance</td></tr><tr><td>Dracula: Dead and Loving It (1995)</td><td>Comedy|Horror</td></tr><tr><td>Balto (1995)</td><td>Adventure|Animation|Children</td></tr><tr><td>Nixon (1995)</td><td>Drama</td></tr><tr><td>Cutthroat Island (1995)</td><td>Action|Adventure|Romance</td></tr><tr><td>Casino (1995)</td><td>Crime|Drama</td></tr><tr><td>Sense and Sensibility (1995)</td><td>Drama|Romance</td></tr><tr><td>Four Rooms (1995)</td><td>Comedy</td></tr><tr><td>Ace Ventura: When Nature Calls (1995)</td><td>Comedy</td></tr><tr><td>Money Train (1995)</td><td>Action|Comedy|Crime|Drama|Thriller</td></tr><tr><td>Get Shorty (1995)</td><td>Comedy|Crime|Thriller</td></tr><tr><td>Copycat (1995)</td><td>Crime|Drama|Horror|Mystery|Thriller</td></tr><tr><td>Assassins (1995)</td><td>Action|Crime|Thriller</td></tr><tr><td>Powder (1995)</td><td>Drama|Sci-Fi</td></tr><tr><td>Leaving Las Vegas (1995)</td><td>Drama|Romance</td></tr><tr><td>Othello (1995)</td><td>Drama</td></tr><tr><td>Now and Then (1995)</td><td>Children|Drama</td></tr><tr><td>Persuasion (1995)</td><td>Drama|Romance</td></tr><tr><td>City of Lost Children, The (Cité des enfants perdus, La) (1995)</td><td>Adventure|Drama|Fantasy|Mystery|Sci-Fi</td></tr><tr><td>Shanghai Triad (Yao a yao yao dao waipo qiao) (1995)</td><td>Crime|Drama</td></tr><tr><td>Dangerous Minds (1995)</td><td>Drama</td></tr><tr><td>Twelve Monkeys (a.k.a. 12 Monkeys) (1995)</td><td>Mystery|Sci-Fi|Thriller</td></tr><tr><td>Babe (1995)</td><td>Children|Drama</td></tr><tr><td>Dead Man Walking (1995)</td><td>Crime|Drama</td></tr><tr><td>It Takes Two (1995)</td><td>Children|Comedy</td></tr><tr><td>Clueless (1995)</td><td>Comedy|Romance</td></tr><tr><td>Cry, the Beloved Country (1995)</td><td>Drama</td></tr><tr><td>Richard III (1995)</td><td>Drama|War</td></tr><tr><td>Dead Presidents (1995)</td><td>Action|Crime|Drama</td></tr><tr><td>Restoration (1995)</td><td>Drama</td></tr><tr><td>Mortal Kombat (1995)</td><td>Action|Adventure|Fantasy</td></tr><tr><td>To Die For (1995)</td><td>Comedy|Drama|Thriller</td></tr><tr><td>How to Make an American Quilt (1995)</td><td>Drama|Romance</td></tr><tr><td>Seven (a.k.a. Se7en) (1995)</td><td>Mystery|Thriller</td></tr><tr><td>Pocahontas (1995)</td><td>Animation|Children|Drama|Musical|Romance</td></tr><tr><td>When Night Is Falling (1995)</td><td>Drama|Romance</td></tr><tr><td>Usual Suspects, The (1995)</td><td>Crime|Mystery|Thriller</td></tr><tr><td>Mighty Aphrodite (1995)</td><td>Comedy|Drama|Romance</td></tr><tr><td>Lamerica (1994)</td><td>Adventure|Drama</td></tr><tr><td>Big Green, The (1995)</td><td>Children|Comedy</td></tr><tr><td>Georgia (1995)</td><td>Drama</td></tr><tr><td>Home for the Holidays (1995)</td><td>Drama</td></tr><tr><td>Postman, The (Postino, Il) (1994)</td><td>Comedy|Drama|Romance</td></tr><tr><td>Indian in the Cupboard, The (1995)</td><td>Adventure|Children|Fantasy</td></tr><tr><td>Eye for an Eye (1996)</td><td>Drama|Thriller</td></tr><tr><td>Mr. Holland's Opus (1995)</td><td>Drama</td></tr><tr><td>Don't Be a Menace to South Central While Drinking Your Juice in the Hood (1996)</td><td>Comedy|Crime</td></tr><tr><td>Two if by Sea (1996)</td><td>Comedy|Romance</td></tr><tr><td>Bio-Dome (1996)</td><td>Comedy</td></tr><tr><td>Lawnmower Man 2: Beyond Cyberspace (1996)</td><td>Action|Sci-Fi|Thriller</td></tr><tr><td>French Twist (Gazon maudit) (1995)</td><td>Comedy|Romance</td></tr><tr><td>Friday (1995)</td><td>Comedy</td></tr><tr><td>From Dusk Till Dawn (1996)</td><td>Action|Comedy|Horror|Thriller</td></tr><tr><td>Fair Game (1995)</td><td>Action</td></tr><tr><td>Kicking and Screaming (1995)</td><td>Comedy|Drama</td></tr><tr><td>Misérables, Les (1995)</td><td>Drama|War</td></tr><tr><td>Bed of Roses (1996)</td><td>Drama|Romance</td></tr><tr><td>Big Bully (1996)</td><td>Comedy|Drama</td></tr><tr><td>Screamers (1995)</td><td>Action|Sci-Fi|Thriller</td></tr><tr><td>Nico Icon (1995)</td><td>Documentary</td></tr><tr><td>Crossing Guard, The (1995)</td><td>Action|Crime|Drama|Thriller</td></tr><tr><td>Juror, The (1996)</td><td>Drama|Thriller</td></tr><tr><td>White Balloon, The (Badkonake sefid) (1995)</td><td>Children|Drama</td></tr><tr><td>Things to Do in Denver When You're Dead (1995)</td><td>Crime|Drama|Romance</td></tr><tr><td>Antonia's Line (Antonia) (1995)</td><td>Comedy|Drama</td></tr><tr><td>Once Upon a Time... When We Were Colored (1995)</td><td>Drama|Romance</td></tr><tr><td>Angels and Insects (1995)</td><td>Drama|Romance</td></tr><tr><td>White Squall (1996)</td><td>Action|Adventure|Drama</td></tr><tr><td>Dunston Checks In (1996)</td><td>Children|Comedy</td></tr><tr><td>Black Sheep (1996)</td><td>Comedy</td></tr><tr><td>Nick of Time (1995)</td><td>Action|Thriller</td></tr><tr><td>Mary Reilly (1996)</td><td>Drama|Horror|Thriller</td></tr><tr><td>Vampire in Brooklyn (1995)</td><td>Comedy|Horror|Romance</td></tr><tr><td>Beautiful Girls (1996)</td><td>Comedy|Drama|Romance</td></tr><tr><td>Broken Arrow (1996)</td><td>Action|Adventure|Thriller</td></tr><tr><td>In the Bleak Midwinter (1995)</td><td>Comedy|Drama</td></tr><tr><td>Hate (Haine, La) (1995)</td><td>Crime|Drama</td></tr><tr><td>Heidi Fleiss: Hollywood Madam (1995)</td><td>Documentary</td></tr><tr><td>City Hall (1996)</td><td>Drama|Thriller</td></tr><tr><td>Bottle Rocket (1996)</td><td>Adventure|Comedy|Crime|Romance</td></tr><tr><td>Mr. Wrong (1996)</td><td>Comedy</td></tr><tr><td>Unforgettable (1996)</td><td>Mystery|Sci-Fi|Thriller</td></tr><tr><td>Happy Gilmore (1996)</td><td>Comedy</td></tr><tr><td>Bridges of Madison County, The (1995)</td><td>Drama|Romance</td></tr><tr><td>Nobody Loves Me (Keiner liebt mich) (1994)</td><td>Comedy|Drama</td></tr><tr><td>Muppet Treasure Island (1996)</td><td>Adventure|Children|Comedy|Musical</td></tr><tr><td>Catwalk (1996)</td><td>Documentary</td></tr><tr><td>Braveheart (1995)</td><td>Action|Drama|War</td></tr><tr><td>Taxi Driver (1976)</td><td>Crime|Drama|Thriller</td></tr><tr><td>Rumble in the Bronx (Hont faan kui) (1995)</td><td>Action|Adventure|Comedy|Crime</td></tr><tr><td>Before and After (1996)</td><td>Drama|Mystery</td></tr><tr><td>Anne Frank Remembered (1995)</td><td>Documentary</td></tr><tr><td>Young Poisoner's Handbook, The (1995)</td><td>Crime|Drama</td></tr><tr><td>If Lucy Fell (1996)</td><td>Comedy|Romance</td></tr><tr><td>Steal Big, Steal Little (1995)</td><td>Comedy</td></tr><tr><td>Boys of St. Vincent, The (1992)</td><td>Drama</td></tr><tr><td>Boomerang (1992)</td><td>Comedy|Romance</td></tr><tr><td>Chungking Express (Chung Hing sam lam) (1994)</td><td>Drama|Mystery|Romance</td></tr><tr><td>Flirting With Disaster (1996)</td><td>Comedy</td></tr><tr><td>NeverEnding Story III, The (1994)</td><td>Adventure|Children|Fantasy</td></tr><tr><td>Jupiter's Wife (1994)</td><td>Documentary</td></tr><tr><td>Pie in the Sky (1996)</td><td>Comedy|Romance</td></tr><tr><td>Jade (1995)</td><td>Thriller</td></tr><tr><td>Down Periscope (1996)</td><td>Comedy</td></tr><tr><td>Man of the Year (1995)</td><td>Documentary</td></tr><tr><td>Up Close and Personal (1996)</td><td>Drama|Romance</td></tr><tr><td>Birdcage, The (1996)</td><td>Comedy</td></tr><tr><td>Brothers McMullen, The (1995)</td><td>Comedy</td></tr><tr><td>Bad Boys (1995)</td><td>Action|Comedy|Crime|Drama|Thriller</td></tr><tr><td>Amazing Panda Adventure, The (1995)</td><td>Adventure|Children</td></tr><tr><td>Basketball Diaries, The (1995)</td><td>Drama</td></tr><tr><td>Awfully Big Adventure, An (1995)</td><td>Drama</td></tr><tr><td>Amateur (1994)</td><td>Crime|Drama|Thriller</td></tr><tr><td>Apollo 13 (1995)</td><td>Adventure|Drama|IMAX</td></tr><tr><td>Rob Roy (1995)</td><td>Action|Drama|Romance|War</td></tr><tr><td>Addiction, The (1995)</td><td>Drama|Horror</td></tr><tr><td>Batman Forever (1995)</td><td>Action|Adventure|Comedy|Crime</td></tr><tr><td>Beauty of the Day (Belle de jour) (1967)</td><td>Drama</td></tr><tr><td>Beyond Rangoon (1995)</td><td>Adventure|Drama|War</td></tr><tr><td>Blue in the Face (1995)</td><td>Comedy|Drama</td></tr><tr><td>Canadian Bacon (1995)</td><td>Comedy|War</td></tr><tr><td>Casper (1995)</td><td>Adventure|Children</td></tr><tr><td>Clockers (1995)</td><td>Crime|Drama|Mystery</td></tr><tr><td>Congo (1995)</td><td>Action|Adventure|Mystery|Sci-Fi</td></tr><tr><td>Crimson Tide (1995)</td><td>Drama|Thriller|War</td></tr><tr><td>Crumb (1994)</td><td>Documentary</td></tr><tr><td>Desperado (1995)</td><td>Action|Romance|Western</td></tr><tr><td>Devil in a Blue Dress (1995)</td><td>Crime|Film-Noir|Mystery|Thriller</td></tr><tr><td>Die Hard: With a Vengeance (1995)</td><td>Action|Crime|Thriller</td></tr><tr><td>Doom Generation, The (1995)</td><td>Comedy|Crime|Drama</td></tr><tr><td>First Knight (1995)</td><td>Action|Drama|Romance</td></tr><tr><td>Free Willy 2: The Adventure Home (1995)</td><td>Adventure|Children|Drama</td></tr><tr><td>Hackers (1995)</td><td>Action|Adventure|Crime|Thriller</td></tr><tr><td>Jeffrey (1995)</td><td>Comedy|Drama</td></tr><tr><td>Johnny Mnemonic (1995)</td><td>Action|Sci-Fi|Thriller</td></tr><tr><td>Judge Dredd (1995)</td><td>Action|Crime|Sci-Fi</td></tr><tr><td>Jury Duty (1995)</td><td>Comedy</td></tr><tr><td>Kids (1995)</td><td>Drama</td></tr><tr><td>Living in Oblivion (1995)</td><td>Comedy</td></tr><tr><td>Lord of Illusions (1995)</td><td>Horror</td></tr><tr><td>Love & Human Remains (1993)</td><td>Comedy|Drama</td></tr><tr><td>Mad Love (1995)</td><td>Drama|Romance</td></tr><tr><td>Mallrats (1995)</td><td>Comedy|Romance</td></tr><tr><td>Mighty Morphin Power Rangers: The Movie (1995)</td><td>Action|Children</td></tr><tr><td>Mute Witness (1994)</td><td>Comedy|Horror|Thriller</td></tr><tr><td>Nadja (1994)</td><td>Drama</td></tr><tr><td>Net, The (1995)</td><td>Action|Crime|Thriller</td></tr><tr><td>Nine Months (1995)</td><td>Comedy|Romance</td></tr><tr><td>Party Girl (1995)</td><td>Comedy</td></tr><tr><td>Prophecy, The (1995)</td><td>Fantasy|Horror|Mystery</td></tr><tr><td>Reckless (1995)</td><td>Comedy|Fantasy</td></tr><tr><td>Safe (1995)</td><td>Thriller</td></tr><tr><td>Scarlet Letter, The (1995)</td><td>Drama|Romance</td></tr><tr><td>Showgirls (1995)</td><td>Drama</td></tr><tr><td>Smoke (1995)</td><td>Comedy|Drama</td></tr><tr><td>Something to Talk About (1995)</td><td>Comedy|Drama|Romance</td></tr><tr><td>Species (1995)</td><td>Horror|Sci-Fi</td></tr><tr><td>Strange Days (1995)</td><td>Action|Crime|Drama|Mystery|Sci-Fi|Thriller</td></tr><tr><td>Umbrellas of Cherbourg, The (Parapluies de Cherbourg, Les) (1964)</td><td>Drama|Musical|Romance</td></tr><tr><td>Three Wishes (1995)</td><td>Drama|Fantasy</td></tr><tr><td>Total Eclipse (1995)</td><td>Drama|Romance</td></tr><tr><td>To Wong Foo, Thanks for Everything! Julie Newmar (1995)</td><td>Comedy</td></tr><tr><td>Under Siege 2: Dark Territory (1995)</td><td>Action</td></tr><tr><td>Unstrung Heroes (1995)</td><td>Comedy|Drama</td></tr><tr><td>Unzipped (1995)</td><td>Documentary</td></tr><tr><td>Walk in the Clouds, A (1995)</td><td>Drama|Romance</td></tr><tr><td>Waterworld (1995)</td><td>Action|Adventure|Sci-Fi</td></tr><tr><td>White Man's Burden (1995)</td><td>Drama</td></tr><tr><td>Wild Bill (1995)</td><td>Western</td></tr><tr><td>Browning Version, The (1994)</td><td>Drama</td></tr><tr><td>Bushwhacked (1995)</td><td>Adventure|Comedy|Crime|Mystery</td></tr><tr><td>Burnt by the Sun (Utomlyonnye solntsem) (1994)</td><td>Drama</td></tr><tr><td>Before the Rain (Pred dozhdot) (1994)</td><td>Drama|War</td></tr><tr><td>Before Sunrise (1995)</td><td>Drama|Romance</td></tr><tr><td>Billy Madison (1995)</td><td>Comedy</td></tr><tr><td>Babysitter, The (1995)</td><td>Drama|Thriller</td></tr><tr><td>Boys on the Side (1995)</td><td>Comedy|Drama</td></tr><tr><td>Cure, The (1995)</td><td>Drama</td></tr><tr><td>Castle Freak (1995)</td><td>Horror</td></tr><tr><td>Circle of Friends (1995)</td><td>Drama|Romance</td></tr><tr><td>Clerks (1994)</td><td>Comedy</td></tr><tr><td>Don Juan DeMarco (1995)</td><td>Comedy|Drama|Romance</td></tr><tr><td>Disclosure (1994)</td><td>Drama|Thriller</td></tr><tr><td>Drop Zone (1994)</td><td>Action|Thriller</td></tr><tr><td>Destiny Turns on the Radio (1995)</td><td>Comedy</td></tr><tr><td>Death and the Maiden (1994)</td><td>Drama|Thriller</td></tr><tr><td>Dolores Claiborne (1995)</td><td>Drama|Thriller</td></tr><tr><td>Dumb & Dumber (Dumb and Dumber) (1994)</td><td>Adventure|Comedy</td></tr><tr><td>Eat Drink Man Woman (Yin shi nan nu) (1994)</td><td>Comedy|Drama|Romance</td></tr><tr><td>Exotica (1994)</td><td>Drama</td></tr><tr><td>Exit to Eden (1994)</td><td>Comedy</td></tr><tr><td>Ed Wood (1994)</td><td>Comedy|Drama</td></tr><tr><td>French Kiss (1995)</td><td>Action|Comedy|Romance</td></tr><tr><td>Forget Paris (1995)</td><td>Comedy|Romance</td></tr><tr><td>Far From Home: The Adventures of Yellow Dog (1995)</td><td>Adventure|Children</td></tr><tr><td>Goofy Movie, A (1995)</td><td>Animation|Children|Comedy|Romance</td></tr><tr><td>Hideaway (1995)</td><td>Thriller</td></tr><tr><td>Fluke (1995)</td><td>Children|Drama</td></tr><tr><td>Farinelli: il castrato (1994)</td><td>Drama|Musical</td></tr><tr><td>Gordy (1995)</td><td>Children|Comedy|Fantasy</td></tr><tr><td>Hoop Dreams (1994)</td><td>Documentary</td></tr><tr><td>Heavenly Creatures (1994)</td><td>Crime|Drama</td></tr><tr><td>Houseguest (1994)</td><td>Comedy</td></tr><tr><td>Immortal Beloved (1994)</td><td>Drama|Romance</td></tr><tr><td>Heavyweights (Heavy Weights) (1995)</td><td>Children|Comedy</td></tr><tr><td>Hunted, The (1995)</td><td>Action</td></tr><tr><td>I.Q. (1994)</td><td>Comedy|Romance</td></tr><tr><td>Interview with the Vampire: The Vampire Chronicles (1994)</td><td>Drama|Horror</td></tr><tr><td>Jefferson in Paris (1995)</td><td>Drama</td></tr><tr><td>Jerky Boys, The (1995)</td><td>Comedy</td></tr><tr><td>Junior (1994)</td><td>Comedy|Sci-Fi</td></tr><tr><td>Just Cause (1995)</td><td>Mystery|Thriller</td></tr><tr><td>Kid in King Arthur's Court, A (1995)</td><td>Adventure|Children|Comedy|Fantasy|Romance</td></tr><tr><td>Kiss of Death (1995)</td><td>Crime|Drama|Thriller</td></tr><tr><td>Star Wars: Episode IV - A New Hope (1977)</td><td>Action|Adventure|Sci-Fi</td></tr><tr><td>Little Women (1994)</td><td>Drama</td></tr><tr><td>Little Princess, A (1995)</td><td>Children|Drama</td></tr><tr><td>Ladybird Ladybird (1994)</td><td>Drama</td></tr><tr><td>Like Water for Chocolate (Como agua para chocolate) (1992)</td><td>Drama|Fantasy|Romance</td></tr><tr><td>Legends of the Fall (1994)</td><td>Drama|Romance|War|Western</td></tr><tr><td>Major Payne (1995)</td><td>Comedy</td></tr><tr><td>My Crazy Life (Mi vida loca) (1993)</td><td>Drama</td></tr><tr><td>Love Affair (1994)</td><td>Drama|Romance</td></tr><tr><td>Losing Isaiah (1995)</td><td>Drama</td></tr><tr><td>Madness of King George, The (1994)</td><td>Comedy|Drama</td></tr><tr><td>Mary Shelley's Frankenstein (Frankenstein) (1994)</td><td>Drama|Horror|Sci-Fi</td></tr><tr><td>Man of the House (1995)</td><td>Comedy</td></tr><tr><td>Mixed Nuts (1994)</td><td>Comedy</td></tr><tr><td>Milk Money (1994)</td><td>Comedy|Romance</td></tr><tr><td>Miracle on 34th Street (1994)</td><td>Drama</td></tr><tr><td>Miami Rhapsody (1995)</td><td>Comedy</td></tr><tr><td>My Family (1995)</td><td>Drama</td></tr><tr><td>Murder in the First (1995)</td><td>Drama|Thriller</td></tr><tr><td>Nobody's Fool (1994)</td><td>Comedy|Drama|Romance</td></tr><tr><td>Nell (1994)</td><td>Drama</td></tr><tr><td>New Jersey Drive (1995)</td><td>Crime|Drama</td></tr><tr><td>New York Cop (Nyû Yôku no koppu) (1993)</td><td>Action|Crime</td></tr><tr><td>Beyond Bedlam (1993)</td><td>Drama|Horror</td></tr><tr><td>Nina Takes a Lover (1994)</td><td>Comedy|Romance</td></tr><tr><td>Natural Born Killers (1994)</td><td>Action|Crime|Thriller</td></tr><tr><td>Only You (1994)</td><td>Comedy|Romance</td></tr><tr><td>Once Were Warriors (1994)</td><td>Crime|Drama</td></tr><tr><td>Poison Ivy II (1996)</td><td>Drama|Thriller</td></tr><tr><td>Outbreak (1995)</td><td>Action|Drama|Sci-Fi|Thriller</td></tr><tr><td>Léon: The Professional (a.k.a. The Professional) (Léon) (1994)</td><td>Action|Crime|Drama|Thriller</td></tr><tr><td>Perez Family, The (1995)</td><td>Comedy|Romance</td></tr><tr><td>Pyromaniac's Love Story, A (1995)</td><td>Comedy|Romance</td></tr><tr><td>Pulp Fiction (1994)</td><td>Comedy|Crime|Drama|Thriller</td></tr><tr><td>Pushing Hands (Tui shou) (1992)</td><td>Drama</td></tr><tr><td>Priest (1994)</td><td>Drama</td></tr><tr><td>Quiz Show (1994)</td><td>Drama</td></tr><tr><td>Picture Bride (Bijo photo) (1994)</td><td>Drama|Romance</td></tr><tr><td>Queen Margot (Reine Margot, La) (1994)</td><td>Drama|Romance</td></tr><tr><td>Quick and the Dead, The (1995)</td><td>Action|Thriller|Western</td></tr><tr><td>Roommates (1995)</td><td>Comedy|Drama</td></tr><tr><td>Ready to Wear (Pret-A-Porter) (1994)</td><td>Comedy</td></tr><tr><td>Three Colors: Red (Trois couleurs: Rouge) (1994)</td><td>Drama</td></tr><tr><td>Three Colors: Blue (Trois couleurs: Bleu) (1993)</td><td>Drama</td></tr><tr><td>Three Colors: White (Trzy kolory: Bialy) (1994)</td><td>Comedy|Drama</td></tr><tr><td>Rent-a-Kid (1995)</td><td>Comedy</td></tr><tr><td>Relative Fear (1994)</td><td>Horror|Thriller</td></tr><tr><td>Stuart Saves His Family (1995)</td><td>Comedy</td></tr><tr><td>Swan Princess, The (1994)</td><td>Animation|Children</td></tr><tr><td>Secret of Roan Inish, The (1994)</td><td>Children|Drama|Fantasy|Mystery</td></tr><tr><td>Specialist, The (1994)</td><td>Action|Drama|Thriller</td></tr><tr><td>Stargate (1994)</td><td>Action|Adventure|Sci-Fi</td></tr><tr><td>Santa Clause, The (1994)</td><td>Comedy|Drama|Fantasy</td></tr><tr><td>Shawshank Redemption, The (1994)</td><td>Crime|Drama</td></tr><tr><td>Shallow Grave (1994)</td><td>Comedy|Drama|Thriller</td></tr><tr><td>Suture (1993)</td><td>Film-Noir|Thriller</td></tr><tr><td>Strawberry and Chocolate (Fresa y chocolate) (1993)</td><td>Drama</td></tr><tr><td>Swimming with Sharks (1995)</td><td>Comedy|Drama</td></tr><tr><td>Sum of Us, The (1994)</td><td>Comedy|Drama</td></tr><tr><td>National Lampoon's Senior Trip (1995)</td><td>Comedy</td></tr><tr><td>To Live (Huozhe) (1994)</td><td>Drama</td></tr><tr><td>Tank Girl (1995)</td><td>Action|Comedy|Sci-Fi</td></tr><tr><td>Tales from the Crypt Presents: Demon Knight (1995)</td><td>Horror|Thriller</td></tr><tr><td>Star Trek: Generations (1994)</td><td>Adventure|Drama|Sci-Fi</td></tr><tr><td>Tales from the Hood (1995)</td><td>Action|Crime|Horror</td></tr><tr><td>Tom & Viv (1994)</td><td>Drama</td></tr><tr><td>Village of the Damned (1995)</td><td>Horror|Sci-Fi</td></tr><tr><td>Tommy Boy (1995)</td><td>Comedy</td></tr><tr><td>Vanya on 42nd Street (1994)</td><td>Drama</td></tr><tr><td>Underneath (1995)</td><td>Mystery|Thriller</td></tr><tr><td>Walking Dead, The (1995)</td><td>Drama|War</td></tr><tr><td>What's Eating Gilbert Grape (1993)</td><td>Drama</td></tr><tr><td>Virtuosity (1995)</td><td>Action|Sci-Fi|Thriller</td></tr><tr><td>While You Were Sleeping (1995)</td><td>Comedy|Romance</td></tr><tr><td>War, The (1994)</td><td>Adventure|Drama|War</td></tr><tr><td>Double Happiness (1994)</td><td>Drama</td></tr><tr><td>Muriel's Wedding (1994)</td><td>Comedy</td></tr><tr><td>Baby-Sitters Club, The (1995)</td><td>Children</td></tr><tr><td>Ace Ventura: Pet Detective (1994)</td><td>Comedy</td></tr><tr><td>Adventures of Priscilla, Queen of the Desert, The (1994)</td><td>Comedy|Drama</td></tr><tr><td>Backbeat (1993)</td><td>Drama|Musical</td></tr><tr><td>Bitter Moon (1992)</td><td>Drama|Film-Noir|Romance</td></tr><tr><td>Bullets Over Broadway (1994)</td><td>Comedy</td></tr><tr><td>Clear and Present Danger (1994)</td><td>Action|Crime|Drama|Thriller</td></tr><tr><td>Client, The (1994)</td><td>Drama|Mystery|Thriller</td></tr><tr><td>Corrina, Corrina (1994)</td><td>Comedy|Drama|Romance</td></tr><tr><td>Crooklyn (1994)</td><td>Comedy|Drama</td></tr><tr><td>Crow, The (1994)</td><td>Action|Crime|Fantasy|Thriller</td></tr><tr><td>Cobb (1994)</td><td>Drama</td></tr><tr><td>Flintstones, The (1994)</td><td>Children|Comedy|Fantasy</td></tr><tr><td>Forrest Gump (1994)</td><td>Comedy|Drama|Romance|War</td></tr><tr><td>Four Weddings and a Funeral (1994)</td><td>Comedy|Romance</td></tr><tr><td>Higher Learning (1995)</td><td>Drama</td></tr><tr><td>I Like It Like That (1994)</td><td>Comedy|Drama|Romance</td></tr><tr><td>I Love Trouble (1994)</td><td>Action|Comedy</td></tr><tr><td>It Could Happen to You (1994)</td><td>Comedy|Drama|Romance</td></tr><tr><td>Jungle Book, The (1994)</td><td>Adventure|Children|Romance</td></tr><tr><td>Wonderful, Horrible Life of Leni Riefenstahl, The (Macht der Bilder: Leni Riefenstahl, Die) (1993)</td><td>Documentary</td></tr><tr><td>Lion King, The (1994)</td><td>Adventure|Animation|Children|Drama|Musical|IMAX</td></tr><tr><td>Little Buddha (1993)</td><td>Drama</td></tr><tr><td>Wes Craven's New Nightmare (Nightmare on Elm Street Part 7: Freddy's Finale, A) (1994)</td><td>Drama|Horror|Mystery|Thriller</td></tr><tr><td>Mask, The (1994)</td><td>Action|Comedy|Crime|Fantasy</td></tr><tr><td>Maverick (1994)</td><td>Adventure|Comedy|Western</td></tr><tr><td>Mrs. Parker and the Vicious Circle (1994)</td><td>Drama</td></tr><tr><td>Naked Gun 33 1/3: The Final Insult (1994)</td><td>Action|Comedy</td></tr><tr><td>Paper, The (1994)</td><td>Comedy|Drama</td></tr><tr><td>Reality Bites (1994)</td><td>Comedy|Drama|Romance</td></tr><tr><td>Red Rock West (1992)</td><td>Thriller</td></tr><tr><td>Richie Rich (1994)</td><td>Children|Comedy</td></tr><tr><td>River Wild, The (1994)</td><td>Action|Thriller</td></tr><tr><td>Speed (1994)</td><td>Action|Romance|Thriller</td></tr><tr><td>Speechless (1994)</td><td>Comedy|Romance</td></tr><tr><td>Timecop (1994)</td><td>Action|Sci-Fi|Thriller</td></tr><tr><td>True Lies (1994)</td><td>Action|Adventure|Comedy|Romance|Thriller</td></tr><tr><td>When a Man Loves a Woman (1994)</td><td>Drama|Romance</td></tr><tr><td>Wolf (1994)</td><td>Drama|Horror|Romance|Thriller</td></tr><tr><td>Wyatt Earp (1994)</td><td>Western</td></tr><tr><td>Bad Company (1995)</td><td>Action|Crime|Drama</td></tr><tr><td>Man of No Importance, A (1994)</td><td>Drama</td></tr><tr><td>S.F.W. (1994)</td><td>Drama</td></tr><tr><td>Low Down Dirty Shame, A (1994)</td><td>Action|Comedy</td></tr><tr><td>Boys Life (1995)</td><td>Drama</td></tr><tr><td>Colonel Chabert, Le (1994)</td><td>Drama|Romance|War</td></tr><tr><td>Faster Pussycat! Kill! Kill! (1965)</td><td>Action|Crime|Drama</td></tr><tr><td>Jason's Lyric (1994)</td><td>Crime|Drama</td></tr><tr><td>Street Fighter (1994)</td><td>Action|Adventure|Fantasy</td></tr><tr><td>Highlander III: The Sorcerer (a.k.a. Highlander: The Final Dimension) (1994)</td><td>Action|Fantasy</td></tr><tr><td>Federal Hill (1994)</td><td>Drama</td></tr><tr><td>In the Mouth of Madness (1995)</td><td>Horror|Thriller</td></tr><tr><td>8 Seconds (1994)</td><td>Drama</td></tr><tr><td>Above the Rim (1994)</td><td>Crime|Drama</td></tr><tr><td>Addams Family Values (1993)</td><td>Children|Comedy|Fantasy</td></tr><tr><td>Age of Innocence, The (1993)</td><td>Drama</td></tr><tr><td>Airheads (1994)</td><td>Comedy</td></tr><tr><td>Air Up There, The (1994)</td><td>Comedy</td></tr><tr><td>Another Stakeout (1993)</td><td>Comedy|Thriller</td></tr><tr><td>Bad Girls (1994)</td><td>Western</td></tr><tr><td>Barcelona (1994)</td><td>Comedy|Romance</td></tr><tr><td>Being Human (1993)</td><td>Drama</td></tr><tr><td>Beverly Hillbillies, The (1993)</td><td>Comedy</td></tr><tr><td>Beverly Hills Cop III (1994)</td><td>Action|Comedy|Crime|Thriller</td></tr><tr><td>Black Beauty (1994)</td><td>Adventure|Children|Drama</td></tr><tr><td>Blink (1994)</td><td>Thriller</td></tr><tr><td>Blown Away (1994)</td><td>Action|Thriller</td></tr><tr><td>Blue Chips (1994)</td><td>Drama</td></tr><tr><td>Blue Sky (1994)</td><td>Drama|Romance</td></tr><tr><td>Body Snatchers (1993)</td><td>Horror|Sci-Fi|Thriller</td></tr><tr><td>Boxing Helena (1993)</td><td>Drama|Mystery|Romance|Thriller</td></tr><tr><td>Bronx Tale, A (1993)</td><td>Drama</td></tr><tr><td>Cabin Boy (1994)</td><td>Comedy</td></tr><tr><td>Calendar Girl (1993)</td><td>Comedy|Drama</td></tr><tr><td>Carlito's Way (1993)</td><td>Crime|Drama</td></tr><tr><td>City Slickers II: The Legend of Curly's Gold (1994)</td><td>Adventure|Comedy|Western</td></tr><tr><td>Clean Slate (1994)</td><td>Comedy</td></tr><tr><td>Cliffhanger (1993)</td><td>Action|Adventure|Thriller</td></tr><tr><td>Coneheads (1993)</td><td>Comedy|Sci-Fi</td></tr><tr><td>Color of Night (1994)</td><td>Drama|Thriller</td></tr><tr><td>Cops and Robbersons (1994)</td><td>Comedy</td></tr><tr><td>Cowboy Way, The (1994)</td><td>Action|Comedy|Drama</td></tr><tr><td>Dave (1993)</td><td>Comedy|Romance</td></tr><tr><td>Dazed and Confused (1993)</td><td>Comedy</td></tr><tr><td>Demolition Man (1993)</td><td>Action|Adventure|Sci-Fi</td></tr><tr><td>Even Cowgirls Get the Blues (1993)</td><td>Comedy|Romance</td></tr><tr><td>Fatal Instinct (1993)</td><td>Comedy</td></tr><tr><td>Farewell My Concubine (Ba wang bie ji) (1993)</td><td>Drama|Romance</td></tr><tr><td>Fearless (1993)</td><td>Drama</td></tr><tr><td>Fear of a Black Hat (1994)</td><td>Comedy</td></tr><tr><td>With Honors (1994)</td><td>Comedy|Drama</td></tr><tr><td>Flesh and Bone (1993)</td><td>Drama|Mystery|Romance</td></tr><tr><td>Widows' Peak (1994)</td><td>Drama</td></tr><tr><td>For Love or Money (1993)</td><td>Comedy|Romance</td></tr><tr><td>Firm, The (1993)</td><td>Drama|Thriller</td></tr><tr><td>Free Willy (1993)</td><td>Adventure|Children|Drama</td></tr><tr><td>Fresh (1994)</td><td>Crime|Drama|Thriller</td></tr><tr><td>Fugitive, The (1993)</td><td>Thriller</td></tr><tr><td>Geronimo: An American Legend (1993)</td><td>Drama|Western</td></tr><tr><td>Getaway, The (1994)</td><td>Action|Adventure|Crime|Drama|Romance|Thriller</td></tr><tr><td>Getting Even with Dad (1994)</td><td>Comedy</td></tr><tr><td>Go Fish (1994)</td><td>Drama|Romance</td></tr><tr><td>Hard Target (1993)</td><td>Action|Adventure|Crime|Thriller</td></tr><tr><td>Hot Shots! Part Deux (1993)</td><td>Action|Comedy|War</td></tr><tr><td>Live Nude Girls (1995)</td><td>Comedy</td></tr><tr><td>Englishman Who Went Up a Hill But Came Down a Mountain, The (1995)</td><td>Comedy|Romance</td></tr><tr><td>House of the Spirits, The (1993)</td><td>Drama|Romance</td></tr><tr><td>House Party 3 (1994)</td><td>Comedy</td></tr><tr><td>Hudsucker Proxy, The (1994)</td><td>Comedy</td></tr><tr><td>I'll Do Anything (1994)</td><td>Comedy|Drama</td></tr><tr><td>In the Army Now (1994)</td><td>Comedy|War</td></tr><tr><td>In the Line of Fire (1993)</td><td>Action|Thriller</td></tr><tr><td>In the Name of the Father (1993)</td><td>Drama</td></tr><tr><td>Inkwell, The (1994)</td><td>Comedy|Drama</td></tr><tr><td>What's Love Got to Do with It? (1993)</td><td>Drama|Musical</td></tr><tr><td>Jimmy Hollywood (1994)</td><td>Comedy|Crime|Drama</td></tr><tr><td>Judgment Night (1993)</td><td>Action|Crime|Thriller</td></tr><tr><td>Jurassic Park (1993)</td><td>Action|Adventure|Sci-Fi|Thriller</td></tr><tr><td>Kalifornia (1993)</td><td>Drama|Thriller</td></tr><tr><td>Killing Zoe (1994)</td><td>Crime|Drama|Thriller</td></tr><tr><td>Lassie (1994)</td><td>Adventure|Children</td></tr><tr><td>Last Action Hero (1993)</td><td>Action|Adventure|Comedy|Fantasy</td></tr><tr><td>Life with Mikey (1993)</td><td>Comedy</td></tr><tr><td>Lightning Jack (1994)</td><td>Comedy|Western</td></tr><tr><td>M. Butterfly (1993)</td><td>Drama|Romance</td></tr><tr><td>Made in America (1993)</td><td>Comedy</td></tr><tr><td>Malice (1993)</td><td>Thriller</td></tr><tr><td>Man Without a Face, The (1993)</td><td>Drama</td></tr><tr><td>Manhattan Murder Mystery (1993)</td><td>Comedy|Mystery</td></tr><tr><td>Menace II Society (1993)</td><td>Action|Crime|Drama</td></tr><tr><td>Executive Decision (1996)</td><td>Action|Adventure|Thriller</td></tr><tr><td>In the Realm of the Senses (Ai no corrida) (1976)</td><td>Drama</td></tr><tr><td>What Happened Was... (1994)</td><td>Comedy|Drama|Romance|Thriller</td></tr><tr><td>Much Ado About Nothing (1993)</td><td>Comedy|Romance</td></tr><tr><td>Mr. Wonderful (1993)</td><td>Comedy|Romance</td></tr><tr><td>Mrs. Doubtfire (1993)</td><td>Comedy|Drama</td></tr><tr><td>Naked (1993)</td><td>Drama</td></tr><tr><td>Next Karate Kid, The (1994)</td><td>Action|Children|Romance</td></tr><tr><td>No Escape (1994)</td><td>Action|Drama|Sci-Fi</td></tr><tr><td>North (1994)</td><td>Comedy</td></tr><tr><td>Orlando (1992)</td><td>Drama|Fantasy|Romance</td></tr><tr><td>Perfect World, A (1993)</td><td>Crime|Drama|Thriller</td></tr><tr><td>Philadelphia (1993)</td><td>Drama</td></tr><tr><td>Piano, The (1993)</td><td>Drama|Romance</td></tr><tr><td>Poetic Justice (1993)</td><td>Drama</td></tr><tr><td>Program, The (1993)</td><td>Action|Drama</td></tr><tr><td>Puppet Masters, The (1994)</td><td>Horror|Sci-Fi</td></tr><tr><td>Radioland Murders (1994)</td><td>Comedy|Mystery|Romance</td></tr><tr><td>Ref, The (1994)</td><td>Comedy</td></tr><tr><td>Remains of the Day, The (1993)</td><td>Drama|Romance</td></tr><tr><td>Renaissance Man (1994)</td><td>Comedy|Drama</td></tr><tr><td>Rising Sun (1993)</td><td>Action|Drama|Mystery</td></tr><tr><td>Road to Wellville, The (1994)</td><td>Comedy</td></tr><tr><td>RoboCop 3 (1993)</td><td>Action|Crime|Drama|Sci-Fi|Thriller</td></tr><tr><td>Robin Hood: Men in Tights (1993)</td><td>Comedy</td></tr><tr><td>Romeo Is Bleeding (1993)</td><td>Crime|Thriller</td></tr><tr><td>Romper Stomper (1992)</td><td>Action|Drama</td></tr><tr><td>Ruby in Paradise (1993)</td><td>Drama</td></tr><tr><td>Rudy (1993)</td><td>Drama</td></tr><tr><td>Savage Nights (Nuits fauves, Les) (1992)</td><td>Drama</td></tr><tr><td>Schindler's List (1993)</td><td>Drama|War</td></tr><tr><td>Scout, The (1994)</td><td>Comedy|Drama</td></tr><tr><td>Searching for Bobby Fischer (1993)</td><td>Drama</td></tr><tr><td>Secret Garden, The (1993)</td><td>Children|Drama</td></tr><tr><td>Serial Mom (1994)</td><td>Comedy|Crime|Horror</td></tr><tr><td>Shadow, The (1994)</td><td>Action|Adventure|Fantasy|Mystery</td></tr><tr><td>Shadowlands (1993)</td><td>Drama|Romance</td></tr><tr><td>Short Cuts (1993)</td><td>Drama</td></tr><tr><td>Simple Twist of Fate, A (1994)</td><td>Drama</td></tr><tr><td>Sirens (1994)</td><td>Drama</td></tr><tr><td>Six Degrees of Separation (1993)</td><td>Drama</td></tr><tr><td>Sleepless in Seattle (1993)</td><td>Comedy|Drama|Romance</td></tr><tr><td>Sliver (1993)</td><td>Thriller</td></tr><tr><td>Blade Runner (1982)</td><td>Action|Sci-Fi|Thriller</td></tr><tr><td>Son in Law (1993)</td><td>Comedy|Drama|Romance</td></tr><tr><td>So I Married an Axe Murderer (1993)</td><td>Comedy|Romance|Thriller</td></tr><tr><td>Striking Distance (1993)</td><td>Action|Crime</td></tr><tr><td>Super Mario Bros. (1993)</td><td>Action|Adventure|Children|Comedy|Fantasy|Sci-Fi</td></tr><tr><td>Surviving the Game (1994)</td><td>Action|Adventure|Thriller</td></tr><tr><td>Terminal Velocity (1994)</td><td>Action|Mystery|Thriller</td></tr><tr><td>Thirty-Two Short Films About Glenn Gould (1993)</td><td>Drama|Musical</td></tr><tr><td>Threesome (1994)</td><td>Comedy|Romance</td></tr><tr><td>Nightmare Before Christmas, The (1993)</td><td>Animation|Children|Fantasy|Musical</td></tr><tr><td>Three Musketeers, The (1993)</td><td>Action|Adventure|Comedy|Romance</td></tr><tr><td>Tombstone (1993)</td><td>Action|Drama|Western</td></tr><tr><td>True Romance (1993)</td><td>Crime|Thriller</td></tr><tr><td>War Room, The (1993)</td><td>Documentary</td></tr><tr><td>Pagemaster, The (1994)</td><td>Action|Adventure|Animation|Children|Fantasy</td></tr><tr><td>Welcome to the Dollhouse (1995)</td><td>Comedy|Drama</td></tr><tr><td>Germinal (1993)</td><td>Drama|Romance</td></tr><tr><td>Chasers (1994)</td><td>Comedy</td></tr><tr><td>Kika (1993)</td><td>Comedy|Drama</td></tr><tr><td>Bhaji on the Beach (1993)</td><td>Comedy|Drama</td></tr><tr><td>Little Big League (1994)</td><td>Comedy|Drama</td></tr><tr><td>Ciao, Professore! (Io speriamo che me la cavo) (1992)</td><td>Drama</td></tr><tr><td>Spanking the Monkey (1994)</td><td>Comedy|Drama</td></tr><tr><td>Little Rascals, The (1994)</td><td>Children|Comedy</td></tr><tr><td>Andre (1994)</td><td>Adventure|Children|Drama</td></tr><tr><td>Escort, The (Scorta, La) (1993)</td><td>Crime|Thriller</td></tr><tr><td>Princess Caraboo (1994)</td><td>Drama</td></tr><tr><td>Celluloid Closet, The (1995)</td><td>Documentary</td></tr><tr><td>Dear Diary (Caro Diario) (1994)</td><td>Comedy|Drama</td></tr><tr><td>Brady Bunch Movie, The (1995)</td><td>Comedy</td></tr><tr><td>Home Alone (1990)</td><td>Children|Comedy</td></tr><tr><td>Ghost (1990)</td><td>Comedy|Drama|Fantasy|Romance|Thriller</td></tr><tr><td>Aladdin (1992)</td><td>Adventure|Animation|Children|Comedy|Musical</td></tr><tr><td>Terminator 2: Judgment Day (1991)</td><td>Action|Sci-Fi</td></tr><tr><td>Dances with Wolves (1990)</td><td>Adventure|Drama|Western</td></tr><tr><td>Batman (1989)</td><td>Action|Crime|Thriller</td></tr><tr><td>Silence of the Lambs, The (1991)</td><td>Crime|Horror|Thriller</td></tr><tr><td>Snow White and the Seven Dwarfs (1937)</td><td>Animation|Children|Drama|Fantasy|Musical</td></tr><tr><td>Beauty and the Beast (1991)</td><td>Animation|Children|Fantasy|Musical|Romance|IMAX</td></tr><tr><td>Pinocchio (1940)</td><td>Animation|Children|Fantasy|Musical</td></tr><tr><td>Pretty Woman (1990)</td><td>Comedy|Romance</td></tr><tr><td>Wild Bunch, The (1969)</td><td>Adventure|Western</td></tr><tr><td>Love and a .45 (1994)</td><td>Action|Comedy|Crime</td></tr><tr><td>Great Day in Harlem, A (1994)</td><td>Documentary</td></tr><tr><td>One Fine Day (1996)</td><td>Drama|Romance</td></tr><tr><td>Candyman: Farewell to the Flesh (1995)</td><td>Fantasy|Horror</td></tr><tr><td>Fargo (1996)</td><td>Comedy|Crime|Drama|Thriller</td></tr><tr><td>Homeward Bound II: Lost in San Francisco (1996)</td><td>Adventure|Children</td></tr><tr><td>Heavy Metal (1981)</td><td>Action|Adventure|Animation|Horror|Sci-Fi</td></tr><tr><td>Hellraiser: Bloodline (1996)</td><td>Action|Horror|Sci-Fi</td></tr><tr><td>Pallbearer, The (1996)</td><td>Comedy</td></tr><tr><td>Jane Eyre (1996)</td><td>Drama|Romance</td></tr><tr><td>Bread and Chocolate (Pane e cioccolata) (1973)</td><td>Comedy|Drama</td></tr><tr><td>Aristocats, The (1970)</td><td>Animation|Children</td></tr><tr><td>Flower of My Secret, The (La flor de mi secreto) (1995)</td><td>Comedy|Drama</td></tr><tr><td>Two Much (1995)</td><td>Comedy|Romance</td></tr><tr><td>Ed (1996)</td><td>Comedy</td></tr><tr><td>Thin Line Between Love and Hate, A (1996)</td><td>Comedy</td></tr><tr><td>Last Supper, The (1995)</td><td>Drama|Thriller</td></tr><tr><td>Primal Fear (1996)</td><td>Crime|Drama|Mystery|Thriller</td></tr><tr><td>All Dogs Go to Heaven 2 (1996)</td><td>Adventure|Animation|Children|Fantasy|Musical|Romance</td></tr><tr><td>Land and Freedom (Tierra y libertad) (1995)</td><td>Drama|War</td></tr><tr><td>Denise Calls Up (1995)</td><td>Comedy</td></tr><tr><td>Theodore Rex (1995)</td><td>Comedy</td></tr><tr><td>Family Thing, A (1996)</td><td>Comedy|Drama</td></tr><tr><td>Frisk (1995)</td><td>Drama</td></tr><tr><td>Sgt. Bilko (1996)</td><td>Comedy</td></tr><tr><td>Jack and Sarah (1995)</td><td>Romance</td></tr><tr><td>Girl 6 (1996)</td><td>Comedy|Drama</td></tr><tr><td>Diabolique (1996)</td><td>Drama|Thriller</td></tr><tr><td>Nelly & Monsieur Arnaud (1995)</td><td>Drama</td></tr><tr><td>Courage Under Fire (1996)</td><td>Action|Crime|Drama|War</td></tr><tr><td>Mission: Impossible (1996)</td><td>Action|Adventure|Mystery|Thriller</td></tr><tr><td>Cold Fever (Á köldum klaka) (1995)</td><td>Comedy|Drama</td></tr><tr><td>Moll Flanders (1996)</td><td>Drama</td></tr><tr><td>Dragonheart (1996)</td><td>Action|Adventure|Fantasy</td></tr><tr><td>Eddie (1996)</td><td>Comedy</td></tr><tr><td>James and the Giant Peach (1996)</td><td>Adventure|Animation|Children|Fantasy|Musical</td></tr><tr><td>Fear (1996)</td><td>Thriller</td></tr><tr><td>Kids in the Hall: Brain Candy (1996)</td><td>Comedy</td></tr><tr><td>Underground (1995)</td><td>Comedy|Drama|War</td></tr><tr><td>Bloodsport 2 (a.k.a. Bloodsport II: The Next Kumite) (1996)</td><td>Action</td></tr><tr><td>Song of the Little Road (Pather Panchali) (1955)</td><td>Drama</td></tr><tr><td>World of Apu, The (Apur Sansar) (1959)</td><td>Drama</td></tr><tr><td>Mystery Science Theater 3000: The Movie (1996)</td><td>Comedy|Sci-Fi</td></tr><tr><td>Space Jam (1996)</td><td>Adventure|Animation|Children|Comedy|Fantasy|Sci-Fi</td></tr><tr><td>Barbarella (1968)</td><td>Adventure|Comedy|Sci-Fi</td></tr><tr><td>Some Folks Call It a Sling Blade (1993)</td><td>Drama|Thriller</td></tr><tr><td>Run of the Country, The (1995)</td><td>Drama</td></tr><tr><td>Alphaville (Alphaville, une étrange aventure de Lemmy Caution) (1965)</td><td>Drama|Mystery|Romance|Sci-Fi|Thriller</td></tr><tr><td>It's My Party (1996)</td><td>Drama</td></tr><tr><td>Operation Dumbo Drop (1995)</td><td>Action|Adventure|Comedy|War</td></tr><tr><td>Mrs. Winterbourne (1996)</td><td>Comedy|Romance</td></tr><tr><td>Solo (1996)</td><td>Action|Sci-Fi|Thriller</td></tr><tr><td>Substitute, The (1996)</td><td>Action|Crime|Drama</td></tr><tr><td>True Crime (1996)</td><td>Mystery|Thriller</td></tr><tr><td>Feeling Minnesota (1996)</td><td>Drama|Romance</td></tr><tr><td>Delta of Venus (1995)</td><td>Drama</td></tr><tr><td>Angus (1995)</td><td>Comedy</td></tr><tr><td>Boys (1996)</td><td>Drama</td></tr><tr><td>Quest, The (1996)</td><td>Action|Adventure</td></tr><tr><td>Sunset Park (1996)</td><td>Drama</td></tr><tr><td>Mulholland Falls (1996)</td><td>Crime|Drama|Thriller</td></tr><tr><td>Truth About Cats & Dogs, The (1996)</td><td>Comedy|Romance</td></tr><tr><td>Oliver & Company (1988)</td><td>Adventure|Animation|Children|Comedy|Musical</td></tr><tr><td>Celtic Pride (1996)</td><td>Comedy</td></tr><tr><td>Flipper (1996)</td><td>Adventure|Children</td></tr><tr><td>Dead Man (1995)</td><td>Drama|Mystery|Western</td></tr><tr><td>Horseman on the Roof, The (Hussard sur le toit, Le) (1995)</td><td>Drama|Romance</td></tr><tr><td>Visitors, The (Visiteurs, Les) (1993)</td><td>Comedy|Fantasy|Sci-Fi</td></tr><tr><td>Multiplicity (1996)</td><td>Comedy</td></tr><tr><td>Wallace & Gromit: The Best of Aardman Animation (1996)</td><td>Adventure|Animation|Comedy</td></tr><tr><td>Haunted World of Edward D. Wood Jr., The (1996)</td><td>Documentary</td></tr><tr><td>Craft, The (1996)</td><td>Drama|Fantasy|Horror|Thriller</td></tr><tr><td>Great White Hype, The (1996)</td><td>Comedy</td></tr><tr><td>Last Dance (1996)</td><td>Drama</td></tr><tr><td>Cold Comfort Farm (1995)</td><td>Comedy</td></tr><tr><td>Heaven's Prisoners (1996)</td><td>Crime|Thriller</td></tr><tr><td>Rock, The (1996)</td><td>Action|Adventure|Thriller</td></tr><tr><td>Cemetery Man (Dellamorte Dellamore) (1994)</td><td>Horror</td></tr><tr><td>Twister (1996)</td><td>Action|Adventure|Romance|Thriller</td></tr><tr><td>Barb Wire (1996)</td><td>Action|Sci-Fi</td></tr><tr><td>Ghost in the Shell (Kôkaku kidôtai) (1995)</td><td>Animation|Sci-Fi</td></tr><tr><td>Thinner (1996)</td><td>Horror|Thriller</td></tr><tr><td>Spy Hard (1996)</td><td>Comedy</td></tr><tr><td>Wallace & Gromit: A Close Shave (1995)</td><td>Animation|Children|Comedy</td></tr><tr><td>Stupids, The (1996)</td><td>Comedy</td></tr><tr><td>Arrival, The (1996)</td><td>Action|Sci-Fi|Thriller</td></tr><tr><td>Dr. Strangelove or: How I Learned to Stop Worrying and Love the Bomb (1964)</td><td>Comedy|War</td></tr><tr><td>Ashes of Time (Dung che sai duk) (1994)</td><td>Drama</td></tr><tr><td>Maya Lin: A Strong Clear Vision (1994)</td><td>Documentary</td></tr><tr><td>Stalingrad (1993)</td><td>Drama|War</td></tr><tr><td>Phantom, The (1996)</td><td>Action|Adventure</td></tr><tr><td>Striptease (1996)</td><td>Comedy|Crime</td></tr><tr><td>Heavy (1995)</td><td>Drama|Romance</td></tr><tr><td>Jack (1996)</td><td>Comedy|Drama</td></tr><tr><td>I Shot Andy Warhol (1996)</td><td>Drama</td></tr><tr><td>Touki Bouki (1973)</td><td>Drama</td></tr><tr><td>Spirits of the Dead (1968)</td><td>Horror|Mystery</td></tr><tr><td>Trainspotting (1996)</td><td>Comedy|Crime|Drama</td></tr><tr><td>'Til There Was You (1997)</td><td>Drama|Romance</td></tr><tr><td>Independence Day (a.k.a. ID4) (1996)</td><td>Action|Adventure|Sci-Fi|Thriller</td></tr><tr><td>Stealing Beauty (1996)</td><td>Drama</td></tr><tr><td>Fan, The (1996)</td><td>Drama|Thriller</td></tr><tr><td>Hunchback of Notre Dame, The (1996)</td><td>Animation|Children|Drama|Musical|Romance</td></tr><tr><td>Cable Guy, The (1996)</td><td>Comedy|Thriller</td></tr><tr><td>Kingpin (1996)</td><td>Comedy</td></tr><tr><td>Eraser (1996)</td><td>Action|Drama|Thriller</td></tr><tr><td>Nutty Professor, The (1996)</td><td>Comedy|Fantasy|Romance|Sci-Fi</td></tr><tr><td>Unforgettable Summer, An (Un été inoubliable) (1994)</td><td>Drama</td></tr><tr><td>Last Klezmer: Leopold Kozlowski, His Life and Music, The (1994)</td><td>Documentary</td></tr><tr><td>Somebody to Love (1994)</td><td>Drama</td></tr><tr><td>Daylight (1996)</td><td>Action|Adventure|Drama|Thriller</td></tr><tr><td>Frighteners, The (1996)</td><td>Comedy|Horror|Thriller</td></tr><tr><td>Lone Star (1996)</td><td>Drama|Mystery|Western</td></tr><tr><td>Harriet the Spy (1996)</td><td>Children|Comedy</td></tr><tr><td>Phenomenon (1996)</td><td>Drama|Romance</td></tr><tr><td>Walking and Talking (1996)</td><td>Comedy|Drama|Romance</td></tr><tr><td>She's the One (1996)</td><td>Comedy|Romance</td></tr><tr><td>Time to Kill, A (1996)</td><td>Drama|Thriller</td></tr><tr><td>American Buffalo (1996)</td><td>Crime|Drama</td></tr><tr><td>Alaska (1996)</td><td>Adventure|Children</td></tr><tr><td>Fled (1996)</td><td>Action|Adventure</td></tr><tr><td>Kazaam (1996)</td><td>Children|Comedy|Fantasy</td></tr><tr><td>Larger Than Life (1996)</td><td>Comedy</td></tr><tr><td>Very Brady Sequel, A (1996)</td><td>Comedy</td></tr><tr><td>Collector, The (La collectionneuse) (1967)</td><td>Drama</td></tr><tr><td>Kaspar Hauser (1993)</td><td>Drama|Mystery</td></tr><tr><td>Adventures of Pinocchio, The (1996)</td><td>Adventure|Children</td></tr><tr><td>Joe's Apartment (1996)</td><td>Comedy|Fantasy|Musical</td></tr><tr><td>First Wives Club, The (1996)</td><td>Comedy</td></tr><tr><td>Ransom (1996)</td><td>Crime|Thriller</td></tr><tr><td>High School High (1996)</td><td>Comedy</td></tr><tr><td>Foxfire (1996)</td><td>Drama</td></tr><tr><td>Chain Reaction (1996)</td><td>Action|Adventure|Thriller</td></tr><tr><td>Matilda (1996)</td><td>Children|Comedy|Fantasy</td></tr><tr><td>Emma (1996)</td><td>Comedy|Drama|Romance</td></tr><tr><td>Crow: City of Angels, The (1996)</td><td>Action|Thriller</td></tr><tr><td>House Arrest (1996)</td><td>Children|Comedy</td></tr><tr><td>Eyes Without a Face (Yeux sans visage, Les) (1959)</td><td>Horror</td></tr><tr><td>Tales from the Crypt Presents: Bordello of Blood (1996)</td><td>Comedy|Horror</td></tr><tr><td>Spitfire Grill, The (1996)</td><td>Drama</td></tr><tr><td>Escape from L.A. (1996)</td><td>Action|Adventure|Sci-Fi|Thriller</td></tr><tr><td>Basquiat (1996)</td><td>Drama</td></tr><tr><td>Tin Cup (1996)</td><td>Comedy|Drama|Romance</td></tr><tr><td>Godfather, The (1972)</td><td>Crime|Drama</td></tr><tr><td>Supercop (Police Story 3: Supercop) (Jing cha gu shi III: Chao ji jing cha) (1992)</td><td>Action|Comedy|Crime|Thriller</td></tr><tr><td>Bound (1996)</td><td>Crime|Drama|Romance|Thriller</td></tr><tr><td>Carpool (1996)</td><td>Comedy|Crime</td></tr><tr><td>Kansas City (1996)</td><td>Crime|Drama|Musical|Thriller</td></tr><tr><td>Gone Fishin' (1997)</td><td>Comedy</td></tr><tr><td>Nothing to Lose (1994)</td><td>Action|Crime|Drama</td></tr><tr><td>Supercop 2 (Project S) (Chao ji ji hua) (1993)</td><td>Action|Comedy|Crime|Thriller</td></tr><tr><td>Relic, The (1997)</td><td>Horror|Thriller</td></tr><tr><td>Island of Dr. Moreau, The (1996)</td><td>Sci-Fi|Thriller</td></tr><tr><td>First Kid (1996)</td><td>Children|Comedy</td></tr><tr><td>Trigger Effect, The (1996)</td><td>Drama|Thriller</td></tr><tr><td>Bogus (1996)</td><td>Children|Drama|Fantasy</td></tr><tr><td>Bulletproof (1996)</td><td>Action|Comedy|Crime</td></tr><tr><td>Land Before Time III: The Time of the Great Giving (1995)</td><td>Adventure|Animation|Children|Musical</td></tr><tr><td>1-900 (06) (1994)</td><td>Drama|Romance</td></tr><tr><td>Halloween: The Curse of Michael Myers (Halloween 6: The Curse of Michael Myers) (1995)</td><td>Horror|Thriller</td></tr><tr><td>Twelfth Night (1996)</td><td>Comedy|Drama|Romance</td></tr><tr><td>Mother Night (1996)</td><td>Drama</td></tr><tr><td>Wild Reeds (Les roseaux sauvages) (1994)</td><td>Drama</td></tr><tr><td>For Whom the Bell Tolls (1943)</td><td>Adventure|Drama|Romance|War</td></tr><tr><td>Philadelphia Story, The (1940)</td><td>Comedy|Drama|Romance</td></tr><tr><td>Singin' in the Rain (1952)</td><td>Comedy|Musical|Romance</td></tr><tr><td>American in Paris, An (1951)</td><td>Musical|Romance</td></tr><tr><td>Funny Face (1957)</td><td>Comedy|Musical</td></tr><tr><td>Breakfast at Tiffany's (1961)</td><td>Drama|Romance</td></tr><tr><td>Vertigo (1958)</td><td>Drama|Mystery|Romance|Thriller</td></tr><tr><td>Rear Window (1954)</td><td>Mystery|Thriller</td></tr><tr><td>It Happened One Night (1934)</td><td>Comedy|Romance</td></tr><tr><td>Gaslight (1944)</td><td>Drama|Thriller</td></tr><tr><td>Gay Divorcee, The (1934)</td><td>Comedy|Musical|Romance</td></tr><tr><td>North by Northwest (1959)</td><td>Action|Adventure|Mystery|Romance|Thriller</td></tr><tr><td>Apartment, The (1960)</td><td>Comedy|Drama|Romance</td></tr><tr><td>Some Like It Hot (1959)</td><td>Comedy|Crime</td></tr><tr><td>Charade (1963)</td><td>Comedy|Crime|Mystery|Romance|Thriller</td></tr><tr><td>Casablanca (1942)</td><td>Drama|Romance</td></tr><tr><td>Maltese Falcon, The (1941)</td><td>Film-Noir|Mystery</td></tr><tr><td>My Fair Lady (1964)</td><td>Comedy|Drama|Musical|Romance</td></tr><tr><td>Sabrina (1954)</td><td>Comedy|Romance</td></tr><tr><td>Roman Holiday (1953)</td><td>Comedy|Drama|Romance</td></tr><tr><td>Little Princess, The (1939)</td><td>Children|Drama</td></tr><tr><td>Meet Me in St. Louis (1944)</td><td>Musical</td></tr><tr><td>Wizard of Oz, The (1939)</td><td>Adventure|Children|Fantasy|Musical</td></tr><tr><td>Gone with the Wind (1939)</td><td>Drama|Romance|War</td></tr><tr><td>My Favorite Year (1982)</td><td>Comedy</td></tr><tr><td>Sunset Blvd. (a.k.a. Sunset Boulevard) (1950)</td><td>Drama|Film-Noir|Romance</td></tr><tr><td>Citizen Kane (1941)</td><td>Drama|Mystery</td></tr><tr><td>2001: A Space Odyssey (1968)</td><td>Adventure|Drama|Sci-Fi</td></tr><tr><td>All About Eve (1950)</td><td>Drama</td></tr><tr><td>Women, The (1939)</td><td>Comedy</td></tr><tr><td>Rebecca (1940)</td><td>Drama|Mystery|Romance|Thriller</td></tr><tr><td>Foreign Correspondent (1940)</td><td>Drama|Film-Noir|Mystery|Thriller</td></tr><tr><td>Notorious (1946)</td><td>Film-Noir|Romance|Thriller</td></tr><tr><td>Spellbound (1945)</td><td>Mystery|Romance|Thriller</td></tr><tr><td>Affair to Remember, An (1957)</td><td>Drama|Romance</td></tr><tr><td>To Catch a Thief (1955)</td><td>Crime|Mystery|Romance|Thriller</td></tr><tr><td>Father of the Bride (1950)</td><td>Comedy</td></tr><tr><td>Band Wagon, The (1953)</td><td>Comedy|Musical</td></tr><tr><td>Ninotchka (1939)</td><td>Comedy|Romance</td></tr><tr><td>Love in the Afternoon (1957)</td><td>Comedy|Romance</td></tr><tr><td>Gigi (1958)</td><td>Musical</td></tr><tr><td>Adventures of Robin Hood, The (1938)</td><td>Action|Adventure|Romance</td></tr><tr><td>Mark of Zorro, The (1940)</td><td>Adventure</td></tr><tr><td>Laura (1944)</td><td>Crime|Film-Noir|Mystery</td></tr><tr><td>Ghost and Mrs. Muir, The (1947)</td><td>Drama|Fantasy|Romance</td></tr><tr><td>Lost Horizon (1937)</td><td>Drama</td></tr><tr><td>Top Hat (1935)</td><td>Comedy|Musical|Romance</td></tr><tr><td>To Be or Not to Be (1942)</td><td>Comedy|Drama|War</td></tr><tr><td>My Man Godfrey (1936)</td><td>Comedy|Romance</td></tr><tr><td>Giant (1956)</td><td>Drama|Romance|Western</td></tr><tr><td>East of Eden (1955)</td><td>Drama</td></tr><tr><td>Thin Man, The (1934)</td><td>Comedy|Crime</td></tr><tr><td>His Girl Friday (1940)</td><td>Comedy|Romance</td></tr><tr><td>Around the World in 80 Days (1956)</td><td>Adventure|Comedy</td></tr><tr><td>It's a Wonderful Life (1946)</td><td>Children|Drama|Fantasy|Romance</td></tr><tr><td>Mr. Smith Goes to Washington (1939)</td><td>Drama</td></tr><tr><td>Bringing Up Baby (1938)</td><td>Comedy|Romance</td></tr><tr><td>Penny Serenade (1941)</td><td>Drama|Romance</td></tr><tr><td>Of Human Bondage (1934)</td><td>Drama</td></tr><tr><td>Little Lord Fauntleroy (1936)</td><td>Drama</td></tr><tr><td>Inspector General, The (1949)</td><td>Musical</td></tr><tr><td>39 Steps, The (1935)</td><td>Drama|Mystery|Thriller</td></tr><tr><td>Night of the Living Dead (1968)</td><td>Horror|Sci-Fi|Thriller</td></tr><tr><td>African Queen, The (1951)</td><td>Adventure|Comedy|Romance|War</td></tr><tr><td>Beat the Devil (1953)</td><td>Adventure|Comedy|Crime|Drama|Romance</td></tr><tr><td>Cat on a Hot Tin Roof (1958)</td><td>Drama</td></tr><tr><td>Meet John Doe (1941)</td><td>Comedy|Drama</td></tr><tr><td>Farewell to Arms, A (1932)</td><td>Romance|War</td></tr><tr><td>Nothing Personal (1995)</td><td>Drama|War</td></tr><tr><td>Dangerous Ground (1997)</td><td>Drama</td></tr><tr><td>Picnic (1955)</td><td>Drama</td></tr><tr><td>Pompatus of Love, The (1996)</td><td>Comedy|Drama</td></tr><tr><td>Fly Away Home (1996)</td><td>Adventure|Children</td></tr><tr><td>Bliss (1997)</td><td>Drama|Romance</td></tr><tr><td>Grace of My Heart (1996)</td><td>Comedy|Drama</td></tr><tr><td>Maximum Risk (1996)</td><td>Action|Adventure|Thriller</td></tr><tr><td>Michael Collins (1996)</td><td>Drama</td></tr><tr><td>Infinity (1996)</td><td>Drama</td></tr><tr><td>Big Night (1996)</td><td>Comedy|Drama</td></tr><tr><td>Last Man Standing (1996)</td><td>Action|Crime|Drama|Thriller</td></tr><tr><td>Set It Off (1996)</td><td>Action|Crime</td></tr><tr><td>2 Days in the Valley (1996)</td><td>Crime|Film-Noir</td></tr><tr><td>Extreme Measures (1996)</td><td>Drama|Thriller</td></tr><tr><td>Glimmer Man, The (1996)</td><td>Action|Thriller</td></tr><tr><td>D3: The Mighty Ducks (1996)</td><td>Children|Comedy</td></tr><tr><td>Chamber, The (1996)</td><td>Drama</td></tr><tr><td>Apple Dumpling Gang, The (1975)</td><td>Children|Comedy|Western</td></tr><tr><td>Davy Crockett, King of the Wild Frontier (1955)</td><td>Adventure|Western</td></tr><tr><td>Escape to Witch Mountain (1975)</td><td>Adventure|Children|Fantasy</td></tr><tr><td>Love Bug, The (1969)</td><td>Children|Comedy</td></tr><tr><td>Herbie Rides Again (1974)</td><td>Children|Comedy|Fantasy|Romance</td></tr><tr><td>Old Yeller (1957)</td><td>Children|Drama</td></tr><tr><td>Parent Trap, The (1961)</td><td>Children|Comedy|Romance</td></tr><tr><td>Pollyanna (1960)</td><td>Children|Comedy|Drama</td></tr><tr><td>Homeward Bound: The Incredible Journey (1993)</td><td>Adventure|Children|Drama</td></tr><tr><td>Shaggy Dog, The (1959)</td><td>Children|Comedy</td></tr><tr><td>Swiss Family Robinson (1960)</td><td>Adventure|Children</td></tr><tr><td>That Darn Cat! (1965)</td><td>Children|Comedy|Mystery</td></tr><tr><td>20,000 Leagues Under the Sea (1954)</td><td>Adventure|Drama|Sci-Fi</td></tr><tr><td>Cool Runnings (1993)</td><td>Comedy</td></tr><tr><td>Angels in the Outfield (1994)</td><td>Children|Comedy</td></tr><tr><td>Cinderella (1950)</td><td>Animation|Children|Fantasy|Musical|Romance</td></tr><tr><td>Winnie the Pooh and the Blustery Day (1968)</td><td>Animation|Children|Musical</td></tr><tr><td>Three Caballeros, The (1945)</td><td>Animation|Children|Musical</td></tr><tr><td>Sword in the Stone, The (1963)</td><td>Animation|Children|Fantasy|Musical</td></tr><tr><td>Robin Hood: Prince of Thieves (1991)</td><td>Adventure|Drama</td></tr><tr><td>Mary Poppins (1964)</td><td>Children|Comedy|Fantasy|Musical</td></tr><tr><td>Dumbo (1941)</td><td>Animation|Children|Drama|Musical</td></tr><tr><td>Pete's Dragon (1977)</td><td>Adventure|Animation|Children|Musical</td></tr><tr><td>Bedknobs and Broomsticks (1971)</td><td>Adventure|Children|Musical</td></tr><tr><td>Alice in Wonderland (1951)</td><td>Adventure|Animation|Children|Fantasy|Musical</td></tr><tr><td>Fox and the Hound, The (1981)</td><td>Animation|Children|Drama</td></tr><tr><td>Freeway (1996)</td><td>Comedy|Crime|Drama|Thriller</td></tr><tr><td>Sound of Music, The (1965)</td><td>Musical|Romance</td></tr><tr><td>Die Hard (1988)</td><td>Action|Crime|Thriller</td></tr><tr><td>Lawnmower Man, The (1992)</td><td>Action|Horror|Sci-Fi|Thriller</td></tr><tr><td>Secret Agent, The (1996)</td><td>Drama</td></tr><tr><td>Secrets & Lies (1996)</td><td>Drama</td></tr><tr><td>That Thing You Do! (1996)</td><td>Comedy|Drama</td></tr><tr><td>To Gillian on Her 37th Birthday (1996)</td><td>Drama|Romance</td></tr><tr><td>Beautiful Thing (1996)</td><td>Drama|Romance</td></tr><tr><td>Long Kiss Goodnight, The (1996)</td><td>Action|Drama|Thriller</td></tr><tr><td>Ghost and the Darkness, The (1996)</td><td>Action|Adventure</td></tr><tr><td>Looking for Richard (1996)</td><td>Documentary|Drama</td></tr><tr><td>Trees Lounge (1996)</td><td>Drama</td></tr><tr><td>Normal Life (1996)</td><td>Crime|Drama|Romance</td></tr><tr><td>Get on the Bus (1996)</td><td>Drama</td></tr><tr><td>Shadow Conspiracy (1997)</td><td>Thriller</td></tr><tr><td>Jude (1996)</td><td>Drama</td></tr><tr><td>Everyone Says I Love You (1996)</td><td>Comedy|Musical|Romance</td></tr><tr><td>William Shakespeare's Romeo + Juliet (1996)</td><td>Drama|Romance</td></tr><tr><td>Swingers (1996)</td><td>Comedy|Drama</td></tr><tr><td>Sleepers (1996)</td><td>Thriller</td></tr><tr><td>Aladdin and the King of Thieves (1996)</td><td>Animation|Children|Comedy|Fantasy|Musical|Romance</td></tr><tr><td>Shall We Dance (1937)</td><td>Comedy|Musical|Romance</td></tr><tr><td>Crossfire (1947)</td><td>Crime|Film-Noir</td></tr><tr><td>Willy Wonka & the Chocolate Factory (1971)</td><td>Children|Comedy|Fantasy|Musical</td></tr><tr><td>Innocents, The (1961)</td><td>Drama|Horror|Thriller</td></tr><tr><td>Sleeper (1973)</td><td>Comedy|Sci-Fi</td></tr><tr><td>Bananas (1971)</td><td>Comedy|War</td></tr><tr><td>Fish Called Wanda, A (1988)</td><td>Comedy|Crime</td></tr><tr><td>Monty Python's Life of Brian (1979)</td><td>Comedy</td></tr><tr><td>Victor/Victoria (1982)</td><td>Comedy|Musical|Romance</td></tr><tr><td>Candidate, The (1972)</td><td>Drama</td></tr><tr><td>Great Race, The (1965)</td><td>Comedy|Musical</td></tr><tr><td>Bonnie and Clyde (1967)</td><td>Crime|Drama</td></tr><tr><td>Old Man and the Sea, The (1958)</td><td>Adventure|Drama</td></tr><tr><td>Dial M for Murder (1954)</td><td>Crime|Mystery|Thriller</td></tr><tr><td>Dirty Dancing (1987)</td><td>Drama|Musical|Romance</td></tr><tr><td>Reservoir Dogs (1992)</td><td>Crime|Mystery|Thriller</td></tr><tr><td>Platoon (1986)</td><td>Drama|War</td></tr><tr><td>Weekend at Bernie's (1989)</td><td>Comedy</td></tr><tr><td>Basic Instinct (1992)</td><td>Crime|Mystery|Thriller</td></tr><tr><td>Doors, The (1991)</td><td>Drama</td></tr><tr><td>Crying Game, The (1992)</td><td>Drama|Romance|Thriller</td></tr><tr><td>Glengarry Glen Ross (1992)</td><td>Drama</td></tr><tr><td>Sophie's Choice (1982)</td><td>Drama</td></tr><tr><td>E.T. the Extra-Terrestrial (1982)</td><td>Children|Drama|Sci-Fi</td></tr><tr><td>Christmas Carol, A (1938)</td><td>Children|Drama|Fantasy</td></tr><tr><td>Days of Thunder (1990)</td><td>Action|Drama|Romance</td></tr><tr><td>Top Gun (1986)</td><td>Action|Romance</td></tr><tr><td>Rebel Without a Cause (1955)</td><td>Drama</td></tr><tr><td>Streetcar Named Desire, A (1951)</td><td>Drama</td></tr><tr><td>Children of the Corn IV: The Gathering (1996)</td><td>Horror</td></tr><tr><td>Loser (1991)</td><td>Comedy</td></tr><tr><td>Microcosmos (Microcosmos: Le peuple de l'herbe) (1996)</td><td>Documentary</td></tr><tr><td>Palookaville (1996)</td><td>Action|Comedy|Drama</td></tr><tr><td>Funeral, The (1996)</td><td>Crime|Drama</td></tr><tr><td>Single Girl, A (Fille seule, La) (1995)</td><td>Drama</td></tr><tr><td>Eighth Day, The (Huitième jour, Le) (1996)</td><td>Drama</td></tr><tr><td>Drunks (1995)</td><td>Drama</td></tr><tr><td>People vs. Larry Flynt, The (1996)</td><td>Comedy|Drama</td></tr><tr><td>Glory Daze (1995)</td><td>Drama</td></tr><tr><td>Perfect Candidate, A (1996)</td><td>Documentary</td></tr><tr><td>On Golden Pond (1981)</td><td>Drama</td></tr><tr><td>Return of the Pink Panther, The (1975)</td><td>Comedy|Crime</td></tr><tr><td>Drop Dead Fred (1991)</td><td>Comedy|Fantasy</td></tr><tr><td>Abyss, The (1989)</td><td>Action|Adventure|Sci-Fi|Thriller</td></tr><tr><td>Fog, The (1980)</td><td>Horror</td></tr><tr><td>Escape from New York (1981)</td><td>Action|Adventure|Sci-Fi|Thriller</td></tr><tr><td>Howling, The (1980)</td><td>Horror|Mystery</td></tr><tr><td>Jean de Florette (1986)</td><td>Drama|Mystery</td></tr><tr><td>Manon of the Spring (Manon des sources) (1986)</td><td>Drama</td></tr><tr><td>Private Benjamin (1980)</td><td>Comedy</td></tr><tr><td>Monty Python and the Holy Grail (1975)</td><td>Adventure|Comedy|Fantasy</td></tr><tr><td>Hustler White (1996)</td><td>Romance</td></tr><tr><td>Entertaining Angels: The Dorothy Day Story (1996)</td><td>Drama</td></tr><tr><td>Line King: The Al Hirschfeld Story, The (1996)</td><td>Documentary</td></tr><tr><td>When We Were Kings (1996)</td><td>Documentary</td></tr><tr><td>Wallace & Gromit: The Wrong Trousers (1993)</td><td>Animation|Children|Comedy|Crime</td></tr><tr><td>Return of Martin Guerre, The (Retour de Martin Guerre, Le) (1982)</td><td>Drama</td></tr><tr><td>Lesson Faust (1994)</td><td>Animation|Comedy|Drama|Fantasy</td></tr><tr><td>Children Are Watching Us, The (Bambini ci guardano, I) (1944)</td><td>Drama</td></tr><tr><td>Tin Drum, The (Blechtrommel, Die) (1979)</td><td>Drama|War</td></tr><tr><td>Ruling Class, The (1972)</td><td>Comedy|Drama</td></tr><tr><td>Mina Tannenbaum (1994)</td><td>Drama</td></tr><tr><td>Dear God (1996)</td><td>Comedy</td></tr><tr><td>Best of the Best 3: No Turning Back (1995)</td><td>Action</td></tr><tr><td>Bob Roberts (1992)</td><td>Comedy</td></tr><tr><td>Cinema Paradiso (Nuovo cinema Paradiso) (1989)</td><td>Drama</td></tr><tr><td>Cook the Thief His Wife & Her Lover, The (1989)</td><td>Comedy|Drama</td></tr><tr><td>Delicatessen (1991)</td><td>Comedy|Drama|Romance</td></tr><tr><td>Double Life of Veronique, The (Double Vie de Véronique, La) (1991)</td><td>Drama|Fantasy|Romance</td></tr><tr><td>Enchanted April (1992)</td><td>Drama|Romance</td></tr><tr><td>Paths of Glory (1957)</td><td>Drama|War</td></tr><tr><td>Grifters, The (1990)</td><td>Crime|Drama|Film-Noir</td></tr><tr><td>Hear My Song (1991)</td><td>Comedy</td></tr><tr><td>English Patient, The (1996)</td><td>Drama|Romance|War</td></tr><tr><td>Mediterraneo (1991)</td><td>Comedy|Drama</td></tr><tr><td>My Left Foot (1989)</td><td>Drama</td></tr><tr><td>Sex, Lies, and Videotape (1989)</td><td>Drama</td></tr><tr><td>Passion Fish (1992)</td><td>Drama</td></tr><tr><td>Strictly Ballroom (1992)</td><td>Comedy|Romance</td></tr><tr><td>Thin Blue Line, The (1988)</td><td>Documentary</td></tr><tr><td>Tie Me Up! Tie Me Down! (¡Átame!) (1990)</td><td>Crime|Drama|Romance</td></tr><tr><td>Madonna: Truth or Dare (1991)</td><td>Documentary|Musical</td></tr><tr><td>Paris Is Burning (1990)</td><td>Documentary</td></tr><tr><td>One Flew Over the Cuckoo's Nest (1975)</td><td>Drama</td></tr><tr><td>Cheech and Chong's Up in Smoke (1978)</td><td>Comedy</td></tr><tr><td>Star Wars: Episode V - The Empire Strikes Back (1980)</td><td>Action|Adventure|Sci-Fi</td></tr><tr><td>Princess Bride, The (1987)</td><td>Action|Adventure|Comedy|Fantasy|Romance</td></tr><tr><td>Raiders of the Lost Ark (Indiana Jones and the Raiders of the Lost Ark) (1981)</td><td>Action|Adventure</td></tr><tr><td>Brazil (1985)</td><td>Fantasy|Sci-Fi</td></tr><tr><td>Aliens (1986)</td><td>Action|Adventure|Horror|Sci-Fi</td></tr><tr><td>Good, the Bad and the Ugly, The (Buono, il brutto, il cattivo, Il) (1966)</td><td>Action|Adventure|Western</td></tr><tr><td>Withnail & I (1987)</td><td>Comedy</td></tr><tr><td>12 Angry Men (1957)</td><td>Drama</td></tr><tr><td>Lawrence of Arabia (1962)</td><td>Adventure|Drama|War</td></tr><tr><td>Clockwork Orange, A (1971)</td><td>Crime|Drama|Sci-Fi|Thriller</td></tr><tr><td>To Kill a Mockingbird (1962)</td><td>Drama</td></tr><tr><td>Apocalypse Now (1979)</td><td>Action|Drama|War</td></tr><tr><td>Once Upon a Time in the West (C'era una volta il West) (1968)</td><td>Action|Drama|Western</td></tr><tr><td>Star Wars: Episode VI - Return of the Jedi (1983)</td><td>Action|Adventure|Sci-Fi</td></tr><tr><td>Wings of Desire (Himmel über Berlin, Der) (1987)</td><td>Drama|Fantasy|Romance</td></tr><tr><td>Third Man, The (1949)</td><td>Film-Noir|Mystery|Thriller</td></tr><tr><td>Goodfellas (1990)</td><td>Crime|Drama</td></tr><tr><td>Alien (1979)</td><td>Horror|Sci-Fi</td></tr><tr><td>Army of Darkness (1993)</td><td>Action|Adventure|Comedy|Fantasy|Horror</td></tr><tr><td>Big Blue, The (Grand bleu, Le) (1988)</td><td>Adventure|Drama|Romance</td></tr><tr><td>Ran (1985)</td><td>Drama|War</td></tr><tr><td>Killer, The (Die xue shuang xiong) (1989)</td><td>Action|Crime|Drama|Thriller</td></tr><tr><td>Psycho (1960)</td><td>Crime|Horror</td></tr><tr><td>Blues Brothers, The (1980)</td><td>Action|Comedy|Musical</td></tr><tr><td>Godfather: Part II, The (1974)</td><td>Crime|Drama</td></tr><tr><td>Full Metal Jacket (1987)</td><td>Drama|War</td></tr><tr><td>Grand Day Out with Wallace and Gromit, A (1989)</td><td>Adventure|Animation|Children|Comedy|Sci-Fi</td></tr><tr><td>Henry V (1989)</td><td>Action|Drama|Romance|War</td></tr><tr><td>Amadeus (1984)</td><td>Drama</td></tr><tr><td>Quiet Man, The (1952)</td><td>Drama|Romance</td></tr><tr><td>Once Upon a Time in America (1984)</td><td>Crime|Drama</td></tr><tr><td>Raging Bull (1980)</td><td>Drama</td></tr><tr><td>Annie Hall (1977)</td><td>Comedy|Romance</td></tr><tr><td>Right Stuff, The (1983)</td><td>Drama</td></tr><tr><td>Stalker (1979)</td><td>Drama|Mystery|Sci-Fi</td></tr><tr><td>Boot, Das (Boat, The) (1981)</td><td>Action|Drama|War</td></tr><tr><td>Sting, The (1973)</td><td>Comedy|Crime</td></tr><tr><td>Harold and Maude (1971)</td><td>Comedy|Drama|Romance</td></tr><tr><td>Trust (1990)</td><td>Comedy|Drama|Romance</td></tr><tr><td>Seventh Seal, The (Sjunde inseglet, Det) (1957)</td><td>Drama</td></tr><tr><td>Local Hero (1983)</td><td>Comedy</td></tr><tr><td>Terminator, The (1984)</td><td>Action|Sci-Fi|Thriller</td></tr><tr><td>Dead Alive (Braindead) (1992)</td><td>Comedy|Fantasy|Horror</td></tr><tr><td>Glory (1989)</td><td>Drama|War</td></tr><tr><td>Rosencrantz and Guildenstern Are Dead (1990)</td><td>Comedy|Drama</td></tr><tr><td>Manhattan (1979)</td><td>Comedy|Drama|Romance</td></tr><tr><td>Miller's Crossing (1990)</td><td>Crime|Drama|Film-Noir|Thriller</td></tr><tr><td>Dead Poets Society (1989)</td><td>Drama</td></tr><tr><td>Graduate, The (1967)</td><td>Comedy|Drama|Romance</td></tr><tr><td>Touch of Evil (1958)</td><td>Crime|Film-Noir|Thriller</td></tr><tr><td>Femme Nikita, La (Nikita) (1990)</td><td>Action|Crime|Romance|Thriller</td></tr><tr><td>Bridge on the River Kwai, The (1957)</td><td>Adventure|Drama|War</td></tr><tr><td>8 1/2 (8½) (1963)</td><td>Drama|Fantasy</td></tr><tr><td>Chinatown (1974)</td><td>Crime|Film-Noir|Mystery|Thriller</td></tr><tr><td>Day the Earth Stood Still, The (1951)</td><td>Drama|Sci-Fi|Thriller</td></tr><tr><td>Treasure of the Sierra Madre, The (1948)</td><td>Action|Adventure|Drama|Western</td></tr><tr><td>Bad Taste (1987)</td><td>Comedy|Horror|Sci-Fi</td></tr><tr><td>Duck Soup (1933)</td><td>Comedy|Musical|War</td></tr><tr><td>Better Off Dead... (1985)</td><td>Comedy|Romance</td></tr><tr><td>Shining, The (1980)</td><td>Horror</td></tr><tr><td>Stand by Me (1986)</td><td>Adventure|Drama</td></tr><tr><td>M (1931)</td><td>Crime|Film-Noir|Thriller</td></tr><tr><td>Evil Dead II (Dead by Dawn) (1987)</td><td>Action|Comedy|Fantasy|Horror</td></tr><tr><td>Great Escape, The (1963)</td><td>Action|Adventure|Drama|War</td></tr><tr><td>Deer Hunter, The (1978)</td><td>Drama|War</td></tr><tr><td>Diva (1981)</td><td>Action|Drama|Mystery|Romance|Thriller</td></tr><tr><td>Groundhog Day (1993)</td><td>Comedy|Fantasy|Romance</td></tr><tr><td>Unforgiven (1992)</td><td>Drama|Western</td></tr><tr><td>Manchurian Candidate, The (1962)</td><td>Crime|Thriller|War</td></tr><tr><td>Pump Up the Volume (1990)</td><td>Comedy|Drama</td></tr><tr><td>Arsenic and Old Lace (1944)</td><td>Comedy|Mystery|Thriller</td></tr><tr><td>Back to the Future (1985)</td><td>Adventure|Comedy|Sci-Fi</td></tr><tr><td>Fried Green Tomatoes (1991)</td><td>Comedy|Crime|Drama</td></tr><tr><td>Patton (1970)</td><td>Drama|War</td></tr><tr><td>Down by Law (1986)</td><td>Comedy|Drama|Film-Noir</td></tr><tr><td>Akira (1988)</td><td>Action|Adventure|Animation|Sci-Fi</td></tr><tr><td>Highlander (1986)</td><td>Action|Adventure|Fantasy</td></tr><tr><td>Cool Hand Luke (1967)</td><td>Drama</td></tr><tr><td>Cyrano de Bergerac (1990)</td><td>Comedy|Drama|Romance</td></tr><tr><td>Young Frankenstein (1974)</td><td>Comedy|Fantasy</td></tr><tr><td>Night on Earth (1991)</td><td>Comedy|Drama</td></tr><tr><td>Raise the Red Lantern (Da hong deng long gao gao gua) (1991)</td><td>Drama</td></tr><tr><td>Great Dictator, The (1940)</td><td>Comedy|Drama|War</td></tr><tr><td>Fantasia (1940)</td><td>Animation|Children|Fantasy|Musical</td></tr><tr><td>High Noon (1952)</td><td>Drama|Western</td></tr><tr><td>Big Sleep, The (1946)</td><td>Crime|Film-Noir|Mystery</td></tr><tr><td>Heathers (1989)</td><td>Comedy</td></tr><tr><td>Somewhere in Time (1980)</td><td>Drama|Romance</td></tr><tr><td>Ben-Hur (1959)</td><td>Action|Adventure|Drama</td></tr><tr><td>This Is Spinal Tap (1984)</td><td>Comedy</td></tr><tr><td>Koyaanisqatsi (a.k.a. Koyaanisqatsi: Life Out of Balance) (1983)</td><td>Documentary</td></tr><tr><td>Some Kind of Wonderful (1987)</td><td>Drama|Romance</td></tr><tr><td>Indiana Jones and the Last Crusade (1989)</td><td>Action|Adventure</td></tr><tr><td>Being There (1979)</td><td>Comedy|Drama</td></tr><tr><td>Gandhi (1982)</td><td>Drama</td></tr><tr><td>Unbearable Lightness of Being, The (1988)</td><td>Drama</td></tr><tr><td>Room with a View, A (1986)</td><td>Drama|Romance</td></tr><tr><td>Real Genius (1985)</td><td>Comedy</td></tr><tr><td>Pink Floyd: The Wall (1982)</td><td>Drama|Musical</td></tr><tr><td>Killing Fields, The (1984)</td><td>Drama|War</td></tr><tr><td>My Life as a Dog (Mitt liv som hund) (1985)</td><td>Comedy|Drama</td></tr><tr><td>Forbidden Planet (1956)</td><td>Drama|Sci-Fi</td></tr></tbody></table></div>"
            ]
          },
          "metadata": {
            "tags": []
          }
        }
      ]
    },
    {
      "cell_type": "markdown",
      "metadata": {
        "id": "ouG-j5BiDlVh",
        "colab_type": "text"
      },
      "source": [
        "### Q5: Movie for Each Category"
      ]
    },
    {
      "cell_type": "code",
      "metadata": {
        "id": "UsrfZswQDlVh",
        "colab_type": "code",
        "colab": {},
        "outputId": "b4cb2039-8849-4a43-bc2e-49b31b6496ae"
      },
      "source": [
        "%sql select t.tag, count(*) as number_movies from tags t join movies m on t.movieId = m.movieId group by 1 order by 2 DESC"
      ],
      "execution_count": 0,
      "outputs": [
        {
          "output_type": "display_data",
          "data": {
            "text/html": [
              "<style scoped>\n",
              "  .table-result-container {\n",
              "    max-height: 300px;\n",
              "    overflow: auto;\n",
              "  }\n",
              "  table, th, td {\n",
              "    border: 1px solid black;\n",
              "    border-collapse: collapse;\n",
              "  }\n",
              "  th, td {\n",
              "    padding: 5px;\n",
              "  }\n",
              "  th {\n",
              "    text-align: left;\n",
              "  }\n",
              "</style><div class='table-result-container'><table class='table-result'><thead style='background-color: white'><tr><th>tag</th><th>number_movies</th></tr></thead><tbody><tr><td>In Netflix queue</td><td>131</td></tr><tr><td>atmospheric</td><td>36</td></tr><tr><td>thought-provoking</td><td>24</td></tr><tr><td>superhero</td><td>24</td></tr><tr><td>Disney</td><td>23</td></tr><tr><td>funny</td><td>23</td></tr><tr><td>surreal</td><td>23</td></tr><tr><td>religion</td><td>22</td></tr><tr><td>quirky</td><td>21</td></tr><tr><td>dark comedy</td><td>21</td></tr><tr><td>sci-fi</td><td>21</td></tr><tr><td>psychology</td><td>21</td></tr><tr><td>suspense</td><td>20</td></tr><tr><td>crime</td><td>19</td></tr><tr><td>visually appealing</td><td>19</td></tr><tr><td>twist ending</td><td>19</td></tr><tr><td>politics</td><td>18</td></tr><tr><td>mental illness</td><td>16</td></tr><tr><td>music</td><td>16</td></tr><tr><td>time travel</td><td>16</td></tr><tr><td>aliens</td><td>15</td></tr><tr><td>comedy</td><td>15</td></tr><tr><td>dark</td><td>15</td></tr><tr><td>mindfuck</td><td>14</td></tr><tr><td>dreamlike</td><td>14</td></tr><tr><td>space</td><td>14</td></tr><tr><td>heist</td><td>13</td></tr><tr><td>emotional</td><td>13</td></tr><tr><td>black comedy</td><td>13</td></tr><tr><td>anime</td><td>12</td></tr><tr><td>Shakespeare</td><td>12</td></tr><tr><td>high school</td><td>12</td></tr><tr><td>satire</td><td>12</td></tr><tr><td>action</td><td>12</td></tr><tr><td>court</td><td>12</td></tr><tr><td>disturbing</td><td>12</td></tr><tr><td>Stephen King</td><td>12</td></tr><tr><td>journalism</td><td>12</td></tr><tr><td>psychological</td><td>11</td></tr><tr><td>adultery</td><td>11</td></tr><tr><td>classic</td><td>11</td></tr><tr><td>adolescence</td><td>11</td></tr><tr><td>imdb top 250</td><td>11</td></tr><tr><td>boxing</td><td>11</td></tr><tr><td>comic book</td><td>11</td></tr><tr><td>Holocaust</td><td>11</td></tr><tr><td>cinematography</td><td>10</td></tr><tr><td>England</td><td>10</td></tr><tr><td>philosophical</td><td>10</td></tr><tr><td>Australia</td><td>10</td></tr><tr><td>remake</td><td>10</td></tr><tr><td>drugs</td><td>10</td></tr><tr><td>animation</td><td>10</td></tr><tr><td>Vietnam</td><td>10</td></tr><tr><td>robots</td><td>10</td></tr><tr><td>ghosts</td><td>10</td></tr><tr><td>Mafia</td><td>10</td></tr><tr><td>India</td><td>10</td></tr><tr><td>Leonardo DiCaprio</td><td>10</td></tr><tr><td>military</td><td>9</td></tr><tr><td>sexuality</td><td>9</td></tr><tr><td>bittersweet</td><td>9</td></tr><tr><td>creepy</td><td>9</td></tr><tr><td>racism</td><td>9</td></tr><tr><td>murder</td><td>9</td></tr><tr><td>World War II</td><td>9</td></tr><tr><td>hallucinatory</td><td>9</td></tr><tr><td>tense</td><td>9</td></tr><tr><td>stylized</td><td>9</td></tr><tr><td>heartwarming</td><td>8</td></tr><tr><td>sequel</td><td>8</td></tr><tr><td>serial killer</td><td>8</td></tr><tr><td>martial arts</td><td>8</td></tr><tr><td>spoof</td><td>8</td></tr><tr><td>bad</td><td>8</td></tr><tr><td>movie business</td><td>8</td></tr><tr><td>violence</td><td>8</td></tr><tr><td>race</td><td>8</td></tr><tr><td>revenge</td><td>8</td></tr><tr><td>Christmas</td><td>8</td></tr><tr><td>divorce</td><td>8</td></tr><tr><td>adventure</td><td>8</td></tr><tr><td>cult film</td><td>7</td></tr><tr><td>clever</td><td>7</td></tr><tr><td>gritty</td><td>7</td></tr><tr><td>Coen Brothers</td><td>7</td></tr><tr><td>social commentary</td><td>7</td></tr><tr><td>family</td><td>7</td></tr><tr><td>predictable</td><td>7</td></tr><tr><td>dark humor</td><td>7</td></tr><tr><td>Animal movie</td><td>7</td></tr><tr><td>disability</td><td>7</td></tr><tr><td>romance</td><td>7</td></tr><tr><td>Quentin Tarantino</td><td>7</td></tr><tr><td>inspirational</td><td>7</td></tr><tr><td>intelligent</td><td>7</td></tr><tr><td>assassination</td><td>7</td></tr><tr><td>prostitution</td><td>7</td></tr><tr><td>police</td><td>7</td></tr><tr><td>gothic</td><td>6</td></tr><tr><td>hit men</td><td>6</td></tr><tr><td>men in drag</td><td>6</td></tr><tr><td>black and white</td><td>6</td></tr><tr><td>television</td><td>6</td></tr><tr><td>witty</td><td>6</td></tr><tr><td>twins</td><td>6</td></tr><tr><td>touching</td><td>6</td></tr><tr><td>death</td><td>6</td></tr><tr><td>business</td><td>6</td></tr><tr><td>Bible</td><td>6</td></tr><tr><td>kidnapping</td><td>6</td></tr><tr><td>New York</td><td>6</td></tr><tr><td>wedding</td><td>6</td></tr><tr><td>remade</td><td>6</td></tr><tr><td>zombies</td><td>6</td></tr><tr><td>cerebral</td><td>6</td></tr><tr><td>Nick and Nora Charles</td><td>6</td></tr><tr><td>great soundtrack</td><td>6</td></tr><tr><td>Astaire and Rogers</td><td>6</td></tr><tr><td>philosophy</td><td>6</td></tr><tr><td>mystery</td><td>6</td></tr><tr><td>pregnancy</td><td>6</td></tr><tr><td>future</td><td>6</td></tr><tr><td>Magic</td><td>6</td></tr><tr><td>fantasy</td><td>6</td></tr><tr><td>fun</td><td>5</td></tr><tr><td>poignant</td><td>5</td></tr><tr><td>Will Ferrell</td><td>5</td></tr><tr><td>Civil War</td><td>5</td></tr><tr><td>beautiful</td><td>5</td></tr><tr><td>post-apocalyptic</td><td>5</td></tr><tr><td>Adam Sandler</td><td>5</td></tr><tr><td>Africa</td><td>5</td></tr><tr><td>Dickens</td><td>5</td></tr><tr><td>sports</td><td>5</td></tr><tr><td>biopic</td><td>5</td></tr><tr><td>Brad Pitt</td><td>5</td></tr><tr><td>swashbuckler</td><td>5</td></tr><tr><td>stylish</td><td>5</td></tr><tr><td>alcoholism</td><td>5</td></tr><tr><td>good dialogue</td><td>5</td></tr><tr><td>cross dressing</td><td>5</td></tr><tr><td>space opera</td><td>5</td></tr><tr><td>paranoia</td><td>5</td></tr><tr><td>thriller</td><td>5</td></tr><tr><td>artificial intelligence</td><td>5</td></tr><tr><td>based on a book</td><td>5</td></tr><tr><td>sarcasm</td><td>5</td></tr><tr><td>friendship</td><td>5</td></tr><tr><td>Jason</td><td>5</td></tr><tr><td>terrorism</td><td>5</td></tr><tr><td>Ireland</td><td>5</td></tr><tr><td>dystopia</td><td>5</td></tr><tr><td>samurai</td><td>5</td></tr><tr><td>corruption</td><td>5</td></tr><tr><td>gambling</td><td>5</td></tr><tr><td>Judaism</td><td>5</td></tr><tr><td>organized crime</td><td>5</td></tr><tr><td>humorous</td><td>5</td></tr><tr><td>marriage</td><td>5</td></tr><tr><td>lawyers</td><td>5</td></tr><tr><td>death penalty</td><td>5</td></tr><tr><td>existentialism</td><td>5</td></tr><tr><td>amnesia</td><td>5</td></tr><tr><td>Atmospheric</td><td>5</td></tr><tr><td>Al Pacino</td><td>5</td></tr><tr><td>baseball</td><td>5</td></tr><tr><td>Hepburn and Tracy</td><td>5</td></tr><tr><td>Jane Austen</td><td>4</td></tr><tr><td>Action</td><td>4</td></tr><tr><td>president</td><td>4</td></tr><tr><td>Aardman</td><td>4</td></tr><tr><td>Ryan Reynolds</td><td>4</td></tr><tr><td>Oscar (Best Actress)</td><td>4</td></tr><tr><td>bad plot</td><td>4</td></tr><tr><td>demons</td><td>4</td></tr><tr><td>Alfred Hitchcock</td><td>4</td></tr><tr><td>memory</td><td>4</td></tr><tr><td>movies</td><td>4</td></tr><tr><td>immigrants</td><td>4</td></tr><tr><td>Ben Stiller</td><td>4</td></tr><tr><td>will ferrell</td><td>4</td></tr><tr><td>weird</td><td>4</td></tr><tr><td>enigmatic</td><td>4</td></tr><tr><td>Samuel L. Jackson</td><td>4</td></tr><tr><td>Tolkein</td><td>4</td></tr><tr><td>Seth Rogen</td><td>4</td></tr><tr><td>basketball</td><td>4</td></tr><tr><td>intense</td><td>4</td></tr><tr><td>assassin</td><td>4</td></tr><tr><td>horror</td><td>4</td></tr><tr><td>High School</td><td>4</td></tr><tr><td>interesting</td><td>4</td></tr><tr><td>Martin Scorsese</td><td>4</td></tr><tr><td>loneliness</td><td>4</td></tr><tr><td>violent</td><td>4</td></tr><tr><td>unique</td><td>4</td></tr><tr><td>plot holes</td><td>4</td></tr><tr><td>Comedy</td><td>4</td></tr><tr><td>feel-good</td><td>4</td></tr><tr><td>visually stunning</td><td>4</td></tr><tr><td>archaeology</td><td>4</td></tr><tr><td>soundtrack</td><td>4</td></tr><tr><td>true story</td><td>4</td></tr><tr><td>show business</td><td>4</td></tr><tr><td>Christian Bale</td><td>4</td></tr><tr><td>controversial</td><td>4</td></tr><tr><td>christmas</td><td>4</td></tr><tr><td>birds</td><td>4</td></tr><tr><td>homeless</td><td>4</td></tr><tr><td>paranoid</td><td>4</td></tr><tr><td>Tom Hanks</td><td>4</td></tr><tr><td>heartbreaking</td><td>4</td></tr><tr><td>fatherhood</td><td>4</td></tr><tr><td>blindness</td><td>4</td></tr><tr><td>melancholy</td><td>4</td></tr><tr><td>King Arthur</td><td>4</td></tr><tr><td>Pixar</td><td>4</td></tr><tr><td>parody</td><td>4</td></tr><tr><td>screwball</td><td>4</td></tr><tr><td>based on a TV show</td><td>4</td></tr><tr><td>Post apocalyptic</td><td>4</td></tr><tr><td>depressing</td><td>4</td></tr><tr><td>sad</td><td>4</td></tr><tr><td>John Grisham</td><td>4</td></tr><tr><td>dogs</td><td>4</td></tr><tr><td>survival</td><td>4</td></tr><tr><td>prison</td><td>4</td></tr><tr><td>circus</td><td>4</td></tr><tr><td>generation X</td><td>4</td></tr><tr><td>Wizards</td><td>4</td></tr><tr><td>horses</td><td>4</td></tr><tr><td>multiple storylines</td><td>3</td></tr><tr><td>anti-Semitism</td><td>3</td></tr><tr><td>Liam Neeson</td><td>3</td></tr><tr><td>psychedelic</td><td>3</td></tr><tr><td>claustrophobic</td><td>3</td></tr><tr><td>spying</td><td>3</td></tr><tr><td>Shakespeare sort of</td><td>3</td></tr><tr><td>orphans</td><td>3</td></tr><tr><td>Rome</td><td>3</td></tr><tr><td>Tennessee Williams</td><td>3</td></tr><tr><td>Highly quotable</td><td>3</td></tr><tr><td>inspiring</td><td>3</td></tr><tr><td>Girl Power</td><td>3</td></tr><tr><td>irreverent</td><td>3</td></tr><tr><td>Christopher Nolan</td><td>3</td></tr><tr><td>mockumentary</td><td>3</td></tr><tr><td>Hollywood</td><td>3</td></tr><tr><td>whimsical</td><td>3</td></tr><tr><td>06 Oscar Nominated Best Movie - Animation</td><td>3</td></tr><tr><td>hitman</td><td>3</td></tr><tr><td>bloody</td><td>3</td></tr><tr><td>Tarantino</td><td>3</td></tr><tr><td>great acting</td><td>3</td></tr><tr><td>love story</td><td>3</td></tr><tr><td>hilarious</td><td>3</td></tr><tr><td>british comedy</td><td>3</td></tr><tr><td>Robert De Niro</td><td>3</td></tr><tr><td>class</td><td>3</td></tr><tr><td>sweet</td><td>3</td></tr><tr><td>photography</td><td>3</td></tr><tr><td>Cold War</td><td>3</td></tr><tr><td>Michael Cera</td><td>3</td></tr><tr><td>Beautiful</td><td>3</td></tr><tr><td>artistic</td><td>3</td></tr><tr><td>child abuse</td><td>3</td></tr><tr><td>based on a true story</td><td>3</td></tr><tr><td>fantasy world</td><td>3</td></tr><tr><td>children</td><td>3</td></tr><tr><td>Japan</td><td>3</td></tr><tr><td>brutality</td><td>3</td></tr><tr><td>smart</td><td>3</td></tr><tr><td>blind</td><td>3</td></tr><tr><td>evil children</td><td>3</td></tr><tr><td>terminal illness</td><td>3</td></tr><tr><td>silly</td><td>3</td></tr><tr><td>good soundtrack</td><td>3</td></tr><tr><td>alternate reality</td><td>3</td></tr><tr><td>mafia</td><td>3</td></tr><tr><td>boring</td><td>3</td></tr><tr><td>ensemble cast</td><td>3</td></tr><tr><td>nonlinear</td><td>3</td></tr><tr><td>off-beat comedy</td><td>3</td></tr><tr><td>gangsters</td><td>3</td></tr><tr><td>masterpiece</td><td>3</td></tr><tr><td>overrated</td><td>3</td></tr><tr><td>Robin Williams</td><td>3</td></tr><tr><td>obsession</td><td>3</td></tr><tr><td>mathematics</td><td>3</td></tr><tr><td>books</td><td>3</td></tr><tr><td>1970s</td><td>3</td></tr><tr><td>crude humor</td><td>3</td></tr><tr><td>slasher</td><td>3</td></tr><tr><td>football</td><td>3</td></tr><tr><td>transplants</td><td>3</td></tr><tr><td>food</td><td>3</td></tr><tr><td>Mystery</td><td>3</td></tr><tr><td>Screwball</td><td>3</td></tr><tr><td>golf</td><td>3</td></tr><tr><td>dance</td><td>3</td></tr><tr><td>nightclub</td><td>3</td></tr><tr><td>Rachel Weisz</td><td>3</td></tr><tr><td>moving</td><td>3</td></tr><tr><td>priest</td><td>3</td></tr><tr><td>Steve Carell</td><td>3</td></tr><tr><td>writing</td><td>3</td></tr><tr><td>Clousseau</td><td>3</td></tr><tr><td>motherhood</td><td>3</td></tr><tr><td>classic sci-fi</td><td>3</td></tr><tr><td>Steve Buscemi</td><td>3</td></tr><tr><td>Tim Burton</td><td>3</td></tr><tr><td>NASA</td><td>3</td></tr><tr><td>drama</td><td>3</td></tr><tr><td>chick flick</td><td>2</td></tr><tr><td>moon</td><td>2</td></tr><tr><td>ridiculous</td><td>2</td></tr><tr><td>bad acting</td><td>2</td></tr><tr><td>audience intelligence underestimated</td><td>2</td></tr><tr><td>Arnold Schwarzenegger</td><td>2</td></tr><tr><td>moody</td><td>2</td></tr><tr><td>heroine in tight suit</td><td>2</td></tr><tr><td>Christoph Waltz</td><td>2</td></tr><tr><td>halloween</td><td>2</td></tr><tr><td>New York City</td><td>2</td></tr><tr><td>time-travel</td><td>2</td></tr><tr><td>Edward Norton</td><td>2</td></tr><tr><td>very funny</td><td>2</td></tr><tr><td>humor</td><td>2</td></tr><tr><td>Ben Affleck</td><td>2</td></tr><tr><td>factory</td><td>2</td></tr><tr><td>dinosaurs</td><td>2</td></tr><tr><td>Charlize Theron</td><td>2</td></tr><tr><td>too long</td><td>2</td></tr><tr><td>Wall Street</td><td>2</td></tr><tr><td>alternate endings</td><td>2</td></tr><tr><td>narrated</td><td>2</td></tr><tr><td>Nazis</td><td>2</td></tr><tr><td>teen</td><td>2</td></tr><tr><td>Jared Leto</td><td>2</td></tr><tr><td>war</td><td>2</td></tr><tr><td>reciprocal spectator</td><td>2</td></tr><tr><td>Edith Wharton</td><td>2</td></tr><tr><td>bad script</td><td>2</td></tr><tr><td>fish</td><td>2</td></tr><tr><td>alternate universe</td><td>2</td></tr><tr><td>Marx brothers</td><td>2</td></tr><tr><td>tear jerker</td><td>2</td></tr><tr><td>understated</td><td>2</td></tr><tr><td>art</td><td>2</td></tr><tr><td>James Stewart</td><td>2</td></tr><tr><td>unconventional</td><td>2</td></tr><tr><td>M. Night Shyamalan</td><td>2</td></tr><tr><td>AIDs</td><td>2</td></tr><tr><td>brutal</td><td>2</td></tr><tr><td>Jude Law</td><td>2</td></tr><tr><td>drug abuse</td><td>2</td></tr><tr><td>Tolkien</td><td>2</td></tr><tr><td>fairy tales</td><td>2</td></tr><tr><td>slick</td><td>2</td></tr><tr><td>reflective</td><td>2</td></tr><tr><td>trains</td><td>2</td></tr><tr><td>James Franco</td><td>2</td></tr><tr><td>space travel</td><td>2</td></tr><tr><td>coma</td><td>2</td></tr><tr><td>marvel</td><td>2</td></tr><tr><td>pixar</td><td>2</td></tr><tr><td>doctors</td><td>2</td></tr><tr><td>theater</td><td>2</td></tr><tr><td>Robert Downey Jr.</td><td>2</td></tr><tr><td>love</td><td>2</td></tr><tr><td>espionage</td><td>2</td></tr><tr><td>graphic design</td><td>2</td></tr><tr><td>Jean Reno</td><td>2</td></tr><tr><td>island</td><td>2</td></tr><tr><td>luke skywalker</td><td>2</td></tr><tr><td>1980s</td><td>2</td></tr><tr><td>Graham Greene</td><td>2</td></tr><tr><td>Hannibal Lecter</td><td>2</td></tr><tr><td>morality</td><td>2</td></tr><tr><td>psychiatrist</td><td>2</td></tr><tr><td>Hugh Jackman</td><td>2</td></tr><tr><td>apocalypse</td><td>2</td></tr><tr><td>Rob Zombie</td><td>2</td></tr><tr><td>Christina Ricci</td><td>2</td></tr><tr><td>psychopaths</td><td>2</td></tr><tr><td>epic</td><td>2</td></tr><tr><td>cancer</td><td>2</td></tr><tr><td>secret society</td><td>2</td></tr><tr><td>last man on earth</td><td>2</td></tr><tr><td>intellectual</td><td>2</td></tr><tr><td>heroin</td><td>2</td></tr><tr><td>school</td><td>2</td></tr><tr><td>Star Wars</td><td>2</td></tr><tr><td>guns</td><td>2</td></tr><tr><td>Stanley Kubrick</td><td>2</td></tr><tr><td>sexy female scientist</td><td>2</td></tr><tr><td>long shots</td><td>2</td></tr><tr><td>Amish</td><td>2</td></tr><tr><td>cyberpunk</td><td>2</td></tr><tr><td>documentary</td><td>2</td></tr><tr><td>spaghetti western</td><td>2</td></tr><tr><td>satirical</td><td>2</td></tr><tr><td>fugitive</td><td>2</td></tr><tr><td>Paul Rudd</td><td>2</td></tr><tr><td>beautiful scenery</td><td>2</td></tr><tr><td>lyrical</td><td>2</td></tr><tr><td>brainwashing</td><td>2</td></tr><tr><td>Nudity (Full Frontal)</td><td>2</td></tr><tr><td>weddings</td><td>2</td></tr><tr><td>Italy</td><td>2</td></tr><tr><td>Chris Evans</td><td>2</td></tr><tr><td>Steven Spielberg</td><td>2</td></tr><tr><td>scary</td><td>2</td></tr><tr><td>indiana jones</td><td>2</td></tr><tr><td>Visually stunning</td><td>2</td></tr><tr><td>Jim Carrey</td><td>2</td></tr><tr><td>meditative</td><td>2</td></tr><tr><td>Jeff Bridges</td><td>2</td></tr><tr><td>babies</td><td>2</td></tr><tr><td>1950s</td><td>2</td></tr><tr><td>imagination</td><td>2</td></tr><tr><td>Olympics</td><td>2</td></tr><tr><td>non-linear</td><td>2</td></tr><tr><td>great ending</td><td>2</td></tr><tr><td>Will Smith</td><td>2</td></tr><tr><td>confrontational</td><td>2</td></tr><tr><td>insanity</td><td>2</td></tr><tr><td>plot twist</td><td>2</td></tr><tr><td>poetic</td><td>2</td></tr><tr><td>scandal</td><td>2</td></tr><tr><td>schizophrenia</td><td>2</td></tr><tr><td>violence in america</td><td>2</td></tr><tr><td>EPIC</td><td>2</td></tr><tr><td>great dialogue</td><td>2</td></tr><tr><td>cynical</td><td>2</td></tr><tr><td>offensive</td><td>2</td></tr><tr><td>sniper</td><td>2</td></tr><tr><td>scifi cult</td><td>2</td></tr><tr><td>South America</td><td>2</td></tr><tr><td>sentimental</td><td>2</td></tr><tr><td>submarine</td><td>2</td></tr><tr><td>widows/widowers</td><td>2</td></tr><tr><td>character study</td><td>2</td></tr><tr><td>Star Trek</td><td>2</td></tr><tr><td>white guilt</td><td>2</td></tr><tr><td>retro</td><td>2</td></tr><tr><td>jack nicholson</td><td>2</td></tr><tr><td>romantic</td><td>2</td></tr><tr><td>POW</td><td>2</td></tr><tr><td>Hemingway</td><td>2</td></tr><tr><td>gangster</td><td>2</td></tr><tr><td>Mark Ruffalo</td><td>2</td></tr><tr><td>conspiracy theory</td><td>2</td></tr><tr><td>tragic</td><td>2</td></tr><tr><td>adoption</td><td>2</td></tr><tr><td>Myth</td><td>2</td></tr><tr><td>reunion</td><td>2</td></tr><tr><td>awesome</td><td>2</td></tr><tr><td>Nick Hornby</td><td>2</td></tr><tr><td>dc comics</td><td>2</td></tr><tr><td>original</td><td>2</td></tr><tr><td>Jessica Alba</td><td>2</td></tr><tr><td>train</td><td>2</td></tr><tr><td>harsh</td><td>2</td></tr><tr><td>Not available from Netflix</td><td>2</td></tr><tr><td>Capote</td><td>2</td></tr><tr><td>holocaust</td><td>2</td></tr><tr><td>hugh jackman</td><td>2</td></tr><tr><td>bleak</td><td>2</td></tr><tr><td>ironic</td><td>2</td></tr><tr><td>Soundtrack</td><td>2</td></tr><tr><td>Rogers and Hammerstein</td><td>2</td></tr><tr><td>college</td><td>2</td></tr><tr><td>darth vader</td><td>2</td></tr><tr><td>Bittersweet</td><td>2</td></tr><tr><td>Morgan Freeman</td><td>2</td></tr><tr><td>Tom Hardy</td><td>2</td></tr><tr><td>Michael Bay</td><td>2</td></tr><tr><td>Agatha Christie</td><td>2</td></tr><tr><td>treasure hunt</td><td>2</td></tr><tr><td>vampire</td><td>2</td></tr><tr><td>TV</td><td>2</td></tr><tr><td>downbeat</td><td>2</td></tr><tr><td>surfing</td><td>2</td></tr><tr><td>Europe</td><td>2</td></tr><tr><td>seen more than once</td><td>2</td></tr><tr><td>trippy</td><td>2</td></tr><tr><td>dialogue</td><td>2</td></tr><tr><td>C.S. Lewis</td><td>2</td></tr><tr><td>Keanu Reeves</td><td>2</td></tr><tr><td>eerie</td><td>2</td></tr><tr><td>big budget</td><td>2</td></tr><tr><td>space action</td><td>2</td></tr><tr><td>powerful ending</td><td>2</td></tr><tr><td>made me cry</td><td>2</td></tr><tr><td>figure skating</td><td>2</td></tr><tr><td>Cambodia</td><td>2</td></tr><tr><td>FBI</td><td>2</td></tr><tr><td>lawyer</td><td>2</td></tr><tr><td>Henry James</td><td>2</td></tr><tr><td>Christopher Lloyd</td><td>2</td></tr><tr><td>Studio Ghibli</td><td>2</td></tr><tr><td>George Bernard Shaw</td><td>2</td></tr><tr><td>dating</td><td>2</td></tr><tr><td>L.A.</td><td>2</td></tr><tr><td>jazz</td><td>2</td></tr><tr><td>futuristic</td><td>2</td></tr><tr><td>Paul Giamatti</td><td>2</td></tr><tr><td>Tom Clancy</td><td>2</td></tr><tr><td>twist</td><td>2</td></tr><tr><td>radio</td><td>2</td></tr><tr><td>new york</td><td>2</td></tr><tr><td>1920s</td><td>2</td></tr><tr><td>France</td><td>2</td></tr><tr><td>characters</td><td>2</td></tr><tr><td>helena bonham carter</td><td>2</td></tr><tr><td>freaks</td><td>2</td></tr><tr><td>rape</td><td>2</td></tr><tr><td>Bruce Willis</td><td>2</td></tr><tr><td>symbolism</td><td>2</td></tr><tr><td>notable soundtrack</td><td>2</td></tr><tr><td>virginity</td><td>2</td></tr><tr><td>courtroom drama</td><td>2</td></tr><tr><td>personals ads</td><td>2</td></tr><tr><td>chess</td><td>2</td></tr><tr><td>music business</td><td>2</td></tr><tr><td>suspenseful</td><td>2</td></tr><tr><td>cult</td><td>2</td></tr><tr><td>twists & turns</td><td>2</td></tr><tr><td>artsy</td><td>2</td></tr><tr><td>depression</td><td>2</td></tr><tr><td>claymation</td><td>2</td></tr><tr><td>Jake Gyllenhaal</td><td>2</td></tr><tr><td>bromance</td><td>2</td></tr><tr><td>Ray Bradbury</td><td>2</td></tr><tr><td>surrealism</td><td>2</td></tr><tr><td>original plot</td><td>2</td></tr><tr><td>neo-noir</td><td>2</td></tr><tr><td>edward norton</td><td>2</td></tr><tr><td>rasicm</td><td>2</td></tr><tr><td>vampires</td><td>2</td></tr><tr><td>Peter Pan</td><td>2</td></tr><tr><td>ballet</td><td>2</td></tr><tr><td>goofy</td><td>2</td></tr><tr><td>E.M. Forster</td><td>2</td></tr><tr><td>Marvel</td><td>2</td></tr><tr><td>complicated</td><td>2</td></tr><tr><td>Seann William Scott</td><td>2</td></tr><tr><td>Anne Hathaway</td><td>2</td></tr><tr><td>dark hero</td><td>2</td></tr><tr><td>twisted</td><td>1</td></tr><tr><td>intimate</td><td>1</td></tr><tr><td>ransom</td><td>1</td></tr><tr><td>con artists</td><td>1</td></tr><tr><td>John Travolta</td><td>1</td></tr><tr><td>conversation</td><td>1</td></tr><tr><td>way too long</td><td>1</td></tr><tr><td>hope</td><td>1</td></tr><tr><td>70mm</td><td>1</td></tr><tr><td>intertwining storylines</td><td>1</td></tr><tr><td>slow</td><td>1</td></tr><tr><td>Wolverine</td><td>1</td></tr><tr><td>happpiness</td><td>1</td></tr><tr><td>cult classic</td><td>1</td></tr><tr><td>Russia</td><td>1</td></tr><tr><td>lies</td><td>1</td></tr><tr><td>motherfucker</td><td>1</td></tr><tr><td>Savannah</td><td>1</td></tr><tr><td>cia</td><td>1</td></tr><tr><td>biography</td><td>1</td></tr><tr><td>Denzel Washington</td><td>1</td></tr><tr><td>Quirky</td><td>1</td></tr><tr><td>grim</td><td>1</td></tr><tr><td>suicide</td><td>1</td></tr><tr><td>black hole</td><td>1</td></tr><tr><td>start of a beautiful friendship</td><td>1</td></tr><tr><td>lesbian</td><td>1</td></tr><tr><td>multiple short stories</td><td>1</td></tr><tr><td>Clock</td><td>1</td></tr><tr><td>quirky romantic</td><td>1</td></tr><tr><td>stephen king</td><td>1</td></tr><tr><td>freedom of expression</td><td>1</td></tr><tr><td>preacher</td><td>1</td></tr><tr><td>Mindfuck</td><td>1</td></tr><tr><td>boksdrama</td><td>1</td></tr><tr><td>pudding</td><td>1</td></tr><tr><td>crazy</td><td>1</td></tr><tr><td>male nudity</td><td>1</td></tr><tr><td>ROBOTS AND ANDROIDS</td><td>1</td></tr><tr><td>anti-war</td><td>1</td></tr><tr><td>skiing</td><td>1</td></tr><tr><td>modern fantasy</td><td>1</td></tr><tr><td>test tag</td><td>1</td></tr><tr><td>black-and-white</td><td>1</td></tr><tr><td>Mental Hospital</td><td>1</td></tr><tr><td>interesting scenario</td><td>1</td></tr><tr><td>american idolatry</td><td>1</td></tr><tr><td>Bugs Bunny</td><td>1</td></tr><tr><td>monologue</td><td>1</td></tr><tr><td>1960s</td><td>1</td></tr><tr><td>superficial plot</td><td>1</td></tr><tr><td>jackie chan</td><td>1</td></tr><tr><td>space adventure</td><td>1</td></tr><tr><td>stapler</td><td>1</td></tr><tr><td>Emilia Clarke</td><td>1</td></tr><tr><td>Dumas</td><td>1</td></tr><tr><td>Lloyd Dobbler</td><td>1</td></tr><tr><td>American propaganda</td><td>1</td></tr><tr><td>stone age</td><td>1</td></tr><tr><td>stupid but funny</td><td>1</td></tr><tr><td>Shangri-La</td><td>1</td></tr><tr><td>Alicia Vikander</td><td>1</td></tr><tr><td>vertriloquism</td><td>1</td></tr><tr><td>spelling bee</td><td>1</td></tr><tr><td>wistful</td><td>1</td></tr><tr><td>saint</td><td>1</td></tr><tr><td>Cold</td><td>1</td></tr><tr><td>predictible plot</td><td>1</td></tr><tr><td>stranded</td><td>1</td></tr><tr><td>great humor</td><td>1</td></tr><tr><td>computers</td><td>1</td></tr><tr><td>pageant</td><td>1</td></tr><tr><td>alone in the world</td><td>1</td></tr><tr><td>colorful</td><td>1</td></tr><tr><td>incest</td><td>1</td></tr><tr><td>Guns</td><td>1</td></tr><tr><td>mad scientist</td><td>1</td></tr><tr><td>Medieval</td><td>1</td></tr><tr><td>bad language</td><td>1</td></tr><tr><td>britpop</td><td>1</td></tr><tr><td>workplace</td><td>1</td></tr><tr><td>music industry</td><td>1</td></tr><tr><td>transvestite</td><td>1</td></tr><tr><td>Twist Ending</td><td>1</td></tr><tr><td>Quotable</td><td>1</td></tr><tr><td>Disturbing</td><td>1</td></tr><tr><td>Adventure</td><td>1</td></tr><tr><td>not seen</td><td>1</td></tr><tr><td>video games</td><td>1</td></tr><tr><td>British</td><td>1</td></tr><tr><td>southern US</td><td>1</td></tr><tr><td>roald dahl</td><td>1</td></tr><tr><td>R language</td><td>1</td></tr><tr><td>Stock Market</td><td>1</td></tr><tr><td>conspiracy</td><td>1</td></tr><tr><td>stupid is as stupid does</td><td>1</td></tr><tr><td>Union</td><td>1</td></tr><tr><td>Inigo Montoya</td><td>1</td></tr><tr><td>Josh Brolin</td><td>1</td></tr><tr><td>DC</td><td>1</td></tr><tr><td>Thrilling</td><td>1</td></tr><tr><td>fun family movie</td><td>1</td></tr><tr><td>aquarium</td><td>1</td></tr><tr><td>short films</td><td>1</td></tr><tr><td>immigration</td><td>1</td></tr><tr><td>haunting</td><td>1</td></tr><tr><td>shrimp</td><td>1</td></tr><tr><td>lack of story</td><td>1</td></tr><tr><td>2001-like</td><td>1</td></tr><tr><td>superhero team</td><td>1</td></tr><tr><td>character development</td><td>1</td></tr><tr><td>Mount Rushmore</td><td>1</td></tr><tr><td>teachers</td><td>1</td></tr><tr><td>Mrs. DeWinter</td><td>1</td></tr><tr><td>Ghost</td><td>1</td></tr><tr><td>Sean Connery</td><td>1</td></tr><tr><td>a clever chef rat</td><td>1</td></tr><tr><td>disjointed timeline</td><td>1</td></tr><tr><td>alan rickman</td><td>1</td></tr><tr><td>daniel radcliffe</td><td>1</td></tr><tr><td>r:disturbing violent images</td><td>1</td></tr><tr><td>Palme d'Or</td><td>1</td></tr><tr><td>south park</td><td>1</td></tr><tr><td>Afghanistan</td><td>1</td></tr><tr><td>spacecraft</td><td>1</td></tr><tr><td>rich guy - poor girl</td><td>1</td></tr><tr><td>Neil Patrick Harris</td><td>1</td></tr><tr><td>good and evil</td><td>1</td></tr><tr><td>Hilary Swank</td><td>1</td></tr><tr><td>insomnia</td><td>1</td></tr><tr><td>Harrison Ford</td><td>1</td></tr><tr><td>Insurance</td><td>1</td></tr><tr><td>real estate</td><td>1</td></tr><tr><td>lovely</td><td>1</td></tr><tr><td>good writing</td><td>1</td></tr><tr><td>Oscar (Best Cinematography)</td><td>1</td></tr><tr><td>donkey</td><td>1</td></tr><tr><td>Tokyo</td><td>1</td></tr><tr><td>film history</td><td>1</td></tr><tr><td>pigs</td><td>1</td></tr><tr><td>no dialogue</td><td>1</td></tr><tr><td>domestic violence</td><td>1</td></tr><tr><td>childish naivity</td><td>1</td></tr><tr><td>dreams</td><td>1</td></tr><tr><td>Toto</td><td>1</td></tr><tr><td>China</td><td>1</td></tr><tr><td>allegorical</td><td>1</td></tr><tr><td>ogres</td><td>1</td></tr><tr><td>Amy Adams</td><td>1</td></tr><tr><td>not funny</td><td>1</td></tr><tr><td>big corporations</td><td>1</td></tr><tr><td>sisterhood</td><td>1</td></tr><tr><td>Beethoven</td><td>1</td></tr><tr><td>Made me cry</td><td>1</td></tr><tr><td>visual</td><td>1</td></tr><tr><td>2D animation</td><td>1</td></tr><tr><td>Guardians of the Galaxy</td><td>1</td></tr><tr><td>storytelling</td><td>1</td></tr><tr><td>pizza beer</td><td>1</td></tr><tr><td>passion</td><td>1</td></tr><tr><td>uncomfortable</td><td>1</td></tr><tr><td>teacher</td><td>1</td></tr><tr><td>mountain climbing</td><td>1</td></tr><tr><td>hula hoop</td><td>1</td></tr><tr><td>revolutionary</td><td>1</td></tr><tr><td>plastic surgery</td><td>1</td></tr><tr><td>bad dialogue</td><td>1</td></tr><tr><td>small towns</td><td>1</td></tr><tr><td>tearjerking</td><td>1</td></tr><tr><td>deafness</td><td>1</td></tr><tr><td>illusions</td><td>1</td></tr><tr><td>thought provoking</td><td>1</td></tr><tr><td>meaningless violence</td><td>1</td></tr><tr><td>Klingons</td><td>1</td></tr><tr><td>road trip</td><td>1</td></tr><tr><td>Rita Hayworth can dance!</td><td>1</td></tr><tr><td>realistic</td><td>1</td></tr><tr><td>In Your Eyes</td><td>1</td></tr><tr><td>Russell Crowe</td><td>1</td></tr><tr><td>HOT actress</td><td>1</td></tr><tr><td>imaginative</td><td>1</td></tr><tr><td>Suspenseful</td><td>1</td></tr><tr><td>photographer</td><td>1</td></tr><tr><td>Hammett</td><td>1</td></tr><tr><td>bizzare</td><td>1</td></tr><tr><td>matchmaker</td><td>1</td></tr><tr><td>video game adaptation</td><td>1</td></tr><tr><td>Julianne Moore</td><td>1</td></tr><tr><td>rebellion</td><td>1</td></tr><tr><td>threesome</td><td>1</td></tr><tr><td>camp</td><td>1</td></tr><tr><td>classic movie</td><td>1</td></tr><tr><td>genius</td><td>1</td></tr><tr><td>Death</td><td>1</td></tr><tr><td>black humour</td><td>1</td></tr><tr><td>psychological thriller</td><td>1</td></tr><tr><td>happy ending</td><td>1</td></tr><tr><td>dumpster diving</td><td>1</td></tr><tr><td>anthology</td><td>1</td></tr><tr><td>Great movie</td><td>1</td></tr><tr><td>flood</td><td>1</td></tr><tr><td>Great performances</td><td>1</td></tr><tr><td>SPACE TRAVEL</td><td>1</td></tr><tr><td>mediacentralism</td><td>1</td></tr><tr><td>river</td><td>1</td></tr><tr><td>short stories</td><td>1</td></tr><tr><td>Stephen Crane</td><td>1</td></tr><tr><td>captain nemo</td><td>1</td></tr><tr><td>painter</td><td>1</td></tr><tr><td>Thor</td><td>1</td></tr><tr><td>building a family</td><td>1</td></tr><tr><td>Insanity</td><td>1</td></tr><tr><td>quick cuts</td><td>1</td></tr><tr><td>sisters</td><td>1</td></tr><tr><td>bus</td><td>1</td></tr><tr><td>r:strong bloody violence</td><td>1</td></tr><tr><td>televangelist</td><td>1</td></tr><tr><td>Colin Farrell</td><td>1</td></tr><tr><td>wapendrama</td><td>1</td></tr><tr><td>Dr. Strange</td><td>1</td></tr><tr><td>nonlinear storyline</td><td>1</td></tr><tr><td>end of the world</td><td>1</td></tr><tr><td>Native Americans</td><td>1</td></tr><tr><td>CGI</td><td>1</td></tr><tr><td>prejudice</td><td>1</td></tr><tr><td>alter ego</td><td>1</td></tr><tr><td>r:disturbing violent content including rape</td><td>1</td></tr><tr><td>Gulf War</td><td>1</td></tr><tr><td>dance marathon</td><td>1</td></tr><tr><td>shenanigans</td><td>1</td></tr><tr><td>financial crisis</td><td>1</td></tr><tr><td>Simple</td><td>1</td></tr><tr><td>Dan Aykroyd</td><td>1</td></tr><tr><td>insightful</td><td>1</td></tr><tr><td>confusing</td><td>1</td></tr><tr><td>Matt Damon</td><td>1</td></tr><tr><td>Motivational</td><td>1</td></tr><tr><td>android(s)/cyborg(s)</td><td>1</td></tr><tr><td>Priest</td><td>1</td></tr><tr><td>multiple roles</td><td>1</td></tr><tr><td>Documentary</td><td>1</td></tr><tr><td>Philip Seymour Hoffman</td><td>1</td></tr><tr><td>fighting</td><td>1</td></tr><tr><td>Shark</td><td>1</td></tr><tr><td>women</td><td>1</td></tr><tr><td>ending</td><td>1</td></tr><tr><td>brilliant</td><td>1</td></tr><tr><td>rap</td><td>1</td></tr><tr><td>Recap</td><td>1</td></tr><tr><td>Funny</td><td>1</td></tr><tr><td>amazing artwork</td><td>1</td></tr><tr><td>spiders</td><td>1</td></tr><tr><td>societal criticism</td><td>1</td></tr><tr><td>mirrors</td><td>1</td></tr><tr><td>dumb</td><td>1</td></tr><tr><td>Jason Segel</td><td>1</td></tr><tr><td>anger</td><td>1</td></tr><tr><td>hip hop</td><td>1</td></tr><tr><td>r:strong language</td><td>1</td></tr><tr><td>homosexuality</td><td>1</td></tr><tr><td>Moses</td><td>1</td></tr><tr><td>Hawkeye</td><td>1</td></tr><tr><td>deadpan</td><td>1</td></tr><tr><td>for katie</td><td>1</td></tr><tr><td>nerds</td><td>1</td></tr><tr><td>addiction</td><td>1</td></tr><tr><td>comics</td><td>1</td></tr><tr><td>Charles Dickens</td><td>1</td></tr><tr><td>Beatles</td><td>1</td></tr><tr><td>parenthood</td><td>1</td></tr><tr><td>Bad writing</td><td>1</td></tr><tr><td>splatter</td><td>1</td></tr><tr><td>General Motors</td><td>1</td></tr><tr><td>Rolling Stone</td><td>1</td></tr><tr><td>amazing</td><td>1</td></tr><tr><td>Jennifer Connelly</td><td>1</td></tr><tr><td>annoying</td><td>1</td></tr><tr><td>Not Seen</td><td>1</td></tr><tr><td>challenging</td><td>1</td></tr><tr><td>soccer</td><td>1</td></tr><tr><td>too much love interest</td><td>1</td></tr><tr><td>Salieri</td><td>1</td></tr><tr><td>Palahnuik</td><td>1</td></tr><tr><td>iconic</td><td>1</td></tr><tr><td>pool</td><td>1</td></tr><tr><td>Rosebud</td><td>1</td></tr><tr><td>Matrix</td><td>1</td></tr><tr><td>unoriginal</td><td>1</td></tr><tr><td>blood splatters</td><td>1</td></tr><tr><td>Animation</td><td>1</td></tr><tr><td>sophisticated</td><td>1</td></tr><tr><td>gunfight</td><td>1</td></tr><tr><td>emma thompson</td><td>1</td></tr><tr><td>individualism</td><td>1</td></tr><tr><td>Firefly</td><td>1</td></tr><tr><td>Nun</td><td>1</td></tr><tr><td>Broadway</td><td>1</td></tr><tr><td>franchise</td><td>1</td></tr><tr><td>stupid</td><td>1</td></tr><tr><td>Michigan</td><td>1</td></tr><tr><td>S.E. Hinton</td><td>1</td></tr><tr><td>Harley Quinn</td><td>1</td></tr><tr><td>rabbi</td><td>1</td></tr><tr><td>too many characters</td><td>1</td></tr><tr><td>noir</td><td>1</td></tr><tr><td>MCU</td><td>1</td></tr><tr><td>adorable</td><td>1</td></tr><tr><td>lack of plot</td><td>1</td></tr><tr><td>nocturnal</td><td>1</td></tr><tr><td>Jean Grey</td><td>1</td></tr><tr><td>art house</td><td>1</td></tr><tr><td>Louisa May Alcott</td><td>1</td></tr><tr><td>coulda been a contender</td><td>1</td></tr><tr><td>TERRORISM</td><td>1</td></tr><tr><td>bad-ass</td><td>1</td></tr><tr><td>Adrien Brody</td><td>1</td></tr><tr><td>video</td><td>1</td></tr><tr><td>introspection</td><td>1</td></tr><tr><td>kids</td><td>1</td></tr><tr><td>jim carrey</td><td>1</td></tr><tr><td>Nathan Fillion</td><td>1</td></tr><tr><td>remaster</td><td>1</td></tr><tr><td>American Indians</td><td>1</td></tr><tr><td>Insane</td><td>1</td></tr><tr><td>Juliette Lewis</td><td>1</td></tr><tr><td>Jennifer Lawrence</td><td>1</td></tr><tr><td>Venice</td><td>1</td></tr><tr><td>procedural</td><td>1</td></tr><tr><td>Gambling</td><td>1</td></tr><tr><td>bluegrass</td><td>1</td></tr><tr><td>Seth MacFarlane</td><td>1</td></tr><tr><td>assassins</td><td>1</td></tr><tr><td>purity of essence</td><td>1</td></tr><tr><td>different</td><td>1</td></tr><tr><td>philosopical</td><td>1</td></tr><tr><td>convent</td><td>1</td></tr><tr><td>Truman Capote</td><td>1</td></tr><tr><td>Istanbul</td><td>1</td></tr><tr><td>Sustainability</td><td>1</td></tr><tr><td>Empire State Building</td><td>1</td></tr><tr><td>I am your father</td><td>1</td></tr><tr><td>Police</td><td>1</td></tr><tr><td>mining</td><td>1</td></tr><tr><td>AWESOME</td><td>1</td></tr><tr><td>brothers</td><td>1</td></tr><tr><td>confusing ending</td><td>1</td></tr><tr><td>shark</td><td>1</td></tr><tr><td>history</td><td>1</td></tr><tr><td>gold</td><td>1</td></tr><tr><td>Kevin Costner</td><td>1</td></tr><tr><td>cruel characters</td><td>1</td></tr><tr><td>Exquisite plotting.</td><td>1</td></tr><tr><td>Disaster</td><td>1</td></tr><tr><td>the catholic church is the most corrupt organization in history</td><td>1</td></tr><tr><td>moldy</td><td>1</td></tr><tr><td>mel gibson</td><td>1</td></tr><tr><td>film-noir</td><td>1</td></tr><tr><td>crucifixion</td><td>1</td></tr><tr><td>mobsters</td><td>1</td></tr><tr><td>Bechdel Test:Fail</td><td>1</td></tr><tr><td>quotable</td><td>1</td></tr><tr><td>imaginary friend</td><td>1</td></tr><tr><td>Tradition!</td><td>1</td></tr><tr><td>computer animation</td><td>1</td></tr><tr><td>free to download</td><td>1</td></tr><tr><td>wine</td><td>1</td></tr><tr><td>golden watch</td><td>1</td></tr><tr><td>butler</td><td>1</td></tr><tr><td>setting:space/space ship</td><td>1</td></tr><tr><td>special effects</td><td>1</td></tr><tr><td>mobster</td><td>1</td></tr><tr><td>black humor</td><td>1</td></tr><tr><td>truth</td><td>1</td></tr><tr><td>Simon and Garfunkel</td><td>1</td></tr><tr><td>Dorothy</td><td>1</td></tr><tr><td>FIGHTING THE SYSTEM</td><td>1</td></tr><tr><td>asylum</td><td>1</td></tr><tr><td>entirely dialogue</td><td>1</td></tr><tr><td>Arthur Miller</td><td>1</td></tr><tr><td>Mozart</td><td>1</td></tr><tr><td>Saturday Night Live</td><td>1</td></tr><tr><td>John Goodman</td><td>1</td></tr><tr><td>political commentary</td><td>1</td></tr><tr><td>drugs & music</td><td>1</td></tr><tr><td>great performances</td><td>1</td></tr><tr><td>goretastic</td><td>1</td></tr><tr><td>representation of children</td><td>1</td></tr><tr><td>the Force</td><td>1</td></tr><tr><td>Chris Klein</td><td>1</td></tr><tr><td>oldie but goodie</td><td>1</td></tr><tr><td>action packed</td><td>1</td></tr><tr><td>Ghosts</td><td>1</td></tr><tr><td>Casey Affleck</td><td>1</td></tr><tr><td>Ninotchka remake</td><td>1</td></tr><tr><td>Suspense</td><td>1</td></tr><tr><td>relaxing</td><td>1</td></tr><tr><td>Norman Bates</td><td>1</td></tr><tr><td>consumerism</td><td>1</td></tr><tr><td>six-fingered man</td><td>1</td></tr><tr><td>MacBeth</td><td>1</td></tr><tr><td>\"\"\"artsy\"\"\"</td><td>1</td></tr><tr><td>younger men</td><td>1</td></tr><tr><td>Las Vegas</td><td>1</td></tr><tr><td>May-December romance</td><td>1</td></tr><tr><td>lawn mower</td><td>1</td></tr><tr><td>austere</td><td>1</td></tr><tr><td>MMA</td><td>1</td></tr><tr><td>tom hardy</td><td>1</td></tr><tr><td>film noir</td><td>1</td></tr><tr><td>Captain Kirk</td><td>1</td></tr><tr><td>Stoner Movie</td><td>1</td></tr><tr><td>Sexual Humor</td><td>1</td></tr><tr><td>cheesy</td><td>1</td></tr><tr><td>Margot Robbie</td><td>1</td></tr><tr><td>nuns</td><td>1</td></tr><tr><td>George Clooney</td><td>1</td></tr><tr><td>Einstein</td><td>1</td></tr><tr><td>1900s</td><td>1</td></tr><tr><td>sofia coppola</td><td>1</td></tr><tr><td>steve carell</td><td>1</td></tr><tr><td>Stand Up</td><td>1</td></tr><tr><td>Mexico</td><td>1</td></tr><tr><td>poor dialogue</td><td>1</td></tr><tr><td>r:some violence</td><td>1</td></tr><tr><td>Indonesia</td><td>1</td></tr><tr><td>ben affleck</td><td>1</td></tr><tr><td>magic</td><td>1</td></tr><tr><td>PTSD</td><td>1</td></tr><tr><td>bad jokes</td><td>1</td></tr><tr><td>tedious</td><td>1</td></tr><tr><td>gun tactics</td><td>1</td></tr><tr><td>not linear</td><td>1</td></tr><tr><td>Justin Timberlake</td><td>1</td></tr><tr><td>father-son relationship</td><td>1</td></tr><tr><td>singletons</td><td>1</td></tr><tr><td>Siam</td><td>1</td></tr><tr><td>dancing</td><td>1</td></tr><tr><td>Slim Pickens</td><td>1</td></tr><tr><td>British gangster</td><td>1</td></tr><tr><td>Eva Green</td><td>1</td></tr><tr><td>Music</td><td>1</td></tr><tr><td>economics</td><td>1</td></tr><tr><td>Great Visuals</td><td>1</td></tr><tr><td>sword fight</td><td>1</td></tr><tr><td>bible</td><td>1</td></tr><tr><td>The Entertainer</td><td>1</td></tr><tr><td>teenagers</td><td>1</td></tr><tr><td>Luc Besson</td><td>1</td></tr><tr><td>unexplained</td><td>1</td></tr></tbody></table></div>"
            ]
          },
          "metadata": {
            "tags": []
          }
        }
      ]
    },
    {
      "cell_type": "code",
      "metadata": {
        "id": "kmoZ7-pfDlVj",
        "colab_type": "code",
        "colab": {}
      },
      "source": [
        "%sql "
      ],
      "execution_count": 0,
      "outputs": []
    },
    {
      "cell_type": "markdown",
      "metadata": {
        "id": "5rMPLU08DlVl",
        "colab_type": "text"
      },
      "source": [
        "## Part3: Spark ALS based approach for training model\n",
        "\n",
        "*   List item\n",
        "*   List item\n",
        "\n",
        "\n",
        "We will use an Spark ML to predict the ratings, so let's reload \"ratings.csv\" using ``sc.textFile`` and then convert it to the form of (user, item, rating) tuples."
      ]
    },
    {
      "cell_type": "code",
      "metadata": {
        "id": "lJdflt9LDlVl",
        "colab_type": "code",
        "colab": {},
        "outputId": "3113cef8-b251-45f2-a722-27cfdd1e70c4"
      },
      "source": [
        "ratings_df.show()"
      ],
      "execution_count": 0,
      "outputs": [
        {
          "output_type": "display_data",
          "data": {
            "text/html": [
              "<style scoped>\n",
              "  .ansiout {\n",
              "    display: block;\n",
              "    unicode-bidi: embed;\n",
              "    white-space: pre-wrap;\n",
              "    word-wrap: break-word;\n",
              "    word-break: break-all;\n",
              "    font-family: \"Source Code Pro\", \"Menlo\", monospace;;\n",
              "    font-size: 13px;\n",
              "    color: #555;\n",
              "    margin-left: 4px;\n",
              "    line-height: 19px;\n",
              "  }\n",
              "</style>\n",
              "<div class=\"ansiout\">+------+-------+------+---------+\n",
              "userId|movieId|rating|timestamp|\n",
              "+------+-------+------+---------+\n",
              "     1|      1|   4.0|964982703|\n",
              "     1|      3|   4.0|964981247|\n",
              "     1|      6|   4.0|964982224|\n",
              "     1|     47|   5.0|964983815|\n",
              "     1|     50|   5.0|964982931|\n",
              "     1|     70|   3.0|964982400|\n",
              "     1|    101|   5.0|964980868|\n",
              "     1|    110|   4.0|964982176|\n",
              "     1|    151|   5.0|964984041|\n",
              "     1|    157|   5.0|964984100|\n",
              "     1|    163|   5.0|964983650|\n",
              "     1|    216|   5.0|964981208|\n",
              "     1|    223|   3.0|964980985|\n",
              "     1|    231|   5.0|964981179|\n",
              "     1|    235|   4.0|964980908|\n",
              "     1|    260|   5.0|964981680|\n",
              "     1|    296|   3.0|964982967|\n",
              "     1|    316|   3.0|964982310|\n",
              "     1|    333|   5.0|964981179|\n",
              "     1|    349|   4.0|964982563|\n",
              "+------+-------+------+---------+\n",
              "only showing top 20 rows\n",
              "\n",
              "</div>"
            ]
          },
          "metadata": {
            "tags": []
          }
        }
      ]
    },
    {
      "cell_type": "code",
      "metadata": {
        "id": "43njP03GDlVn",
        "colab_type": "code",
        "colab": {},
        "outputId": "c8363ce4-1513-4f3d-8dec-998ade55e7b4"
      },
      "source": [
        "movie_ratings=ratings_df.drop('timestamp')\n",
        "movie_ratings.show()"
      ],
      "execution_count": 0,
      "outputs": [
        {
          "output_type": "display_data",
          "data": {
            "text/html": [
              "<style scoped>\n",
              "  .ansiout {\n",
              "    display: block;\n",
              "    unicode-bidi: embed;\n",
              "    white-space: pre-wrap;\n",
              "    word-wrap: break-word;\n",
              "    word-break: break-all;\n",
              "    font-family: \"Source Code Pro\", \"Menlo\", monospace;;\n",
              "    font-size: 13px;\n",
              "    color: #555;\n",
              "    margin-left: 4px;\n",
              "    line-height: 19px;\n",
              "  }\n",
              "</style>\n",
              "<div class=\"ansiout\">+------+-------+------+\n",
              "userId|movieId|rating|\n",
              "+------+-------+------+\n",
              "     1|      1|   4.0|\n",
              "     1|      3|   4.0|\n",
              "     1|      6|   4.0|\n",
              "     1|     47|   5.0|\n",
              "     1|     50|   5.0|\n",
              "     1|     70|   3.0|\n",
              "     1|    101|   5.0|\n",
              "     1|    110|   4.0|\n",
              "     1|    151|   5.0|\n",
              "     1|    157|   5.0|\n",
              "     1|    163|   5.0|\n",
              "     1|    216|   5.0|\n",
              "     1|    223|   3.0|\n",
              "     1|    231|   5.0|\n",
              "     1|    235|   4.0|\n",
              "     1|    260|   5.0|\n",
              "     1|    296|   3.0|\n",
              "     1|    316|   3.0|\n",
              "     1|    333|   5.0|\n",
              "     1|    349|   4.0|\n",
              "+------+-------+------+\n",
              "only showing top 20 rows\n",
              "\n",
              "</div>"
            ]
          },
          "metadata": {
            "tags": []
          }
        }
      ]
    },
    {
      "cell_type": "code",
      "metadata": {
        "id": "Wh_TI6veDlVp",
        "colab_type": "code",
        "colab": {},
        "outputId": "2bdcd3da-77cf-4c37-ae3a-071d2a777b89"
      },
      "source": [
        "# Data type convert\n",
        "from pyspark.sql.types import IntegerType, FloatType\n",
        "movie_ratings = movie_ratings.withColumn(\"userId\", movie_ratings[\"userId\"].cast(IntegerType()))\n",
        "movie_ratings = movie_ratings.withColumn(\"movieId\", movie_ratings[\"movieId\"].cast(IntegerType()))\n",
        "movie_ratings = movie_ratings.withColumn(\"rating\", movie_ratings[\"rating\"].cast(FloatType()))"
      ],
      "execution_count": 0,
      "outputs": [
        {
          "output_type": "display_data",
          "data": {
            "text/html": [
              "<style scoped>\n",
              "  .ansiout {\n",
              "    display: block;\n",
              "    unicode-bidi: embed;\n",
              "    white-space: pre-wrap;\n",
              "    word-wrap: break-word;\n",
              "    word-break: break-all;\n",
              "    font-family: \"Source Code Pro\", \"Menlo\", monospace;;\n",
              "    font-size: 13px;\n",
              "    color: #555;\n",
              "    margin-left: 4px;\n",
              "    line-height: 19px;\n",
              "  }\n",
              "</style>\n",
              "<div class=\"ansiout\"></div>"
            ]
          },
          "metadata": {
            "tags": []
          }
        }
      ]
    },
    {
      "cell_type": "code",
      "metadata": {
        "id": "8gTANxMMDlVr",
        "colab_type": "code",
        "colab": {},
        "outputId": "2f47bdf5-0e8c-4e32-da0f-c3de51563cfe"
      },
      "source": [
        "movie_ratings.show()"
      ],
      "execution_count": 0,
      "outputs": [
        {
          "output_type": "display_data",
          "data": {
            "text/html": [
              "<style scoped>\n",
              "  .ansiout {\n",
              "    display: block;\n",
              "    unicode-bidi: embed;\n",
              "    white-space: pre-wrap;\n",
              "    word-wrap: break-word;\n",
              "    word-break: break-all;\n",
              "    font-family: \"Source Code Pro\", \"Menlo\", monospace;;\n",
              "    font-size: 13px;\n",
              "    color: #555;\n",
              "    margin-left: 4px;\n",
              "    line-height: 19px;\n",
              "  }\n",
              "</style>\n",
              "<div class=\"ansiout\">+------+-------+------+\n",
              "userId|movieId|rating|\n",
              "+------+-------+------+\n",
              "     1|      1|   4.0|\n",
              "     1|      3|   4.0|\n",
              "     1|      6|   4.0|\n",
              "     1|     47|   5.0|\n",
              "     1|     50|   5.0|\n",
              "     1|     70|   3.0|\n",
              "     1|    101|   5.0|\n",
              "     1|    110|   4.0|\n",
              "     1|    151|   5.0|\n",
              "     1|    157|   5.0|\n",
              "     1|    163|   5.0|\n",
              "     1|    216|   5.0|\n",
              "     1|    223|   3.0|\n",
              "     1|    231|   5.0|\n",
              "     1|    235|   4.0|\n",
              "     1|    260|   5.0|\n",
              "     1|    296|   3.0|\n",
              "     1|    316|   3.0|\n",
              "     1|    333|   5.0|\n",
              "     1|    349|   4.0|\n",
              "+------+-------+------+\n",
              "only showing top 20 rows\n",
              "\n",
              "</div>"
            ]
          },
          "metadata": {
            "tags": []
          }
        }
      ]
    },
    {
      "cell_type": "markdown",
      "metadata": {
        "id": "pNf_Qf_jDlVt",
        "colab_type": "text"
      },
      "source": [
        "\n",
        "\n",
        "```\n",
        "# This is formatted as code\n",
        "```\n",
        "\n",
        "## Part4: ALS Model Selection and Evaluation\n",
        "\n",
        "With the ALS model, we can use a grid search to find the optimal hyperparameters."
      ]
    },
    {
      "cell_type": "code",
      "metadata": {
        "id": "rHL0cauhDlVu",
        "colab_type": "code",
        "colab": {},
        "outputId": "27353fc9-34c8-49cc-b858-1aa5d0dcd854"
      },
      "source": [
        "# import package\n",
        "from pyspark.ml.evaluation import RegressionEvaluator\n",
        "from pyspark.ml.recommendation import ALS\n",
        "from pyspark.ml.tuning import CrossValidator,ParamGridBuilder"
      ],
      "execution_count": 0,
      "outputs": [
        {
          "output_type": "display_data",
          "data": {
            "text/html": [
              "<style scoped>\n",
              "  .ansiout {\n",
              "    display: block;\n",
              "    unicode-bidi: embed;\n",
              "    white-space: pre-wrap;\n",
              "    word-wrap: break-word;\n",
              "    word-break: break-all;\n",
              "    font-family: \"Source Code Pro\", \"Menlo\", monospace;;\n",
              "    font-size: 13px;\n",
              "    color: #555;\n",
              "    margin-left: 4px;\n",
              "    line-height: 19px;\n",
              "  }\n",
              "</style>\n",
              "<div class=\"ansiout\"></div>"
            ]
          },
          "metadata": {
            "tags": []
          }
        }
      ]
    },
    {
      "cell_type": "code",
      "metadata": {
        "id": "WLDHizwWDlVy",
        "colab_type": "code",
        "colab": {},
        "outputId": "b11d16c7-f91b-4bbc-fc27-1c07f7c82207"
      },
      "source": [
        "#Create test and train set\n",
        "(training,test)=movie_ratings.randomSplit([0.8,0.2])"
      ],
      "execution_count": 0,
      "outputs": [
        {
          "output_type": "display_data",
          "data": {
            "text/html": [
              "<style scoped>\n",
              "  .ansiout {\n",
              "    display: block;\n",
              "    unicode-bidi: embed;\n",
              "    white-space: pre-wrap;\n",
              "    word-wrap: break-word;\n",
              "    word-break: break-all;\n",
              "    font-family: \"Source Code Pro\", \"Menlo\", monospace;;\n",
              "    font-size: 13px;\n",
              "    color: #555;\n",
              "    margin-left: 4px;\n",
              "    line-height: 19px;\n",
              "  }\n",
              "</style>\n",
              "<div class=\"ansiout\"></div>"
            ]
          },
          "metadata": {
            "tags": []
          }
        }
      ]
    },
    {
      "cell_type": "code",
      "metadata": {
        "id": "iGCtp0TiDlV0",
        "colab_type": "code",
        "colab": {},
        "outputId": "5ab5242d-9624-4b73-8e7a-8a945cbd01e7"
      },
      "source": [
        "#Create ALS model\n",
        "als = ALS(userCol=\"userId\", itemCol=\"movieId\", ratingCol=\"rating\",\n",
        "          coldStartStrategy=\"drop\")"
      ],
      "execution_count": 0,
      "outputs": [
        {
          "output_type": "display_data",
          "data": {
            "text/html": [
              "<style scoped>\n",
              "  .ansiout {\n",
              "    display: block;\n",
              "    unicode-bidi: embed;\n",
              "    white-space: pre-wrap;\n",
              "    word-wrap: break-word;\n",
              "    word-break: break-all;\n",
              "    font-family: \"Source Code Pro\", \"Menlo\", monospace;;\n",
              "    font-size: 13px;\n",
              "    color: #555;\n",
              "    margin-left: 4px;\n",
              "    line-height: 19px;\n",
              "  }\n",
              "</style>\n",
              "<div class=\"ansiout\"></div>"
            ]
          },
          "metadata": {
            "tags": []
          }
        }
      ]
    },
    {
      "cell_type": "code",
      "metadata": {
        "id": "1OFWWdaNDlV3",
        "colab_type": "code",
        "colab": {},
        "outputId": "84b7e3af-d470-4964-f147-27c15456bbde"
      },
      "source": [
        "#Tune model using ParamGridBuilder\n",
        "param_grid = ParamGridBuilder() \\\n",
        "            .addGrid(als.rank, [10, 20]) \\\n",
        "            .addGrid(als.maxIter, [5, 10]) \\\n",
        "            .addGrid(als.regParam, [0.01]) \\\n",
        "            .build()"
      ],
      "execution_count": 0,
      "outputs": [
        {
          "output_type": "display_data",
          "data": {
            "text/html": [
              "<style scoped>\n",
              "  .ansiout {\n",
              "    display: block;\n",
              "    unicode-bidi: embed;\n",
              "    white-space: pre-wrap;\n",
              "    word-wrap: break-word;\n",
              "    word-break: break-all;\n",
              "    font-family: \"Source Code Pro\", \"Menlo\", monospace;;\n",
              "    font-size: 13px;\n",
              "    color: #555;\n",
              "    margin-left: 4px;\n",
              "    line-height: 19px;\n",
              "  }\n",
              "</style>\n",
              "<div class=\"ansiout\"></div>"
            ]
          },
          "metadata": {
            "tags": []
          }
        }
      ]
    },
    {
      "cell_type": "code",
      "metadata": {
        "id": "IJObAW5wDlV6",
        "colab_type": "code",
        "colab": {},
        "outputId": "14782d37-bd1d-403b-b3d7-cf59e0ad6964"
      },
      "source": [
        "# Define evaluator as RMSE\n",
        "RMSE_evaluator= RegressionEvaluator(metricName=\"rmse\", labelCol=\"rating\", predictionCol=\"prediction\") \n",
        "print (\"Num models to be tested: \", len(param_grid))"
      ],
      "execution_count": 0,
      "outputs": [
        {
          "output_type": "display_data",
          "data": {
            "text/html": [
              "<style scoped>\n",
              "  .ansiout {\n",
              "    display: block;\n",
              "    unicode-bidi: embed;\n",
              "    white-space: pre-wrap;\n",
              "    word-wrap: break-word;\n",
              "    word-break: break-all;\n",
              "    font-family: \"Source Code Pro\", \"Menlo\", monospace;;\n",
              "    font-size: 13px;\n",
              "    color: #555;\n",
              "    margin-left: 4px;\n",
              "    line-height: 19px;\n",
              "  }\n",
              "</style>\n",
              "<div class=\"ansiout\">Num models to be tested:  4\n",
              "</div>"
            ]
          },
          "metadata": {
            "tags": []
          }
        }
      ]
    },
    {
      "cell_type": "code",
      "metadata": {
        "id": "HVAAn-NADlV8",
        "colab_type": "code",
        "colab": {},
        "outputId": "3920662a-3793-44ae-a221-7e8de0c115d2"
      },
      "source": [
        "# Build Cross validation \n",
        "crossval = CrossValidator(estimator=als,\n",
        "                          estimatorParamMaps=param_grid,\n",
        "                          evaluator=RMSE_evaluator,\n",
        "                          numFolds=2)"
      ],
      "execution_count": 0,
      "outputs": [
        {
          "output_type": "display_data",
          "data": {
            "text/html": [
              "<style scoped>\n",
              "  .ansiout {\n",
              "    display: block;\n",
              "    unicode-bidi: embed;\n",
              "    white-space: pre-wrap;\n",
              "    word-wrap: break-word;\n",
              "    word-break: break-all;\n",
              "    font-family: \"Source Code Pro\", \"Menlo\", monospace;;\n",
              "    font-size: 13px;\n",
              "    color: #555;\n",
              "    margin-left: 4px;\n",
              "    line-height: 19px;\n",
              "  }\n",
              "</style>\n",
              "<div class=\"ansiout\"></div>"
            ]
          },
          "metadata": {
            "tags": []
          }
        }
      ]
    },
    {
      "cell_type": "code",
      "metadata": {
        "id": "s0Mz4lEmDlV-",
        "colab_type": "code",
        "colab": {},
        "outputId": "0d5c9c06-4ce4-4992-c7a5-98a4e9886f4b"
      },
      "source": [
        "#Fit ALS model to training data\n",
        "cvModel = crossval.fit(training)"
      ],
      "execution_count": 0,
      "outputs": [
        {
          "output_type": "display_data",
          "data": {
            "text/html": [
              "<style scoped>\n",
              "  .ansiout {\n",
              "    display: block;\n",
              "    unicode-bidi: embed;\n",
              "    white-space: pre-wrap;\n",
              "    word-wrap: break-word;\n",
              "    word-break: break-all;\n",
              "    font-family: \"Source Code Pro\", \"Menlo\", monospace;;\n",
              "    font-size: 13px;\n",
              "    color: #555;\n",
              "    margin-left: 4px;\n",
              "    line-height: 19px;\n",
              "  }\n",
              "</style>\n",
              "<div class=\"ansiout\">/databricks/spark/python/pyspark/ml/util.py:791: UserWarning: Can not find mlflow. To enable mlflow logging, install MLflow library from PyPi.\n",
              "  warnings.warn(_MLflowInstrumentation._NO_MLFLOW_WARNING)\n",
              "</div>"
            ]
          },
          "metadata": {
            "tags": []
          }
        }
      ]
    },
    {
      "cell_type": "code",
      "metadata": {
        "id": "eKokw2YODlWA",
        "colab_type": "code",
        "colab": {},
        "outputId": "aab61b13-27bf-445d-c8d5-ac1ae89ec597"
      },
      "source": [
        "#Extract best model from the tuning exercise using ParamGridBuilder\n",
        "best_model = cvModel.bestModel"
      ],
      "execution_count": 0,
      "outputs": [
        {
          "output_type": "display_data",
          "data": {
            "text/html": [
              "<style scoped>\n",
              "  .ansiout {\n",
              "    display: block;\n",
              "    unicode-bidi: embed;\n",
              "    white-space: pre-wrap;\n",
              "    word-wrap: break-word;\n",
              "    word-break: break-all;\n",
              "    font-family: \"Source Code Pro\", \"Menlo\", monospace;;\n",
              "    font-size: 13px;\n",
              "    color: #555;\n",
              "    margin-left: 4px;\n",
              "    line-height: 19px;\n",
              "  }\n",
              "</style>\n",
              "<div class=\"ansiout\"></div>"
            ]
          },
          "metadata": {
            "tags": []
          }
        }
      ]
    },
    {
      "cell_type": "markdown",
      "metadata": {
        "id": "B4L6erwUDlWG",
        "colab_type": "text"
      },
      "source": [
        "*italicized text*### Model testing\n",
        "And finally, make a prediction and check the testing error."
      ]
    },
    {
      "cell_type": "code",
      "metadata": {
        "id": "kxuPeLx6DlWG",
        "colab_type": "code",
        "colab": {},
        "outputId": "743d38f3-664a-41ff-efc8-aa3ed08b058a"
      },
      "source": [
        "#Generate predictions and evaluate using RMSE\n",
        "predictions=best_model.transform(test)\n",
        "rmse = RMSE_evaluator.evaluate(predictions)"
      ],
      "execution_count": 0,
      "outputs": [
        {
          "output_type": "display_data",
          "data": {
            "text/html": [
              "<style scoped>\n",
              "  .ansiout {\n",
              "    display: block;\n",
              "    unicode-bidi: embed;\n",
              "    white-space: pre-wrap;\n",
              "    word-wrap: break-word;\n",
              "    word-break: break-all;\n",
              "    font-family: \"Source Code Pro\", \"Menlo\", monospace;;\n",
              "    font-size: 13px;\n",
              "    color: #555;\n",
              "    margin-left: 4px;\n",
              "    line-height: 19px;\n",
              "  }\n",
              "</style>\n",
              "<div class=\"ansiout\"></div>"
            ]
          },
          "metadata": {
            "tags": []
          }
        }
      ]
    },
    {
      "cell_type": "code",
      "metadata": {
        "id": "_mWFydN8DlWI",
        "colab_type": "code",
        "colab": {},
        "outputId": "96e032d8-84e4-45c8-dd65-81927a3f7e82"
      },
      "source": [
        "#Print evaluation metrics and model parameters\n",
        "print (\"RMSE = \"+str(rmse))\n",
        "print (\"**Best Model**\")\n",
        "print (\" Rank:\" + str(best_model.rank)), \n",
        "print (\" MaxIter:\" + str(best_model._java_obj.parent().getMaxIter())), \n",
        "print (\" RegParam:\" + str(best_model._java_obj.parent().getRegParam())), "
      ],
      "execution_count": 0,
      "outputs": [
        {
          "output_type": "display_data",
          "data": {
            "text/html": [
              "<style scoped>\n",
              "  .ansiout {\n",
              "    display: block;\n",
              "    unicode-bidi: embed;\n",
              "    white-space: pre-wrap;\n",
              "    word-wrap: break-word;\n",
              "    word-break: break-all;\n",
              "    font-family: \"Source Code Pro\", \"Menlo\", monospace;;\n",
              "    font-size: 13px;\n",
              "    color: #555;\n",
              "    margin-left: 4px;\n",
              "    line-height: 19px;\n",
              "  }\n",
              "</style>\n",
              "<div class=\"ansiout\">RMSE = 1.0746943969477765\n",
              "**Best Model**\n",
              " Rank:10\n",
              " MaxIter:5\n",
              " RegParam:0.01\n",
              "Out[26]: (None,)</div>"
            ]
          },
          "metadata": {
            "tags": []
          }
        }
      ]
    },
    {
      "cell_type": "code",
      "metadata": {
        "id": "r7VmJ3QsDlWK",
        "colab_type": "code",
        "colab": {},
        "outputId": "b4084bbc-8c35-418c-efe6-0845ed7835d8"
      },
      "source": [
        "predictions.show()"
      ],
      "execution_count": 0,
      "outputs": [
        {
          "output_type": "display_data",
          "data": {
            "text/html": [
              "<style scoped>\n",
              "  .ansiout {\n",
              "    display: block;\n",
              "    unicode-bidi: embed;\n",
              "    white-space: pre-wrap;\n",
              "    word-wrap: break-word;\n",
              "    word-break: break-all;\n",
              "    font-family: \"Source Code Pro\", \"Menlo\", monospace;;\n",
              "    font-size: 13px;\n",
              "    color: #555;\n",
              "    margin-left: 4px;\n",
              "    line-height: 19px;\n",
              "  }\n",
              "</style>\n",
              "<div class=\"ansiout\">+------+-------+------+----------+\n",
              "userId|movieId|rating|prediction|\n",
              "+------+-------+------+----------+\n",
              "   385|    471|   4.0| 3.1902223|\n",
              "   436|    471|   3.0| 4.0343404|\n",
              "   602|    471|   4.0| 4.8920736|\n",
              "   474|    471|   3.0| 2.8079236|\n",
              "    57|    471|   3.0| 4.4197097|\n",
              "   176|    471|   5.0| 3.2089114|\n",
              "   136|    471|   4.0| 3.9227624|\n",
              "   273|    471|   5.0| 5.3523006|\n",
              "   414|    471|   5.0|  4.743995|\n",
              "   492|    833|   4.0| 0.8356726|\n",
              "    47|   1088|   4.0| 2.6536732|\n",
              "   489|   1088|   4.5| 2.9125314|\n",
              "   226|   1088|   1.0|  3.660724|\n",
              "   188|   1088|   4.0|  4.722965|\n",
              "    42|   1088|   3.0| 3.7973669|\n",
              "    19|   1238|   3.0| 3.0399346|\n",
              "   216|   1238|   5.0|  3.176804|\n",
              "   469|   1238|   5.0| 4.6948714|\n",
              "   325|   1342|   4.0| 3.1341913|\n",
              "   425|   1342|   3.5| 1.9732206|\n",
              "+------+-------+------+----------+\n",
              "only showing top 20 rows\n",
              "\n",
              "</div>"
            ]
          },
          "metadata": {
            "tags": []
          }
        }
      ]
    },
    {
      "cell_type": "markdown",
      "metadata": {
        "id": "dNCcI7CUDlWL",
        "colab_type": "text"
      },
      "source": [
        "### Model apply and see the performance"
      ]
    },
    {
      "cell_type": "code",
      "metadata": {
        "id": "vpjeM7SiDlWM",
        "colab_type": "code",
        "colab": {},
        "outputId": "7ee9ad79-997f-4d6e-a381-4fb4f71e169f"
      },
      "source": [
        "alldata=best_model.transform(movie_ratings)\n",
        "rmse = RMSE_evaluator.evaluate(alldata)\n",
        "print (\"RMSE = \"+str(rmse))"
      ],
      "execution_count": 0,
      "outputs": [
        {
          "output_type": "display_data",
          "data": {
            "text/html": [
              "<style scoped>\n",
              "  .ansiout {\n",
              "    display: block;\n",
              "    unicode-bidi: embed;\n",
              "    white-space: pre-wrap;\n",
              "    word-wrap: break-word;\n",
              "    word-break: break-all;\n",
              "    font-family: \"Source Code Pro\", \"Menlo\", monospace;;\n",
              "    font-size: 13px;\n",
              "    color: #555;\n",
              "    margin-left: 4px;\n",
              "    line-height: 19px;\n",
              "  }\n",
              "</style>\n",
              "<div class=\"ansiout\">RMSE = 0.6555007933959287\n",
              "</div>"
            ]
          },
          "metadata": {
            "tags": []
          }
        }
      ]
    },
    {
      "cell_type": "code",
      "metadata": {
        "id": "Ar8LIT9sDlWO",
        "colab_type": "code",
        "colab": {},
        "outputId": "b7368c0d-6462-420c-e86b-448dbbc0c1ba"
      },
      "source": [
        "alldata.registerTempTable(\"alldata\")"
      ],
      "execution_count": 0,
      "outputs": [
        {
          "output_type": "display_data",
          "data": {
            "text/html": [
              "<style scoped>\n",
              "  .ansiout {\n",
              "    display: block;\n",
              "    unicode-bidi: embed;\n",
              "    white-space: pre-wrap;\n",
              "    word-wrap: break-word;\n",
              "    word-break: break-all;\n",
              "    font-family: \"Source Code Pro\", \"Menlo\", monospace;;\n",
              "    font-size: 13px;\n",
              "    color: #555;\n",
              "    margin-left: 4px;\n",
              "    line-height: 19px;\n",
              "  }\n",
              "</style>\n",
              "<div class=\"ansiout\"></div>"
            ]
          },
          "metadata": {
            "tags": []
          }
        }
      ]
    },
    {
      "cell_type": "code",
      "metadata": {
        "id": "Bh9yzxKpDlWQ",
        "colab_type": "code",
        "colab": {},
        "outputId": "25d3ed75-980b-4963-ade7-864dbcdf9530"
      },
      "source": [
        "%sql select * from alldata"
      ],
      "execution_count": 0,
      "outputs": [
        {
          "output_type": "display_data",
          "data": {
            "text/html": [
              "<style scoped>\n",
              "  .table-result-container {\n",
              "    max-height: 300px;\n",
              "    overflow: auto;\n",
              "  }\n",
              "  table, th, td {\n",
              "    border: 1px solid black;\n",
              "    border-collapse: collapse;\n",
              "  }\n",
              "  th, td {\n",
              "    padding: 5px;\n",
              "  }\n",
              "  th {\n",
              "    text-align: left;\n",
              "  }\n",
              "</style><div class='table-result-container'><table class='table-result'><thead style='background-color: white'><tr><th>userId</th><th>movieId</th><th>rating</th><th>prediction</th></tr></thead><tbody><tr><td>191</td><td>148</td><td>5.0</td><td>5.3208623</td></tr><tr><td>133</td><td>471</td><td>4.0</td><td>3.916665</td></tr><tr><td>597</td><td>471</td><td>2.0</td><td>4.0604944</td></tr><tr><td>385</td><td>471</td><td>4.0</td><td>3.1902223</td></tr><tr><td>436</td><td>471</td><td>3.0</td><td>4.0343404</td></tr><tr><td>602</td><td>471</td><td>4.0</td><td>4.8920736</td></tr><tr><td>91</td><td>471</td><td>1.0</td><td>2.4611886</td></tr><tr><td>409</td><td>471</td><td>3.0</td><td>3.886233</td></tr><tr><td>372</td><td>471</td><td>3.0</td><td>2.3894331</td></tr><tr><td>599</td><td>471</td><td>2.5</td><td>3.1700532</td></tr><tr><td>603</td><td>471</td><td>4.0</td><td>3.4137173</td></tr><tr><td>182</td><td>471</td><td>4.5</td><td>3.6109521</td></tr><tr><td>218</td><td>471</td><td>4.0</td><td>4.025479</td></tr><tr><td>474</td><td>471</td><td>3.0</td><td>2.8079236</td></tr><tr><td>500</td><td>471</td><td>1.0</td><td>1.6670866</td></tr><tr><td>57</td><td>471</td><td>3.0</td><td>4.4197097</td></tr><tr><td>462</td><td>471</td><td>2.5</td><td>3.2786694</td></tr><tr><td>387</td><td>471</td><td>3.0</td><td>3.6269004</td></tr><tr><td>610</td><td>471</td><td>4.0</td><td>3.5577626</td></tr><tr><td>217</td><td>471</td><td>2.0</td><td>2.296711</td></tr><tr><td>555</td><td>471</td><td>3.0</td><td>3.08586</td></tr><tr><td>176</td><td>471</td><td>5.0</td><td>3.2089114</td></tr><tr><td>520</td><td>471</td><td>5.0</td><td>4.1096087</td></tr><tr><td>136</td><td>471</td><td>4.0</td><td>3.9227624</td></tr><tr><td>171</td><td>471</td><td>3.0</td><td>3.1206248</td></tr><tr><td>273</td><td>471</td><td>5.0</td><td>5.3523006</td></tr><tr><td>448</td><td>471</td><td>4.0</td><td>2.946295</td></tr><tr><td>312</td><td>471</td><td>4.0</td><td>4.329278</td></tr><tr><td>216</td><td>471</td><td>3.0</td><td>3.5344622</td></tr><tr><td>411</td><td>471</td><td>4.0</td><td>3.509822</td></tr><tr><td>287</td><td>471</td><td>4.5</td><td>4.5716405</td></tr><tr><td>32</td><td>471</td><td>3.0</td><td>3.192408</td></tr><tr><td>469</td><td>471</td><td>5.0</td><td>3.788267</td></tr><tr><td>414</td><td>471</td><td>5.0</td><td>4.743995</td></tr><tr><td>608</td><td>471</td><td>1.5</td><td>1.9294959</td></tr><tr><td>426</td><td>471</td><td>5.0</td><td>4.982261</td></tr><tr><td>541</td><td>471</td><td>3.0</td><td>2.6116447</td></tr><tr><td>260</td><td>471</td><td>4.5</td><td>4.0758452</td></tr><tr><td>373</td><td>471</td><td>5.0</td><td>5.033858</td></tr><tr><td>357</td><td>471</td><td>3.5</td><td>3.4038715</td></tr><tr><td>104</td><td>471</td><td>4.5</td><td>3.1619394</td></tr><tr><td>44</td><td>833</td><td>2.0</td><td>1.9642756</td></tr><tr><td>599</td><td>833</td><td>1.5</td><td>1.4770055</td></tr><tr><td>609</td><td>833</td><td>3.0</td><td>2.8991628</td></tr><tr><td>307</td><td>833</td><td>1.0</td><td>1.0493337</td></tr><tr><td>492</td><td>833</td><td>4.0</td><td>0.8356726</td></tr><tr><td>608</td><td>833</td><td>0.5</td><td>0.45984435</td></tr><tr><td>463</td><td>1088</td><td>3.5</td><td>3.5583477</td></tr><tr><td>159</td><td>1088</td><td>4.0</td><td>4.02531</td></tr><tr><td>606</td><td>1088</td><td>3.0</td><td>3.1512077</td></tr><tr><td>599</td><td>1088</td><td>2.5</td><td>2.9037588</td></tr><tr><td>111</td><td>1088</td><td>3.0</td><td>3.6071506</td></tr><tr><td>47</td><td>1088</td><td>4.0</td><td>2.6536732</td></tr><tr><td>177</td><td>1088</td><td>3.5</td><td>3.2158246</td></tr><tr><td>132</td><td>1088</td><td>4.0</td><td>3.0852616</td></tr><tr><td>474</td><td>1088</td><td>3.5</td><td>3.0420575</td></tr><tr><td>20</td><td>1088</td><td>4.5</td><td>3.5724986</td></tr><tr><td>169</td><td>1088</td><td>4.5</td><td>4.401288</td></tr><tr><td>479</td><td>1088</td><td>4.0</td><td>3.401851</td></tr><tr><td>64</td><td>1088</td><td>4.0</td><td>3.5862129</td></tr><tr><td>554</td><td>1088</td><td>5.0</td><td>4.44126</td></tr><tr><td>41</td><td>1088</td><td>1.5</td><td>2.591677</td></tr><tr><td>563</td><td>1088</td><td>4.0</td><td>3.4094398</td></tr><tr><td>489</td><td>1088</td><td>4.5</td><td>2.9125314</td></tr><tr><td>286</td><td>1088</td><td>3.5</td><td>4.1004806</td></tr><tr><td>387</td><td>1088</td><td>1.5</td><td>2.855915</td></tr><tr><td>381</td><td>1088</td><td>3.5</td><td>3.7334356</td></tr><tr><td>583</td><td>1088</td><td>3.5</td><td>3.082087</td></tr><tr><td>594</td><td>1088</td><td>4.5</td><td>4.572848</td></tr><tr><td>307</td><td>1088</td><td>3.0</td><td>2.8986292</td></tr><tr><td>555</td><td>1088</td><td>4.0</td><td>3.762129</td></tr><tr><td>84</td><td>1088</td><td>3.0</td><td>3.1707106</td></tr><tr><td>51</td><td>1088</td><td>4.0</td><td>3.5413625</td></tr><tr><td>391</td><td>1088</td><td>1.0</td><td>2.3603868</td></tr><tr><td>509</td><td>1088</td><td>3.0</td><td>3.1086438</td></tr><tr><td>10</td><td>1088</td><td>3.0</td><td>2.7886214</td></tr><tr><td>226</td><td>1088</td><td>1.0</td><td>3.660724</td></tr><tr><td>221</td><td>1088</td><td>3.0</td><td>3.3587172</td></tr><tr><td>414</td><td>1088</td><td>3.0</td><td>3.3067443</td></tr><tr><td>200</td><td>1088</td><td>4.0</td><td>3.7927837</td></tr><tr><td>188</td><td>1088</td><td>4.0</td><td>4.722965</td></tr><tr><td>68</td><td>1088</td><td>3.5</td><td>3.506883</td></tr><tr><td>525</td><td>1088</td><td>4.5</td><td>3.5468173</td></tr><tr><td>116</td><td>1088</td><td>4.5</td><td>4.467802</td></tr><tr><td>600</td><td>1088</td><td>3.5</td><td>2.3419719</td></tr><tr><td>42</td><td>1088</td><td>3.0</td><td>3.7973669</td></tr><tr><td>104</td><td>1088</td><td>3.0</td><td>3.4655204</td></tr><tr><td>483</td><td>1088</td><td>3.0</td><td>3.7264085</td></tr><tr><td>517</td><td>1088</td><td>1.0</td><td>2.4312377</td></tr><tr><td>385</td><td>1238</td><td>3.0</td><td>3.053997</td></tr><tr><td>587</td><td>1238</td><td>4.0</td><td>4.130641</td></tr><tr><td>325</td><td>1238</td><td>4.0</td><td>4.134736</td></tr><tr><td>268</td><td>1238</td><td>5.0</td><td>5.1153917</td></tr><tr><td>19</td><td>1238</td><td>3.0</td><td>3.0399346</td></tr><tr><td>462</td><td>1238</td><td>3.5</td><td>3.653516</td></tr><tr><td>216</td><td>1238</td><td>5.0</td><td>3.176804</td></tr><tr><td>156</td><td>1238</td><td>4.0</td><td>3.985336</td></tr><tr><td>469</td><td>1238</td><td>5.0</td><td>4.6948714</td></tr><tr><td>223</td><td>1342</td><td>1.0</td><td>0.78567654</td></tr><tr><td>599</td><td>1342</td><td>2.5</td><td>2.6340344</td></tr><tr><td>325</td><td>1342</td><td>4.0</td><td>3.1341913</td></tr><tr><td>19</td><td>1342</td><td>2.0</td><td>2.2003596</td></tr><tr><td>425</td><td>1342</td><td>3.5</td><td>1.9732206</td></tr><tr><td>387</td><td>1342</td><td>3.0</td><td>2.8786001</td></tr><tr><td>503</td><td>1342</td><td>1.0</td><td>1.2139052</td></tr><tr><td>307</td><td>1342</td><td>2.0</td><td>2.061759</td></tr><tr><td>312</td><td>1342</td><td>4.0</td><td>3.5683453</td></tr><tr><td>608</td><td>1342</td><td>2.0</td><td>2.1532648</td></tr><tr><td>600</td><td>1342</td><td>2.5</td><td>2.573633</td></tr><tr><td>137</td><td>1580</td><td>3.5</td><td>2.9997633</td></tr><tr><td>580</td><td>1580</td><td>4.0</td><td>3.5042713</td></tr><tr><td>322</td><td>1580</td><td>3.5</td><td>3.5243342</td></tr><tr><td>593</td><td>1580</td><td>1.5</td><td>2.3027382</td></tr><tr><td>597</td><td>1580</td><td>3.0</td><td>3.714849</td></tr><tr><td>155</td><td>1580</td><td>4.0</td><td>4.334693</td></tr><tr><td>34</td><td>1580</td><td>2.5</td><td>2.7814455</td></tr><tr><td>368</td><td>1580</td><td>3.0</td><td>2.8654363</td></tr><tr><td>115</td><td>1580</td><td>4.0</td><td>4.0522566</td></tr><tr><td>28</td><td>1580</td><td>3.0</td><td>3.0434904</td></tr><tr><td>183</td><td>1580</td><td>4.0</td><td>3.6820867</td></tr><tr><td>587</td><td>1580</td><td>4.0</td><td>3.7162719</td></tr><tr><td>27</td><td>1580</td><td>3.0</td><td>3.3217525</td></tr><tr><td>577</td><td>1580</td><td>3.0</td><td>3.4925365</td></tr><tr><td>606</td><td>1580</td><td>2.5</td><td>3.0084841</td></tr><tr><td>91</td><td>1580</td><td>3.5</td><td>3.3748655</td></tr><tr><td>330</td><td>1580</td><td>4.0</td><td>3.2089097</td></tr><tr><td>230</td><td>1580</td><td>3.5</td><td>3.2200701</td></tr><tr><td>93</td><td>1580</td><td>5.0</td><td>4.5592194</td></tr><tr><td>232</td><td>1580</td><td>3.5</td><td>3.6281984</td></tr><tr><td>233</td><td>1580</td><td>3.0</td><td>2.7680452</td></tr><tr><td>367</td><td>1580</td><td>4.0</td><td>3.3452492</td></tr><tr><td>599</td><td>1580</td><td>3.0</td><td>2.963436</td></tr><tr><td>111</td><td>1580</td><td>3.0</td><td>3.578093</td></tr><tr><td>47</td><td>1580</td><td>1.5</td><td>2.814306</td></tr><tr><td>140</td><td>1580</td><td>3.0</td><td>3.0569177</td></tr><tr><td>177</td><td>1580</td><td>3.5</td><td>3.0836565</td></tr><tr><td>416</td><td>1580</td><td>2.0</td><td>1.8009171</td></tr><tr><td>355</td><td>1580</td><td>4.0</td><td>3.4249718</td></tr><tr><td>603</td><td>1580</td><td>4.0</td><td>2.8586576</td></tr><tr><td>1</td><td>1580</td><td>3.0</td><td>4.135856</td></tr><tr><td>274</td><td>1580</td><td>3.0</td><td>3.5751975</td></tr><tr><td>182</td><td>1580</td><td>2.5</td><td>3.242614</td></tr><tr><td>280</td><td>1580</td><td>3.5</td><td>3.6362245</td></tr><tr><td>474</td><td>1580</td><td>4.5</td><td>3.1142106</td></tr><tr><td>164</td><td>1580</td><td>5.0</td><td>4.192818</td></tr><tr><td>169</td><td>1580</td><td>3.5</td><td>4.438897</td></tr><tr><td>500</td><td>1580</td><td>4.0</td><td>2.8504312</td></tr><tr><td>283</td><td>1580</td><td>4.0</td><td>3.227838</td></tr><tr><td>359</td><td>1580</td><td>2.0</td><td>2.2742286</td></tr><tr><td>57</td><td>1580</td><td>4.0</td><td>3.271472</td></tr><tr><td>570</td><td>1580</td><td>4.0</td><td>3.36377</td></tr><tr><td>292</td><td>1580</td><td>4.0</td><td>3.8104687</td></tr><tr><td>339</td><td>1580</td><td>2.0</td><td>3.6506524</td></tr><tr><td>559</td><td>1580</td><td>5.0</td><td>4.094793</td></tr><tr><td>452</td><td>1580</td><td>4.0</td><td>4.1972027</td></tr><tr><td>48</td><td>1580</td><td>5.0</td><td>3.7759247</td></tr><tr><td>266</td><td>1580</td><td>3.0</td><td>3.3209665</td></tr><tr><td>268</td><td>1580</td><td>3.0</td><td>2.834013</td></tr><tr><td>19</td><td>1580</td><td>2.0</td><td>3.02495</td></tr><tr><td>542</td><td>1580</td><td>3.5</td><td>4.1935225</td></tr><tr><td>560</td><td>1580</td><td>4.0</td><td>3.5335257</td></tr><tr><td>415</td><td>1580</td><td>3.5</td><td>3.5657845</td></tr><tr><td>64</td><td>1580</td><td>3.5</td><td>3.5765502</td></tr><tr><td>579</td><td>1580</td><td>4.0</td><td>3.472731</td></tr><tr><td>154</td><td>1580</td><td>3.5</td><td>3.6446843</td></tr><tr><td>425</td><td>1580</td><td>3.5</td><td>3.531627</td></tr><tr><td>484</td><td>1580</td><td>3.5</td><td>4.1013985</td></tr><tr><td>607</td><td>1580</td><td>3.0</td><td>2.9288046</td></tr><tr><td>489</td><td>1580</td><td>3.0</td><td>2.7154453</td></tr><tr><td>590</td><td>1580</td><td>3.5</td><td>3.3150775</td></tr><tr><td>318</td><td>1580</td><td>4.0</td><td>3.641623</td></tr><tr><td>462</td><td>1580</td><td>4.0</td><td>3.1607614</td></tr><tr><td>202</td><td>1580</td><td>4.0</td><td>3.7892969</td></tr><tr><td>263</td><td>1580</td><td>3.0</td><td>3.513526</td></tr><tr><td>586</td><td>1580</td><td>5.0</td><td>4.310636</td></tr><tr><td>286</td><td>1580</td><td>3.0</td><td>3.1762073</td></tr><tr><td>381</td><td>1580</td><td>4.0</td><td>3.3109167</td></tr><tr><td>594</td><td>1580</td><td>4.5</td><td>4.138242</td></tr><tr><td>217</td><td>1580</td><td>5.0</td><td>3.3305006</td></tr><tr><td>307</td><td>1580</td><td>2.0</td><td>3.3063817</td></tr><tr><td>220</td><td>1580</td><td>5.0</td><td>4.2145143</td></tr><tr><td>4</td><td>1580</td><td>3.0</td><td>2.9690979</td></tr><tr><td>59</td><td>1580</td><td>3.0</td><td>3.2608387</td></tr><tr><td>100</td><td>1580</td><td>4.0</td><td>3.74227</td></tr><tr><td>450</td><td>1580</td><td>3.0</td><td>3.6540852</td></tr><tr><td>495</td><td>1580</td><td>3.5</td><td>4.1940804</td></tr><tr><td>555</td><td>1580</td><td>2.0</td><td>3.919077</td></tr><tr><td>380</td><td>1580</td><td>5.0</td><td>4.3845177</td></tr><tr><td>520</td><td>1580</td><td>5.0</td><td>3.9134538</td></tr><tr><td>244</td><td>1580</td><td>4.0</td><td>4.018785</td></tr><tr><td>453</td><td>1580</td><td>4.0</td><td>4.24328</td></tr><tr><td>434</td><td>1580</td><td>3.5</td><td>3.1223803</td></tr><tr><td>51</td><td>1580</td><td>5.0</td><td>3.4323707</td></tr><tr><td>428</td><td>1580</td><td>1.5</td><td>2.4848056</td></tr><tr><td>391</td><td>1580</td><td>2.0</td><td>2.8383338</td></tr><tr><td>438</td><td>1580</td><td>4.0</td><td>3.7991552</td></tr><tr><td>532</td><td>1580</td><td>5.0</td><td>4.4597707</td></tr><tr><td>69</td><td>1580</td><td>4.0</td><td>4.875853</td></tr><tr><td>166</td><td>1580</td><td>4.0</td><td>3.8547316</td></tr><tr><td>448</td><td>1580</td><td>4.0</td><td>3.6746216</td></tr><tr><td>543</td><td>1580</td><td>5.0</td><td>4.694483</td></tr><tr><td>234</td><td>1580</td><td>4.0</td><td>3.5812783</td></tr><tr><td>239</td><td>1580</td><td>4.0</td><td>3.8807716</td></tr><tr><td>264</td><td>1580</td><td>4.5</td><td>3.8986835</td></tr><tr><td>63</td><td>1580</td><td>2.0</td><td>3.7367759</td></tr><tr><td>361</td><td>1580</td><td>3.5</td><td>3.179565</td></tr><tr><td>50</td><td>1580</td><td>2.5</td><td>2.5837646</td></tr><tr><td>45</td><td>1580</td><td>3.0</td><td>3.5020235</td></tr><tr><td>82</td><td>1580</td><td>4.0</td><td>3.7523453</td></tr><tr><td>249</td><td>1580</td><td>4.5</td><td>3.959528</td></tr><tr><td>167</td><td>1580</td><td>3.5</td><td>3.4899678</td></tr><tr><td>288</td><td>1580</td><td>4.0</td><td>3.1275568</td></tr><tr><td>237</td><td>1580</td><td>4.5</td><td>3.4240837</td></tr><tr><td>24</td><td>1580</td><td>4.0</td><td>3.8300138</td></tr><tr><td>160</td><td>1580</td><td>2.0</td><td>2.890771</td></tr><tr><td>62</td><td>1580</td><td>3.0</td><td>4.110759</td></tr><tr><td>125</td><td>1580</td><td>4.0</td><td>3.9897664</td></tr><tr><td>156</td><td>1580</td><td>3.0</td><td>2.957215</td></tr><tr><td>480</td><td>1580</td><td>3.5</td><td>3.4347765</td></tr><tr><td>219</td><td>1580</td><td>3.0</td><td>3.237734</td></tr><tr><td>477</td><td>1580</td><td>4.0</td><td>3.7595959</td></tr><tr><td>226</td><td>1580</td><td>3.5</td><td>3.6753194</td></tr><tr><td>21</td><td>1580</td><td>4.5</td><td>3.610949</td></tr><tr><td>352</td><td>1580</td><td>2.5</td><td>4.004471</td></tr><tr><td>469</td><td>1580</td><td>3.0</td><td>2.8816867</td></tr><tr><td>265</td><td>1580</td><td>3.0</td><td>3.889142</td></tr><tr><td>141</td><td>1580</td><td>3.5</td><td>3.3441281</td></tr><tr><td>414</td><td>1580</td><td>4.0</td><td>3.649336</td></tr><tr><td>608</td><td>1580</td><td>3.5</td><td>3.322477</td></tr><tr><td>334</td><td>1580</td><td>3.5</td><td>3.3224792</td></tr><tr><td>200</td><td>1580</td><td>4.0</td><td>3.7317224</td></tr><tr><td>272</td><td>1580</td><td>4.0</td><td>3.525033</td></tr><tr><td>376</td><td>1580</td><td>4.0</td><td>4.302492</td></tr><tr><td>254</td><td>1580</td><td>2.5</td><td>2.9270453</td></tr><tr><td>534</td><td>1580</td><td>4.0</td><td>3.885479</td></tr><tr><td>303</td><td>1580</td><td>5.0</td><td>4.241348</td></tr><tr><td>354</td><td>1580</td><td>3.5</td><td>3.6926649</td></tr><tr><td>304</td><td>1580</td><td>5.0</td><td>3.9166083</td></tr><tr><td>298</td><td>1580</td><td>3.0</td><td>2.9239748</td></tr><tr><td>33</td><td>1580</td><td>3.0</td><td>2.8637047</td></tr><tr><td>369</td><td>1580</td><td>1.0</td><td>3.5908077</td></tr><tr><td>68</td><td>1580</td><td>4.0</td><td>3.425173</td></tr><tr><td>561</td><td>1580</td><td>3.0</td><td>3.3981814</td></tr><tr><td>198</td><td>1580</td><td>4.0</td><td>2.9702055</td></tr><tr><td>199</td><td>1580</td><td>4.0</td><td>3.0238929</td></tr><tr><td>135</td><td>1580</td><td>4.0</td><td>3.4327462</td></tr><tr><td>522</td><td>1580</td><td>4.0</td><td>4.0184007</td></tr><tr><td>42</td><td>1580</td><td>4.0</td><td>3.5520358</td></tr><tr><td>119</td><td>1580</td><td>4.0</td><td>4.250963</td></tr><tr><td>79</td><td>1580</td><td>4.0</td><td>3.1933115</td></tr><tr><td>201</td><td>1580</td><td>4.0</td><td>4.2537165</td></tr><tr><td>149</td><td>1580</td><td>2.0</td><td>2.9160976</td></tr><tr><td>294</td><td>1580</td><td>4.0</td><td>3.4195487</td></tr><tr><td>357</td><td>1580</td><td>3.5</td><td>3.5408597</td></tr><tr><td>573</td><td>1580</td><td>4.5</td><td>4.4418716</td></tr><tr><td>313</td><td>1580</td><td>4.0</td><td>3.162015</td></tr><tr><td>557</td><td>1580</td><td>3.0</td><td>3.0843768</td></tr><tr><td>67</td><td>1580</td><td>4.0</td><td>4.2140474</td></tr><tr><td>186</td><td>1580</td><td>4.0</td><td>4.258277</td></tr><tr><td>275</td><td>1580</td><td>3.0</td><td>3.5406587</td></tr><tr><td>282</td><td>1580</td><td>4.0</td><td>3.7824917</td></tr><tr><td>172</td><td>1580</td><td>3.5</td><td>4.403782</td></tr><tr><td>399</td><td>1580</td><td>0.5</td><td>1.8613694</td></tr><tr><td>144</td><td>1580</td><td>3.5</td><td>3.2633576</td></tr><tr><td>153</td><td>1580</td><td>0.5</td><td>0.9851387</td></tr><tr><td>420</td><td>1580</td><td>3.5</td><td>3.4609768</td></tr><tr><td>18</td><td>1580</td><td>3.5</td><td>3.628398</td></tr><tr><td>475</td><td>1580</td><td>5.0</td><td>4.933865</td></tr><tr><td>104</td><td>1580</td><td>3.0</td><td>3.3701777</td></tr><tr><td>483</td><td>1580</td><td>2.0</td><td>3.4670222</td></tr><tr><td>187</td><td>1580</td><td>2.0</td><td>2.5611622</td></tr><tr><td>89</td><td>1580</td><td>1.5</td><td>2.697106</td></tr><tr><td>401</td><td>1580</td><td>2.0</td><td>3.0135531</td></tr><tr><td>517</td><td>1580</td><td>3.0</td><td>2.3163776</td></tr><tr><td>362</td><td>1591</td><td>4.0</td><td>3.7010078</td></tr><tr><td>93</td><td>1591</td><td>4.0</td><td>4.3493676</td></tr><tr><td>599</td><td>1591</td><td>2.5</td><td>2.0501308</td></tr><tr><td>305</td><td>1591</td><td>3.0</td><td>2.4841392</td></tr><tr><td>274</td><td>1591</td><td>2.0</td><td>3.0274665</td></tr><tr><td>182</td><td>1591</td><td>3.5</td><td>3.8448138</td></tr><tr><td>19</td><td>1591</td><td>2.0</td><td>1.9967077</td></tr><tr><td>217</td><td>1591</td><td>2.0</td><td>1.788626</td></tr><tr><td>220</td><td>1591</td><td>1.5</td><td>3.3956318</td></tr><tr><td>555</td><td>1591</td><td>4.0</td><td>3.6958132</td></tr><tr><td>51</td><td>1591</td><td>1.0</td><td>1.5784953</td></tr><tr><td>428</td><td>1591</td><td>3.0</td><td>2.8759847</td></tr><tr><td>438</td><td>1591</td><td>2.5</td><td>2.7673316</td></tr><tr><td>448</td><td>1591</td><td>1.0</td><td>1.437082</td></tr><tr><td>45</td><td>1591</td><td>4.0</td><td>3.2623181</td></tr><tr><td>288</td><td>1591</td><td>3.0</td><td>2.369362</td></tr><tr><td>160</td><td>1591</td><td>2.0</td><td>2.566757</td></tr><tr><td>464</td><td>1591</td><td>1.0</td><td>1.6424884</td></tr><tr><td>414</td><td>1591</td><td>3.0</td><td>3.0673964</td></tr><tr><td>608</td><td>1591</td><td>3.0</td><td>2.7975502</td></tr><tr><td>534</td><td>1591</td><td>3.5</td><td>3.1565664</td></tr><tr><td>298</td><td>1591</td><td>1.5</td><td>0.8887541</td></tr><tr><td>198</td><td>1591</td><td>2.0</td><td>2.8007457</td></tr><tr><td>294</td><td>1591</td><td>1.0</td><td>1.4784622</td></tr><tr><td>313</td><td>1591</td><td>5.0</td><td>4.7099595</td></tr><tr><td>483</td><td>1591</td><td>3.5</td><td>2.127399</td></tr><tr><td>362</td><td>1645</td><td>5.0</td><td>4.1895146</td></tr><tr><td>368</td><td>1645</td><td>3.0</td><td>2.3445253</td></tr><tr><td>115</td><td>1645</td><td>4.0</td><td>2.4824784</td></tr><tr><td>28</td><td>1645</td><td>2.5</td><td>3.2407055</td></tr><tr><td>332</td><td>1645</td><td>3.5</td><td>3.1957145</td></tr><tr><td>606</td><td>1645</td><td>3.5</td><td>3.5182319</td></tr><tr><td>91</td><td>1645</td><td>3.0</td><td>4.0114717</td></tr><tr><td>246</td><td>1645</td><td>4.0</td><td>3.8824792</td></tr><tr><td>599</td><td>1645</td><td>3.0</td><td>2.5626824</td></tr><tr><td>305</td><td>1645</td><td>2.5</td><td>3.6400547</td></tr><tr><td>603</td><td>1645</td><td>3.0</td><td>3.3802176</td></tr><tr><td>297</td><td>1645</td><td>3.0</td><td>3.14475</td></tr><tr><td>274</td><td>1645</td><td>3.5</td><td>3.8187685</td></tr><tr><td>182</td><td>1645</td><td>4.5</td><td>3.4645948</td></tr><tr><td>474</td><td>1645</td><td>2.0</td><td>2.6737423</td></tr><tr><td>432</td><td>1645</td><td>4.0</td><td>3.1100311</td></tr><tr><td>452</td><td>1645</td><td>4.0</td><td>3.9915886</td></tr><tr><td>19</td><td>1645</td><td>2.0</td><td>1.9717053</td></tr><tr><td>542</td><td>1645</td><td>5.0</td><td>4.5039816</td></tr><tr><td>64</td><td>1645</td><td>2.5</td><td>3.5245018</td></tr><tr><td>309</td><td>1645</td><td>1.0</td><td>1.9862148</td></tr><tr><td>425</td><td>1645</td><td>4.0</td><td>3.64378</td></tr><tr><td>590</td><td>1645</td><td>3.0</td><td>2.8767233</td></tr><tr><td>318</td><td>1645</td><td>3.0</td><td>3.8790593</td></tr><tr><td>202</td><td>1645</td><td>3.0</td><td>3.2872071</td></tr><tr><td>586</td><td>1645</td><td>3.5</td><td>4.687751</td></tr><tr><td>217</td><td>1645</td><td>3.0</td><td>2.8467662</td></tr><tr><td>307</td><td>1645</td><td>4.0</td><td>4.0559745</td></tr><tr><td>495</td><td>1645</td><td>5.0</td><td>4.81262</td></tr><tr><td>51</td><td>1645</td><td>5.0</td><td>3.976899</td></tr><tr><td>428</td><td>1645</td><td>3.5</td><td>3.1629617</td></tr><tr><td>391</td><td>1645</td><td>2.0</td><td>1.7847081</td></tr><tr><td>69</td><td>1645</td><td>4.0</td><td>4.0549436</td></tr><tr><td>448</td><td>1645</td><td>3.0</td><td>3.32335</td></tr><tr><td>239</td><td>1645</td><td>4.0</td><td>4.092828</td></tr><tr><td>82</td><td>1645</td><td>2.0</td><td>4.113961</td></tr><tr><td>113</td><td>1645</td><td>1.0</td><td>2.0612438</td></tr><tr><td>160</td><td>1645</td><td>3.0</td><td>2.4879549</td></tr><tr><td>62</td><td>1645</td><td>5.0</td><td>4.2969923</td></tr><tr><td>480</td><td>1645</td><td>3.0</td><td>3.4151409</td></tr><tr><td>219</td><td>1645</td><td>3.5</td><td>2.991178</td></tr><tr><td>414</td><td>1645</td><td>3.0</td><td>3.46637</td></tr><tr><td>608</td><td>1645</td><td>4.5</td><td>4.187391</td></tr><tr><td>354</td><td>1645</td><td>3.5</td><td>3.7204094</td></tr><tr><td>68</td><td>1645</td><td>4.0</td><td>3.5773592</td></tr><tr><td>198</td><td>1645</td><td>5.0</td><td>2.2199192</td></tr><tr><td>199</td><td>1645</td><td>2.0</td><td>2.1176777</td></tr><tr><td>522</td><td>1645</td><td>4.5</td><td>3.6639764</td></tr><tr><td>42</td><td>1645</td><td>4.0</td><td>3.523396</td></tr><tr><td>282</td><td>1645</td><td>4.0</td><td>3.6214483</td></tr><tr><td>483</td><td>1645</td><td>3.5</td><td>3.736484</td></tr><tr><td>606</td><td>1829</td><td>3.5</td><td>3.4847972</td></tr><tr><td>113</td><td>1829</td><td>3.0</td><td>3.0896132</td></tr><tr><td>597</td><td>1959</td><td>4.0</td><td>4.257903</td></tr><tr><td>108</td><td>1959</td><td>5.0</td><td>4.9084425</td></tr><tr><td>577</td><td>1959</td><td>4.0</td><td>3.0917726</td></tr><tr><td>384</td><td>1959</td><td>4.0</td><td>3.9207807</td></tr><tr><td>606</td><td>1959</td><td>3.5</td><td>3.4783237</td></tr><tr><td>599</td><td>1959</td><td>3.0</td><td>2.9824119</td></tr><tr><td>603</td><td>1959</td><td>3.0</td><td>3.0455658</td></tr><tr><td>474</td><td>1959</td><td>4.0</td><td>3.6116412</td></tr><tr><td>202</td><td>1959</td><td>4.0</td><td>3.8369274</td></tr><tr><td>555</td><td>1959</td><td>3.0</td><td>3.3282738</td></tr><tr><td>70</td><td>1959</td><td>4.5</td><td>4.3033576</td></tr><tr><td>351</td><td>1959</td><td>3.0</td><td>2.9503038</td></tr><tr><td>221</td><td>1959</td><td>3.5</td><td>3.8878016</td></tr><tr><td>342</td><td>1959</td><td>3.0</td><td>3.2264175</td></tr><tr><td>138</td><td>1959</td><td>3.5</td><td>3.663981</td></tr><tr><td>368</td><td>2122</td><td>2.0</td><td>1.8083733</td></tr><tr><td>384</td><td>2122</td><td>1.0</td><td>0.6682231</td></tr><tr><td>91</td><td>2122</td><td>4.0</td><td>2.6398892</td></tr><tr><td>274</td><td>2122</td><td>3.5</td><td>2.3163257</td></tr><tr><td>474</td><td>2122</td><td>1.0</td><td>1.2162346</td></tr><tr><td>292</td><td>2122</td><td>1.5</td><td>0.7744766</td></tr><tr><td>307</td><td>2122</td><td>3.5</td><td>3.3347669</td></tr><tr><td>288</td><td>2122</td><td>1.0</td><td>1.9843403</td></tr><tr><td>260</td><td>2122</td><td>3.5</td><td>3.3825753</td></tr><tr><td>600</td><td>2122</td><td>3.0</td><td>3.0157237</td></tr><tr><td>571</td><td>2122</td><td>3.0</td><td>2.4511397</td></tr><tr><td>27</td><td>2142</td><td>3.0</td><td>3.0147583</td></tr><tr><td>387</td><td>2142</td><td>3.0</td><td>2.9248934</td></tr><tr><td>448</td><td>2142</td><td>3.0</td><td>2.68475</td></tr><tr><td>234</td><td>2142</td><td>3.0</td><td>3.0207574</td></tr><tr><td>288</td><td>2142</td><td>3.0</td><td>3.1920278</td></tr><tr><td>608</td><td>2142</td><td>2.0</td><td>2.025932</td></tr><tr><td>525</td><td>2142</td><td>3.5</td><td>3.3095345</td></tr><tr><td>600</td><td>2142</td><td>3.5</td><td>3.5017405</td></tr><tr><td>294</td><td>2142</td><td>1.0</td><td>1.7482744</td></tr><tr><td>517</td><td>2142</td><td>2.0</td><td>2.08146</td></tr><tr><td>597</td><td>2366</td><td>5.0</td><td>4.375277</td></tr><tr><td>368</td><td>2366</td><td>4.0</td><td>3.2578402</td></tr><tr><td>332</td><td>2366</td><td>3.5</td><td>3.6717162</td></tr><tr><td>577</td><td>2366</td><td>3.0</td><td>3.5877042</td></tr><tr><td>493</td><td>2366</td><td>2.0</td><td>2.5100071</td></tr><tr><td>599</td><td>2366</td><td>3.0</td><td>3.0605288</td></tr><tr><td>177</td><td>2366</td><td>3.0</td><td>3.6168</td></tr><tr><td>325</td><td>2366</td><td>4.0</td><td>3.9872546</td></tr><tr><td>1</td><td>2366</td><td>4.0</td><td>3.606148</td></tr><tr><td>348</td><td>2366</td><td>4.0</td><td>4.362071</td></tr><tr><td>217</td><td>2366</td><td>3.0</td><td>2.8330557</td></tr><tr><td>290</td><td>2366</td><td>5.0</td><td>4.032871</td></tr><tr><td>39</td><td>2366</td><td>5.0</td><td>4.783123</td></tr><tr><td>380</td><td>2366</td><td>5.0</td><td>5.0349708</td></tr><tr><td>532</td><td>2366</td><td>4.0</td><td>3.8025599</td></tr><tr><td>448</td><td>2366</td><td>5.0</td><td>4.4523945</td></tr><tr><td>312</td><td>2366</td><td>4.0</td><td>4.1678944</td></tr><tr><td>527</td><td>2366</td><td>3.0</td><td>3.3768973</td></tr><tr><td>70</td><td>2366</td><td>4.5</td><td>4.450738</td></tr><tr><td>345</td><td>2366</td><td>3.5</td><td>3.7120543</td></tr><tr><td>469</td><td>2366</td><td>3.0</td><td>3.2388062</td></tr><tr><td>508</td><td>2366</td><td>1.5</td><td>1.384538</td></tr><tr><td>571</td><td>2366</td><td>3.0</td><td>3.3139253</td></tr><tr><td>313</td><td>2366</td><td>2.0</td><td>1.9593223</td></tr><tr><td>186</td><td>2366</td><td>4.0</td><td>3.5730605</td></tr><tr><td>79</td><td>2659</td><td>2.0</td><td>2.0533628</td></tr><tr><td>603</td><td>2866</td><td>4.0</td><td>4.1234164</td></tr><tr><td>474</td><td>2866</td><td>3.5</td><td>3.6158159</td></tr><tr><td>462</td><td>2866</td><td>3.5</td><td>2.7688677</td></tr><tr><td>527</td><td>2866</td><td>4.0</td><td>3.9423022</td></tr><tr><td>288</td><td>2866</td><td>3.0</td><td>3.1163163</td></tr><tr><td>580</td><td>3175</td><td>2.5</td><td>3.7851906</td></tr><tr><td>155</td><td>3175</td><td>4.0</td><td>4.0911903</td></tr><tr><td>101</td><td>3175</td><td>4.0</td><td>3.2637734</td></tr><tr><td>115</td><td>3175</td><td>4.0</td><td>3.9799275</td></tr><tr><td>28</td><td>3175</td><td>1.5</td><td>3.05948</td></tr><tr><td>587</td><td>3175</td><td>5.0</td><td>4.1799073</td></tr><tr><td>91</td><td>3175</td><td>3.5</td><td>3.5166247</td></tr><tr><td>409</td><td>3175</td><td>4.0</td><td>3.6273317</td></tr><tr><td>122</td><td>3175</td><td>4.5</td><td>4.744707</td></tr><tr><td>157</td><td>3175</td><td>2.0</td><td>2.1287618</td></tr><tr><td>232</td><td>3175</td><td>2.5</td><td>3.769226</td></tr><tr><td>367</td><td>3175</td><td>4.0</td><td>3.272987</td></tr><tr><td>599</td><td>3175</td><td>3.0</td><td>2.8915262</td></tr><tr><td>111</td><td>3175</td><td>3.5</td><td>3.4457743</td></tr><tr><td>140</td><td>3175</td><td>2.5</td><td>3.122807</td></tr><tr><td>177</td><td>3175</td><td>2.0</td><td>2.4663103</td></tr><tr><td>355</td><td>3175</td><td>4.0</td><td>4.276364</td></tr><tr><td>325</td><td>3175</td><td>4.0</td><td>3.3759267</td></tr><tr><td>603</td><td>3175</td><td>4.0</td><td>3.4113457</td></tr><tr><td>274</td><td>3175</td><td>2.0</td><td>3.558177</td></tr><tr><td>182</td><td>3175</td><td>4.0</td><td>3.9771547</td></tr><tr><td>474</td><td>3175</td><td>4.0</td><td>3.2716036</td></tr><tr><td>328</td><td>3175</td><td>1.5</td><td>3.8824525</td></tr><tr><td>500</td><td>3175</td><td>4.0</td><td>3.6210833</td></tr><tr><td>57</td><td>3175</td><td>4.0</td><td>3.0159242</td></tr><tr><td>292</td><td>3175</td><td>4.0</td><td>3.365308</td></tr><tr><td>96</td><td>3175</td><td>5.0</td><td>5.073081</td></tr><tr><td>452</td><td>3175</td><td>5.0</td><td>4.711938</td></tr><tr><td>19</td><td>3175</td><td>4.0</td><td>3.1713495</td></tr><tr><td>64</td><td>3175</td><td>3.5</td><td>3.7127335</td></tr><tr><td>607</td><td>3175</td><td>2.0</td><td>2.8215842</td></tr><tr><td>489</td><td>3175</td><td>3.5</td><td>3.3722992</td></tr><tr><td>590</td><td>3175</td><td>2.5</td><td>3.296176</td></tr><tr><td>552</td><td>3175</td><td>4.0</td><td>3.3083498</td></tr><tr><td>586</td><td>3175</td><td>5.0</td><td>4.447667</td></tr><tr><td>381</td><td>3175</td><td>2.5</td><td>3.7511806</td></tr><tr><td>217</td><td>3175</td><td>4.0</td><td>3.1979058</td></tr><tr><td>4</td><td>3175</td><td>1.0</td><td>2.920809</td></tr><tr><td>555</td><td>3175</td><td>5.0</td><td>4.1947165</td></tr><tr><td>380</td><td>3175</td><td>5.0</td><td>4.3114967</td></tr><tr><td>520</td><td>3175</td><td>4.0</td><td>3.7477694</td></tr><tr><td>453</td><td>3175</td><td>5.0</td><td>4.8171873</td></tr><tr><td>428</td><td>3175</td><td>2.0</td><td>3.1310856</td></tr><tr><td>391</td><td>3175</td><td>2.0</td><td>2.8683267</td></tr><tr><td>438</td><td>3175</td><td>3.5</td><td>3.7332623</td></tr><tr><td>69</td><td>3175</td><td>5.0</td><td>4.714234</td></tr><tr><td>448</td><td>3175</td><td>4.0</td><td>3.8714058</td></tr><tr><td>234</td><td>3175</td><td>4.0</td><td>4.101977</td></tr><tr><td>312</td><td>3175</td><td>3.0</td><td>3.7384396</td></tr><tr><td>267</td><td>3175</td><td>4.0</td><td>3.5509949</td></tr><tr><td>45</td><td>3175</td><td>3.0</td><td>3.6682258</td></tr><tr><td>249</td><td>3175</td><td>3.0</td><td>4.067686</td></tr><tr><td>167</td><td>3175</td><td>3.5</td><td>3.8007739</td></tr><tr><td>288</td><td>3175</td><td>4.0</td><td>3.403763</td></tr><tr><td>408</td><td>3175</td><td>5.0</td><td>4.1295915</td></tr><tr><td>156</td><td>3175</td><td>4.5</td><td>3.4379096</td></tr><tr><td>219</td><td>3175</td><td>2.0</td><td>2.8845057</td></tr><tr><td>265</td><td>3175</td><td>4.0</td><td>3.7887688</td></tr><tr><td>141</td><td>3175</td><td>4.0</td><td>3.6206625</td></tr><tr><td>414</td><td>3175</td><td>4.0</td><td>3.6527703</td></tr><tr><td>608</td><td>3175</td><td>4.0</td><td>3.6304545</td></tr><tr><td>303</td><td>3175</td><td>4.0</td><td>4.206257</td></tr><tr><td>304</td><td>3175</td><td>5.0</td><td>4.064017</td></tr><tr><td>68</td><td>3175</td><td>3.0</td><td>3.2164161</td></tr><tr><td>342</td><td>3175</td><td>1.0</td><td>2.5953538</td></tr><tr><td>199</td><td>3175</td><td>4.0</td><td>3.4161203</td></tr><tr><td>135</td><td>3175</td><td>4.0</td><td>3.7000828</td></tr><tr><td>294</td><td>3175</td><td>3.0</td><td>3.9668965</td></tr><tr><td>313</td><td>3175</td><td>4.0</td><td>4.166372</td></tr><tr><td>186</td><td>3175</td><td>5.0</td><td>3.8879097</td></tr><tr><td>275</td><td>3175</td><td>5.0</td><td>4.305849</td></tr><tr><td>420</td><td>3175</td><td>3.5</td><td>3.464779</td></tr><tr><td>104</td><td>3175</td><td>4.0</td><td>3.6125488</td></tr><tr><td>89</td><td>3175</td><td>2.5</td><td>3.097969</td></tr><tr><td>422</td><td>3175</td><td>3.0</td><td>3.8232841</td></tr><tr><td>414</td><td>3794</td><td>3.0</td><td>2.9984512</td></tr><tr><td>275</td><td>3794</td><td>2.0</td><td>2.0431302</td></tr><tr><td>368</td><td>3918</td><td>2.0</td><td>2.0467083</td></tr><tr><td>325</td><td>3918</td><td>4.0</td><td>3.8857236</td></tr><tr><td>603</td><td>3918</td><td>3.0</td><td>2.84546</td></tr><tr><td>274</td><td>3918</td><td>3.5</td><td>3.3580427</td></tr><tr><td>387</td><td>3918</td><td>3.0</td><td>2.8953726</td></tr><tr><td>555</td><td>3918</td><td>3.0</td><td>2.9898221</td></tr><tr><td>51</td><td>3918</td><td>5.0</td><td>3.9056144</td></tr><tr><td>288</td><td>3918</td><td>1.0</td><td>1.4852055</td></tr><tr><td>546</td><td>3918</td><td>5.0</td><td>5.20492</td></tr><tr><td>34</td><td>3997</td><td>2.0</td><td>1.9258038</td></tr><tr><td>599</td><td>3997</td><td>0.5</td><td>0.65188533</td></tr><tr><td>177</td><td>3997</td><td>0.5</td><td>0.7554876</td></tr><tr><td>274</td><td>3997</td><td>1.5</td><td>1.873905</td></tr><tr><td>182</td><td>3997</td><td>3.0</td><td>2.7238262</td></tr><tr><td>139</td><td>3997</td><td>1.0</td><td>1.0807832</td></tr><tr><td>610</td><td>3997</td><td>1.0</td><td>1.5797392</td></tr><tr><td>380</td><td>3997</td><td>3.0</td><td>2.3489966</td></tr><tr><td>249</td><td>3997</td><td>2.5</td><td>1.9846334</td></tr><tr><td>414</td><td>3997</td><td>2.0</td><td>1.9113489</td></tr><tr><td>105</td><td>3997</td><td>3.0</td><td>2.5244384</td></tr><tr><td>605</td><td>3997</td><td>2.0</td><td>2.5104003</td></tr><tr><td>599</td><td>4519</td><td>2.5</td><td>2.2405977</td></tr><tr><td>274</td><td>4519</td><td>3.0</td><td>3.3434505</td></tr><tr><td>20</td><td>4519</td><td>3.5</td><td>3.3979897</td></tr><tr><td>479</td><td>4519</td><td>4.0</td><td>2.5355105</td></tr><tr><td>318</td><td>4519</td><td>4.0</td><td>3.6504512</td></tr><tr><td>234</td><td>4519</td><td>4.0</td><td>5.012774</td></tr><tr><td>509</td><td>4519</td><td>3.0</td><td>3.301566</td></tr><tr><td>477</td><td>4519</td><td>4.0</td><td>3.9259963</td></tr><tr><td>414</td><td>4519</td><td>2.0</td><td>2.7053049</td></tr><tr><td>414</td><td>4818</td><td>2.0</td><td>2.0148323</td></tr><tr><td>111</td><td>4900</td><td>4.0</td><td>4.0842257</td></tr><tr><td>438</td><td>4900</td><td>3.0</td><td>3.0194468</td></tr><tr><td>480</td><td>4900</td><td>1.5</td><td>2.0090399</td></tr><tr><td>414</td><td>4900</td><td>4.0</td><td>2.7193806</td></tr><tr><td>298</td><td>4900</td><td>2.5</td><td>2.4788046</td></tr><tr><td>387</td><td>5156</td><td>2.5</td><td>2.5217957</td></tr><tr><td>74</td><td>5300</td><td>4.0</td><td>4.0404634</td></tr><tr><td>274</td><td>5803</td><td>1.5</td><td>1.5082498</td></tr><tr><td>438</td><td>5803</td><td>3.0</td><td>1.6770129</td></tr><tr><td>448</td><td>5803</td><td>2.0</td><td>1.2501472</td></tr><tr><td>82</td><td>5803</td><td>4.0</td><td>1.8729806</td></tr><tr><td>249</td><td>5803</td><td>3.0</td><td>1.7239857</td></tr><tr><td>414</td><td>5803</td><td>2.0</td><td>1.6454897</td></tr><tr><td>275</td><td>5803</td><td>2.0</td><td>2.0548115</td></tr><tr><td>474</td><td>6336</td><td>3.0</td><td>3.0387166</td></tr><tr><td>474</td><td>6357</td><td>3.0</td><td>3.0490127</td></tr><tr><td>590</td><td>6357</td><td>3.0</td><td>3.0153792</td></tr><tr><td>606</td><td>6466</td><td>4.0</td><td>4.02607</td></tr><tr><td>474</td><td>6466</td><td>4.5</td><td>4.5644507</td></tr><tr><td>462</td><td>6466</td><td>2.0</td><td>2.155402</td></tr><tr><td>91</td><td>6620</td><td>3.5</td><td>3.5484147</td></tr><tr><td>599</td><td>6620</td><td>2.5</td><td>2.5531576</td></tr><tr><td>182</td><td>6620</td><td>4.0</td><td>4.232762</td></tr><tr><td>474</td><td>6620</td><td>4.5</td><td>3.832987</td></tr><tr><td>504</td><td>6620</td><td>3.0</td><td>2.8711574</td></tr><tr><td>462</td><td>6620</td><td>4.5</td><td>4.444548</td></tr><tr><td>387</td><td>6620</td><td>2.5</td><td>3.413084</td></tr><tr><td>610</td><td>6620</td><td>4.0</td><td>4.2807937</td></tr><tr><td>288</td><td>6620</td><td>4.5</td><td>3.842134</td></tr><tr><td>356</td><td>6620</td><td>2.0</td><td>2.7984853</td></tr><tr><td>480</td><td>6620</td><td>4.0</td><td>5.114422</td></tr><tr><td>477</td><td>6620</td><td>5.0</td><td>3.2500062</td></tr><tr><td>287</td><td>6620</td><td>5.0</td><td>4.392888</td></tr><tr><td>414</td><td>6620</td><td>4.5</td><td>4.171608</td></tr><tr><td>298</td><td>6620</td><td>3.0</td><td>3.0467596</td></tr><tr><td>260</td><td>6620</td><td>4.5</td><td>3.968101</td></tr><tr><td>600</td><td>6620</td><td>3.0</td><td>3.3702784</td></tr><tr><td>187</td><td>6620</td><td>5.0</td><td>5.2025185</td></tr><tr><td>377</td><td>6654</td><td>3.5</td><td>3.508095</td></tr><tr><td>271</td><td>6658</td><td>2.0</td><td>1.9529203</td></tr><tr><td>448</td><td>6658</td><td>3.5</td><td>3.606426</td></tr><tr><td>156</td><td>6658</td><td>3.5</td><td>3.361877</td></tr><tr><td>345</td><td>6658</td><td>4.5</td><td>4.5514865</td></tr><tr><td>599</td><td>7340</td><td>2.0</td><td>2.0593204</td></tr><tr><td>474</td><td>7340</td><td>3.0</td><td>3.1195943</td></tr><tr><td>414</td><td>7340</td><td>2.0</td><td>2.068306</td></tr><tr><td>562</td><td>7340</td><td>4.0</td><td>3.9743946</td></tr><tr><td>474</td><td>7833</td><td>3.5</td><td>3.5451696</td></tr><tr><td>599</td><td>7982</td><td>3.5</td><td>3.630511</td></tr><tr><td>64</td><td>7982</td><td>4.5</td><td>4.2172704</td></tr><tr><td>387</td><td>7982</td><td>4.5</td><td>4.565133</td></tr><tr><td>594</td><td>7982</td><td>0.5</td><td>0.37756565</td></tr><tr><td>387</td><td>7993</td><td>2.5</td><td>2.5217957</td></tr><tr><td>346</td><td>8638</td><td>4.0</td><td>3.8417847</td></tr><tr><td>599</td><td>8638</td><td>3.0</td><td>3.8487644</td></tr><tr><td>132</td><td>8638</td><td>4.0</td><td>3.224961</td></tr><tr><td>280</td><td>8638</td><td>4.5</td><td>4.447717</td></tr><tr><td>474</td><td>8638</td><td>4.0</td><td>4.5412874</td></tr><tr><td>560</td><td>8638</td><td>3.0</td><td>3.2843282</td></tr><tr><td>227</td><td>8638</td><td>4.0</td><td>4.5316324</td></tr><tr><td>263</td><td>8638</td><td>4.5</td><td>2.400773</td></tr><tr><td>241</td><td>8638</td><td>5.0</td><td>4.3903623</td></tr><tr><td>490</td><td>8638</td><td>4.0</td><td>3.9458838</td></tr><tr><td>221</td><td>8638</td><td>4.5</td><td>4.605257</td></tr><tr><td>414</td><td>8638</td><td>4.0</td><td>3.7342517</td></tr><tr><td>200</td><td>8638</td><td>1.0</td><td>2.02982</td></tr><tr><td>105</td><td>8638</td><td>4.0</td><td>3.9276783</td></tr><tr><td>199</td><td>8638</td><td>2.0</td><td>4.7358847</td></tr><tr><td>599</td><td>31367</td><td>2.0</td><td>1.9821402</td></tr><tr><td>326</td><td>32460</td><td>4.5</td><td>4.327564</td></tr><tr><td>125</td><td>32460</td><td>4.0</td><td>4.0869136</td></tr><tr><td>105</td><td>32460</td><td>5.0</td><td>4.8524218</td></tr><tr><td>18</td><td>32460</td><td>3.5</td><td>3.8458204</td></tr><tr><td>232</td><td>36525</td><td>3.0</td><td>2.9749</td></tr><tr><td>274</td><td>36525</td><td>2.0</td><td>2.1090062</td></tr><tr><td>358</td><td>36525</td><td>4.0</td><td>1.8310622</td></tr><tr><td>380</td><td>36525</td><td>3.0</td><td>2.4050891</td></tr><tr><td>438</td><td>36525</td><td>4.0</td><td>2.668812</td></tr><tr><td>143</td><td>36525</td><td>2.0</td><td>0.9270177</td></tr><tr><td>298</td><td>36525</td><td>2.5</td><td>1.276054</td></tr><tr><td>605</td><td>36525</td><td>1.0</td><td>2.3035605</td></tr><tr><td>580</td><td>44022</td><td>3.5</td><td>3.681907</td></tr><tr><td>606</td><td>44022</td><td>4.0</td><td>3.6385758</td></tr><tr><td>388</td><td>44022</td><td>4.5</td><td>4.4570346</td></tr><tr><td>232</td><td>44022</td><td>3.0</td><td>3.3625207</td></tr><tr><td>111</td><td>44022</td><td>3.0</td><td>3.0817688</td></tr><tr><td>177</td><td>44022</td><td>2.5</td><td>3.644022</td></tr><tr><td>132</td><td>44022</td><td>2.0</td><td>2.4372206</td></tr><tr><td>274</td><td>44022</td><td>3.5</td><td>3.341507</td></tr><tr><td>381</td><td>44022</td><td>3.5</td><td>3.662804</td></tr><tr><td>509</td><td>44022</td><td>3.0</td><td>3.2940454</td></tr><tr><td>361</td><td>44022</td><td>4.0</td><td>3.7324393</td></tr><tr><td>50</td><td>44022</td><td>1.5</td><td>1.3603052</td></tr><tr><td>249</td><td>44022</td><td>3.5</td><td>3.498194</td></tr><tr><td>480</td><td>44022</td><td>3.0</td><td>2.5235708</td></tr><tr><td>21</td><td>44022</td><td>3.5</td><td>3.5599675</td></tr><tr><td>256</td><td>44022</td><td>4.0</td><td>3.8755956</td></tr><tr><td>414</td><td>44022</td><td>2.5</td><td>2.5040102</td></tr><tr><td>105</td><td>44022</td><td>4.0</td><td>3.8115964</td></tr><tr><td>68</td><td>44022</td><td>3.5</td><td>3.3022707</td></tr><tr><td>119</td><td>44022</td><td>3.5</td><td>4.194579</td></tr><tr><td>18</td><td>44022</td><td>3.5</td><td>3.2743976</td></tr><tr><td>475</td><td>44022</td><td>4.0</td><td>3.9990692</td></tr><tr><td>89</td><td>44022</td><td>1.0</td><td>1.4453671</td></tr><tr><td>111</td><td>54190</td><td>4.0</td><td>4.0383487</td></tr><tr><td>177</td><td>54190</td><td>3.0</td><td>3.151681</td></tr><tr><td>274</td><td>54190</td><td>4.0</td><td>3.8078728</td></tr><tr><td>92</td><td>54190</td><td>4.0</td><td>4.2542253</td></tr><tr><td>387</td><td>54190</td><td>3.0</td><td>2.9258552</td></tr><tr><td>381</td><td>54190</td><td>5.0</td><td>4.4268813</td></tr><tr><td>125</td><td>54190</td><td>5.0</td><td>3.0907657</td></tr><tr><td>414</td><td>54190</td><td>3.5</td><td>3.7946558</td></tr><tr><td>200</td><td>54190</td><td>5.0</td><td>4.888565</td></tr><tr><td>525</td><td>54190</td><td>4.0</td><td>4.0391693</td></tr><tr><td>605</td><td>54190</td><td>4.0</td><td>4.1113324</td></tr><tr><td>232</td><td>68135</td><td>4.0</td><td>3.7645936</td></tr><tr><td>177</td><td>68135</td><td>3.0</td><td>3.129984</td></tr><tr><td>305</td><td>68135</td><td>3.5</td><td>2.6892524</td></tr><tr><td>280</td><td>68135</td><td>4.5</td><td>4.1193233</td></tr><tr><td>563</td><td>68135</td><td>2.5</td><td>2.7807443</td></tr><tr><td>564</td><td>68135</td><td>4.0</td><td>3.9222085</td></tr><tr><td>509</td><td>68135</td><td>3.5</td><td>3.2314765</td></tr><tr><td>73</td><td>68135</td><td>3.5</td><td>3.7664235</td></tr><tr><td>414</td><td>68135</td><td>3.5</td><td>3.5093844</td></tr><tr><td>562</td><td>68135</td><td>3.5</td><td>3.5317566</td></tr><tr><td>318</td><td>91784</td><td>4.5</td><td>4.4835033</td></tr><tr><td>462</td><td>96488</td><td>4.0</td><td>4.1011095</td></tr><tr><td>414</td><td>96488</td><td>4.5</td><td>4.5180287</td></tr><tr><td>105</td><td>96488</td><td>4.5</td><td>4.6186733</td></tr><tr><td>18</td><td>96488</td><td>4.0</td><td>4.0119247</td></tr><tr><td>563</td><td>139747</td><td>3.5</td><td>3.5212455</td></tr><tr><td>89</td><td>140541</td><td>4.0</td><td>4.0433397</td></tr><tr><td>448</td><td>141422</td><td>2.5</td><td>2.5593443</td></tr><tr><td>599</td><td>144522</td><td>2.0</td><td>1.9821402</td></tr><tr><td>448</td><td>150604</td><td>2.5</td><td>2.5593443</td></tr><tr><td>318</td><td>160563</td><td>3.5</td><td>3.5219743</td></tr><tr><td>448</td><td>160563</td><td>2.0</td><td>2.2549374</td></tr><tr><td>408</td><td>160563</td><td>3.5</td><td>3.5590637</td></tr><tr><td>125</td><td>160563</td><td>3.5</td><td>3.396267</td></tr><tr><td>382</td><td>160563</td><td>3.5</td><td>3.4583519</td></tr><tr><td>365</td><td>160563</td><td>2.5</td><td>2.6147194</td></tr><tr><td>380</td><td>166558</td><td>3.0</td><td>3.1302502</td></tr><tr><td>567</td><td>179749</td><td>1.5</td><td>1.5423539</td></tr><tr><td>6</td><td>243</td><td>3.0</td><td>3.132543</td></tr><tr><td>368</td><td>540</td><td>2.0</td><td>1.9411892</td></tr><tr><td>385</td><td>540</td><td>3.0</td><td>3.0467923</td></tr><tr><td>297</td><td>540</td><td>1.0</td><td>1.0412111</td></tr><tr><td>6</td><td>540</td><td>3.0</td><td>3.0059576</td></tr><tr><td>19</td><td>540</td><td>1.0</td><td>1.5662622</td></tr><tr><td>447</td><td>540</td><td>4.0</td><td>2.8668954</td></tr><tr><td>262</td><td>540</td><td>3.0</td><td>2.9922938</td></tr><tr><td>102</td><td>540</td><td>1.0</td><td>1.9227624</td></tr><tr><td>181</td><td>540</td><td>3.0</td><td>2.9332814</td></tr><tr><td>411</td><td>540</td><td>3.0</td><td>2.8223586</td></tr><tr><td>414</td><td>540</td><td>2.0</td><td>2.075715</td></tr><tr><td>592</td><td>540</td><td>3.0</td><td>3.3083813</td></tr><tr><td>109</td><td>540</td><td>3.0</td><td>2.8303795</td></tr><tr><td>58</td><td>540</td><td>3.0</td><td>1.716796</td></tr><tr><td>541</td><td>540</td><td>3.0</td><td>2.7866888</td></tr><tr><td>14</td><td>540</td><td>3.0</td><td>3.295031</td></tr><tr><td>373</td><td>540</td><td>3.0</td><td>3.0734892</td></tr><tr><td>42</td><td>540</td><td>4.0</td><td>3.508529</td></tr><tr><td>44</td><td>737</td><td>5.0</td><td>4.895861</td></tr><tr><td>599</td><td>737</td><td>1.5</td><td>2.0259097</td></tr><tr><td>269</td><td>737</td><td>3.0</td><td>3.0656042</td></tr><tr><td>387</td><td>737</td><td>2.0</td><td>1.3549094</td></tr><tr><td>456</td><td>737</td><td>3.0</td><td>2.5937397</td></tr><tr><td>217</td><td>737</td><td>1.0</td><td>1.6156217</td></tr><tr><td>555</td><td>737</td><td>1.0</td><td>3.2787993</td></tr><tr><td>380</td><td>737</td><td>2.0</td><td>1.9774909</td></tr><tr><td>277</td><td>737</td><td>3.0</td><td>1.8414342</td></tr><tr><td>438</td><td>737</td><td>2.0</td><td>2.577432</td></tr><tr><td>524</td><td>737</td><td>3.0</td><td>3.067445</td></tr><tr><td>234</td><td>737</td><td>4.0</td><td>3.334306</td></tr><tr><td>492</td><td>737</td><td>5.0</td><td>2.5976505</td></tr><tr><td>414</td><td>737</td><td>3.0</td><td>2.3112845</td></tr><tr><td>608</td><td>737</td><td>0.5</td><td>0.95159477</td></tr><tr><td>68</td><td>737</td><td>2.0</td><td>1.996916</td></tr><tr><td>270</td><td>737</td><td>1.0</td><td>1.2702633</td></tr><tr><td>337</td><td>737</td><td>5.0</td><td>4.974497</td></tr><tr><td>149</td><td>737</td><td>2.0</td><td>2.1453922</td></tr><tr><td>313</td><td>737</td><td>4.0</td><td>4.283515</td></tr><tr><td>496</td><td>858</td><td>5.0</td><td>4.3496923</td></tr><tr><td>137</td><td>858</td><td>5.0</td><td>4.5508537</td></tr><tr><td>580</td><td>858</td><td>4.5</td><td>3.7066984</td></tr><tr><td>472</td><td>858</td><td>5.0</td><td>3.9230628</td></tr><tr><td>322</td><td>858</td><td>1.5</td><td>3.6593964</td></tr><tr><td>362</td><td>858</td><td>5.0</td><td>5.053535</td></tr><tr><td>593</td><td>858</td><td>5.0</td><td>4.7151346</td></tr><tr><td>597</td><td>858</td><td>5.0</td><td>5.1855855</td></tr><tr><td>193</td><td>858</td><td>4.5</td><td>4.437922</td></tr><tr><td>211</td><td>858</td><td>4.5</td><td>4.4232144</td></tr><tr><td>368</td><td>858</td><td>5.0</td><td>4.1624618</td></tr><tr><td>385</td><td>858</td><td>5.0</td><td>4.3910823</td></tr><tr><td>28</td><td>858</td><td>4.5</td><td>3.6303391</td></tr><tr><td>183</td><td>858</td><td>3.0</td><td>4.298208</td></tr><tr><td>497</td><td>858</td><td>4.0</td><td>3.915878</td></tr><tr><td>596</td><td>858</td><td>3.5</td><td>3.8366578</td></tr><tr><td>412</td><td>858</td><td>5.0</td><td>4.7391295</td></tr><tr><td>76</td><td>858</td><td>5.0</td><td>4.1937327</td></tr><tr><td>577</td><td>858</td><td>5.0</td><td>4.0457306</td></tr><tr><td>606</td><td>858</td><td>4.0</td><td>4.2173934</td></tr><tr><td>103</td><td>858</td><td>4.5</td><td>4.9131637</td></tr><tr><td>329</td><td>858</td><td>2.0</td><td>2.160701</td></tr><tr><td>336</td><td>858</td><td>4.0</td><td>4.2157087</td></tr><tr><td>350</td><td>858</td><td>3.0</td><td>3.6715636</td></tr><tr><td>417</td><td>858</td><td>5.0</td><td>4.3373485</td></tr><tr><td>91</td><td>858</td><td>5.0</td><td>4.28486</td></tr><tr><td>409</td><td>858</td><td>5.0</td><td>4.7986307</td></tr><tr><td>222</td><td>858</td><td>4.5</td><td>3.7703145</td></tr><tr><td>285</td><td>858</td><td>5.0</td><td>4.758702</td></tr><tr><td>601</td><td>858</td><td>5.0</td><td>4.693811</td></tr><tr><td>22</td><td>858</td><td>3.0</td><td>4.4130597</td></tr><tr><td>330</td><td>858</td><td>4.0</td><td>4.393585</td></tr><tr><td>372</td><td>858</td><td>5.0</td><td>4.170954</td></tr><tr><td>122</td><td>858</td><td>5.0</td><td>5.507205</td></tr><tr><td>319</td><td>858</td><td>5.0</td><td>5.3347583</td></tr><tr><td>493</td><td>858</td><td>5.0</td><td>4.707574</td></tr><tr><td>190</td><td>858</td><td>4.5</td><td>4.692066</td></tr><tr><td>232</td><td>858</td><td>4.0</td><td>4.081719</td></tr><tr><td>233</td><td>858</td><td>4.0</td><td>3.7263918</td></tr><tr><td>346</td><td>858</td><td>4.0</td><td>4.0380573</td></tr><tr><td>367</td><td>858</td><td>5.0</td><td>3.87338</td></tr><tr><td>599</td><td>858</td><td>4.0</td><td>3.7734137</td></tr><tr><td>224</td><td>858</td><td>4.0</td><td>3.8244443</td></tr><tr><td>140</td><td>858</td><td>5.0</td><td>3.9705753</td></tr><tr><td>177</td><td>858</td><td>5.0</td><td>3.7312477</td></tr><tr><td>132</td><td>858</td><td>3.0</td><td>3.2027946</td></tr><tr><td>152</td><td>858</td><td>5.0</td><td>4.313004</td></tr><tr><td>305</td><td>858</td><td>5.0</td><td>5.0286417</td></tr><tr><td>325</td><td>858</td><td>5.0</td><td>4.6895113</td></tr><tr><td>435</td><td>858</td><td>5.0</td><td>4.9075456</td></tr><tr><td>603</td><td>858</td><td>5.0</td><td>4.397184</td></tr><tr><td>274</td><td>858</td><td>3.5</td><td>3.8018339</td></tr><tr><td>182</td><td>858</td><td>4.5</td><td>4.23932</td></tr><tr><td>348</td><td>858</td><td>5.0</td><td>4.85633</td></tr><tr><td>16</td><td>858</td><td>2.5</td><td>4.01553</td></tr><tr><td>474</td><td>858</td><td>5.0</td><td>4.257474</td></tr><tr><td>168</td><td>858</td><td>5.0</td><td>4.9875493</td></tr><tr><td>572</td><td>858</td><td>5.0</td><td>4.779477</td></tr><tr><td>308</td><td>858</td><td>1.5</td><td>1.014935</td></tr><tr><td>328</td><td>858</td><td>5.0</td><td>3.8629017</td></tr><tr><td>479</td><td>858</td><td>4.0</td><td>4.360769</td></tr><tr><td>295</td><td>858</td><td>4.5</td><td>4.4017835</td></tr><tr><td>432</td><td>858</td><td>4.0</td><td>3.2772732</td></tr><tr><td>57</td><td>858</td><td>5.0</td><td>4.697157</td></tr><tr><td>570</td><td>858</td><td>3.0</td><td>3.5888093</td></tr><tr><td>292</td><td>858</td><td>4.0</td><td>3.738458</td></tr><tr><td>339</td><td>858</td><td>4.5</td><td>4.757643</td></tr><tr><td>120</td><td>858</td><td>5.0</td><td>5.1112223</td></tr><tr><td>96</td><td>858</td><td>4.0</td><td>3.9452105</td></tr><tr><td>452</td><td>858</td><td>5.0</td><td>4.658267</td></tr><tr><td>268</td><td>858</td><td>5.0</td><td>4.6289835</td></tr><tr><td>279</td><td>858</td><td>4.0</td><td>4.135943</td></tr><tr><td>430</td><td>858</td><td>4.0</td><td>4.617813</td></tr><tr><td>419</td><td>858</td><td>5.0</td><td>4.677273</td></tr><tr><td>553</td><td>858</td><td>5.0</td><td>5.066444</td></tr><tr><td>415</td><td>858</td><td>5.0</td><td>4.961705</td></tr><tr><td>64</td><td>858</td><td>5.0</td><td>4.5563145</td></tr><tr><td>227</td><td>858</td><td>4.5</td><td>4.3947015</td></tr><tr><td>554</td><td>858</td><td>5.0</td><td>4.741153</td></tr><tr><td>425</td><td>858</td><td>3.5</td><td>3.6809545</td></tr><tr><td>607</td><td>858</td><td>4.0</td><td>3.9133158</td></tr><tr><td>15</td><td>858</td><td>4.0</td><td>4.7982287</td></tr><tr><td>327</td><td>858</td><td>3.5</td><td>3.9344735</td></tr><tr><td>165</td><td>858</td><td>3.0</td><td>3.6153042</td></tr><tr><td>590</td><td>858</td><td>5.0</td><td>4.3600464</td></tr><tr><td>197</td><td>858</td><td>2.0</td><td>4.3413944</td></tr><tr><td>462</td><td>858</td><td>5.0</td><td>4.011862</td></tr><tr><td>202</td><td>858</td><td>4.0</td><td>4.755833</td></tr><tr><td>17</td><td>858</td><td>5.0</td><td>4.590716</td></tr><tr><td>231</td><td>858</td><td>4.0</td><td>4.2362604</td></tr><tr><td>324</td><td>858</td><td>4.0</td><td>4.1220493</td></tr><tr><td>586</td><td>858</td><td>3.0</td><td>4.1911497</td></tr><tr><td>72</td><td>858</td><td>4.5</td><td>4.536882</td></tr><tr><td>387</td><td>858</td><td>4.5</td><td>4.273973</td></tr><tr><td>503</td><td>858</td><td>4.5</td><td>4.232937</td></tr><tr><td>594</td><td>858</td><td>4.0</td><td>3.9494894</td></tr><tr><td>610</td><td>858</td><td>5.0</td><td>4.7508535</td></tr><tr><td>217</td><td>858</td><td>2.0</td><td>3.2817206</td></tr><tr><td>290</td><td>858</td><td>5.0</td><td>4.77787</td></tr><tr><td>307</td><td>858</td><td>4.5</td><td>3.6741164</td></tr><tr><td>220</td><td>858</td><td>5.0</td><td>4.515143</td></tr><tr><td>494</td><td>858</td><td>5.0</td><td>4.9345617</td></tr><tr><td>59</td><td>858</td><td>5.0</td><td>4.9069448</td></tr><tr><td>241</td><td>858</td><td>4.5</td><td>4.2980533</td></tr><tr><td>495</td><td>858</td><td>4.5</td><td>5.0540195</td></tr><tr><td>23</td><td>858</td><td>3.5</td><td>3.7669969</td></tr><tr><td>39</td><td>858</td><td>4.0</td><td>4.603769</td></tr><tr><td>380</td><td>858</td><td>4.0</td><td>4.5751247</td></tr><tr><td>520</td><td>858</td><td>2.0</td><td>4.119173</td></tr><tr><td>238</td><td>858</td><td>3.0</td><td>3.3562236</td></tr><tr><td>84</td><td>858</td><td>4.0</td><td>4.0978327</td></tr><tr><td>453</td><td>858</td><td>4.0</td><td>4.0941663</td></tr><tr><td>247</td><td>858</td><td>4.0</td><td>4.0001965</td></tr><tr><td>171</td><td>858</td><td>5.0</td><td>5.090206</td></tr><tr><td>343</td><td>858</td><td>3.0</td><td>4.220475</td></tr><tr><td>434</td><td>858</td><td>5.0</td><td>4.76587</td></tr><tr><td>585</td><td>858</td><td>5.0</td><td>4.7521243</td></tr><tr><td>51</td><td>858</td><td>3.5</td><td>5.3085785</td></tr><tr><td>331</td><td>858</td><td>5.0</td><td>4.445954</td></tr><tr><td>391</td><td>858</td><td>5.0</td><td>4.7932</td></tr><tr><td>532</td><td>858</td><td>5.0</td><td>4.8315783</td></tr><tr><td>166</td><td>858</td><td>4.5</td><td>4.3904</td></tr><tr><td>448</td><td>858</td><td>5.0</td><td>4.60394</td></tr><tr><td>97</td><td>858</td><td>5.0</td><td>4.5490646</td></tr><tr><td>400</td><td>858</td><td>5.0</td><td>4.64637</td></tr><tr><td>239</td><td>858</td><td>5.0</td><td>4.6788626</td></tr><tr><td>63</td><td>858</td><td>4.0</td><td>4.008374</td></tr><tr><td>361</td><td>858</td><td>2.5</td><td>1.747995</td></tr><tr><td>50</td><td>858</td><td>4.0</td><td>3.7959745</td></tr><tr><td>45</td><td>858</td><td>5.0</td><td>3.9841428</td></tr><tr><td>82</td><td>858</td><td>3.5</td><td>3.501133</td></tr><tr><td>249</td><td>858</td><td>4.5</td><td>4.5605154</td></tr><tr><td>364</td><td>858</td><td>5.0</td><td>4.730242</td></tr><tr><td>510</td><td>858</td><td>4.5</td><td>4.1856704</td></tr><tr><td>80</td><td>858</td><td>4.0</td><td>4.5086617</td></tr><tr><td>245</td><td>858</td><td>2.0</td><td>2.422425</td></tr><tr><td>113</td><td>858</td><td>4.0</td><td>3.9516401</td></tr><tr><td>160</td><td>858</td><td>5.0</td><td>4.0559244</td></tr><tr><td>70</td><td>858</td><td>5.0</td><td>4.7402253</td></tr><tr><td>62</td><td>858</td><td>5.0</td><td>5.180734</td></tr><tr><td>125</td><td>858</td><td>4.5</td><td>4.8542023</td></tr><tr><td>156</td><td>858</td><td>5.0</td><td>4.06987</td></tr><tr><td>480</td><td>858</td><td>5.0</td><td>4.55246</td></tr><tr><td>219</td><td>858</td><td>4.5</td><td>4.2065425</td></tr><tr><td>29</td><td>858</td><td>4.5</td><td>4.7222753</td></tr><tr><td>464</td><td>858</td><td>5.0</td><td>4.9200606</td></tr><tr><td>21</td><td>858</td><td>2.5</td><td>3.3262906</td></tr><tr><td>338</td><td>858</td><td>4.5</td><td>4.889768</td></tr><tr><td>492</td><td>858</td><td>3.0</td><td>3.560085</td></tr><tr><td>98</td><td>858</td><td>3.0</td><td>4.1772823</td></tr><tr><td>60</td><td>858</td><td>5.0</td><td>4.0642548</td></tr><tr><td>382</td><td>858</td><td>5.0</td><td>4.935823</td></tr><tr><td>469</td><td>858</td><td>5.0</td><td>4.8185124</td></tr><tr><td>221</td><td>858</td><td>4.5</td><td>4.9194145</td></tr><tr><td>141</td><td>858</td><td>2.5</td><td>3.6353083</td></tr><tr><td>414</td><td>858</td><td>5.0</td><td>4.7082896</td></tr><tr><td>608</td><td>858</td><td>5.0</td><td>3.4368207</td></tr><tr><td>376</td><td>858</td><td>4.0</td><td>4.4888573</td></tr><tr><td>254</td><td>858</td><td>4.0</td><td>3.9818885</td></tr><tr><td>378</td><td>858</td><td>3.0</td><td>4.6112647</td></tr><tr><td>213</td><td>858</td><td>4.0</td><td>4.3126183</td></tr><tr><td>228</td><td>858</td><td>4.0</td><td>4.036051</td></tr><tr><td>354</td><td>858</td><td>4.0</td><td>4.1334515</td></tr><tr><td>105</td><td>858</td><td>5.0</td><td>4.6859655</td></tr><tr><td>298</td><td>858</td><td>5.0</td><td>3.8843539</td></tr><tr><td>204</td><td>858</td><td>4.0</td><td>4.6338625</td></tr><tr><td>413</td><td>858</td><td>5.0</td><td>4.5144663</td></tr><tr><td>68</td><td>858</td><td>4.0</td><td>2.9717486</td></tr><tr><td>116</td><td>858</td><td>1.5</td><td>2.1302927</td></tr><tr><td>317</td><td>858</td><td>5.0</td><td>4.7448564</td></tr><tr><td>600</td><td>858</td><td>4.0</td><td>3.588676</td></tr><tr><td>424</td><td>858</td><td>3.0</td><td>3.782835</td></tr><tr><td>199</td><td>858</td><td>4.0</td><td>4.308262</td></tr><tr><td>135</td><td>858</td><td>4.0</td><td>4.2495666</td></tr><tr><td>522</td><td>858</td><td>4.5</td><td>4.8621206</td></tr><tr><td>42</td><td>858</td><td>5.0</td><td>4.442644</td></tr><tr><td>79</td><td>858</td><td>5.0</td><td>5.249404</td></tr><tr><td>131</td><td>858</td><td>4.0</td><td>4.2414746</td></tr><tr><td>294</td><td>858</td><td>5.0</td><td>4.2302527</td></tr><tr><td>357</td><td>858</td><td>5.0</td><td>4.091189</td></tr><tr><td>118</td><td>858</td><td>5.0</td><td>4.456959</td></tr><tr><td>573</td><td>858</td><td>5.0</td><td>4.362405</td></tr><tr><td>302</td><td>858</td><td>5.0</td><td>5.0193353</td></tr><tr><td>313</td><td>858</td><td>5.0</td><td>3.861159</td></tr><tr><td>275</td><td>858</td><td>5.0</td><td>4.7331853</td></tr><tr><td>282</td><td>858</td><td>5.0</td><td>4.669683</td></tr><tr><td>153</td><td>858</td><td>1.0</td><td>2.1552348</td></tr><tr><td>18</td><td>858</td><td>4.0</td><td>4.617146</td></tr><tr><td>74</td><td>858</td><td>5.0</td><td>4.7063785</td></tr><tr><td>104</td><td>858</td><td>1.5</td><td>4.0777435</td></tr><tr><td>483</td><td>858</td><td>4.0</td><td>4.3031096</td></tr><tr><td>422</td><td>858</td><td>4.0</td><td>4.3708906</td></tr><tr><td>606</td><td>897</td><td>3.5</td><td>3.5724893</td></tr><tr><td>57</td><td>897</td><td>4.0</td><td>4.025577</td></tr><tr><td>211</td><td>1025</td><td>4.0</td><td>3.8825245</td></tr><tr><td>103</td><td>1025</td><td>4.0</td><td>4.025104</td></tr><tr><td>177</td><td>1025</td><td>4.0</td><td>3.9144144</td></tr><tr><td>1</td><td>1025</td><td>5.0</td><td>5.182646</td></tr><tr><td>274</td><td>1025</td><td>3.5</td><td>2.9380946</td></tr><tr><td>474</td><td>1025</td><td>3.0</td><td>2.8971436</td></tr><tr><td>328</td><td>1025</td><td>3.5</td><td>3.7513394</td></tr><tr><td>20</td><td>1025</td><td>5.0</td><td>4.499312</td></tr><tr><td>479</td><td>1025</td><td>3.0</td><td>3.5339506</td></tr><tr><td>484</td><td>1025</td><td>5.0</td><td>4.4572988</td></tr><tr><td>387</td><td>1025</td><td>3.0</td><td>3.12073</td></tr><tr><td>4</td><td>1025</td><td>4.0</td><td>4.055913</td></tr><tr><td>39</td><td>1025</td><td>4.0</td><td>3.7278326</td></tr><tr><td>171</td><td>1025</td><td>4.0</td><td>4.1111636</td></tr><tr><td>395</td><td>1025</td><td>3.0</td><td>3.3211055</td></tr><tr><td>509</td><td>1025</td><td>2.5</td><td>3.3959088</td></tr><tr><td>288</td><td>1025</td><td>2.0</td><td>2.9946704</td></tr><tr><td>226</td><td>1025</td><td>4.0</td><td>4.018634</td></tr><tr><td>414</td><td>1025</td><td>4.0</td><td>4.170482</td></tr><tr><td>608</td><td>1025</td><td>3.5</td><td>3.3227012</td></tr><tr><td>304</td><td>1025</td><td>4.0</td><td>3.2522056</td></tr><tr><td>68</td><td>1025</td><td>2.5</td><td>2.88237</td></tr><tr><td>600</td><td>1025</td><td>3.5</td><td>3.5811226</td></tr><tr><td>605</td><td>1025</td><td>3.0</td><td>2.9461257</td></tr><tr><td>517</td><td>1025</td><td>2.5</td><td>2.7901132</td></tr><tr><td>597</td><td>1084</td><td>5.0</td><td>4.7583923</td></tr><tr><td>103</td><td>1084</td><td>5.0</td><td>4.7738624</td></tr><tr><td>372</td><td>1084</td><td>3.0</td><td>4.0457845</td></tr><tr><td>599</td><td>1084</td><td>3.5</td><td>3.5617254</td></tr><tr><td>140</td><td>1084</td><td>4.0</td><td>3.7949157</td></tr><tr><td>177</td><td>1084</td><td>3.5</td><td>3.8567655</td></tr><tr><td>6</td><td>1084</td><td>3.0</td><td>3.8734064</td></tr><tr><td>474</td><td>1084</td><td>3.5</td><td>3.7767208</td></tr><tr><td>402</td><td>1084</td><td>5.0</td><td>4.6814556</td></tr><tr><td>309</td><td>1084</td><td>3.0</td><td>4.547655</td></tr><tr><td>484</td><td>1084</td><td>4.0</td><td>4.0279994</td></tr><tr><td>607</td><td>1084</td><td>4.0</td><td>3.69666</td></tr><tr><td>43</td><td>1084</td><td>5.0</td><td>4.6016445</td></tr><tr><td>590</td><td>1084</td><td>4.0</td><td>4.061063</td></tr><tr><td>610</td><td>1084</td><td>4.0</td><td>4.5370426</td></tr><tr><td>290</td><td>1084</td><td>5.0</td><td>4.4560394</td></tr><tr><td>4</td><td>1084</td><td>5.0</td><td>4.521387</td></tr><tr><td>63</td><td>1084</td><td>4.0</td><td>3.791163</td></tr><tr><td>589</td><td>1084</td><td>4.0</td><td>6.216818</td></tr><tr><td>181</td><td>1084</td><td>3.0</td><td>3.397556</td></tr><tr><td>288</td><td>1084</td><td>4.0</td><td>4.288682</td></tr><tr><td>125</td><td>1084</td><td>4.5</td><td>4.374849</td></tr><tr><td>156</td><td>1084</td><td>5.0</td><td>4.0800486</td></tr><tr><td>32</td><td>1084</td><td>4.0</td><td>4.138898</td></tr><tr><td>265</td><td>1084</td><td>3.0</td><td>3.2710383</td></tr><tr><td>414</td><td>1084</td><td>3.0</td><td>4.5042524</td></tr><tr><td>260</td><td>1084</td><td>4.5</td><td>4.3664994</td></tr><tr><td>600</td><td>1084</td><td>3.5</td><td>3.3824427</td></tr><tr><td>294</td><td>1084</td><td>4.0</td><td>3.7501705</td></tr><tr><td>357</td><td>1084</td><td>4.5</td><td>4.0042057</td></tr><tr><td>405</td><td>1084</td><td>4.0</td><td>3.9041443</td></tr><tr><td>275</td><td>1084</td><td>5.0</td><td>4.3392334</td></tr><tr><td>410</td><td>1084</td><td>4.0</td><td>3.9228303</td></tr><tr><td>74</td><td>1084</td><td>5.0</td><td>4.6899505</td></tr><tr><td>315</td><td>1084</td><td>4.0</td><td>2.8244274</td></tr><tr><td>392</td><td>1127</td><td>3.0</td><td>2.9323575</td></tr><tr><td>580</td><td>1127</td><td>4.0</td><td>3.0055103</td></tr><tr><td>368</td><td>1127</td><td>4.0</td><td>3.8147533</td></tr><tr><td>101</td><td>1127</td><td>4.0</td><td>3.5527978</td></tr><tr><td>385</td><td>1127</td><td>3.0</td><td>2.56285</td></tr><tr><td>27</td><td>1127</td><td>4.0</td><td>3.8501284</td></tr><tr><td>577</td><td>1127</td><td>3.0</td><td>3.1201348</td></tr><tr><td>271</td><td>1127</td><td>2.5</td><td>2.56444</td></tr><tr><td>91</td><td>1127</td><td>4.0</td><td>3.1868632</td></tr><tr><td>372</td><td>1127</td><td>4.0</td><td>4.021686</td></tr><tr><td>599</td><td>1127</td><td>3.5</td><td>3.3050344</td></tr><tr><td>140</td><td>1127</td><td>3.0</td><td>3.4986677</td></tr><tr><td>325</td><td>1127</td><td>4.0</td><td>3.1332097</td></tr><tr><td>603</td><td>1127</td><td>1.0</td><td>2.4397988</td></tr><tr><td>1</td><td>1127</td><td>4.0</td><td>4.0529337</td></tr><tr><td>182</td><td>1127</td><td>0.5</td><td>2.9374783</td></tr><tr><td>377</td><td>1127</td><td>3.5</td><td>3.9606</td></tr><tr><td>57</td><td>1127</td><td>4.0</td><td>3.782763</td></tr><tr><td>570</td><td>1127</td><td>4.5</td><td>3.1462965</td></tr><tr><td>452</td><td>1127</td><td>5.0</td><td>4.037435</td></tr><tr><td>266</td><td>1127</td><td>4.0</td><td>3.4576433</td></tr><tr><td>19</td><td>1127</td><td>3.0</td><td>3.0598068</td></tr><tr><td>560</td><td>1127</td><td>4.0</td><td>3.5271177</td></tr><tr><td>165</td><td>1127</td><td>4.0</td><td>3.6084075</td></tr><tr><td>590</td><td>1127</td><td>3.5</td><td>3.7648115</td></tr><tr><td>202</td><td>1127</td><td>5.0</td><td>3.0571005</td></tr><tr><td>387</td><td>1127</td><td>4.5</td><td>3.4623616</td></tr><tr><td>610</td><td>1127</td><td>4.0</td><td>3.4050617</td></tr><tr><td>217</td><td>1127</td><td>4.0</td><td>2.1133738</td></tr><tr><td>555</td><td>1127</td><td>3.0</td><td>3.864121</td></tr><tr><td>39</td><td>1127</td><td>4.0</td><td>4.974875</td></tr><tr><td>380</td><td>1127</td><td>4.0</td><td>2.9539402</td></tr><tr><td>514</td><td>1127</td><td>3.5</td><td>3.8014157</td></tr><tr><td>428</td><td>1127</td><td>2.5</td><td>2.5235279</td></tr><tr><td>312</td><td>1127</td><td>4.0</td><td>3.6848114</td></tr><tr><td>509</td><td>1127</td><td>3.5</td><td>3.3096554</td></tr></tbody></table></div>"
            ]
          },
          "metadata": {
            "tags": []
          }
        }
      ]
    },
    {
      "cell_type": "code",
      "metadata": {
        "id": "LIoL2qKhDlWS",
        "colab_type": "code",
        "colab": {},
        "outputId": "4cb8118a-3cf3-4efa-81c0-c4834cea1a2a"
      },
      "source": [
        "%sql select * from movies join alldata on movies.movieId=alldata.movieId"
      ],
      "execution_count": 0,
      "outputs": [
        {
          "output_type": "display_data",
          "data": {
            "text/html": [
              "<style scoped>\n",
              "  .table-result-container {\n",
              "    max-height: 300px;\n",
              "    overflow: auto;\n",
              "  }\n",
              "  table, th, td {\n",
              "    border: 1px solid black;\n",
              "    border-collapse: collapse;\n",
              "  }\n",
              "  th, td {\n",
              "    padding: 5px;\n",
              "  }\n",
              "  th {\n",
              "    text-align: left;\n",
              "  }\n",
              "</style><div class='table-result-container'><table class='table-result'><thead style='background-color: white'><tr><th>movieId</th><th>title</th><th>genres</th><th>userId</th><th>movieId</th><th>rating</th><th>prediction</th></tr></thead><tbody><tr><td>148</td><td>Awfully Big Adventure, An (1995)</td><td>Drama</td><td>191</td><td>148</td><td>5.0</td><td>5.3208623</td></tr><tr><td>471</td><td>Hudsucker Proxy, The (1994)</td><td>Comedy</td><td>133</td><td>471</td><td>4.0</td><td>3.916665</td></tr><tr><td>471</td><td>Hudsucker Proxy, The (1994)</td><td>Comedy</td><td>597</td><td>471</td><td>2.0</td><td>4.0604944</td></tr><tr><td>471</td><td>Hudsucker Proxy, The (1994)</td><td>Comedy</td><td>385</td><td>471</td><td>4.0</td><td>3.1902223</td></tr><tr><td>471</td><td>Hudsucker Proxy, The (1994)</td><td>Comedy</td><td>436</td><td>471</td><td>3.0</td><td>4.0343404</td></tr><tr><td>471</td><td>Hudsucker Proxy, The (1994)</td><td>Comedy</td><td>602</td><td>471</td><td>4.0</td><td>4.8920736</td></tr><tr><td>471</td><td>Hudsucker Proxy, The (1994)</td><td>Comedy</td><td>91</td><td>471</td><td>1.0</td><td>2.4611886</td></tr><tr><td>471</td><td>Hudsucker Proxy, The (1994)</td><td>Comedy</td><td>409</td><td>471</td><td>3.0</td><td>3.886233</td></tr><tr><td>471</td><td>Hudsucker Proxy, The (1994)</td><td>Comedy</td><td>372</td><td>471</td><td>3.0</td><td>2.3894331</td></tr><tr><td>471</td><td>Hudsucker Proxy, The (1994)</td><td>Comedy</td><td>599</td><td>471</td><td>2.5</td><td>3.1700532</td></tr><tr><td>471</td><td>Hudsucker Proxy, The (1994)</td><td>Comedy</td><td>603</td><td>471</td><td>4.0</td><td>3.4137173</td></tr><tr><td>471</td><td>Hudsucker Proxy, The (1994)</td><td>Comedy</td><td>182</td><td>471</td><td>4.5</td><td>3.6109521</td></tr><tr><td>471</td><td>Hudsucker Proxy, The (1994)</td><td>Comedy</td><td>218</td><td>471</td><td>4.0</td><td>4.025479</td></tr><tr><td>471</td><td>Hudsucker Proxy, The (1994)</td><td>Comedy</td><td>474</td><td>471</td><td>3.0</td><td>2.8079236</td></tr><tr><td>471</td><td>Hudsucker Proxy, The (1994)</td><td>Comedy</td><td>500</td><td>471</td><td>1.0</td><td>1.6670866</td></tr><tr><td>471</td><td>Hudsucker Proxy, The (1994)</td><td>Comedy</td><td>57</td><td>471</td><td>3.0</td><td>4.4197097</td></tr><tr><td>471</td><td>Hudsucker Proxy, The (1994)</td><td>Comedy</td><td>462</td><td>471</td><td>2.5</td><td>3.2786694</td></tr><tr><td>471</td><td>Hudsucker Proxy, The (1994)</td><td>Comedy</td><td>387</td><td>471</td><td>3.0</td><td>3.6269004</td></tr><tr><td>471</td><td>Hudsucker Proxy, The (1994)</td><td>Comedy</td><td>610</td><td>471</td><td>4.0</td><td>3.5577626</td></tr><tr><td>471</td><td>Hudsucker Proxy, The (1994)</td><td>Comedy</td><td>217</td><td>471</td><td>2.0</td><td>2.296711</td></tr><tr><td>471</td><td>Hudsucker Proxy, The (1994)</td><td>Comedy</td><td>555</td><td>471</td><td>3.0</td><td>3.08586</td></tr><tr><td>471</td><td>Hudsucker Proxy, The (1994)</td><td>Comedy</td><td>176</td><td>471</td><td>5.0</td><td>3.2089114</td></tr><tr><td>471</td><td>Hudsucker Proxy, The (1994)</td><td>Comedy</td><td>520</td><td>471</td><td>5.0</td><td>4.1096087</td></tr><tr><td>471</td><td>Hudsucker Proxy, The (1994)</td><td>Comedy</td><td>136</td><td>471</td><td>4.0</td><td>3.9227624</td></tr><tr><td>471</td><td>Hudsucker Proxy, The (1994)</td><td>Comedy</td><td>171</td><td>471</td><td>3.0</td><td>3.1206248</td></tr><tr><td>471</td><td>Hudsucker Proxy, The (1994)</td><td>Comedy</td><td>273</td><td>471</td><td>5.0</td><td>5.3523006</td></tr><tr><td>471</td><td>Hudsucker Proxy, The (1994)</td><td>Comedy</td><td>448</td><td>471</td><td>4.0</td><td>2.946295</td></tr><tr><td>471</td><td>Hudsucker Proxy, The (1994)</td><td>Comedy</td><td>312</td><td>471</td><td>4.0</td><td>4.329278</td></tr><tr><td>471</td><td>Hudsucker Proxy, The (1994)</td><td>Comedy</td><td>216</td><td>471</td><td>3.0</td><td>3.5344622</td></tr><tr><td>471</td><td>Hudsucker Proxy, The (1994)</td><td>Comedy</td><td>411</td><td>471</td><td>4.0</td><td>3.509822</td></tr><tr><td>471</td><td>Hudsucker Proxy, The (1994)</td><td>Comedy</td><td>287</td><td>471</td><td>4.5</td><td>4.5716405</td></tr><tr><td>471</td><td>Hudsucker Proxy, The (1994)</td><td>Comedy</td><td>32</td><td>471</td><td>3.0</td><td>3.192408</td></tr><tr><td>471</td><td>Hudsucker Proxy, The (1994)</td><td>Comedy</td><td>469</td><td>471</td><td>5.0</td><td>3.788267</td></tr><tr><td>471</td><td>Hudsucker Proxy, The (1994)</td><td>Comedy</td><td>414</td><td>471</td><td>5.0</td><td>4.743995</td></tr><tr><td>471</td><td>Hudsucker Proxy, The (1994)</td><td>Comedy</td><td>608</td><td>471</td><td>1.5</td><td>1.9294959</td></tr><tr><td>471</td><td>Hudsucker Proxy, The (1994)</td><td>Comedy</td><td>426</td><td>471</td><td>5.0</td><td>4.982261</td></tr><tr><td>471</td><td>Hudsucker Proxy, The (1994)</td><td>Comedy</td><td>541</td><td>471</td><td>3.0</td><td>2.6116447</td></tr><tr><td>471</td><td>Hudsucker Proxy, The (1994)</td><td>Comedy</td><td>260</td><td>471</td><td>4.5</td><td>4.0758452</td></tr><tr><td>471</td><td>Hudsucker Proxy, The (1994)</td><td>Comedy</td><td>373</td><td>471</td><td>5.0</td><td>5.033858</td></tr><tr><td>471</td><td>Hudsucker Proxy, The (1994)</td><td>Comedy</td><td>357</td><td>471</td><td>3.5</td><td>3.4038715</td></tr><tr><td>471</td><td>Hudsucker Proxy, The (1994)</td><td>Comedy</td><td>104</td><td>471</td><td>4.5</td><td>3.1619394</td></tr><tr><td>833</td><td>High School High (1996)</td><td>Comedy</td><td>44</td><td>833</td><td>2.0</td><td>1.9642756</td></tr><tr><td>833</td><td>High School High (1996)</td><td>Comedy</td><td>599</td><td>833</td><td>1.5</td><td>1.4770055</td></tr><tr><td>833</td><td>High School High (1996)</td><td>Comedy</td><td>609</td><td>833</td><td>3.0</td><td>2.8991628</td></tr><tr><td>833</td><td>High School High (1996)</td><td>Comedy</td><td>307</td><td>833</td><td>1.0</td><td>1.0493337</td></tr><tr><td>833</td><td>High School High (1996)</td><td>Comedy</td><td>492</td><td>833</td><td>4.0</td><td>0.8356726</td></tr><tr><td>833</td><td>High School High (1996)</td><td>Comedy</td><td>608</td><td>833</td><td>0.5</td><td>0.45984435</td></tr><tr><td>1088</td><td>Dirty Dancing (1987)</td><td>Drama|Musical|Romance</td><td>463</td><td>1088</td><td>3.5</td><td>3.5583477</td></tr><tr><td>1088</td><td>Dirty Dancing (1987)</td><td>Drama|Musical|Romance</td><td>159</td><td>1088</td><td>4.0</td><td>4.02531</td></tr><tr><td>1088</td><td>Dirty Dancing (1987)</td><td>Drama|Musical|Romance</td><td>606</td><td>1088</td><td>3.0</td><td>3.1512077</td></tr><tr><td>1088</td><td>Dirty Dancing (1987)</td><td>Drama|Musical|Romance</td><td>599</td><td>1088</td><td>2.5</td><td>2.9037588</td></tr><tr><td>1088</td><td>Dirty Dancing (1987)</td><td>Drama|Musical|Romance</td><td>111</td><td>1088</td><td>3.0</td><td>3.6071506</td></tr><tr><td>1088</td><td>Dirty Dancing (1987)</td><td>Drama|Musical|Romance</td><td>47</td><td>1088</td><td>4.0</td><td>2.6536732</td></tr><tr><td>1088</td><td>Dirty Dancing (1987)</td><td>Drama|Musical|Romance</td><td>177</td><td>1088</td><td>3.5</td><td>3.2158246</td></tr><tr><td>1088</td><td>Dirty Dancing (1987)</td><td>Drama|Musical|Romance</td><td>132</td><td>1088</td><td>4.0</td><td>3.0852616</td></tr><tr><td>1088</td><td>Dirty Dancing (1987)</td><td>Drama|Musical|Romance</td><td>474</td><td>1088</td><td>3.5</td><td>3.0420575</td></tr><tr><td>1088</td><td>Dirty Dancing (1987)</td><td>Drama|Musical|Romance</td><td>20</td><td>1088</td><td>4.5</td><td>3.5724986</td></tr><tr><td>1088</td><td>Dirty Dancing (1987)</td><td>Drama|Musical|Romance</td><td>169</td><td>1088</td><td>4.5</td><td>4.401288</td></tr><tr><td>1088</td><td>Dirty Dancing (1987)</td><td>Drama|Musical|Romance</td><td>479</td><td>1088</td><td>4.0</td><td>3.401851</td></tr><tr><td>1088</td><td>Dirty Dancing (1987)</td><td>Drama|Musical|Romance</td><td>64</td><td>1088</td><td>4.0</td><td>3.5862129</td></tr><tr><td>1088</td><td>Dirty Dancing (1987)</td><td>Drama|Musical|Romance</td><td>554</td><td>1088</td><td>5.0</td><td>4.44126</td></tr><tr><td>1088</td><td>Dirty Dancing (1987)</td><td>Drama|Musical|Romance</td><td>41</td><td>1088</td><td>1.5</td><td>2.591677</td></tr><tr><td>1088</td><td>Dirty Dancing (1987)</td><td>Drama|Musical|Romance</td><td>563</td><td>1088</td><td>4.0</td><td>3.4094398</td></tr><tr><td>1088</td><td>Dirty Dancing (1987)</td><td>Drama|Musical|Romance</td><td>489</td><td>1088</td><td>4.5</td><td>2.9125314</td></tr><tr><td>1088</td><td>Dirty Dancing (1987)</td><td>Drama|Musical|Romance</td><td>286</td><td>1088</td><td>3.5</td><td>4.1004806</td></tr><tr><td>1088</td><td>Dirty Dancing (1987)</td><td>Drama|Musical|Romance</td><td>387</td><td>1088</td><td>1.5</td><td>2.855915</td></tr><tr><td>1088</td><td>Dirty Dancing (1987)</td><td>Drama|Musical|Romance</td><td>381</td><td>1088</td><td>3.5</td><td>3.7334356</td></tr><tr><td>1088</td><td>Dirty Dancing (1987)</td><td>Drama|Musical|Romance</td><td>583</td><td>1088</td><td>3.5</td><td>3.082087</td></tr><tr><td>1088</td><td>Dirty Dancing (1987)</td><td>Drama|Musical|Romance</td><td>594</td><td>1088</td><td>4.5</td><td>4.572848</td></tr><tr><td>1088</td><td>Dirty Dancing (1987)</td><td>Drama|Musical|Romance</td><td>307</td><td>1088</td><td>3.0</td><td>2.8986292</td></tr><tr><td>1088</td><td>Dirty Dancing (1987)</td><td>Drama|Musical|Romance</td><td>555</td><td>1088</td><td>4.0</td><td>3.762129</td></tr><tr><td>1088</td><td>Dirty Dancing (1987)</td><td>Drama|Musical|Romance</td><td>84</td><td>1088</td><td>3.0</td><td>3.1707106</td></tr><tr><td>1088</td><td>Dirty Dancing (1987)</td><td>Drama|Musical|Romance</td><td>51</td><td>1088</td><td>4.0</td><td>3.5413625</td></tr><tr><td>1088</td><td>Dirty Dancing (1987)</td><td>Drama|Musical|Romance</td><td>391</td><td>1088</td><td>1.0</td><td>2.3603868</td></tr><tr><td>1088</td><td>Dirty Dancing (1987)</td><td>Drama|Musical|Romance</td><td>509</td><td>1088</td><td>3.0</td><td>3.1086438</td></tr><tr><td>1088</td><td>Dirty Dancing (1987)</td><td>Drama|Musical|Romance</td><td>10</td><td>1088</td><td>3.0</td><td>2.7886214</td></tr><tr><td>1088</td><td>Dirty Dancing (1987)</td><td>Drama|Musical|Romance</td><td>226</td><td>1088</td><td>1.0</td><td>3.660724</td></tr><tr><td>1088</td><td>Dirty Dancing (1987)</td><td>Drama|Musical|Romance</td><td>221</td><td>1088</td><td>3.0</td><td>3.3587172</td></tr><tr><td>1088</td><td>Dirty Dancing (1987)</td><td>Drama|Musical|Romance</td><td>414</td><td>1088</td><td>3.0</td><td>3.3067443</td></tr><tr><td>1088</td><td>Dirty Dancing (1987)</td><td>Drama|Musical|Romance</td><td>200</td><td>1088</td><td>4.0</td><td>3.7927837</td></tr><tr><td>1088</td><td>Dirty Dancing (1987)</td><td>Drama|Musical|Romance</td><td>188</td><td>1088</td><td>4.0</td><td>4.722965</td></tr><tr><td>1088</td><td>Dirty Dancing (1987)</td><td>Drama|Musical|Romance</td><td>68</td><td>1088</td><td>3.5</td><td>3.506883</td></tr><tr><td>1088</td><td>Dirty Dancing (1987)</td><td>Drama|Musical|Romance</td><td>525</td><td>1088</td><td>4.5</td><td>3.5468173</td></tr><tr><td>1088</td><td>Dirty Dancing (1987)</td><td>Drama|Musical|Romance</td><td>116</td><td>1088</td><td>4.5</td><td>4.467802</td></tr><tr><td>1088</td><td>Dirty Dancing (1987)</td><td>Drama|Musical|Romance</td><td>600</td><td>1088</td><td>3.5</td><td>2.3419719</td></tr><tr><td>1088</td><td>Dirty Dancing (1987)</td><td>Drama|Musical|Romance</td><td>42</td><td>1088</td><td>3.0</td><td>3.7973669</td></tr><tr><td>1088</td><td>Dirty Dancing (1987)</td><td>Drama|Musical|Romance</td><td>104</td><td>1088</td><td>3.0</td><td>3.4655204</td></tr><tr><td>1088</td><td>Dirty Dancing (1987)</td><td>Drama|Musical|Romance</td><td>483</td><td>1088</td><td>3.0</td><td>3.7264085</td></tr><tr><td>1088</td><td>Dirty Dancing (1987)</td><td>Drama|Musical|Romance</td><td>517</td><td>1088</td><td>1.0</td><td>2.4312377</td></tr><tr><td>1238</td><td>Local Hero (1983)</td><td>Comedy</td><td>385</td><td>1238</td><td>3.0</td><td>3.053997</td></tr><tr><td>1238</td><td>Local Hero (1983)</td><td>Comedy</td><td>587</td><td>1238</td><td>4.0</td><td>4.130641</td></tr><tr><td>1238</td><td>Local Hero (1983)</td><td>Comedy</td><td>325</td><td>1238</td><td>4.0</td><td>4.134736</td></tr><tr><td>1238</td><td>Local Hero (1983)</td><td>Comedy</td><td>268</td><td>1238</td><td>5.0</td><td>5.1153917</td></tr><tr><td>1238</td><td>Local Hero (1983)</td><td>Comedy</td><td>19</td><td>1238</td><td>3.0</td><td>3.0399346</td></tr><tr><td>1238</td><td>Local Hero (1983)</td><td>Comedy</td><td>462</td><td>1238</td><td>3.5</td><td>3.653516</td></tr><tr><td>1238</td><td>Local Hero (1983)</td><td>Comedy</td><td>216</td><td>1238</td><td>5.0</td><td>3.176804</td></tr><tr><td>1238</td><td>Local Hero (1983)</td><td>Comedy</td><td>156</td><td>1238</td><td>4.0</td><td>3.985336</td></tr><tr><td>1238</td><td>Local Hero (1983)</td><td>Comedy</td><td>469</td><td>1238</td><td>5.0</td><td>4.6948714</td></tr><tr><td>1342</td><td>Candyman (1992)</td><td>Horror|Thriller</td><td>223</td><td>1342</td><td>1.0</td><td>0.78567654</td></tr><tr><td>1342</td><td>Candyman (1992)</td><td>Horror|Thriller</td><td>599</td><td>1342</td><td>2.5</td><td>2.6340344</td></tr><tr><td>1342</td><td>Candyman (1992)</td><td>Horror|Thriller</td><td>325</td><td>1342</td><td>4.0</td><td>3.1341913</td></tr><tr><td>1342</td><td>Candyman (1992)</td><td>Horror|Thriller</td><td>19</td><td>1342</td><td>2.0</td><td>2.2003596</td></tr><tr><td>1342</td><td>Candyman (1992)</td><td>Horror|Thriller</td><td>425</td><td>1342</td><td>3.5</td><td>1.9732206</td></tr><tr><td>1342</td><td>Candyman (1992)</td><td>Horror|Thriller</td><td>387</td><td>1342</td><td>3.0</td><td>2.8786001</td></tr><tr><td>1342</td><td>Candyman (1992)</td><td>Horror|Thriller</td><td>503</td><td>1342</td><td>1.0</td><td>1.2139052</td></tr><tr><td>1342</td><td>Candyman (1992)</td><td>Horror|Thriller</td><td>307</td><td>1342</td><td>2.0</td><td>2.061759</td></tr><tr><td>1342</td><td>Candyman (1992)</td><td>Horror|Thriller</td><td>312</td><td>1342</td><td>4.0</td><td>3.5683453</td></tr><tr><td>1342</td><td>Candyman (1992)</td><td>Horror|Thriller</td><td>608</td><td>1342</td><td>2.0</td><td>2.1532648</td></tr><tr><td>1342</td><td>Candyman (1992)</td><td>Horror|Thriller</td><td>600</td><td>1342</td><td>2.5</td><td>2.573633</td></tr><tr><td>1580</td><td>Men in Black (a.k.a. MIB) (1997)</td><td>Action|Comedy|Sci-Fi</td><td>137</td><td>1580</td><td>3.5</td><td>2.9997633</td></tr><tr><td>1580</td><td>Men in Black (a.k.a. MIB) (1997)</td><td>Action|Comedy|Sci-Fi</td><td>580</td><td>1580</td><td>4.0</td><td>3.5042713</td></tr><tr><td>1580</td><td>Men in Black (a.k.a. MIB) (1997)</td><td>Action|Comedy|Sci-Fi</td><td>322</td><td>1580</td><td>3.5</td><td>3.5243342</td></tr><tr><td>1580</td><td>Men in Black (a.k.a. MIB) (1997)</td><td>Action|Comedy|Sci-Fi</td><td>593</td><td>1580</td><td>1.5</td><td>2.3027382</td></tr><tr><td>1580</td><td>Men in Black (a.k.a. MIB) (1997)</td><td>Action|Comedy|Sci-Fi</td><td>597</td><td>1580</td><td>3.0</td><td>3.714849</td></tr><tr><td>1580</td><td>Men in Black (a.k.a. MIB) (1997)</td><td>Action|Comedy|Sci-Fi</td><td>155</td><td>1580</td><td>4.0</td><td>4.334693</td></tr><tr><td>1580</td><td>Men in Black (a.k.a. MIB) (1997)</td><td>Action|Comedy|Sci-Fi</td><td>34</td><td>1580</td><td>2.5</td><td>2.7814455</td></tr><tr><td>1580</td><td>Men in Black (a.k.a. MIB) (1997)</td><td>Action|Comedy|Sci-Fi</td><td>368</td><td>1580</td><td>3.0</td><td>2.8654363</td></tr><tr><td>1580</td><td>Men in Black (a.k.a. MIB) (1997)</td><td>Action|Comedy|Sci-Fi</td><td>115</td><td>1580</td><td>4.0</td><td>4.0522566</td></tr><tr><td>1580</td><td>Men in Black (a.k.a. MIB) (1997)</td><td>Action|Comedy|Sci-Fi</td><td>28</td><td>1580</td><td>3.0</td><td>3.0434904</td></tr><tr><td>1580</td><td>Men in Black (a.k.a. MIB) (1997)</td><td>Action|Comedy|Sci-Fi</td><td>183</td><td>1580</td><td>4.0</td><td>3.6820867</td></tr><tr><td>1580</td><td>Men in Black (a.k.a. MIB) (1997)</td><td>Action|Comedy|Sci-Fi</td><td>587</td><td>1580</td><td>4.0</td><td>3.7162719</td></tr><tr><td>1580</td><td>Men in Black (a.k.a. MIB) (1997)</td><td>Action|Comedy|Sci-Fi</td><td>27</td><td>1580</td><td>3.0</td><td>3.3217525</td></tr><tr><td>1580</td><td>Men in Black (a.k.a. MIB) (1997)</td><td>Action|Comedy|Sci-Fi</td><td>577</td><td>1580</td><td>3.0</td><td>3.4925365</td></tr><tr><td>1580</td><td>Men in Black (a.k.a. MIB) (1997)</td><td>Action|Comedy|Sci-Fi</td><td>606</td><td>1580</td><td>2.5</td><td>3.0084841</td></tr><tr><td>1580</td><td>Men in Black (a.k.a. MIB) (1997)</td><td>Action|Comedy|Sci-Fi</td><td>91</td><td>1580</td><td>3.5</td><td>3.3748655</td></tr><tr><td>1580</td><td>Men in Black (a.k.a. MIB) (1997)</td><td>Action|Comedy|Sci-Fi</td><td>330</td><td>1580</td><td>4.0</td><td>3.2089097</td></tr><tr><td>1580</td><td>Men in Black (a.k.a. MIB) (1997)</td><td>Action|Comedy|Sci-Fi</td><td>230</td><td>1580</td><td>3.5</td><td>3.2200701</td></tr><tr><td>1580</td><td>Men in Black (a.k.a. MIB) (1997)</td><td>Action|Comedy|Sci-Fi</td><td>93</td><td>1580</td><td>5.0</td><td>4.5592194</td></tr><tr><td>1580</td><td>Men in Black (a.k.a. MIB) (1997)</td><td>Action|Comedy|Sci-Fi</td><td>232</td><td>1580</td><td>3.5</td><td>3.6281984</td></tr><tr><td>1580</td><td>Men in Black (a.k.a. MIB) (1997)</td><td>Action|Comedy|Sci-Fi</td><td>233</td><td>1580</td><td>3.0</td><td>2.7680452</td></tr><tr><td>1580</td><td>Men in Black (a.k.a. MIB) (1997)</td><td>Action|Comedy|Sci-Fi</td><td>367</td><td>1580</td><td>4.0</td><td>3.3452492</td></tr><tr><td>1580</td><td>Men in Black (a.k.a. MIB) (1997)</td><td>Action|Comedy|Sci-Fi</td><td>599</td><td>1580</td><td>3.0</td><td>2.963436</td></tr><tr><td>1580</td><td>Men in Black (a.k.a. MIB) (1997)</td><td>Action|Comedy|Sci-Fi</td><td>111</td><td>1580</td><td>3.0</td><td>3.578093</td></tr><tr><td>1580</td><td>Men in Black (a.k.a. MIB) (1997)</td><td>Action|Comedy|Sci-Fi</td><td>47</td><td>1580</td><td>1.5</td><td>2.814306</td></tr><tr><td>1580</td><td>Men in Black (a.k.a. MIB) (1997)</td><td>Action|Comedy|Sci-Fi</td><td>140</td><td>1580</td><td>3.0</td><td>3.0569177</td></tr><tr><td>1580</td><td>Men in Black (a.k.a. MIB) (1997)</td><td>Action|Comedy|Sci-Fi</td><td>177</td><td>1580</td><td>3.5</td><td>3.0836565</td></tr><tr><td>1580</td><td>Men in Black (a.k.a. MIB) (1997)</td><td>Action|Comedy|Sci-Fi</td><td>416</td><td>1580</td><td>2.0</td><td>1.8009171</td></tr><tr><td>1580</td><td>Men in Black (a.k.a. MIB) (1997)</td><td>Action|Comedy|Sci-Fi</td><td>355</td><td>1580</td><td>4.0</td><td>3.4249718</td></tr><tr><td>1580</td><td>Men in Black (a.k.a. MIB) (1997)</td><td>Action|Comedy|Sci-Fi</td><td>603</td><td>1580</td><td>4.0</td><td>2.8586576</td></tr><tr><td>1580</td><td>Men in Black (a.k.a. MIB) (1997)</td><td>Action|Comedy|Sci-Fi</td><td>1</td><td>1580</td><td>3.0</td><td>4.135856</td></tr><tr><td>1580</td><td>Men in Black (a.k.a. MIB) (1997)</td><td>Action|Comedy|Sci-Fi</td><td>274</td><td>1580</td><td>3.0</td><td>3.5751975</td></tr><tr><td>1580</td><td>Men in Black (a.k.a. MIB) (1997)</td><td>Action|Comedy|Sci-Fi</td><td>182</td><td>1580</td><td>2.5</td><td>3.242614</td></tr><tr><td>1580</td><td>Men in Black (a.k.a. MIB) (1997)</td><td>Action|Comedy|Sci-Fi</td><td>280</td><td>1580</td><td>3.5</td><td>3.6362245</td></tr><tr><td>1580</td><td>Men in Black (a.k.a. MIB) (1997)</td><td>Action|Comedy|Sci-Fi</td><td>474</td><td>1580</td><td>4.5</td><td>3.1142106</td></tr><tr><td>1580</td><td>Men in Black (a.k.a. MIB) (1997)</td><td>Action|Comedy|Sci-Fi</td><td>164</td><td>1580</td><td>5.0</td><td>4.192818</td></tr><tr><td>1580</td><td>Men in Black (a.k.a. MIB) (1997)</td><td>Action|Comedy|Sci-Fi</td><td>169</td><td>1580</td><td>3.5</td><td>4.438897</td></tr><tr><td>1580</td><td>Men in Black (a.k.a. MIB) (1997)</td><td>Action|Comedy|Sci-Fi</td><td>500</td><td>1580</td><td>4.0</td><td>2.8504312</td></tr><tr><td>1580</td><td>Men in Black (a.k.a. MIB) (1997)</td><td>Action|Comedy|Sci-Fi</td><td>283</td><td>1580</td><td>4.0</td><td>3.227838</td></tr><tr><td>1580</td><td>Men in Black (a.k.a. MIB) (1997)</td><td>Action|Comedy|Sci-Fi</td><td>359</td><td>1580</td><td>2.0</td><td>2.2742286</td></tr><tr><td>1580</td><td>Men in Black (a.k.a. MIB) (1997)</td><td>Action|Comedy|Sci-Fi</td><td>57</td><td>1580</td><td>4.0</td><td>3.271472</td></tr><tr><td>1580</td><td>Men in Black (a.k.a. MIB) (1997)</td><td>Action|Comedy|Sci-Fi</td><td>570</td><td>1580</td><td>4.0</td><td>3.36377</td></tr><tr><td>1580</td><td>Men in Black (a.k.a. MIB) (1997)</td><td>Action|Comedy|Sci-Fi</td><td>292</td><td>1580</td><td>4.0</td><td>3.8104687</td></tr><tr><td>1580</td><td>Men in Black (a.k.a. MIB) (1997)</td><td>Action|Comedy|Sci-Fi</td><td>339</td><td>1580</td><td>2.0</td><td>3.6506524</td></tr><tr><td>1580</td><td>Men in Black (a.k.a. MIB) (1997)</td><td>Action|Comedy|Sci-Fi</td><td>559</td><td>1580</td><td>5.0</td><td>4.094793</td></tr><tr><td>1580</td><td>Men in Black (a.k.a. MIB) (1997)</td><td>Action|Comedy|Sci-Fi</td><td>452</td><td>1580</td><td>4.0</td><td>4.1972027</td></tr><tr><td>1580</td><td>Men in Black (a.k.a. MIB) (1997)</td><td>Action|Comedy|Sci-Fi</td><td>48</td><td>1580</td><td>5.0</td><td>3.7759247</td></tr><tr><td>1580</td><td>Men in Black (a.k.a. MIB) (1997)</td><td>Action|Comedy|Sci-Fi</td><td>266</td><td>1580</td><td>3.0</td><td>3.3209665</td></tr><tr><td>1580</td><td>Men in Black (a.k.a. MIB) (1997)</td><td>Action|Comedy|Sci-Fi</td><td>268</td><td>1580</td><td>3.0</td><td>2.834013</td></tr><tr><td>1580</td><td>Men in Black (a.k.a. MIB) (1997)</td><td>Action|Comedy|Sci-Fi</td><td>19</td><td>1580</td><td>2.0</td><td>3.02495</td></tr><tr><td>1580</td><td>Men in Black (a.k.a. MIB) (1997)</td><td>Action|Comedy|Sci-Fi</td><td>542</td><td>1580</td><td>3.5</td><td>4.1935225</td></tr><tr><td>1580</td><td>Men in Black (a.k.a. MIB) (1997)</td><td>Action|Comedy|Sci-Fi</td><td>560</td><td>1580</td><td>4.0</td><td>3.5335257</td></tr><tr><td>1580</td><td>Men in Black (a.k.a. MIB) (1997)</td><td>Action|Comedy|Sci-Fi</td><td>415</td><td>1580</td><td>3.5</td><td>3.5657845</td></tr><tr><td>1580</td><td>Men in Black (a.k.a. MIB) (1997)</td><td>Action|Comedy|Sci-Fi</td><td>64</td><td>1580</td><td>3.5</td><td>3.5765502</td></tr><tr><td>1580</td><td>Men in Black (a.k.a. MIB) (1997)</td><td>Action|Comedy|Sci-Fi</td><td>579</td><td>1580</td><td>4.0</td><td>3.472731</td></tr><tr><td>1580</td><td>Men in Black (a.k.a. MIB) (1997)</td><td>Action|Comedy|Sci-Fi</td><td>154</td><td>1580</td><td>3.5</td><td>3.6446843</td></tr><tr><td>1580</td><td>Men in Black (a.k.a. MIB) (1997)</td><td>Action|Comedy|Sci-Fi</td><td>425</td><td>1580</td><td>3.5</td><td>3.531627</td></tr><tr><td>1580</td><td>Men in Black (a.k.a. MIB) (1997)</td><td>Action|Comedy|Sci-Fi</td><td>484</td><td>1580</td><td>3.5</td><td>4.1013985</td></tr><tr><td>1580</td><td>Men in Black (a.k.a. MIB) (1997)</td><td>Action|Comedy|Sci-Fi</td><td>607</td><td>1580</td><td>3.0</td><td>2.9288046</td></tr><tr><td>1580</td><td>Men in Black (a.k.a. MIB) (1997)</td><td>Action|Comedy|Sci-Fi</td><td>489</td><td>1580</td><td>3.0</td><td>2.7154453</td></tr><tr><td>1580</td><td>Men in Black (a.k.a. MIB) (1997)</td><td>Action|Comedy|Sci-Fi</td><td>590</td><td>1580</td><td>3.5</td><td>3.3150775</td></tr><tr><td>1580</td><td>Men in Black (a.k.a. MIB) (1997)</td><td>Action|Comedy|Sci-Fi</td><td>318</td><td>1580</td><td>4.0</td><td>3.641623</td></tr><tr><td>1580</td><td>Men in Black (a.k.a. MIB) (1997)</td><td>Action|Comedy|Sci-Fi</td><td>462</td><td>1580</td><td>4.0</td><td>3.1607614</td></tr><tr><td>1580</td><td>Men in Black (a.k.a. MIB) (1997)</td><td>Action|Comedy|Sci-Fi</td><td>202</td><td>1580</td><td>4.0</td><td>3.7892969</td></tr><tr><td>1580</td><td>Men in Black (a.k.a. MIB) (1997)</td><td>Action|Comedy|Sci-Fi</td><td>263</td><td>1580</td><td>3.0</td><td>3.513526</td></tr><tr><td>1580</td><td>Men in Black (a.k.a. MIB) (1997)</td><td>Action|Comedy|Sci-Fi</td><td>586</td><td>1580</td><td>5.0</td><td>4.310636</td></tr><tr><td>1580</td><td>Men in Black (a.k.a. MIB) (1997)</td><td>Action|Comedy|Sci-Fi</td><td>286</td><td>1580</td><td>3.0</td><td>3.1762073</td></tr><tr><td>1580</td><td>Men in Black (a.k.a. MIB) (1997)</td><td>Action|Comedy|Sci-Fi</td><td>381</td><td>1580</td><td>4.0</td><td>3.3109167</td></tr><tr><td>1580</td><td>Men in Black (a.k.a. MIB) (1997)</td><td>Action|Comedy|Sci-Fi</td><td>594</td><td>1580</td><td>4.5</td><td>4.138242</td></tr><tr><td>1580</td><td>Men in Black (a.k.a. MIB) (1997)</td><td>Action|Comedy|Sci-Fi</td><td>217</td><td>1580</td><td>5.0</td><td>3.3305006</td></tr><tr><td>1580</td><td>Men in Black (a.k.a. MIB) (1997)</td><td>Action|Comedy|Sci-Fi</td><td>307</td><td>1580</td><td>2.0</td><td>3.3063817</td></tr><tr><td>1580</td><td>Men in Black (a.k.a. MIB) (1997)</td><td>Action|Comedy|Sci-Fi</td><td>220</td><td>1580</td><td>5.0</td><td>4.2145143</td></tr><tr><td>1580</td><td>Men in Black (a.k.a. MIB) (1997)</td><td>Action|Comedy|Sci-Fi</td><td>4</td><td>1580</td><td>3.0</td><td>2.9690979</td></tr><tr><td>1580</td><td>Men in Black (a.k.a. MIB) (1997)</td><td>Action|Comedy|Sci-Fi</td><td>59</td><td>1580</td><td>3.0</td><td>3.2608387</td></tr><tr><td>1580</td><td>Men in Black (a.k.a. MIB) (1997)</td><td>Action|Comedy|Sci-Fi</td><td>100</td><td>1580</td><td>4.0</td><td>3.74227</td></tr><tr><td>1580</td><td>Men in Black (a.k.a. MIB) (1997)</td><td>Action|Comedy|Sci-Fi</td><td>450</td><td>1580</td><td>3.0</td><td>3.6540852</td></tr><tr><td>1580</td><td>Men in Black (a.k.a. MIB) (1997)</td><td>Action|Comedy|Sci-Fi</td><td>495</td><td>1580</td><td>3.5</td><td>4.1940804</td></tr><tr><td>1580</td><td>Men in Black (a.k.a. MIB) (1997)</td><td>Action|Comedy|Sci-Fi</td><td>555</td><td>1580</td><td>2.0</td><td>3.919077</td></tr><tr><td>1580</td><td>Men in Black (a.k.a. MIB) (1997)</td><td>Action|Comedy|Sci-Fi</td><td>380</td><td>1580</td><td>5.0</td><td>4.3845177</td></tr><tr><td>1580</td><td>Men in Black (a.k.a. MIB) (1997)</td><td>Action|Comedy|Sci-Fi</td><td>520</td><td>1580</td><td>5.0</td><td>3.9134538</td></tr><tr><td>1580</td><td>Men in Black (a.k.a. MIB) (1997)</td><td>Action|Comedy|Sci-Fi</td><td>244</td><td>1580</td><td>4.0</td><td>4.018785</td></tr><tr><td>1580</td><td>Men in Black (a.k.a. MIB) (1997)</td><td>Action|Comedy|Sci-Fi</td><td>453</td><td>1580</td><td>4.0</td><td>4.24328</td></tr><tr><td>1580</td><td>Men in Black (a.k.a. MIB) (1997)</td><td>Action|Comedy|Sci-Fi</td><td>434</td><td>1580</td><td>3.5</td><td>3.1223803</td></tr><tr><td>1580</td><td>Men in Black (a.k.a. MIB) (1997)</td><td>Action|Comedy|Sci-Fi</td><td>51</td><td>1580</td><td>5.0</td><td>3.4323707</td></tr><tr><td>1580</td><td>Men in Black (a.k.a. MIB) (1997)</td><td>Action|Comedy|Sci-Fi</td><td>428</td><td>1580</td><td>1.5</td><td>2.4848056</td></tr><tr><td>1580</td><td>Men in Black (a.k.a. MIB) (1997)</td><td>Action|Comedy|Sci-Fi</td><td>391</td><td>1580</td><td>2.0</td><td>2.8383338</td></tr><tr><td>1580</td><td>Men in Black (a.k.a. MIB) (1997)</td><td>Action|Comedy|Sci-Fi</td><td>438</td><td>1580</td><td>4.0</td><td>3.7991552</td></tr><tr><td>1580</td><td>Men in Black (a.k.a. MIB) (1997)</td><td>Action|Comedy|Sci-Fi</td><td>532</td><td>1580</td><td>5.0</td><td>4.4597707</td></tr><tr><td>1580</td><td>Men in Black (a.k.a. MIB) (1997)</td><td>Action|Comedy|Sci-Fi</td><td>69</td><td>1580</td><td>4.0</td><td>4.875853</td></tr><tr><td>1580</td><td>Men in Black (a.k.a. MIB) (1997)</td><td>Action|Comedy|Sci-Fi</td><td>166</td><td>1580</td><td>4.0</td><td>3.8547316</td></tr><tr><td>1580</td><td>Men in Black (a.k.a. MIB) (1997)</td><td>Action|Comedy|Sci-Fi</td><td>448</td><td>1580</td><td>4.0</td><td>3.6746216</td></tr><tr><td>1580</td><td>Men in Black (a.k.a. MIB) (1997)</td><td>Action|Comedy|Sci-Fi</td><td>543</td><td>1580</td><td>5.0</td><td>4.694483</td></tr><tr><td>1580</td><td>Men in Black (a.k.a. MIB) (1997)</td><td>Action|Comedy|Sci-Fi</td><td>234</td><td>1580</td><td>4.0</td><td>3.5812783</td></tr><tr><td>1580</td><td>Men in Black (a.k.a. MIB) (1997)</td><td>Action|Comedy|Sci-Fi</td><td>239</td><td>1580</td><td>4.0</td><td>3.8807716</td></tr><tr><td>1580</td><td>Men in Black (a.k.a. MIB) (1997)</td><td>Action|Comedy|Sci-Fi</td><td>264</td><td>1580</td><td>4.5</td><td>3.8986835</td></tr><tr><td>1580</td><td>Men in Black (a.k.a. MIB) (1997)</td><td>Action|Comedy|Sci-Fi</td><td>63</td><td>1580</td><td>2.0</td><td>3.7367759</td></tr><tr><td>1580</td><td>Men in Black (a.k.a. MIB) (1997)</td><td>Action|Comedy|Sci-Fi</td><td>361</td><td>1580</td><td>3.5</td><td>3.179565</td></tr><tr><td>1580</td><td>Men in Black (a.k.a. MIB) (1997)</td><td>Action|Comedy|Sci-Fi</td><td>50</td><td>1580</td><td>2.5</td><td>2.5837646</td></tr><tr><td>1580</td><td>Men in Black (a.k.a. MIB) (1997)</td><td>Action|Comedy|Sci-Fi</td><td>45</td><td>1580</td><td>3.0</td><td>3.5020235</td></tr><tr><td>1580</td><td>Men in Black (a.k.a. MIB) (1997)</td><td>Action|Comedy|Sci-Fi</td><td>82</td><td>1580</td><td>4.0</td><td>3.7523453</td></tr><tr><td>1580</td><td>Men in Black (a.k.a. MIB) (1997)</td><td>Action|Comedy|Sci-Fi</td><td>249</td><td>1580</td><td>4.5</td><td>3.959528</td></tr><tr><td>1580</td><td>Men in Black (a.k.a. MIB) (1997)</td><td>Action|Comedy|Sci-Fi</td><td>167</td><td>1580</td><td>3.5</td><td>3.4899678</td></tr><tr><td>1580</td><td>Men in Black (a.k.a. MIB) (1997)</td><td>Action|Comedy|Sci-Fi</td><td>288</td><td>1580</td><td>4.0</td><td>3.1275568</td></tr><tr><td>1580</td><td>Men in Black (a.k.a. MIB) (1997)</td><td>Action|Comedy|Sci-Fi</td><td>237</td><td>1580</td><td>4.5</td><td>3.4240837</td></tr><tr><td>1580</td><td>Men in Black (a.k.a. MIB) (1997)</td><td>Action|Comedy|Sci-Fi</td><td>24</td><td>1580</td><td>4.0</td><td>3.8300138</td></tr><tr><td>1580</td><td>Men in Black (a.k.a. MIB) (1997)</td><td>Action|Comedy|Sci-Fi</td><td>160</td><td>1580</td><td>2.0</td><td>2.890771</td></tr><tr><td>1580</td><td>Men in Black (a.k.a. MIB) (1997)</td><td>Action|Comedy|Sci-Fi</td><td>62</td><td>1580</td><td>3.0</td><td>4.110759</td></tr><tr><td>1580</td><td>Men in Black (a.k.a. MIB) (1997)</td><td>Action|Comedy|Sci-Fi</td><td>125</td><td>1580</td><td>4.0</td><td>3.9897664</td></tr><tr><td>1580</td><td>Men in Black (a.k.a. MIB) (1997)</td><td>Action|Comedy|Sci-Fi</td><td>156</td><td>1580</td><td>3.0</td><td>2.957215</td></tr><tr><td>1580</td><td>Men in Black (a.k.a. MIB) (1997)</td><td>Action|Comedy|Sci-Fi</td><td>480</td><td>1580</td><td>3.5</td><td>3.4347765</td></tr><tr><td>1580</td><td>Men in Black (a.k.a. MIB) (1997)</td><td>Action|Comedy|Sci-Fi</td><td>219</td><td>1580</td><td>3.0</td><td>3.237734</td></tr><tr><td>1580</td><td>Men in Black (a.k.a. MIB) (1997)</td><td>Action|Comedy|Sci-Fi</td><td>477</td><td>1580</td><td>4.0</td><td>3.7595959</td></tr><tr><td>1580</td><td>Men in Black (a.k.a. MIB) (1997)</td><td>Action|Comedy|Sci-Fi</td><td>226</td><td>1580</td><td>3.5</td><td>3.6753194</td></tr><tr><td>1580</td><td>Men in Black (a.k.a. MIB) (1997)</td><td>Action|Comedy|Sci-Fi</td><td>21</td><td>1580</td><td>4.5</td><td>3.610949</td></tr><tr><td>1580</td><td>Men in Black (a.k.a. MIB) (1997)</td><td>Action|Comedy|Sci-Fi</td><td>352</td><td>1580</td><td>2.5</td><td>4.004471</td></tr><tr><td>1580</td><td>Men in Black (a.k.a. MIB) (1997)</td><td>Action|Comedy|Sci-Fi</td><td>469</td><td>1580</td><td>3.0</td><td>2.8816867</td></tr><tr><td>1580</td><td>Men in Black (a.k.a. MIB) (1997)</td><td>Action|Comedy|Sci-Fi</td><td>265</td><td>1580</td><td>3.0</td><td>3.889142</td></tr><tr><td>1580</td><td>Men in Black (a.k.a. MIB) (1997)</td><td>Action|Comedy|Sci-Fi</td><td>141</td><td>1580</td><td>3.5</td><td>3.3441281</td></tr><tr><td>1580</td><td>Men in Black (a.k.a. MIB) (1997)</td><td>Action|Comedy|Sci-Fi</td><td>414</td><td>1580</td><td>4.0</td><td>3.649336</td></tr><tr><td>1580</td><td>Men in Black (a.k.a. MIB) (1997)</td><td>Action|Comedy|Sci-Fi</td><td>608</td><td>1580</td><td>3.5</td><td>3.322477</td></tr><tr><td>1580</td><td>Men in Black (a.k.a. MIB) (1997)</td><td>Action|Comedy|Sci-Fi</td><td>334</td><td>1580</td><td>3.5</td><td>3.3224792</td></tr><tr><td>1580</td><td>Men in Black (a.k.a. MIB) (1997)</td><td>Action|Comedy|Sci-Fi</td><td>200</td><td>1580</td><td>4.0</td><td>3.7317224</td></tr><tr><td>1580</td><td>Men in Black (a.k.a. MIB) (1997)</td><td>Action|Comedy|Sci-Fi</td><td>272</td><td>1580</td><td>4.0</td><td>3.525033</td></tr><tr><td>1580</td><td>Men in Black (a.k.a. MIB) (1997)</td><td>Action|Comedy|Sci-Fi</td><td>376</td><td>1580</td><td>4.0</td><td>4.302492</td></tr><tr><td>1580</td><td>Men in Black (a.k.a. MIB) (1997)</td><td>Action|Comedy|Sci-Fi</td><td>254</td><td>1580</td><td>2.5</td><td>2.9270453</td></tr><tr><td>1580</td><td>Men in Black (a.k.a. MIB) (1997)</td><td>Action|Comedy|Sci-Fi</td><td>534</td><td>1580</td><td>4.0</td><td>3.885479</td></tr><tr><td>1580</td><td>Men in Black (a.k.a. MIB) (1997)</td><td>Action|Comedy|Sci-Fi</td><td>303</td><td>1580</td><td>5.0</td><td>4.241348</td></tr><tr><td>1580</td><td>Men in Black (a.k.a. MIB) (1997)</td><td>Action|Comedy|Sci-Fi</td><td>354</td><td>1580</td><td>3.5</td><td>3.6926649</td></tr><tr><td>1580</td><td>Men in Black (a.k.a. MIB) (1997)</td><td>Action|Comedy|Sci-Fi</td><td>304</td><td>1580</td><td>5.0</td><td>3.9166083</td></tr><tr><td>1580</td><td>Men in Black (a.k.a. MIB) (1997)</td><td>Action|Comedy|Sci-Fi</td><td>298</td><td>1580</td><td>3.0</td><td>2.9239748</td></tr><tr><td>1580</td><td>Men in Black (a.k.a. MIB) (1997)</td><td>Action|Comedy|Sci-Fi</td><td>33</td><td>1580</td><td>3.0</td><td>2.8637047</td></tr><tr><td>1580</td><td>Men in Black (a.k.a. MIB) (1997)</td><td>Action|Comedy|Sci-Fi</td><td>369</td><td>1580</td><td>1.0</td><td>3.5908077</td></tr><tr><td>1580</td><td>Men in Black (a.k.a. MIB) (1997)</td><td>Action|Comedy|Sci-Fi</td><td>68</td><td>1580</td><td>4.0</td><td>3.425173</td></tr><tr><td>1580</td><td>Men in Black (a.k.a. MIB) (1997)</td><td>Action|Comedy|Sci-Fi</td><td>561</td><td>1580</td><td>3.0</td><td>3.3981814</td></tr><tr><td>1580</td><td>Men in Black (a.k.a. MIB) (1997)</td><td>Action|Comedy|Sci-Fi</td><td>198</td><td>1580</td><td>4.0</td><td>2.9702055</td></tr><tr><td>1580</td><td>Men in Black (a.k.a. MIB) (1997)</td><td>Action|Comedy|Sci-Fi</td><td>199</td><td>1580</td><td>4.0</td><td>3.0238929</td></tr><tr><td>1580</td><td>Men in Black (a.k.a. MIB) (1997)</td><td>Action|Comedy|Sci-Fi</td><td>135</td><td>1580</td><td>4.0</td><td>3.4327462</td></tr><tr><td>1580</td><td>Men in Black (a.k.a. MIB) (1997)</td><td>Action|Comedy|Sci-Fi</td><td>522</td><td>1580</td><td>4.0</td><td>4.0184007</td></tr><tr><td>1580</td><td>Men in Black (a.k.a. MIB) (1997)</td><td>Action|Comedy|Sci-Fi</td><td>42</td><td>1580</td><td>4.0</td><td>3.5520358</td></tr><tr><td>1580</td><td>Men in Black (a.k.a. MIB) (1997)</td><td>Action|Comedy|Sci-Fi</td><td>119</td><td>1580</td><td>4.0</td><td>4.250963</td></tr><tr><td>1580</td><td>Men in Black (a.k.a. MIB) (1997)</td><td>Action|Comedy|Sci-Fi</td><td>79</td><td>1580</td><td>4.0</td><td>3.1933115</td></tr><tr><td>1580</td><td>Men in Black (a.k.a. MIB) (1997)</td><td>Action|Comedy|Sci-Fi</td><td>201</td><td>1580</td><td>4.0</td><td>4.2537165</td></tr><tr><td>1580</td><td>Men in Black (a.k.a. MIB) (1997)</td><td>Action|Comedy|Sci-Fi</td><td>149</td><td>1580</td><td>2.0</td><td>2.9160976</td></tr><tr><td>1580</td><td>Men in Black (a.k.a. MIB) (1997)</td><td>Action|Comedy|Sci-Fi</td><td>294</td><td>1580</td><td>4.0</td><td>3.4195487</td></tr><tr><td>1580</td><td>Men in Black (a.k.a. MIB) (1997)</td><td>Action|Comedy|Sci-Fi</td><td>357</td><td>1580</td><td>3.5</td><td>3.5408597</td></tr><tr><td>1580</td><td>Men in Black (a.k.a. MIB) (1997)</td><td>Action|Comedy|Sci-Fi</td><td>573</td><td>1580</td><td>4.5</td><td>4.4418716</td></tr><tr><td>1580</td><td>Men in Black (a.k.a. MIB) (1997)</td><td>Action|Comedy|Sci-Fi</td><td>313</td><td>1580</td><td>4.0</td><td>3.162015</td></tr><tr><td>1580</td><td>Men in Black (a.k.a. MIB) (1997)</td><td>Action|Comedy|Sci-Fi</td><td>557</td><td>1580</td><td>3.0</td><td>3.0843768</td></tr><tr><td>1580</td><td>Men in Black (a.k.a. MIB) (1997)</td><td>Action|Comedy|Sci-Fi</td><td>67</td><td>1580</td><td>4.0</td><td>4.2140474</td></tr><tr><td>1580</td><td>Men in Black (a.k.a. MIB) (1997)</td><td>Action|Comedy|Sci-Fi</td><td>186</td><td>1580</td><td>4.0</td><td>4.258277</td></tr><tr><td>1580</td><td>Men in Black (a.k.a. MIB) (1997)</td><td>Action|Comedy|Sci-Fi</td><td>275</td><td>1580</td><td>3.0</td><td>3.5406587</td></tr><tr><td>1580</td><td>Men in Black (a.k.a. MIB) (1997)</td><td>Action|Comedy|Sci-Fi</td><td>282</td><td>1580</td><td>4.0</td><td>3.7824917</td></tr><tr><td>1580</td><td>Men in Black (a.k.a. MIB) (1997)</td><td>Action|Comedy|Sci-Fi</td><td>172</td><td>1580</td><td>3.5</td><td>4.403782</td></tr><tr><td>1580</td><td>Men in Black (a.k.a. MIB) (1997)</td><td>Action|Comedy|Sci-Fi</td><td>399</td><td>1580</td><td>0.5</td><td>1.8613694</td></tr><tr><td>1580</td><td>Men in Black (a.k.a. MIB) (1997)</td><td>Action|Comedy|Sci-Fi</td><td>144</td><td>1580</td><td>3.5</td><td>3.2633576</td></tr><tr><td>1580</td><td>Men in Black (a.k.a. MIB) (1997)</td><td>Action|Comedy|Sci-Fi</td><td>153</td><td>1580</td><td>0.5</td><td>0.9851387</td></tr><tr><td>1580</td><td>Men in Black (a.k.a. MIB) (1997)</td><td>Action|Comedy|Sci-Fi</td><td>420</td><td>1580</td><td>3.5</td><td>3.4609768</td></tr><tr><td>1580</td><td>Men in Black (a.k.a. MIB) (1997)</td><td>Action|Comedy|Sci-Fi</td><td>18</td><td>1580</td><td>3.5</td><td>3.628398</td></tr><tr><td>1580</td><td>Men in Black (a.k.a. MIB) (1997)</td><td>Action|Comedy|Sci-Fi</td><td>475</td><td>1580</td><td>5.0</td><td>4.933865</td></tr><tr><td>1580</td><td>Men in Black (a.k.a. MIB) (1997)</td><td>Action|Comedy|Sci-Fi</td><td>104</td><td>1580</td><td>3.0</td><td>3.3701777</td></tr><tr><td>1580</td><td>Men in Black (a.k.a. MIB) (1997)</td><td>Action|Comedy|Sci-Fi</td><td>483</td><td>1580</td><td>2.0</td><td>3.4670222</td></tr><tr><td>1580</td><td>Men in Black (a.k.a. MIB) (1997)</td><td>Action|Comedy|Sci-Fi</td><td>187</td><td>1580</td><td>2.0</td><td>2.5611622</td></tr><tr><td>1580</td><td>Men in Black (a.k.a. MIB) (1997)</td><td>Action|Comedy|Sci-Fi</td><td>89</td><td>1580</td><td>1.5</td><td>2.697106</td></tr><tr><td>1580</td><td>Men in Black (a.k.a. MIB) (1997)</td><td>Action|Comedy|Sci-Fi</td><td>401</td><td>1580</td><td>2.0</td><td>3.0135531</td></tr><tr><td>1580</td><td>Men in Black (a.k.a. MIB) (1997)</td><td>Action|Comedy|Sci-Fi</td><td>517</td><td>1580</td><td>3.0</td><td>2.3163776</td></tr><tr><td>1591</td><td>Spawn (1997)</td><td>Action|Adventure|Sci-Fi|Thriller</td><td>362</td><td>1591</td><td>4.0</td><td>3.7010078</td></tr><tr><td>1591</td><td>Spawn (1997)</td><td>Action|Adventure|Sci-Fi|Thriller</td><td>93</td><td>1591</td><td>4.0</td><td>4.3493676</td></tr><tr><td>1591</td><td>Spawn (1997)</td><td>Action|Adventure|Sci-Fi|Thriller</td><td>599</td><td>1591</td><td>2.5</td><td>2.0501308</td></tr><tr><td>1591</td><td>Spawn (1997)</td><td>Action|Adventure|Sci-Fi|Thriller</td><td>305</td><td>1591</td><td>3.0</td><td>2.4841392</td></tr><tr><td>1591</td><td>Spawn (1997)</td><td>Action|Adventure|Sci-Fi|Thriller</td><td>274</td><td>1591</td><td>2.0</td><td>3.0274665</td></tr><tr><td>1591</td><td>Spawn (1997)</td><td>Action|Adventure|Sci-Fi|Thriller</td><td>182</td><td>1591</td><td>3.5</td><td>3.8448138</td></tr><tr><td>1591</td><td>Spawn (1997)</td><td>Action|Adventure|Sci-Fi|Thriller</td><td>19</td><td>1591</td><td>2.0</td><td>1.9967077</td></tr><tr><td>1591</td><td>Spawn (1997)</td><td>Action|Adventure|Sci-Fi|Thriller</td><td>217</td><td>1591</td><td>2.0</td><td>1.788626</td></tr><tr><td>1591</td><td>Spawn (1997)</td><td>Action|Adventure|Sci-Fi|Thriller</td><td>220</td><td>1591</td><td>1.5</td><td>3.3956318</td></tr><tr><td>1591</td><td>Spawn (1997)</td><td>Action|Adventure|Sci-Fi|Thriller</td><td>555</td><td>1591</td><td>4.0</td><td>3.6958132</td></tr><tr><td>1591</td><td>Spawn (1997)</td><td>Action|Adventure|Sci-Fi|Thriller</td><td>51</td><td>1591</td><td>1.0</td><td>1.5784953</td></tr><tr><td>1591</td><td>Spawn (1997)</td><td>Action|Adventure|Sci-Fi|Thriller</td><td>428</td><td>1591</td><td>3.0</td><td>2.8759847</td></tr><tr><td>1591</td><td>Spawn (1997)</td><td>Action|Adventure|Sci-Fi|Thriller</td><td>438</td><td>1591</td><td>2.5</td><td>2.7673316</td></tr><tr><td>1591</td><td>Spawn (1997)</td><td>Action|Adventure|Sci-Fi|Thriller</td><td>448</td><td>1591</td><td>1.0</td><td>1.437082</td></tr><tr><td>1591</td><td>Spawn (1997)</td><td>Action|Adventure|Sci-Fi|Thriller</td><td>45</td><td>1591</td><td>4.0</td><td>3.2623181</td></tr><tr><td>1591</td><td>Spawn (1997)</td><td>Action|Adventure|Sci-Fi|Thriller</td><td>288</td><td>1591</td><td>3.0</td><td>2.369362</td></tr><tr><td>1591</td><td>Spawn (1997)</td><td>Action|Adventure|Sci-Fi|Thriller</td><td>160</td><td>1591</td><td>2.0</td><td>2.566757</td></tr><tr><td>1591</td><td>Spawn (1997)</td><td>Action|Adventure|Sci-Fi|Thriller</td><td>464</td><td>1591</td><td>1.0</td><td>1.6424884</td></tr><tr><td>1591</td><td>Spawn (1997)</td><td>Action|Adventure|Sci-Fi|Thriller</td><td>414</td><td>1591</td><td>3.0</td><td>3.0673964</td></tr><tr><td>1591</td><td>Spawn (1997)</td><td>Action|Adventure|Sci-Fi|Thriller</td><td>608</td><td>1591</td><td>3.0</td><td>2.7975502</td></tr><tr><td>1591</td><td>Spawn (1997)</td><td>Action|Adventure|Sci-Fi|Thriller</td><td>534</td><td>1591</td><td>3.5</td><td>3.1565664</td></tr><tr><td>1591</td><td>Spawn (1997)</td><td>Action|Adventure|Sci-Fi|Thriller</td><td>298</td><td>1591</td><td>1.5</td><td>0.8887541</td></tr><tr><td>1591</td><td>Spawn (1997)</td><td>Action|Adventure|Sci-Fi|Thriller</td><td>198</td><td>1591</td><td>2.0</td><td>2.8007457</td></tr><tr><td>1591</td><td>Spawn (1997)</td><td>Action|Adventure|Sci-Fi|Thriller</td><td>294</td><td>1591</td><td>1.0</td><td>1.4784622</td></tr><tr><td>1591</td><td>Spawn (1997)</td><td>Action|Adventure|Sci-Fi|Thriller</td><td>313</td><td>1591</td><td>5.0</td><td>4.7099595</td></tr><tr><td>1591</td><td>Spawn (1997)</td><td>Action|Adventure|Sci-Fi|Thriller</td><td>483</td><td>1591</td><td>3.5</td><td>2.127399</td></tr><tr><td>1645</td><td>The Devil's Advocate (1997)</td><td>Drama|Mystery|Thriller</td><td>362</td><td>1645</td><td>5.0</td><td>4.1895146</td></tr><tr><td>1645</td><td>The Devil's Advocate (1997)</td><td>Drama|Mystery|Thriller</td><td>368</td><td>1645</td><td>3.0</td><td>2.3445253</td></tr><tr><td>1645</td><td>The Devil's Advocate (1997)</td><td>Drama|Mystery|Thriller</td><td>115</td><td>1645</td><td>4.0</td><td>2.4824784</td></tr><tr><td>1645</td><td>The Devil's Advocate (1997)</td><td>Drama|Mystery|Thriller</td><td>28</td><td>1645</td><td>2.5</td><td>3.2407055</td></tr><tr><td>1645</td><td>The Devil's Advocate (1997)</td><td>Drama|Mystery|Thriller</td><td>332</td><td>1645</td><td>3.5</td><td>3.1957145</td></tr><tr><td>1645</td><td>The Devil's Advocate (1997)</td><td>Drama|Mystery|Thriller</td><td>606</td><td>1645</td><td>3.5</td><td>3.5182319</td></tr><tr><td>1645</td><td>The Devil's Advocate (1997)</td><td>Drama|Mystery|Thriller</td><td>91</td><td>1645</td><td>3.0</td><td>4.0114717</td></tr><tr><td>1645</td><td>The Devil's Advocate (1997)</td><td>Drama|Mystery|Thriller</td><td>246</td><td>1645</td><td>4.0</td><td>3.8824792</td></tr><tr><td>1645</td><td>The Devil's Advocate (1997)</td><td>Drama|Mystery|Thriller</td><td>599</td><td>1645</td><td>3.0</td><td>2.5626824</td></tr><tr><td>1645</td><td>The Devil's Advocate (1997)</td><td>Drama|Mystery|Thriller</td><td>305</td><td>1645</td><td>2.5</td><td>3.6400547</td></tr><tr><td>1645</td><td>The Devil's Advocate (1997)</td><td>Drama|Mystery|Thriller</td><td>603</td><td>1645</td><td>3.0</td><td>3.3802176</td></tr><tr><td>1645</td><td>The Devil's Advocate (1997)</td><td>Drama|Mystery|Thriller</td><td>297</td><td>1645</td><td>3.0</td><td>3.14475</td></tr><tr><td>1645</td><td>The Devil's Advocate (1997)</td><td>Drama|Mystery|Thriller</td><td>274</td><td>1645</td><td>3.5</td><td>3.8187685</td></tr><tr><td>1645</td><td>The Devil's Advocate (1997)</td><td>Drama|Mystery|Thriller</td><td>182</td><td>1645</td><td>4.5</td><td>3.4645948</td></tr><tr><td>1645</td><td>The Devil's Advocate (1997)</td><td>Drama|Mystery|Thriller</td><td>474</td><td>1645</td><td>2.0</td><td>2.6737423</td></tr><tr><td>1645</td><td>The Devil's Advocate (1997)</td><td>Drama|Mystery|Thriller</td><td>432</td><td>1645</td><td>4.0</td><td>3.1100311</td></tr><tr><td>1645</td><td>The Devil's Advocate (1997)</td><td>Drama|Mystery|Thriller</td><td>452</td><td>1645</td><td>4.0</td><td>3.9915886</td></tr><tr><td>1645</td><td>The Devil's Advocate (1997)</td><td>Drama|Mystery|Thriller</td><td>19</td><td>1645</td><td>2.0</td><td>1.9717053</td></tr><tr><td>1645</td><td>The Devil's Advocate (1997)</td><td>Drama|Mystery|Thriller</td><td>542</td><td>1645</td><td>5.0</td><td>4.5039816</td></tr><tr><td>1645</td><td>The Devil's Advocate (1997)</td><td>Drama|Mystery|Thriller</td><td>64</td><td>1645</td><td>2.5</td><td>3.5245018</td></tr><tr><td>1645</td><td>The Devil's Advocate (1997)</td><td>Drama|Mystery|Thriller</td><td>309</td><td>1645</td><td>1.0</td><td>1.9862148</td></tr><tr><td>1645</td><td>The Devil's Advocate (1997)</td><td>Drama|Mystery|Thriller</td><td>425</td><td>1645</td><td>4.0</td><td>3.64378</td></tr><tr><td>1645</td><td>The Devil's Advocate (1997)</td><td>Drama|Mystery|Thriller</td><td>590</td><td>1645</td><td>3.0</td><td>2.8767233</td></tr><tr><td>1645</td><td>The Devil's Advocate (1997)</td><td>Drama|Mystery|Thriller</td><td>318</td><td>1645</td><td>3.0</td><td>3.8790593</td></tr><tr><td>1645</td><td>The Devil's Advocate (1997)</td><td>Drama|Mystery|Thriller</td><td>202</td><td>1645</td><td>3.0</td><td>3.2872071</td></tr><tr><td>1645</td><td>The Devil's Advocate (1997)</td><td>Drama|Mystery|Thriller</td><td>586</td><td>1645</td><td>3.5</td><td>4.687751</td></tr><tr><td>1645</td><td>The Devil's Advocate (1997)</td><td>Drama|Mystery|Thriller</td><td>217</td><td>1645</td><td>3.0</td><td>2.8467662</td></tr><tr><td>1645</td><td>The Devil's Advocate (1997)</td><td>Drama|Mystery|Thriller</td><td>307</td><td>1645</td><td>4.0</td><td>4.0559745</td></tr><tr><td>1645</td><td>The Devil's Advocate (1997)</td><td>Drama|Mystery|Thriller</td><td>495</td><td>1645</td><td>5.0</td><td>4.81262</td></tr><tr><td>1645</td><td>The Devil's Advocate (1997)</td><td>Drama|Mystery|Thriller</td><td>51</td><td>1645</td><td>5.0</td><td>3.976899</td></tr><tr><td>1645</td><td>The Devil's Advocate (1997)</td><td>Drama|Mystery|Thriller</td><td>428</td><td>1645</td><td>3.5</td><td>3.1629617</td></tr><tr><td>1645</td><td>The Devil's Advocate (1997)</td><td>Drama|Mystery|Thriller</td><td>391</td><td>1645</td><td>2.0</td><td>1.7847081</td></tr><tr><td>1645</td><td>The Devil's Advocate (1997)</td><td>Drama|Mystery|Thriller</td><td>69</td><td>1645</td><td>4.0</td><td>4.0549436</td></tr><tr><td>1645</td><td>The Devil's Advocate (1997)</td><td>Drama|Mystery|Thriller</td><td>448</td><td>1645</td><td>3.0</td><td>3.32335</td></tr><tr><td>1645</td><td>The Devil's Advocate (1997)</td><td>Drama|Mystery|Thriller</td><td>239</td><td>1645</td><td>4.0</td><td>4.092828</td></tr><tr><td>1645</td><td>The Devil's Advocate (1997)</td><td>Drama|Mystery|Thriller</td><td>82</td><td>1645</td><td>2.0</td><td>4.113961</td></tr><tr><td>1645</td><td>The Devil's Advocate (1997)</td><td>Drama|Mystery|Thriller</td><td>113</td><td>1645</td><td>1.0</td><td>2.0612438</td></tr><tr><td>1645</td><td>The Devil's Advocate (1997)</td><td>Drama|Mystery|Thriller</td><td>160</td><td>1645</td><td>3.0</td><td>2.4879549</td></tr><tr><td>1645</td><td>The Devil's Advocate (1997)</td><td>Drama|Mystery|Thriller</td><td>62</td><td>1645</td><td>5.0</td><td>4.2969923</td></tr><tr><td>1645</td><td>The Devil's Advocate (1997)</td><td>Drama|Mystery|Thriller</td><td>480</td><td>1645</td><td>3.0</td><td>3.4151409</td></tr><tr><td>1645</td><td>The Devil's Advocate (1997)</td><td>Drama|Mystery|Thriller</td><td>219</td><td>1645</td><td>3.5</td><td>2.991178</td></tr><tr><td>1645</td><td>The Devil's Advocate (1997)</td><td>Drama|Mystery|Thriller</td><td>414</td><td>1645</td><td>3.0</td><td>3.46637</td></tr><tr><td>1645</td><td>The Devil's Advocate (1997)</td><td>Drama|Mystery|Thriller</td><td>608</td><td>1645</td><td>4.5</td><td>4.187391</td></tr><tr><td>1645</td><td>The Devil's Advocate (1997)</td><td>Drama|Mystery|Thriller</td><td>354</td><td>1645</td><td>3.5</td><td>3.7204094</td></tr><tr><td>1645</td><td>The Devil's Advocate (1997)</td><td>Drama|Mystery|Thriller</td><td>68</td><td>1645</td><td>4.0</td><td>3.5773592</td></tr><tr><td>1645</td><td>The Devil's Advocate (1997)</td><td>Drama|Mystery|Thriller</td><td>198</td><td>1645</td><td>5.0</td><td>2.2199192</td></tr><tr><td>1645</td><td>The Devil's Advocate (1997)</td><td>Drama|Mystery|Thriller</td><td>199</td><td>1645</td><td>2.0</td><td>2.1176777</td></tr><tr><td>1645</td><td>The Devil's Advocate (1997)</td><td>Drama|Mystery|Thriller</td><td>522</td><td>1645</td><td>4.5</td><td>3.6639764</td></tr><tr><td>1645</td><td>The Devil's Advocate (1997)</td><td>Drama|Mystery|Thriller</td><td>42</td><td>1645</td><td>4.0</td><td>3.523396</td></tr><tr><td>1645</td><td>The Devil's Advocate (1997)</td><td>Drama|Mystery|Thriller</td><td>282</td><td>1645</td><td>4.0</td><td>3.6214483</td></tr><tr><td>1645</td><td>The Devil's Advocate (1997)</td><td>Drama|Mystery|Thriller</td><td>483</td><td>1645</td><td>3.5</td><td>3.736484</td></tr><tr><td>1829</td><td>Chinese Box (1997)</td><td>Drama|Romance</td><td>606</td><td>1829</td><td>3.5</td><td>3.4847972</td></tr><tr><td>1829</td><td>Chinese Box (1997)</td><td>Drama|Romance</td><td>113</td><td>1829</td><td>3.0</td><td>3.0896132</td></tr><tr><td>1959</td><td>Out of Africa (1985)</td><td>Drama|Romance</td><td>597</td><td>1959</td><td>4.0</td><td>4.257903</td></tr><tr><td>1959</td><td>Out of Africa (1985)</td><td>Drama|Romance</td><td>108</td><td>1959</td><td>5.0</td><td>4.9084425</td></tr><tr><td>1959</td><td>Out of Africa (1985)</td><td>Drama|Romance</td><td>577</td><td>1959</td><td>4.0</td><td>3.0917726</td></tr><tr><td>1959</td><td>Out of Africa (1985)</td><td>Drama|Romance</td><td>384</td><td>1959</td><td>4.0</td><td>3.9207807</td></tr><tr><td>1959</td><td>Out of Africa (1985)</td><td>Drama|Romance</td><td>606</td><td>1959</td><td>3.5</td><td>3.4783237</td></tr><tr><td>1959</td><td>Out of Africa (1985)</td><td>Drama|Romance</td><td>599</td><td>1959</td><td>3.0</td><td>2.9824119</td></tr><tr><td>1959</td><td>Out of Africa (1985)</td><td>Drama|Romance</td><td>603</td><td>1959</td><td>3.0</td><td>3.0455658</td></tr><tr><td>1959</td><td>Out of Africa (1985)</td><td>Drama|Romance</td><td>474</td><td>1959</td><td>4.0</td><td>3.6116412</td></tr><tr><td>1959</td><td>Out of Africa (1985)</td><td>Drama|Romance</td><td>202</td><td>1959</td><td>4.0</td><td>3.8369274</td></tr><tr><td>1959</td><td>Out of Africa (1985)</td><td>Drama|Romance</td><td>555</td><td>1959</td><td>3.0</td><td>3.3282738</td></tr><tr><td>1959</td><td>Out of Africa (1985)</td><td>Drama|Romance</td><td>70</td><td>1959</td><td>4.5</td><td>4.3033576</td></tr><tr><td>1959</td><td>Out of Africa (1985)</td><td>Drama|Romance</td><td>351</td><td>1959</td><td>3.0</td><td>2.9503038</td></tr><tr><td>1959</td><td>Out of Africa (1985)</td><td>Drama|Romance</td><td>221</td><td>1959</td><td>3.5</td><td>3.8878016</td></tr><tr><td>1959</td><td>Out of Africa (1985)</td><td>Drama|Romance</td><td>342</td><td>1959</td><td>3.0</td><td>3.2264175</td></tr><tr><td>1959</td><td>Out of Africa (1985)</td><td>Drama|Romance</td><td>138</td><td>1959</td><td>3.5</td><td>3.663981</td></tr><tr><td>2122</td><td>Children of the Corn (1984)</td><td>Horror|Thriller</td><td>368</td><td>2122</td><td>2.0</td><td>1.8083733</td></tr><tr><td>2122</td><td>Children of the Corn (1984)</td><td>Horror|Thriller</td><td>384</td><td>2122</td><td>1.0</td><td>0.6682231</td></tr><tr><td>2122</td><td>Children of the Corn (1984)</td><td>Horror|Thriller</td><td>91</td><td>2122</td><td>4.0</td><td>2.6398892</td></tr><tr><td>2122</td><td>Children of the Corn (1984)</td><td>Horror|Thriller</td><td>274</td><td>2122</td><td>3.5</td><td>2.3163257</td></tr><tr><td>2122</td><td>Children of the Corn (1984)</td><td>Horror|Thriller</td><td>474</td><td>2122</td><td>1.0</td><td>1.2162346</td></tr><tr><td>2122</td><td>Children of the Corn (1984)</td><td>Horror|Thriller</td><td>292</td><td>2122</td><td>1.5</td><td>0.7744766</td></tr><tr><td>2122</td><td>Children of the Corn (1984)</td><td>Horror|Thriller</td><td>307</td><td>2122</td><td>3.5</td><td>3.3347669</td></tr><tr><td>2122</td><td>Children of the Corn (1984)</td><td>Horror|Thriller</td><td>288</td><td>2122</td><td>1.0</td><td>1.9843403</td></tr><tr><td>2122</td><td>Children of the Corn (1984)</td><td>Horror|Thriller</td><td>260</td><td>2122</td><td>3.5</td><td>3.3825753</td></tr><tr><td>2122</td><td>Children of the Corn (1984)</td><td>Horror|Thriller</td><td>600</td><td>2122</td><td>3.0</td><td>3.0157237</td></tr><tr><td>2122</td><td>Children of the Corn (1984)</td><td>Horror|Thriller</td><td>571</td><td>2122</td><td>3.0</td><td>2.4511397</td></tr><tr><td>2142</td><td>American Tail: Fievel Goes West, An (1991)</td><td>Adventure|Animation|Children|Musical|Western</td><td>27</td><td>2142</td><td>3.0</td><td>3.0147583</td></tr><tr><td>2142</td><td>American Tail: Fievel Goes West, An (1991)</td><td>Adventure|Animation|Children|Musical|Western</td><td>387</td><td>2142</td><td>3.0</td><td>2.9248934</td></tr><tr><td>2142</td><td>American Tail: Fievel Goes West, An (1991)</td><td>Adventure|Animation|Children|Musical|Western</td><td>448</td><td>2142</td><td>3.0</td><td>2.68475</td></tr><tr><td>2142</td><td>American Tail: Fievel Goes West, An (1991)</td><td>Adventure|Animation|Children|Musical|Western</td><td>234</td><td>2142</td><td>3.0</td><td>3.0207574</td></tr><tr><td>2142</td><td>American Tail: Fievel Goes West, An (1991)</td><td>Adventure|Animation|Children|Musical|Western</td><td>288</td><td>2142</td><td>3.0</td><td>3.1920278</td></tr><tr><td>2142</td><td>American Tail: Fievel Goes West, An (1991)</td><td>Adventure|Animation|Children|Musical|Western</td><td>608</td><td>2142</td><td>2.0</td><td>2.025932</td></tr><tr><td>2142</td><td>American Tail: Fievel Goes West, An (1991)</td><td>Adventure|Animation|Children|Musical|Western</td><td>525</td><td>2142</td><td>3.5</td><td>3.3095345</td></tr><tr><td>2142</td><td>American Tail: Fievel Goes West, An (1991)</td><td>Adventure|Animation|Children|Musical|Western</td><td>600</td><td>2142</td><td>3.5</td><td>3.5017405</td></tr><tr><td>2142</td><td>American Tail: Fievel Goes West, An (1991)</td><td>Adventure|Animation|Children|Musical|Western</td><td>294</td><td>2142</td><td>1.0</td><td>1.7482744</td></tr><tr><td>2142</td><td>American Tail: Fievel Goes West, An (1991)</td><td>Adventure|Animation|Children|Musical|Western</td><td>517</td><td>2142</td><td>2.0</td><td>2.08146</td></tr><tr><td>2366</td><td>King Kong (1933)</td><td>Action|Adventure|Fantasy|Horror</td><td>597</td><td>2366</td><td>5.0</td><td>4.375277</td></tr><tr><td>2366</td><td>King Kong (1933)</td><td>Action|Adventure|Fantasy|Horror</td><td>368</td><td>2366</td><td>4.0</td><td>3.2578402</td></tr><tr><td>2366</td><td>King Kong (1933)</td><td>Action|Adventure|Fantasy|Horror</td><td>332</td><td>2366</td><td>3.5</td><td>3.6717162</td></tr><tr><td>2366</td><td>King Kong (1933)</td><td>Action|Adventure|Fantasy|Horror</td><td>577</td><td>2366</td><td>3.0</td><td>3.5877042</td></tr><tr><td>2366</td><td>King Kong (1933)</td><td>Action|Adventure|Fantasy|Horror</td><td>493</td><td>2366</td><td>2.0</td><td>2.5100071</td></tr><tr><td>2366</td><td>King Kong (1933)</td><td>Action|Adventure|Fantasy|Horror</td><td>599</td><td>2366</td><td>3.0</td><td>3.0605288</td></tr><tr><td>2366</td><td>King Kong (1933)</td><td>Action|Adventure|Fantasy|Horror</td><td>177</td><td>2366</td><td>3.0</td><td>3.6168</td></tr><tr><td>2366</td><td>King Kong (1933)</td><td>Action|Adventure|Fantasy|Horror</td><td>325</td><td>2366</td><td>4.0</td><td>3.9872546</td></tr><tr><td>2366</td><td>King Kong (1933)</td><td>Action|Adventure|Fantasy|Horror</td><td>1</td><td>2366</td><td>4.0</td><td>3.606148</td></tr><tr><td>2366</td><td>King Kong (1933)</td><td>Action|Adventure|Fantasy|Horror</td><td>348</td><td>2366</td><td>4.0</td><td>4.362071</td></tr><tr><td>2366</td><td>King Kong (1933)</td><td>Action|Adventure|Fantasy|Horror</td><td>217</td><td>2366</td><td>3.0</td><td>2.8330557</td></tr><tr><td>2366</td><td>King Kong (1933)</td><td>Action|Adventure|Fantasy|Horror</td><td>290</td><td>2366</td><td>5.0</td><td>4.032871</td></tr><tr><td>2366</td><td>King Kong (1933)</td><td>Action|Adventure|Fantasy|Horror</td><td>39</td><td>2366</td><td>5.0</td><td>4.783123</td></tr><tr><td>2366</td><td>King Kong (1933)</td><td>Action|Adventure|Fantasy|Horror</td><td>380</td><td>2366</td><td>5.0</td><td>5.0349708</td></tr><tr><td>2366</td><td>King Kong (1933)</td><td>Action|Adventure|Fantasy|Horror</td><td>532</td><td>2366</td><td>4.0</td><td>3.8025599</td></tr><tr><td>2366</td><td>King Kong (1933)</td><td>Action|Adventure|Fantasy|Horror</td><td>448</td><td>2366</td><td>5.0</td><td>4.4523945</td></tr><tr><td>2366</td><td>King Kong (1933)</td><td>Action|Adventure|Fantasy|Horror</td><td>312</td><td>2366</td><td>4.0</td><td>4.1678944</td></tr><tr><td>2366</td><td>King Kong (1933)</td><td>Action|Adventure|Fantasy|Horror</td><td>527</td><td>2366</td><td>3.0</td><td>3.3768973</td></tr><tr><td>2366</td><td>King Kong (1933)</td><td>Action|Adventure|Fantasy|Horror</td><td>70</td><td>2366</td><td>4.5</td><td>4.450738</td></tr><tr><td>2366</td><td>King Kong (1933)</td><td>Action|Adventure|Fantasy|Horror</td><td>345</td><td>2366</td><td>3.5</td><td>3.7120543</td></tr><tr><td>2366</td><td>King Kong (1933)</td><td>Action|Adventure|Fantasy|Horror</td><td>469</td><td>2366</td><td>3.0</td><td>3.2388062</td></tr><tr><td>2366</td><td>King Kong (1933)</td><td>Action|Adventure|Fantasy|Horror</td><td>508</td><td>2366</td><td>1.5</td><td>1.384538</td></tr><tr><td>2366</td><td>King Kong (1933)</td><td>Action|Adventure|Fantasy|Horror</td><td>571</td><td>2366</td><td>3.0</td><td>3.3139253</td></tr><tr><td>2366</td><td>King Kong (1933)</td><td>Action|Adventure|Fantasy|Horror</td><td>313</td><td>2366</td><td>2.0</td><td>1.9593223</td></tr><tr><td>2366</td><td>King Kong (1933)</td><td>Action|Adventure|Fantasy|Horror</td><td>186</td><td>2366</td><td>4.0</td><td>3.5730605</td></tr><tr><td>2659</td><td>It Came from Hollywood (1982)</td><td>Comedy|Documentary</td><td>79</td><td>2659</td><td>2.0</td><td>2.0533628</td></tr><tr><td>2866</td><td>Buddy Holly Story, The (1978)</td><td>Drama</td><td>603</td><td>2866</td><td>4.0</td><td>4.1234164</td></tr><tr><td>2866</td><td>Buddy Holly Story, The (1978)</td><td>Drama</td><td>474</td><td>2866</td><td>3.5</td><td>3.6158159</td></tr><tr><td>2866</td><td>Buddy Holly Story, The (1978)</td><td>Drama</td><td>462</td><td>2866</td><td>3.5</td><td>2.7688677</td></tr><tr><td>2866</td><td>Buddy Holly Story, The (1978)</td><td>Drama</td><td>527</td><td>2866</td><td>4.0</td><td>3.9423022</td></tr><tr><td>2866</td><td>Buddy Holly Story, The (1978)</td><td>Drama</td><td>288</td><td>2866</td><td>3.0</td><td>3.1163163</td></tr><tr><td>3175</td><td>Galaxy Quest (1999)</td><td>Adventure|Comedy|Sci-Fi</td><td>580</td><td>3175</td><td>2.5</td><td>3.7851906</td></tr><tr><td>3175</td><td>Galaxy Quest (1999)</td><td>Adventure|Comedy|Sci-Fi</td><td>155</td><td>3175</td><td>4.0</td><td>4.0911903</td></tr><tr><td>3175</td><td>Galaxy Quest (1999)</td><td>Adventure|Comedy|Sci-Fi</td><td>101</td><td>3175</td><td>4.0</td><td>3.2637734</td></tr><tr><td>3175</td><td>Galaxy Quest (1999)</td><td>Adventure|Comedy|Sci-Fi</td><td>115</td><td>3175</td><td>4.0</td><td>3.9799275</td></tr><tr><td>3175</td><td>Galaxy Quest (1999)</td><td>Adventure|Comedy|Sci-Fi</td><td>28</td><td>3175</td><td>1.5</td><td>3.05948</td></tr><tr><td>3175</td><td>Galaxy Quest (1999)</td><td>Adventure|Comedy|Sci-Fi</td><td>587</td><td>3175</td><td>5.0</td><td>4.1799073</td></tr><tr><td>3175</td><td>Galaxy Quest (1999)</td><td>Adventure|Comedy|Sci-Fi</td><td>91</td><td>3175</td><td>3.5</td><td>3.5166247</td></tr><tr><td>3175</td><td>Galaxy Quest (1999)</td><td>Adventure|Comedy|Sci-Fi</td><td>409</td><td>3175</td><td>4.0</td><td>3.6273317</td></tr><tr><td>3175</td><td>Galaxy Quest (1999)</td><td>Adventure|Comedy|Sci-Fi</td><td>122</td><td>3175</td><td>4.5</td><td>4.744707</td></tr><tr><td>3175</td><td>Galaxy Quest (1999)</td><td>Adventure|Comedy|Sci-Fi</td><td>157</td><td>3175</td><td>2.0</td><td>2.1287618</td></tr><tr><td>3175</td><td>Galaxy Quest (1999)</td><td>Adventure|Comedy|Sci-Fi</td><td>232</td><td>3175</td><td>2.5</td><td>3.769226</td></tr><tr><td>3175</td><td>Galaxy Quest (1999)</td><td>Adventure|Comedy|Sci-Fi</td><td>367</td><td>3175</td><td>4.0</td><td>3.272987</td></tr><tr><td>3175</td><td>Galaxy Quest (1999)</td><td>Adventure|Comedy|Sci-Fi</td><td>599</td><td>3175</td><td>3.0</td><td>2.8915262</td></tr><tr><td>3175</td><td>Galaxy Quest (1999)</td><td>Adventure|Comedy|Sci-Fi</td><td>111</td><td>3175</td><td>3.5</td><td>3.4457743</td></tr><tr><td>3175</td><td>Galaxy Quest (1999)</td><td>Adventure|Comedy|Sci-Fi</td><td>140</td><td>3175</td><td>2.5</td><td>3.122807</td></tr><tr><td>3175</td><td>Galaxy Quest (1999)</td><td>Adventure|Comedy|Sci-Fi</td><td>177</td><td>3175</td><td>2.0</td><td>2.4663103</td></tr><tr><td>3175</td><td>Galaxy Quest (1999)</td><td>Adventure|Comedy|Sci-Fi</td><td>355</td><td>3175</td><td>4.0</td><td>4.276364</td></tr><tr><td>3175</td><td>Galaxy Quest (1999)</td><td>Adventure|Comedy|Sci-Fi</td><td>325</td><td>3175</td><td>4.0</td><td>3.3759267</td></tr><tr><td>3175</td><td>Galaxy Quest (1999)</td><td>Adventure|Comedy|Sci-Fi</td><td>603</td><td>3175</td><td>4.0</td><td>3.4113457</td></tr><tr><td>3175</td><td>Galaxy Quest (1999)</td><td>Adventure|Comedy|Sci-Fi</td><td>274</td><td>3175</td><td>2.0</td><td>3.558177</td></tr><tr><td>3175</td><td>Galaxy Quest (1999)</td><td>Adventure|Comedy|Sci-Fi</td><td>182</td><td>3175</td><td>4.0</td><td>3.9771547</td></tr><tr><td>3175</td><td>Galaxy Quest (1999)</td><td>Adventure|Comedy|Sci-Fi</td><td>474</td><td>3175</td><td>4.0</td><td>3.2716036</td></tr><tr><td>3175</td><td>Galaxy Quest (1999)</td><td>Adventure|Comedy|Sci-Fi</td><td>328</td><td>3175</td><td>1.5</td><td>3.8824525</td></tr><tr><td>3175</td><td>Galaxy Quest (1999)</td><td>Adventure|Comedy|Sci-Fi</td><td>500</td><td>3175</td><td>4.0</td><td>3.6210833</td></tr><tr><td>3175</td><td>Galaxy Quest (1999)</td><td>Adventure|Comedy|Sci-Fi</td><td>57</td><td>3175</td><td>4.0</td><td>3.0159242</td></tr><tr><td>3175</td><td>Galaxy Quest (1999)</td><td>Adventure|Comedy|Sci-Fi</td><td>292</td><td>3175</td><td>4.0</td><td>3.365308</td></tr><tr><td>3175</td><td>Galaxy Quest (1999)</td><td>Adventure|Comedy|Sci-Fi</td><td>96</td><td>3175</td><td>5.0</td><td>5.073081</td></tr><tr><td>3175</td><td>Galaxy Quest (1999)</td><td>Adventure|Comedy|Sci-Fi</td><td>452</td><td>3175</td><td>5.0</td><td>4.711938</td></tr><tr><td>3175</td><td>Galaxy Quest (1999)</td><td>Adventure|Comedy|Sci-Fi</td><td>19</td><td>3175</td><td>4.0</td><td>3.1713495</td></tr><tr><td>3175</td><td>Galaxy Quest (1999)</td><td>Adventure|Comedy|Sci-Fi</td><td>64</td><td>3175</td><td>3.5</td><td>3.7127335</td></tr><tr><td>3175</td><td>Galaxy Quest (1999)</td><td>Adventure|Comedy|Sci-Fi</td><td>607</td><td>3175</td><td>2.0</td><td>2.8215842</td></tr><tr><td>3175</td><td>Galaxy Quest (1999)</td><td>Adventure|Comedy|Sci-Fi</td><td>489</td><td>3175</td><td>3.5</td><td>3.3722992</td></tr><tr><td>3175</td><td>Galaxy Quest (1999)</td><td>Adventure|Comedy|Sci-Fi</td><td>590</td><td>3175</td><td>2.5</td><td>3.296176</td></tr><tr><td>3175</td><td>Galaxy Quest (1999)</td><td>Adventure|Comedy|Sci-Fi</td><td>552</td><td>3175</td><td>4.0</td><td>3.3083498</td></tr><tr><td>3175</td><td>Galaxy Quest (1999)</td><td>Adventure|Comedy|Sci-Fi</td><td>586</td><td>3175</td><td>5.0</td><td>4.447667</td></tr><tr><td>3175</td><td>Galaxy Quest (1999)</td><td>Adventure|Comedy|Sci-Fi</td><td>381</td><td>3175</td><td>2.5</td><td>3.7511806</td></tr><tr><td>3175</td><td>Galaxy Quest (1999)</td><td>Adventure|Comedy|Sci-Fi</td><td>217</td><td>3175</td><td>4.0</td><td>3.1979058</td></tr><tr><td>3175</td><td>Galaxy Quest (1999)</td><td>Adventure|Comedy|Sci-Fi</td><td>4</td><td>3175</td><td>1.0</td><td>2.920809</td></tr><tr><td>3175</td><td>Galaxy Quest (1999)</td><td>Adventure|Comedy|Sci-Fi</td><td>555</td><td>3175</td><td>5.0</td><td>4.1947165</td></tr><tr><td>3175</td><td>Galaxy Quest (1999)</td><td>Adventure|Comedy|Sci-Fi</td><td>380</td><td>3175</td><td>5.0</td><td>4.3114967</td></tr><tr><td>3175</td><td>Galaxy Quest (1999)</td><td>Adventure|Comedy|Sci-Fi</td><td>520</td><td>3175</td><td>4.0</td><td>3.7477694</td></tr><tr><td>3175</td><td>Galaxy Quest (1999)</td><td>Adventure|Comedy|Sci-Fi</td><td>453</td><td>3175</td><td>5.0</td><td>4.8171873</td></tr><tr><td>3175</td><td>Galaxy Quest (1999)</td><td>Adventure|Comedy|Sci-Fi</td><td>428</td><td>3175</td><td>2.0</td><td>3.1310856</td></tr><tr><td>3175</td><td>Galaxy Quest (1999)</td><td>Adventure|Comedy|Sci-Fi</td><td>391</td><td>3175</td><td>2.0</td><td>2.8683267</td></tr><tr><td>3175</td><td>Galaxy Quest (1999)</td><td>Adventure|Comedy|Sci-Fi</td><td>438</td><td>3175</td><td>3.5</td><td>3.7332623</td></tr><tr><td>3175</td><td>Galaxy Quest (1999)</td><td>Adventure|Comedy|Sci-Fi</td><td>69</td><td>3175</td><td>5.0</td><td>4.714234</td></tr><tr><td>3175</td><td>Galaxy Quest (1999)</td><td>Adventure|Comedy|Sci-Fi</td><td>448</td><td>3175</td><td>4.0</td><td>3.8714058</td></tr><tr><td>3175</td><td>Galaxy Quest (1999)</td><td>Adventure|Comedy|Sci-Fi</td><td>234</td><td>3175</td><td>4.0</td><td>4.101977</td></tr><tr><td>3175</td><td>Galaxy Quest (1999)</td><td>Adventure|Comedy|Sci-Fi</td><td>312</td><td>3175</td><td>3.0</td><td>3.7384396</td></tr><tr><td>3175</td><td>Galaxy Quest (1999)</td><td>Adventure|Comedy|Sci-Fi</td><td>267</td><td>3175</td><td>4.0</td><td>3.5509949</td></tr><tr><td>3175</td><td>Galaxy Quest (1999)</td><td>Adventure|Comedy|Sci-Fi</td><td>45</td><td>3175</td><td>3.0</td><td>3.6682258</td></tr><tr><td>3175</td><td>Galaxy Quest (1999)</td><td>Adventure|Comedy|Sci-Fi</td><td>249</td><td>3175</td><td>3.0</td><td>4.067686</td></tr><tr><td>3175</td><td>Galaxy Quest (1999)</td><td>Adventure|Comedy|Sci-Fi</td><td>167</td><td>3175</td><td>3.5</td><td>3.8007739</td></tr><tr><td>3175</td><td>Galaxy Quest (1999)</td><td>Adventure|Comedy|Sci-Fi</td><td>288</td><td>3175</td><td>4.0</td><td>3.403763</td></tr><tr><td>3175</td><td>Galaxy Quest (1999)</td><td>Adventure|Comedy|Sci-Fi</td><td>408</td><td>3175</td><td>5.0</td><td>4.1295915</td></tr><tr><td>3175</td><td>Galaxy Quest (1999)</td><td>Adventure|Comedy|Sci-Fi</td><td>156</td><td>3175</td><td>4.5</td><td>3.4379096</td></tr><tr><td>3175</td><td>Galaxy Quest (1999)</td><td>Adventure|Comedy|Sci-Fi</td><td>219</td><td>3175</td><td>2.0</td><td>2.8845057</td></tr><tr><td>3175</td><td>Galaxy Quest (1999)</td><td>Adventure|Comedy|Sci-Fi</td><td>265</td><td>3175</td><td>4.0</td><td>3.7887688</td></tr><tr><td>3175</td><td>Galaxy Quest (1999)</td><td>Adventure|Comedy|Sci-Fi</td><td>141</td><td>3175</td><td>4.0</td><td>3.6206625</td></tr><tr><td>3175</td><td>Galaxy Quest (1999)</td><td>Adventure|Comedy|Sci-Fi</td><td>414</td><td>3175</td><td>4.0</td><td>3.6527703</td></tr><tr><td>3175</td><td>Galaxy Quest (1999)</td><td>Adventure|Comedy|Sci-Fi</td><td>608</td><td>3175</td><td>4.0</td><td>3.6304545</td></tr><tr><td>3175</td><td>Galaxy Quest (1999)</td><td>Adventure|Comedy|Sci-Fi</td><td>303</td><td>3175</td><td>4.0</td><td>4.206257</td></tr><tr><td>3175</td><td>Galaxy Quest (1999)</td><td>Adventure|Comedy|Sci-Fi</td><td>304</td><td>3175</td><td>5.0</td><td>4.064017</td></tr><tr><td>3175</td><td>Galaxy Quest (1999)</td><td>Adventure|Comedy|Sci-Fi</td><td>68</td><td>3175</td><td>3.0</td><td>3.2164161</td></tr><tr><td>3175</td><td>Galaxy Quest (1999)</td><td>Adventure|Comedy|Sci-Fi</td><td>342</td><td>3175</td><td>1.0</td><td>2.5953538</td></tr><tr><td>3175</td><td>Galaxy Quest (1999)</td><td>Adventure|Comedy|Sci-Fi</td><td>199</td><td>3175</td><td>4.0</td><td>3.4161203</td></tr><tr><td>3175</td><td>Galaxy Quest (1999)</td><td>Adventure|Comedy|Sci-Fi</td><td>135</td><td>3175</td><td>4.0</td><td>3.7000828</td></tr><tr><td>3175</td><td>Galaxy Quest (1999)</td><td>Adventure|Comedy|Sci-Fi</td><td>294</td><td>3175</td><td>3.0</td><td>3.9668965</td></tr><tr><td>3175</td><td>Galaxy Quest (1999)</td><td>Adventure|Comedy|Sci-Fi</td><td>313</td><td>3175</td><td>4.0</td><td>4.166372</td></tr><tr><td>3175</td><td>Galaxy Quest (1999)</td><td>Adventure|Comedy|Sci-Fi</td><td>186</td><td>3175</td><td>5.0</td><td>3.8879097</td></tr><tr><td>3175</td><td>Galaxy Quest (1999)</td><td>Adventure|Comedy|Sci-Fi</td><td>275</td><td>3175</td><td>5.0</td><td>4.305849</td></tr><tr><td>3175</td><td>Galaxy Quest (1999)</td><td>Adventure|Comedy|Sci-Fi</td><td>420</td><td>3175</td><td>3.5</td><td>3.464779</td></tr><tr><td>3175</td><td>Galaxy Quest (1999)</td><td>Adventure|Comedy|Sci-Fi</td><td>104</td><td>3175</td><td>4.0</td><td>3.6125488</td></tr><tr><td>3175</td><td>Galaxy Quest (1999)</td><td>Adventure|Comedy|Sci-Fi</td><td>89</td><td>3175</td><td>2.5</td><td>3.097969</td></tr><tr><td>3175</td><td>Galaxy Quest (1999)</td><td>Adventure|Comedy|Sci-Fi</td><td>422</td><td>3175</td><td>3.0</td><td>3.8232841</td></tr><tr><td>3794</td><td>Chuck & Buck (2000)</td><td>Comedy|Drama</td><td>414</td><td>3794</td><td>3.0</td><td>2.9984512</td></tr><tr><td>3794</td><td>Chuck & Buck (2000)</td><td>Comedy|Drama</td><td>275</td><td>3794</td><td>2.0</td><td>2.0431302</td></tr><tr><td>3918</td><td>Hellbound: Hellraiser II (1988)</td><td>Horror</td><td>368</td><td>3918</td><td>2.0</td><td>2.0467083</td></tr><tr><td>3918</td><td>Hellbound: Hellraiser II (1988)</td><td>Horror</td><td>325</td><td>3918</td><td>4.0</td><td>3.8857236</td></tr><tr><td>3918</td><td>Hellbound: Hellraiser II (1988)</td><td>Horror</td><td>603</td><td>3918</td><td>3.0</td><td>2.84546</td></tr><tr><td>3918</td><td>Hellbound: Hellraiser II (1988)</td><td>Horror</td><td>274</td><td>3918</td><td>3.5</td><td>3.3580427</td></tr><tr><td>3918</td><td>Hellbound: Hellraiser II (1988)</td><td>Horror</td><td>387</td><td>3918</td><td>3.0</td><td>2.8953726</td></tr><tr><td>3918</td><td>Hellbound: Hellraiser II (1988)</td><td>Horror</td><td>555</td><td>3918</td><td>3.0</td><td>2.9898221</td></tr><tr><td>3918</td><td>Hellbound: Hellraiser II (1988)</td><td>Horror</td><td>51</td><td>3918</td><td>5.0</td><td>3.9056144</td></tr><tr><td>3918</td><td>Hellbound: Hellraiser II (1988)</td><td>Horror</td><td>288</td><td>3918</td><td>1.0</td><td>1.4852055</td></tr><tr><td>3918</td><td>Hellbound: Hellraiser II (1988)</td><td>Horror</td><td>546</td><td>3918</td><td>5.0</td><td>5.20492</td></tr><tr><td>3997</td><td>Dungeons & Dragons (2000)</td><td>Action|Adventure|Comedy|Fantasy</td><td>34</td><td>3997</td><td>2.0</td><td>1.9258038</td></tr><tr><td>3997</td><td>Dungeons & Dragons (2000)</td><td>Action|Adventure|Comedy|Fantasy</td><td>599</td><td>3997</td><td>0.5</td><td>0.65188533</td></tr><tr><td>3997</td><td>Dungeons & Dragons (2000)</td><td>Action|Adventure|Comedy|Fantasy</td><td>177</td><td>3997</td><td>0.5</td><td>0.7554876</td></tr><tr><td>3997</td><td>Dungeons & Dragons (2000)</td><td>Action|Adventure|Comedy|Fantasy</td><td>274</td><td>3997</td><td>1.5</td><td>1.873905</td></tr><tr><td>3997</td><td>Dungeons & Dragons (2000)</td><td>Action|Adventure|Comedy|Fantasy</td><td>182</td><td>3997</td><td>3.0</td><td>2.7238262</td></tr><tr><td>3997</td><td>Dungeons & Dragons (2000)</td><td>Action|Adventure|Comedy|Fantasy</td><td>139</td><td>3997</td><td>1.0</td><td>1.0807832</td></tr><tr><td>3997</td><td>Dungeons & Dragons (2000)</td><td>Action|Adventure|Comedy|Fantasy</td><td>610</td><td>3997</td><td>1.0</td><td>1.5797392</td></tr><tr><td>3997</td><td>Dungeons & Dragons (2000)</td><td>Action|Adventure|Comedy|Fantasy</td><td>380</td><td>3997</td><td>3.0</td><td>2.3489966</td></tr><tr><td>3997</td><td>Dungeons & Dragons (2000)</td><td>Action|Adventure|Comedy|Fantasy</td><td>249</td><td>3997</td><td>2.5</td><td>1.9846334</td></tr><tr><td>3997</td><td>Dungeons & Dragons (2000)</td><td>Action|Adventure|Comedy|Fantasy</td><td>414</td><td>3997</td><td>2.0</td><td>1.9113489</td></tr><tr><td>3997</td><td>Dungeons & Dragons (2000)</td><td>Action|Adventure|Comedy|Fantasy</td><td>105</td><td>3997</td><td>3.0</td><td>2.5244384</td></tr><tr><td>3997</td><td>Dungeons & Dragons (2000)</td><td>Action|Adventure|Comedy|Fantasy</td><td>605</td><td>3997</td><td>2.0</td><td>2.5104003</td></tr><tr><td>4519</td><td>Land Before Time, The (1988)</td><td>Adventure|Animation|Children|Fantasy</td><td>599</td><td>4519</td><td>2.5</td><td>2.2405977</td></tr><tr><td>4519</td><td>Land Before Time, The (1988)</td><td>Adventure|Animation|Children|Fantasy</td><td>274</td><td>4519</td><td>3.0</td><td>3.3434505</td></tr><tr><td>4519</td><td>Land Before Time, The (1988)</td><td>Adventure|Animation|Children|Fantasy</td><td>20</td><td>4519</td><td>3.5</td><td>3.3979897</td></tr><tr><td>4519</td><td>Land Before Time, The (1988)</td><td>Adventure|Animation|Children|Fantasy</td><td>479</td><td>4519</td><td>4.0</td><td>2.5355105</td></tr><tr><td>4519</td><td>Land Before Time, The (1988)</td><td>Adventure|Animation|Children|Fantasy</td><td>318</td><td>4519</td><td>4.0</td><td>3.6504512</td></tr><tr><td>4519</td><td>Land Before Time, The (1988)</td><td>Adventure|Animation|Children|Fantasy</td><td>234</td><td>4519</td><td>4.0</td><td>5.012774</td></tr><tr><td>4519</td><td>Land Before Time, The (1988)</td><td>Adventure|Animation|Children|Fantasy</td><td>509</td><td>4519</td><td>3.0</td><td>3.301566</td></tr><tr><td>4519</td><td>Land Before Time, The (1988)</td><td>Adventure|Animation|Children|Fantasy</td><td>477</td><td>4519</td><td>4.0</td><td>3.9259963</td></tr><tr><td>4519</td><td>Land Before Time, The (1988)</td><td>Adventure|Animation|Children|Fantasy</td><td>414</td><td>4519</td><td>2.0</td><td>2.7053049</td></tr><tr><td>4818</td><td>Extreme Days (2001)</td><td>Action|Adventure|Comedy|Drama</td><td>414</td><td>4818</td><td>2.0</td><td>2.0148323</td></tr><tr><td>4900</td><td>Out Cold (2001)</td><td>Comedy</td><td>111</td><td>4900</td><td>4.0</td><td>4.0842257</td></tr><tr><td>4900</td><td>Out Cold (2001)</td><td>Comedy</td><td>438</td><td>4900</td><td>3.0</td><td>3.0194468</td></tr><tr><td>4900</td><td>Out Cold (2001)</td><td>Comedy</td><td>480</td><td>4900</td><td>1.5</td><td>2.0090399</td></tr><tr><td>4900</td><td>Out Cold (2001)</td><td>Comedy</td><td>414</td><td>4900</td><td>4.0</td><td>2.7193806</td></tr><tr><td>4900</td><td>Out Cold (2001)</td><td>Comedy</td><td>298</td><td>4900</td><td>2.5</td><td>2.4788046</td></tr><tr><td>5156</td><td>Big Doll House, The (1971)</td><td>Action</td><td>387</td><td>5156</td><td>2.5</td><td>2.5217957</td></tr><tr><td>5300</td><td>3:10 to Yuma (1957)</td><td>Action|Adventure|Drama|Thriller|Western</td><td>74</td><td>5300</td><td>4.0</td><td>4.0404634</td></tr><tr><td>5803</td><td>I Spy (2002)</td><td>Action|Adventure|Comedy|Crime</td><td>274</td><td>5803</td><td>1.5</td><td>1.5082498</td></tr><tr><td>5803</td><td>I Spy (2002)</td><td>Action|Adventure|Comedy|Crime</td><td>438</td><td>5803</td><td>3.0</td><td>1.6770129</td></tr><tr><td>5803</td><td>I Spy (2002)</td><td>Action|Adventure|Comedy|Crime</td><td>448</td><td>5803</td><td>2.0</td><td>1.2501472</td></tr><tr><td>5803</td><td>I Spy (2002)</td><td>Action|Adventure|Comedy|Crime</td><td>82</td><td>5803</td><td>4.0</td><td>1.8729806</td></tr><tr><td>5803</td><td>I Spy (2002)</td><td>Action|Adventure|Comedy|Crime</td><td>249</td><td>5803</td><td>3.0</td><td>1.7239857</td></tr><tr><td>5803</td><td>I Spy (2002)</td><td>Action|Adventure|Comedy|Crime</td><td>414</td><td>5803</td><td>2.0</td><td>1.6454897</td></tr><tr><td>5803</td><td>I Spy (2002)</td><td>Action|Adventure|Comedy|Crime</td><td>275</td><td>5803</td><td>2.0</td><td>2.0548115</td></tr><tr><td>6336</td><td>Marooned in Iraq (Gomgashtei dar Aragh) (2002)</td><td>Drama</td><td>474</td><td>6336</td><td>3.0</td><td>3.0387166</td></tr><tr><td>6357</td><td>High Society (1956)</td><td>Comedy|Musical|Romance</td><td>474</td><td>6357</td><td>3.0</td><td>3.0490127</td></tr><tr><td>6357</td><td>High Society (1956)</td><td>Comedy|Musical|Romance</td><td>590</td><td>6357</td><td>3.0</td><td>3.0153792</td></tr><tr><td>6466</td><td>Mississippi Masala (1991)</td><td>Drama|Romance</td><td>606</td><td>6466</td><td>4.0</td><td>4.02607</td></tr><tr><td>6466</td><td>Mississippi Masala (1991)</td><td>Drama|Romance</td><td>474</td><td>6466</td><td>4.5</td><td>4.5644507</td></tr><tr><td>6466</td><td>Mississippi Masala (1991)</td><td>Drama|Romance</td><td>462</td><td>6466</td><td>2.0</td><td>2.155402</td></tr><tr><td>6620</td><td>American Splendor (2003)</td><td>Comedy|Drama</td><td>91</td><td>6620</td><td>3.5</td><td>3.5484147</td></tr><tr><td>6620</td><td>American Splendor (2003)</td><td>Comedy|Drama</td><td>599</td><td>6620</td><td>2.5</td><td>2.5531576</td></tr><tr><td>6620</td><td>American Splendor (2003)</td><td>Comedy|Drama</td><td>182</td><td>6620</td><td>4.0</td><td>4.232762</td></tr><tr><td>6620</td><td>American Splendor (2003)</td><td>Comedy|Drama</td><td>474</td><td>6620</td><td>4.5</td><td>3.832987</td></tr><tr><td>6620</td><td>American Splendor (2003)</td><td>Comedy|Drama</td><td>504</td><td>6620</td><td>3.0</td><td>2.8711574</td></tr><tr><td>6620</td><td>American Splendor (2003)</td><td>Comedy|Drama</td><td>462</td><td>6620</td><td>4.5</td><td>4.444548</td></tr><tr><td>6620</td><td>American Splendor (2003)</td><td>Comedy|Drama</td><td>387</td><td>6620</td><td>2.5</td><td>3.413084</td></tr><tr><td>6620</td><td>American Splendor (2003)</td><td>Comedy|Drama</td><td>610</td><td>6620</td><td>4.0</td><td>4.2807937</td></tr><tr><td>6620</td><td>American Splendor (2003)</td><td>Comedy|Drama</td><td>288</td><td>6620</td><td>4.5</td><td>3.842134</td></tr><tr><td>6620</td><td>American Splendor (2003)</td><td>Comedy|Drama</td><td>356</td><td>6620</td><td>2.0</td><td>2.7984853</td></tr><tr><td>6620</td><td>American Splendor (2003)</td><td>Comedy|Drama</td><td>480</td><td>6620</td><td>4.0</td><td>5.114422</td></tr><tr><td>6620</td><td>American Splendor (2003)</td><td>Comedy|Drama</td><td>477</td><td>6620</td><td>5.0</td><td>3.2500062</td></tr><tr><td>6620</td><td>American Splendor (2003)</td><td>Comedy|Drama</td><td>287</td><td>6620</td><td>5.0</td><td>4.392888</td></tr><tr><td>6620</td><td>American Splendor (2003)</td><td>Comedy|Drama</td><td>414</td><td>6620</td><td>4.5</td><td>4.171608</td></tr><tr><td>6620</td><td>American Splendor (2003)</td><td>Comedy|Drama</td><td>298</td><td>6620</td><td>3.0</td><td>3.0467596</td></tr><tr><td>6620</td><td>American Splendor (2003)</td><td>Comedy|Drama</td><td>260</td><td>6620</td><td>4.5</td><td>3.968101</td></tr><tr><td>6620</td><td>American Splendor (2003)</td><td>Comedy|Drama</td><td>600</td><td>6620</td><td>3.0</td><td>3.3702784</td></tr><tr><td>6620</td><td>American Splendor (2003)</td><td>Comedy|Drama</td><td>187</td><td>6620</td><td>5.0</td><td>5.2025185</td></tr><tr><td>6654</td><td>Atragon (Kaitei Gunkan) (1963)</td><td>Adventure|Sci-Fi</td><td>377</td><td>6654</td><td>3.5</td><td>3.508095</td></tr><tr><td>6658</td><td>10 (1979)</td><td>Comedy|Romance</td><td>271</td><td>6658</td><td>2.0</td><td>1.9529203</td></tr><tr><td>6658</td><td>10 (1979)</td><td>Comedy|Romance</td><td>448</td><td>6658</td><td>3.5</td><td>3.606426</td></tr><tr><td>6658</td><td>10 (1979)</td><td>Comedy|Romance</td><td>156</td><td>6658</td><td>3.5</td><td>3.361877</td></tr><tr><td>6658</td><td>10 (1979)</td><td>Comedy|Romance</td><td>345</td><td>6658</td><td>4.5</td><td>4.5514865</td></tr><tr><td>7340</td><td>Just One of the Guys (1985)</td><td>Comedy</td><td>599</td><td>7340</td><td>2.0</td><td>2.0593204</td></tr><tr><td>7340</td><td>Just One of the Guys (1985)</td><td>Comedy</td><td>474</td><td>7340</td><td>3.0</td><td>3.1195943</td></tr><tr><td>7340</td><td>Just One of the Guys (1985)</td><td>Comedy</td><td>414</td><td>7340</td><td>2.0</td><td>2.068306</td></tr><tr><td>7340</td><td>Just One of the Guys (1985)</td><td>Comedy</td><td>562</td><td>7340</td><td>4.0</td><td>3.9743946</td></tr><tr><td>7833</td><td>Shadow of the Thin Man (1941)</td><td>Comedy|Crime|Mystery</td><td>474</td><td>7833</td><td>3.5</td><td>3.5451696</td></tr><tr><td>7982</td><td>Tale of Two Sisters, A (Janghwa, Hongryeon) (2003)</td><td>Drama|Horror|Mystery|Thriller</td><td>599</td><td>7982</td><td>3.5</td><td>3.630511</td></tr><tr><td>7982</td><td>Tale of Two Sisters, A (Janghwa, Hongryeon) (2003)</td><td>Drama|Horror|Mystery|Thriller</td><td>64</td><td>7982</td><td>4.5</td><td>4.2172704</td></tr><tr><td>7982</td><td>Tale of Two Sisters, A (Janghwa, Hongryeon) (2003)</td><td>Drama|Horror|Mystery|Thriller</td><td>387</td><td>7982</td><td>4.5</td><td>4.565133</td></tr><tr><td>7982</td><td>Tale of Two Sisters, A (Janghwa, Hongryeon) (2003)</td><td>Drama|Horror|Mystery|Thriller</td><td>594</td><td>7982</td><td>0.5</td><td>0.37756565</td></tr><tr><td>7993</td><td>Bucket Of Blood, A (1959)</td><td>Comedy|Horror</td><td>387</td><td>7993</td><td>2.5</td><td>2.5217957</td></tr><tr><td>8638</td><td>Before Sunset (2004)</td><td>Drama|Romance</td><td>346</td><td>8638</td><td>4.0</td><td>3.8417847</td></tr><tr><td>8638</td><td>Before Sunset (2004)</td><td>Drama|Romance</td><td>599</td><td>8638</td><td>3.0</td><td>3.8487644</td></tr><tr><td>8638</td><td>Before Sunset (2004)</td><td>Drama|Romance</td><td>132</td><td>8638</td><td>4.0</td><td>3.224961</td></tr><tr><td>8638</td><td>Before Sunset (2004)</td><td>Drama|Romance</td><td>280</td><td>8638</td><td>4.5</td><td>4.447717</td></tr><tr><td>8638</td><td>Before Sunset (2004)</td><td>Drama|Romance</td><td>474</td><td>8638</td><td>4.0</td><td>4.5412874</td></tr><tr><td>8638</td><td>Before Sunset (2004)</td><td>Drama|Romance</td><td>560</td><td>8638</td><td>3.0</td><td>3.2843282</td></tr><tr><td>8638</td><td>Before Sunset (2004)</td><td>Drama|Romance</td><td>227</td><td>8638</td><td>4.0</td><td>4.5316324</td></tr><tr><td>8638</td><td>Before Sunset (2004)</td><td>Drama|Romance</td><td>263</td><td>8638</td><td>4.5</td><td>2.400773</td></tr><tr><td>8638</td><td>Before Sunset (2004)</td><td>Drama|Romance</td><td>241</td><td>8638</td><td>5.0</td><td>4.3903623</td></tr><tr><td>8638</td><td>Before Sunset (2004)</td><td>Drama|Romance</td><td>490</td><td>8638</td><td>4.0</td><td>3.9458838</td></tr><tr><td>8638</td><td>Before Sunset (2004)</td><td>Drama|Romance</td><td>221</td><td>8638</td><td>4.5</td><td>4.605257</td></tr><tr><td>8638</td><td>Before Sunset (2004)</td><td>Drama|Romance</td><td>414</td><td>8638</td><td>4.0</td><td>3.7342517</td></tr><tr><td>8638</td><td>Before Sunset (2004)</td><td>Drama|Romance</td><td>200</td><td>8638</td><td>1.0</td><td>2.02982</td></tr><tr><td>8638</td><td>Before Sunset (2004)</td><td>Drama|Romance</td><td>105</td><td>8638</td><td>4.0</td><td>3.9276783</td></tr><tr><td>8638</td><td>Before Sunset (2004)</td><td>Drama|Romance</td><td>199</td><td>8638</td><td>2.0</td><td>4.7358847</td></tr><tr><td>31367</td><td>Chase, The (1994)</td><td>Action|Adventure|Comedy|Crime|Romance|Thriller</td><td>599</td><td>31367</td><td>2.0</td><td>1.9821402</td></tr><tr><td>32460</td><td>Knockin' on Heaven's Door (1997)</td><td>Action|Comedy|Crime|Drama</td><td>326</td><td>32460</td><td>4.5</td><td>4.327564</td></tr><tr><td>32460</td><td>Knockin' on Heaven's Door (1997)</td><td>Action|Comedy|Crime|Drama</td><td>125</td><td>32460</td><td>4.0</td><td>4.0869136</td></tr><tr><td>32460</td><td>Knockin' on Heaven's Door (1997)</td><td>Action|Comedy|Crime|Drama</td><td>105</td><td>32460</td><td>5.0</td><td>4.8524218</td></tr><tr><td>32460</td><td>Knockin' on Heaven's Door (1997)</td><td>Action|Comedy|Crime|Drama</td><td>18</td><td>32460</td><td>3.5</td><td>3.8458204</td></tr><tr><td>36525</td><td>Just Like Heaven (2005)</td><td>Comedy|Fantasy|Romance</td><td>232</td><td>36525</td><td>3.0</td><td>2.9749</td></tr><tr><td>36525</td><td>Just Like Heaven (2005)</td><td>Comedy|Fantasy|Romance</td><td>274</td><td>36525</td><td>2.0</td><td>2.1090062</td></tr><tr><td>36525</td><td>Just Like Heaven (2005)</td><td>Comedy|Fantasy|Romance</td><td>358</td><td>36525</td><td>4.0</td><td>1.8310622</td></tr><tr><td>36525</td><td>Just Like Heaven (2005)</td><td>Comedy|Fantasy|Romance</td><td>380</td><td>36525</td><td>3.0</td><td>2.4050891</td></tr><tr><td>36525</td><td>Just Like Heaven (2005)</td><td>Comedy|Fantasy|Romance</td><td>438</td><td>36525</td><td>4.0</td><td>2.668812</td></tr><tr><td>36525</td><td>Just Like Heaven (2005)</td><td>Comedy|Fantasy|Romance</td><td>143</td><td>36525</td><td>2.0</td><td>0.9270177</td></tr><tr><td>36525</td><td>Just Like Heaven (2005)</td><td>Comedy|Fantasy|Romance</td><td>298</td><td>36525</td><td>2.5</td><td>1.276054</td></tr><tr><td>36525</td><td>Just Like Heaven (2005)</td><td>Comedy|Fantasy|Romance</td><td>605</td><td>36525</td><td>1.0</td><td>2.3035605</td></tr><tr><td>44022</td><td>Ice Age 2: The Meltdown (2006)</td><td>Adventure|Animation|Children|Comedy</td><td>580</td><td>44022</td><td>3.5</td><td>3.681907</td></tr><tr><td>44022</td><td>Ice Age 2: The Meltdown (2006)</td><td>Adventure|Animation|Children|Comedy</td><td>606</td><td>44022</td><td>4.0</td><td>3.6385758</td></tr><tr><td>44022</td><td>Ice Age 2: The Meltdown (2006)</td><td>Adventure|Animation|Children|Comedy</td><td>388</td><td>44022</td><td>4.5</td><td>4.4570346</td></tr><tr><td>44022</td><td>Ice Age 2: The Meltdown (2006)</td><td>Adventure|Animation|Children|Comedy</td><td>232</td><td>44022</td><td>3.0</td><td>3.3625207</td></tr><tr><td>44022</td><td>Ice Age 2: The Meltdown (2006)</td><td>Adventure|Animation|Children|Comedy</td><td>111</td><td>44022</td><td>3.0</td><td>3.0817688</td></tr><tr><td>44022</td><td>Ice Age 2: The Meltdown (2006)</td><td>Adventure|Animation|Children|Comedy</td><td>177</td><td>44022</td><td>2.5</td><td>3.644022</td></tr><tr><td>44022</td><td>Ice Age 2: The Meltdown (2006)</td><td>Adventure|Animation|Children|Comedy</td><td>132</td><td>44022</td><td>2.0</td><td>2.4372206</td></tr><tr><td>44022</td><td>Ice Age 2: The Meltdown (2006)</td><td>Adventure|Animation|Children|Comedy</td><td>274</td><td>44022</td><td>3.5</td><td>3.341507</td></tr><tr><td>44022</td><td>Ice Age 2: The Meltdown (2006)</td><td>Adventure|Animation|Children|Comedy</td><td>381</td><td>44022</td><td>3.5</td><td>3.662804</td></tr><tr><td>44022</td><td>Ice Age 2: The Meltdown (2006)</td><td>Adventure|Animation|Children|Comedy</td><td>509</td><td>44022</td><td>3.0</td><td>3.2940454</td></tr><tr><td>44022</td><td>Ice Age 2: The Meltdown (2006)</td><td>Adventure|Animation|Children|Comedy</td><td>361</td><td>44022</td><td>4.0</td><td>3.7324393</td></tr><tr><td>44022</td><td>Ice Age 2: The Meltdown (2006)</td><td>Adventure|Animation|Children|Comedy</td><td>50</td><td>44022</td><td>1.5</td><td>1.3603052</td></tr><tr><td>44022</td><td>Ice Age 2: The Meltdown (2006)</td><td>Adventure|Animation|Children|Comedy</td><td>249</td><td>44022</td><td>3.5</td><td>3.498194</td></tr><tr><td>44022</td><td>Ice Age 2: The Meltdown (2006)</td><td>Adventure|Animation|Children|Comedy</td><td>480</td><td>44022</td><td>3.0</td><td>2.5235708</td></tr><tr><td>44022</td><td>Ice Age 2: The Meltdown (2006)</td><td>Adventure|Animation|Children|Comedy</td><td>21</td><td>44022</td><td>3.5</td><td>3.5599675</td></tr><tr><td>44022</td><td>Ice Age 2: The Meltdown (2006)</td><td>Adventure|Animation|Children|Comedy</td><td>256</td><td>44022</td><td>4.0</td><td>3.8755956</td></tr><tr><td>44022</td><td>Ice Age 2: The Meltdown (2006)</td><td>Adventure|Animation|Children|Comedy</td><td>414</td><td>44022</td><td>2.5</td><td>2.5040102</td></tr><tr><td>44022</td><td>Ice Age 2: The Meltdown (2006)</td><td>Adventure|Animation|Children|Comedy</td><td>105</td><td>44022</td><td>4.0</td><td>3.8115964</td></tr><tr><td>44022</td><td>Ice Age 2: The Meltdown (2006)</td><td>Adventure|Animation|Children|Comedy</td><td>68</td><td>44022</td><td>3.5</td><td>3.3022707</td></tr><tr><td>44022</td><td>Ice Age 2: The Meltdown (2006)</td><td>Adventure|Animation|Children|Comedy</td><td>119</td><td>44022</td><td>3.5</td><td>4.194579</td></tr><tr><td>44022</td><td>Ice Age 2: The Meltdown (2006)</td><td>Adventure|Animation|Children|Comedy</td><td>18</td><td>44022</td><td>3.5</td><td>3.2743976</td></tr><tr><td>44022</td><td>Ice Age 2: The Meltdown (2006)</td><td>Adventure|Animation|Children|Comedy</td><td>475</td><td>44022</td><td>4.0</td><td>3.9990692</td></tr><tr><td>44022</td><td>Ice Age 2: The Meltdown (2006)</td><td>Adventure|Animation|Children|Comedy</td><td>89</td><td>44022</td><td>1.0</td><td>1.4453671</td></tr><tr><td>54190</td><td>Across the Universe (2007)</td><td>Drama|Fantasy|Musical|Romance</td><td>111</td><td>54190</td><td>4.0</td><td>4.0383487</td></tr><tr><td>54190</td><td>Across the Universe (2007)</td><td>Drama|Fantasy|Musical|Romance</td><td>177</td><td>54190</td><td>3.0</td><td>3.151681</td></tr><tr><td>54190</td><td>Across the Universe (2007)</td><td>Drama|Fantasy|Musical|Romance</td><td>274</td><td>54190</td><td>4.0</td><td>3.8078728</td></tr><tr><td>54190</td><td>Across the Universe (2007)</td><td>Drama|Fantasy|Musical|Romance</td><td>92</td><td>54190</td><td>4.0</td><td>4.2542253</td></tr><tr><td>54190</td><td>Across the Universe (2007)</td><td>Drama|Fantasy|Musical|Romance</td><td>387</td><td>54190</td><td>3.0</td><td>2.9258552</td></tr><tr><td>54190</td><td>Across the Universe (2007)</td><td>Drama|Fantasy|Musical|Romance</td><td>381</td><td>54190</td><td>5.0</td><td>4.4268813</td></tr><tr><td>54190</td><td>Across the Universe (2007)</td><td>Drama|Fantasy|Musical|Romance</td><td>125</td><td>54190</td><td>5.0</td><td>3.0907657</td></tr><tr><td>54190</td><td>Across the Universe (2007)</td><td>Drama|Fantasy|Musical|Romance</td><td>414</td><td>54190</td><td>3.5</td><td>3.7946558</td></tr><tr><td>54190</td><td>Across the Universe (2007)</td><td>Drama|Fantasy|Musical|Romance</td><td>200</td><td>54190</td><td>5.0</td><td>4.888565</td></tr><tr><td>54190</td><td>Across the Universe (2007)</td><td>Drama|Fantasy|Musical|Romance</td><td>525</td><td>54190</td><td>4.0</td><td>4.0391693</td></tr><tr><td>54190</td><td>Across the Universe (2007)</td><td>Drama|Fantasy|Musical|Romance</td><td>605</td><td>54190</td><td>4.0</td><td>4.1113324</td></tr><tr><td>68135</td><td>17 Again (2009)</td><td>Comedy|Drama</td><td>232</td><td>68135</td><td>4.0</td><td>3.7645936</td></tr><tr><td>68135</td><td>17 Again (2009)</td><td>Comedy|Drama</td><td>177</td><td>68135</td><td>3.0</td><td>3.129984</td></tr><tr><td>68135</td><td>17 Again (2009)</td><td>Comedy|Drama</td><td>305</td><td>68135</td><td>3.5</td><td>2.6892524</td></tr><tr><td>68135</td><td>17 Again (2009)</td><td>Comedy|Drama</td><td>280</td><td>68135</td><td>4.5</td><td>4.1193233</td></tr><tr><td>68135</td><td>17 Again (2009)</td><td>Comedy|Drama</td><td>563</td><td>68135</td><td>2.5</td><td>2.7807443</td></tr><tr><td>68135</td><td>17 Again (2009)</td><td>Comedy|Drama</td><td>564</td><td>68135</td><td>4.0</td><td>3.9222085</td></tr><tr><td>68135</td><td>17 Again (2009)</td><td>Comedy|Drama</td><td>509</td><td>68135</td><td>3.5</td><td>3.2314765</td></tr><tr><td>68135</td><td>17 Again (2009)</td><td>Comedy|Drama</td><td>73</td><td>68135</td><td>3.5</td><td>3.7664235</td></tr><tr><td>68135</td><td>17 Again (2009)</td><td>Comedy|Drama</td><td>414</td><td>68135</td><td>3.5</td><td>3.5093844</td></tr><tr><td>68135</td><td>17 Again (2009)</td><td>Comedy|Drama</td><td>562</td><td>68135</td><td>3.5</td><td>3.5317566</td></tr><tr><td>91784</td><td>Girl Walks Into a Bar (2011)</td><td>Comedy|Drama|Fantasy</td><td>318</td><td>91784</td><td>4.5</td><td>4.4835033</td></tr><tr><td>96488</td><td>Searching for Sugar Man (2012)</td><td>Documentary</td><td>462</td><td>96488</td><td>4.0</td><td>4.1011095</td></tr><tr><td>96488</td><td>Searching for Sugar Man (2012)</td><td>Documentary</td><td>414</td><td>96488</td><td>4.5</td><td>4.5180287</td></tr><tr><td>96488</td><td>Searching for Sugar Man (2012)</td><td>Documentary</td><td>105</td><td>96488</td><td>4.5</td><td>4.6186733</td></tr><tr><td>96488</td><td>Searching for Sugar Man (2012)</td><td>Documentary</td><td>18</td><td>96488</td><td>4.0</td><td>4.0119247</td></tr><tr><td>139747</td><td>Before We Go (2014)</td><td>Romance</td><td>563</td><td>139747</td><td>3.5</td><td>3.5212455</td></tr><tr><td>140541</td><td>The Electric Hotel (1908)</td><td>Animation|Comedy|Sci-Fi</td><td>89</td><td>140541</td><td>4.0</td><td>4.0433397</td></tr><tr><td>141422</td><td>Suffragette (2015)</td><td>Drama</td><td>448</td><td>141422</td><td>2.5</td><td>2.5593443</td></tr><tr><td>144522</td><td>Sky High (2003)</td><td>Action|Horror|Thriller</td><td>599</td><td>144522</td><td>2.0</td><td>1.9821402</td></tr><tr><td>150604</td><td>Moonwalkers (2015)</td><td>Comedy</td><td>448</td><td>150604</td><td>2.5</td><td>2.5593443</td></tr><tr><td>160563</td><td>The Legend of Tarzan (2016)</td><td>Action|Adventure</td><td>318</td><td>160563</td><td>3.5</td><td>3.5219743</td></tr><tr><td>160563</td><td>The Legend of Tarzan (2016)</td><td>Action|Adventure</td><td>448</td><td>160563</td><td>2.0</td><td>2.2549374</td></tr><tr><td>160563</td><td>The Legend of Tarzan (2016)</td><td>Action|Adventure</td><td>408</td><td>160563</td><td>3.5</td><td>3.5590637</td></tr><tr><td>160563</td><td>The Legend of Tarzan (2016)</td><td>Action|Adventure</td><td>125</td><td>160563</td><td>3.5</td><td>3.396267</td></tr><tr><td>160563</td><td>The Legend of Tarzan (2016)</td><td>Action|Adventure</td><td>382</td><td>160563</td><td>3.5</td><td>3.4583519</td></tr><tr><td>160563</td><td>The Legend of Tarzan (2016)</td><td>Action|Adventure</td><td>365</td><td>160563</td><td>2.5</td><td>2.6147194</td></tr><tr><td>166558</td><td>Underworld: Blood Wars (2016)</td><td>Action|Horror</td><td>380</td><td>166558</td><td>3.0</td><td>3.1302502</td></tr><tr><td>179749</td><td>Creep 2 (2017)</td><td>Comedy|Horror</td><td>567</td><td>179749</td><td>1.5</td><td>1.5423539</td></tr><tr><td>243</td><td>Gordy (1995)</td><td>Children|Comedy|Fantasy</td><td>6</td><td>243</td><td>3.0</td><td>3.132543</td></tr><tr><td>540</td><td>Sliver (1993)</td><td>Thriller</td><td>368</td><td>540</td><td>2.0</td><td>1.9411892</td></tr><tr><td>540</td><td>Sliver (1993)</td><td>Thriller</td><td>385</td><td>540</td><td>3.0</td><td>3.0467923</td></tr><tr><td>540</td><td>Sliver (1993)</td><td>Thriller</td><td>297</td><td>540</td><td>1.0</td><td>1.0412111</td></tr><tr><td>540</td><td>Sliver (1993)</td><td>Thriller</td><td>6</td><td>540</td><td>3.0</td><td>3.0059576</td></tr><tr><td>540</td><td>Sliver (1993)</td><td>Thriller</td><td>19</td><td>540</td><td>1.0</td><td>1.5662622</td></tr><tr><td>540</td><td>Sliver (1993)</td><td>Thriller</td><td>447</td><td>540</td><td>4.0</td><td>2.8668954</td></tr><tr><td>540</td><td>Sliver (1993)</td><td>Thriller</td><td>262</td><td>540</td><td>3.0</td><td>2.9922938</td></tr><tr><td>540</td><td>Sliver (1993)</td><td>Thriller</td><td>102</td><td>540</td><td>1.0</td><td>1.9227624</td></tr><tr><td>540</td><td>Sliver (1993)</td><td>Thriller</td><td>181</td><td>540</td><td>3.0</td><td>2.9332814</td></tr><tr><td>540</td><td>Sliver (1993)</td><td>Thriller</td><td>411</td><td>540</td><td>3.0</td><td>2.8223586</td></tr><tr><td>540</td><td>Sliver (1993)</td><td>Thriller</td><td>414</td><td>540</td><td>2.0</td><td>2.075715</td></tr><tr><td>540</td><td>Sliver (1993)</td><td>Thriller</td><td>592</td><td>540</td><td>3.0</td><td>3.3083813</td></tr><tr><td>540</td><td>Sliver (1993)</td><td>Thriller</td><td>109</td><td>540</td><td>3.0</td><td>2.8303795</td></tr><tr><td>540</td><td>Sliver (1993)</td><td>Thriller</td><td>58</td><td>540</td><td>3.0</td><td>1.716796</td></tr><tr><td>540</td><td>Sliver (1993)</td><td>Thriller</td><td>541</td><td>540</td><td>3.0</td><td>2.7866888</td></tr><tr><td>540</td><td>Sliver (1993)</td><td>Thriller</td><td>14</td><td>540</td><td>3.0</td><td>3.295031</td></tr><tr><td>540</td><td>Sliver (1993)</td><td>Thriller</td><td>373</td><td>540</td><td>3.0</td><td>3.0734892</td></tr><tr><td>540</td><td>Sliver (1993)</td><td>Thriller</td><td>42</td><td>540</td><td>4.0</td><td>3.508529</td></tr><tr><td>737</td><td>Barb Wire (1996)</td><td>Action|Sci-Fi</td><td>44</td><td>737</td><td>5.0</td><td>4.895861</td></tr><tr><td>737</td><td>Barb Wire (1996)</td><td>Action|Sci-Fi</td><td>599</td><td>737</td><td>1.5</td><td>2.0259097</td></tr><tr><td>737</td><td>Barb Wire (1996)</td><td>Action|Sci-Fi</td><td>269</td><td>737</td><td>3.0</td><td>3.0656042</td></tr><tr><td>737</td><td>Barb Wire (1996)</td><td>Action|Sci-Fi</td><td>387</td><td>737</td><td>2.0</td><td>1.3549094</td></tr><tr><td>737</td><td>Barb Wire (1996)</td><td>Action|Sci-Fi</td><td>456</td><td>737</td><td>3.0</td><td>2.5937397</td></tr><tr><td>737</td><td>Barb Wire (1996)</td><td>Action|Sci-Fi</td><td>217</td><td>737</td><td>1.0</td><td>1.6156217</td></tr><tr><td>737</td><td>Barb Wire (1996)</td><td>Action|Sci-Fi</td><td>555</td><td>737</td><td>1.0</td><td>3.2787993</td></tr><tr><td>737</td><td>Barb Wire (1996)</td><td>Action|Sci-Fi</td><td>380</td><td>737</td><td>2.0</td><td>1.9774909</td></tr><tr><td>737</td><td>Barb Wire (1996)</td><td>Action|Sci-Fi</td><td>277</td><td>737</td><td>3.0</td><td>1.8414342</td></tr><tr><td>737</td><td>Barb Wire (1996)</td><td>Action|Sci-Fi</td><td>438</td><td>737</td><td>2.0</td><td>2.577432</td></tr><tr><td>737</td><td>Barb Wire (1996)</td><td>Action|Sci-Fi</td><td>524</td><td>737</td><td>3.0</td><td>3.067445</td></tr><tr><td>737</td><td>Barb Wire (1996)</td><td>Action|Sci-Fi</td><td>234</td><td>737</td><td>4.0</td><td>3.334306</td></tr><tr><td>737</td><td>Barb Wire (1996)</td><td>Action|Sci-Fi</td><td>492</td><td>737</td><td>5.0</td><td>2.5976505</td></tr><tr><td>737</td><td>Barb Wire (1996)</td><td>Action|Sci-Fi</td><td>414</td><td>737</td><td>3.0</td><td>2.3112845</td></tr><tr><td>737</td><td>Barb Wire (1996)</td><td>Action|Sci-Fi</td><td>608</td><td>737</td><td>0.5</td><td>0.95159477</td></tr><tr><td>737</td><td>Barb Wire (1996)</td><td>Action|Sci-Fi</td><td>68</td><td>737</td><td>2.0</td><td>1.996916</td></tr><tr><td>737</td><td>Barb Wire (1996)</td><td>Action|Sci-Fi</td><td>270</td><td>737</td><td>1.0</td><td>1.2702633</td></tr><tr><td>737</td><td>Barb Wire (1996)</td><td>Action|Sci-Fi</td><td>337</td><td>737</td><td>5.0</td><td>4.974497</td></tr><tr><td>737</td><td>Barb Wire (1996)</td><td>Action|Sci-Fi</td><td>149</td><td>737</td><td>2.0</td><td>2.1453922</td></tr><tr><td>737</td><td>Barb Wire (1996)</td><td>Action|Sci-Fi</td><td>313</td><td>737</td><td>4.0</td><td>4.283515</td></tr><tr><td>858</td><td>Godfather, The (1972)</td><td>Crime|Drama</td><td>496</td><td>858</td><td>5.0</td><td>4.3496923</td></tr><tr><td>858</td><td>Godfather, The (1972)</td><td>Crime|Drama</td><td>137</td><td>858</td><td>5.0</td><td>4.5508537</td></tr><tr><td>858</td><td>Godfather, The (1972)</td><td>Crime|Drama</td><td>580</td><td>858</td><td>4.5</td><td>3.7066984</td></tr><tr><td>858</td><td>Godfather, The (1972)</td><td>Crime|Drama</td><td>472</td><td>858</td><td>5.0</td><td>3.9230628</td></tr><tr><td>858</td><td>Godfather, The (1972)</td><td>Crime|Drama</td><td>322</td><td>858</td><td>1.5</td><td>3.6593964</td></tr><tr><td>858</td><td>Godfather, The (1972)</td><td>Crime|Drama</td><td>362</td><td>858</td><td>5.0</td><td>5.053535</td></tr><tr><td>858</td><td>Godfather, The (1972)</td><td>Crime|Drama</td><td>593</td><td>858</td><td>5.0</td><td>4.7151346</td></tr><tr><td>858</td><td>Godfather, The (1972)</td><td>Crime|Drama</td><td>597</td><td>858</td><td>5.0</td><td>5.1855855</td></tr><tr><td>858</td><td>Godfather, The (1972)</td><td>Crime|Drama</td><td>193</td><td>858</td><td>4.5</td><td>4.437922</td></tr><tr><td>858</td><td>Godfather, The (1972)</td><td>Crime|Drama</td><td>211</td><td>858</td><td>4.5</td><td>4.4232144</td></tr><tr><td>858</td><td>Godfather, The (1972)</td><td>Crime|Drama</td><td>368</td><td>858</td><td>5.0</td><td>4.1624618</td></tr><tr><td>858</td><td>Godfather, The (1972)</td><td>Crime|Drama</td><td>385</td><td>858</td><td>5.0</td><td>4.3910823</td></tr><tr><td>858</td><td>Godfather, The (1972)</td><td>Crime|Drama</td><td>28</td><td>858</td><td>4.5</td><td>3.6303391</td></tr><tr><td>858</td><td>Godfather, The (1972)</td><td>Crime|Drama</td><td>183</td><td>858</td><td>3.0</td><td>4.298208</td></tr><tr><td>858</td><td>Godfather, The (1972)</td><td>Crime|Drama</td><td>497</td><td>858</td><td>4.0</td><td>3.915878</td></tr><tr><td>858</td><td>Godfather, The (1972)</td><td>Crime|Drama</td><td>596</td><td>858</td><td>3.5</td><td>3.8366578</td></tr><tr><td>858</td><td>Godfather, The (1972)</td><td>Crime|Drama</td><td>412</td><td>858</td><td>5.0</td><td>4.7391295</td></tr><tr><td>858</td><td>Godfather, The (1972)</td><td>Crime|Drama</td><td>76</td><td>858</td><td>5.0</td><td>4.1937327</td></tr><tr><td>858</td><td>Godfather, The (1972)</td><td>Crime|Drama</td><td>577</td><td>858</td><td>5.0</td><td>4.0457306</td></tr><tr><td>858</td><td>Godfather, The (1972)</td><td>Crime|Drama</td><td>606</td><td>858</td><td>4.0</td><td>4.2173934</td></tr><tr><td>858</td><td>Godfather, The (1972)</td><td>Crime|Drama</td><td>103</td><td>858</td><td>4.5</td><td>4.9131637</td></tr><tr><td>858</td><td>Godfather, The (1972)</td><td>Crime|Drama</td><td>329</td><td>858</td><td>2.0</td><td>2.160701</td></tr><tr><td>858</td><td>Godfather, The (1972)</td><td>Crime|Drama</td><td>336</td><td>858</td><td>4.0</td><td>4.2157087</td></tr><tr><td>858</td><td>Godfather, The (1972)</td><td>Crime|Drama</td><td>350</td><td>858</td><td>3.0</td><td>3.6715636</td></tr><tr><td>858</td><td>Godfather, The (1972)</td><td>Crime|Drama</td><td>417</td><td>858</td><td>5.0</td><td>4.3373485</td></tr><tr><td>858</td><td>Godfather, The (1972)</td><td>Crime|Drama</td><td>91</td><td>858</td><td>5.0</td><td>4.28486</td></tr><tr><td>858</td><td>Godfather, The (1972)</td><td>Crime|Drama</td><td>409</td><td>858</td><td>5.0</td><td>4.7986307</td></tr><tr><td>858</td><td>Godfather, The (1972)</td><td>Crime|Drama</td><td>222</td><td>858</td><td>4.5</td><td>3.7703145</td></tr><tr><td>858</td><td>Godfather, The (1972)</td><td>Crime|Drama</td><td>285</td><td>858</td><td>5.0</td><td>4.758702</td></tr><tr><td>858</td><td>Godfather, The (1972)</td><td>Crime|Drama</td><td>601</td><td>858</td><td>5.0</td><td>4.693811</td></tr><tr><td>858</td><td>Godfather, The (1972)</td><td>Crime|Drama</td><td>22</td><td>858</td><td>3.0</td><td>4.4130597</td></tr><tr><td>858</td><td>Godfather, The (1972)</td><td>Crime|Drama</td><td>330</td><td>858</td><td>4.0</td><td>4.393585</td></tr><tr><td>858</td><td>Godfather, The (1972)</td><td>Crime|Drama</td><td>372</td><td>858</td><td>5.0</td><td>4.170954</td></tr><tr><td>858</td><td>Godfather, The (1972)</td><td>Crime|Drama</td><td>122</td><td>858</td><td>5.0</td><td>5.507205</td></tr><tr><td>858</td><td>Godfather, The (1972)</td><td>Crime|Drama</td><td>319</td><td>858</td><td>5.0</td><td>5.3347583</td></tr><tr><td>858</td><td>Godfather, The (1972)</td><td>Crime|Drama</td><td>493</td><td>858</td><td>5.0</td><td>4.707574</td></tr><tr><td>858</td><td>Godfather, The (1972)</td><td>Crime|Drama</td><td>190</td><td>858</td><td>4.5</td><td>4.692066</td></tr><tr><td>858</td><td>Godfather, The (1972)</td><td>Crime|Drama</td><td>232</td><td>858</td><td>4.0</td><td>4.081719</td></tr><tr><td>858</td><td>Godfather, The (1972)</td><td>Crime|Drama</td><td>233</td><td>858</td><td>4.0</td><td>3.7263918</td></tr><tr><td>858</td><td>Godfather, The (1972)</td><td>Crime|Drama</td><td>346</td><td>858</td><td>4.0</td><td>4.0380573</td></tr><tr><td>858</td><td>Godfather, The (1972)</td><td>Crime|Drama</td><td>367</td><td>858</td><td>5.0</td><td>3.87338</td></tr><tr><td>858</td><td>Godfather, The (1972)</td><td>Crime|Drama</td><td>599</td><td>858</td><td>4.0</td><td>3.7734137</td></tr><tr><td>858</td><td>Godfather, The (1972)</td><td>Crime|Drama</td><td>224</td><td>858</td><td>4.0</td><td>3.8244443</td></tr><tr><td>858</td><td>Godfather, The (1972)</td><td>Crime|Drama</td><td>140</td><td>858</td><td>5.0</td><td>3.9705753</td></tr><tr><td>858</td><td>Godfather, The (1972)</td><td>Crime|Drama</td><td>177</td><td>858</td><td>5.0</td><td>3.7312477</td></tr><tr><td>858</td><td>Godfather, The (1972)</td><td>Crime|Drama</td><td>132</td><td>858</td><td>3.0</td><td>3.2027946</td></tr><tr><td>858</td><td>Godfather, The (1972)</td><td>Crime|Drama</td><td>152</td><td>858</td><td>5.0</td><td>4.313004</td></tr><tr><td>858</td><td>Godfather, The (1972)</td><td>Crime|Drama</td><td>305</td><td>858</td><td>5.0</td><td>5.0286417</td></tr><tr><td>858</td><td>Godfather, The (1972)</td><td>Crime|Drama</td><td>325</td><td>858</td><td>5.0</td><td>4.6895113</td></tr><tr><td>858</td><td>Godfather, The (1972)</td><td>Crime|Drama</td><td>435</td><td>858</td><td>5.0</td><td>4.9075456</td></tr><tr><td>858</td><td>Godfather, The (1972)</td><td>Crime|Drama</td><td>603</td><td>858</td><td>5.0</td><td>4.397184</td></tr><tr><td>858</td><td>Godfather, The (1972)</td><td>Crime|Drama</td><td>274</td><td>858</td><td>3.5</td><td>3.8018339</td></tr><tr><td>858</td><td>Godfather, The (1972)</td><td>Crime|Drama</td><td>182</td><td>858</td><td>4.5</td><td>4.23932</td></tr><tr><td>858</td><td>Godfather, The (1972)</td><td>Crime|Drama</td><td>348</td><td>858</td><td>5.0</td><td>4.85633</td></tr><tr><td>858</td><td>Godfather, The (1972)</td><td>Crime|Drama</td><td>16</td><td>858</td><td>2.5</td><td>4.01553</td></tr><tr><td>858</td><td>Godfather, The (1972)</td><td>Crime|Drama</td><td>474</td><td>858</td><td>5.0</td><td>4.257474</td></tr><tr><td>858</td><td>Godfather, The (1972)</td><td>Crime|Drama</td><td>168</td><td>858</td><td>5.0</td><td>4.9875493</td></tr><tr><td>858</td><td>Godfather, The (1972)</td><td>Crime|Drama</td><td>572</td><td>858</td><td>5.0</td><td>4.779477</td></tr><tr><td>858</td><td>Godfather, The (1972)</td><td>Crime|Drama</td><td>308</td><td>858</td><td>1.5</td><td>1.014935</td></tr><tr><td>858</td><td>Godfather, The (1972)</td><td>Crime|Drama</td><td>328</td><td>858</td><td>5.0</td><td>3.8629017</td></tr><tr><td>858</td><td>Godfather, The (1972)</td><td>Crime|Drama</td><td>479</td><td>858</td><td>4.0</td><td>4.360769</td></tr><tr><td>858</td><td>Godfather, The (1972)</td><td>Crime|Drama</td><td>295</td><td>858</td><td>4.5</td><td>4.4017835</td></tr><tr><td>858</td><td>Godfather, The (1972)</td><td>Crime|Drama</td><td>432</td><td>858</td><td>4.0</td><td>3.2772732</td></tr><tr><td>858</td><td>Godfather, The (1972)</td><td>Crime|Drama</td><td>57</td><td>858</td><td>5.0</td><td>4.697157</td></tr><tr><td>858</td><td>Godfather, The (1972)</td><td>Crime|Drama</td><td>570</td><td>858</td><td>3.0</td><td>3.5888093</td></tr><tr><td>858</td><td>Godfather, The (1972)</td><td>Crime|Drama</td><td>292</td><td>858</td><td>4.0</td><td>3.738458</td></tr><tr><td>858</td><td>Godfather, The (1972)</td><td>Crime|Drama</td><td>339</td><td>858</td><td>4.5</td><td>4.757643</td></tr><tr><td>858</td><td>Godfather, The (1972)</td><td>Crime|Drama</td><td>120</td><td>858</td><td>5.0</td><td>5.1112223</td></tr><tr><td>858</td><td>Godfather, The (1972)</td><td>Crime|Drama</td><td>96</td><td>858</td><td>4.0</td><td>3.9452105</td></tr><tr><td>858</td><td>Godfather, The (1972)</td><td>Crime|Drama</td><td>452</td><td>858</td><td>5.0</td><td>4.658267</td></tr><tr><td>858</td><td>Godfather, The (1972)</td><td>Crime|Drama</td><td>268</td><td>858</td><td>5.0</td><td>4.6289835</td></tr><tr><td>858</td><td>Godfather, The (1972)</td><td>Crime|Drama</td><td>279</td><td>858</td><td>4.0</td><td>4.135943</td></tr><tr><td>858</td><td>Godfather, The (1972)</td><td>Crime|Drama</td><td>430</td><td>858</td><td>4.0</td><td>4.617813</td></tr><tr><td>858</td><td>Godfather, The (1972)</td><td>Crime|Drama</td><td>419</td><td>858</td><td>5.0</td><td>4.677273</td></tr><tr><td>858</td><td>Godfather, The (1972)</td><td>Crime|Drama</td><td>553</td><td>858</td><td>5.0</td><td>5.066444</td></tr><tr><td>858</td><td>Godfather, The (1972)</td><td>Crime|Drama</td><td>415</td><td>858</td><td>5.0</td><td>4.961705</td></tr><tr><td>858</td><td>Godfather, The (1972)</td><td>Crime|Drama</td><td>64</td><td>858</td><td>5.0</td><td>4.5563145</td></tr><tr><td>858</td><td>Godfather, The (1972)</td><td>Crime|Drama</td><td>227</td><td>858</td><td>4.5</td><td>4.3947015</td></tr><tr><td>858</td><td>Godfather, The (1972)</td><td>Crime|Drama</td><td>554</td><td>858</td><td>5.0</td><td>4.741153</td></tr><tr><td>858</td><td>Godfather, The (1972)</td><td>Crime|Drama</td><td>425</td><td>858</td><td>3.5</td><td>3.6809545</td></tr><tr><td>858</td><td>Godfather, The (1972)</td><td>Crime|Drama</td><td>607</td><td>858</td><td>4.0</td><td>3.9133158</td></tr><tr><td>858</td><td>Godfather, The (1972)</td><td>Crime|Drama</td><td>15</td><td>858</td><td>4.0</td><td>4.7982287</td></tr><tr><td>858</td><td>Godfather, The (1972)</td><td>Crime|Drama</td><td>327</td><td>858</td><td>3.5</td><td>3.9344735</td></tr><tr><td>858</td><td>Godfather, The (1972)</td><td>Crime|Drama</td><td>165</td><td>858</td><td>3.0</td><td>3.6153042</td></tr><tr><td>858</td><td>Godfather, The (1972)</td><td>Crime|Drama</td><td>590</td><td>858</td><td>5.0</td><td>4.3600464</td></tr><tr><td>858</td><td>Godfather, The (1972)</td><td>Crime|Drama</td><td>197</td><td>858</td><td>2.0</td><td>4.3413944</td></tr><tr><td>858</td><td>Godfather, The (1972)</td><td>Crime|Drama</td><td>462</td><td>858</td><td>5.0</td><td>4.011862</td></tr><tr><td>858</td><td>Godfather, The (1972)</td><td>Crime|Drama</td><td>202</td><td>858</td><td>4.0</td><td>4.755833</td></tr><tr><td>858</td><td>Godfather, The (1972)</td><td>Crime|Drama</td><td>17</td><td>858</td><td>5.0</td><td>4.590716</td></tr><tr><td>858</td><td>Godfather, The (1972)</td><td>Crime|Drama</td><td>231</td><td>858</td><td>4.0</td><td>4.2362604</td></tr><tr><td>858</td><td>Godfather, The (1972)</td><td>Crime|Drama</td><td>324</td><td>858</td><td>4.0</td><td>4.1220493</td></tr><tr><td>858</td><td>Godfather, The (1972)</td><td>Crime|Drama</td><td>586</td><td>858</td><td>3.0</td><td>4.1911497</td></tr><tr><td>858</td><td>Godfather, The (1972)</td><td>Crime|Drama</td><td>72</td><td>858</td><td>4.5</td><td>4.536882</td></tr><tr><td>858</td><td>Godfather, The (1972)</td><td>Crime|Drama</td><td>387</td><td>858</td><td>4.5</td><td>4.273973</td></tr><tr><td>858</td><td>Godfather, The (1972)</td><td>Crime|Drama</td><td>503</td><td>858</td><td>4.5</td><td>4.232937</td></tr><tr><td>858</td><td>Godfather, The (1972)</td><td>Crime|Drama</td><td>594</td><td>858</td><td>4.0</td><td>3.9494894</td></tr><tr><td>858</td><td>Godfather, The (1972)</td><td>Crime|Drama</td><td>610</td><td>858</td><td>5.0</td><td>4.7508535</td></tr><tr><td>858</td><td>Godfather, The (1972)</td><td>Crime|Drama</td><td>217</td><td>858</td><td>2.0</td><td>3.2817206</td></tr><tr><td>858</td><td>Godfather, The (1972)</td><td>Crime|Drama</td><td>290</td><td>858</td><td>5.0</td><td>4.77787</td></tr><tr><td>858</td><td>Godfather, The (1972)</td><td>Crime|Drama</td><td>307</td><td>858</td><td>4.5</td><td>3.6741164</td></tr><tr><td>858</td><td>Godfather, The (1972)</td><td>Crime|Drama</td><td>220</td><td>858</td><td>5.0</td><td>4.515143</td></tr><tr><td>858</td><td>Godfather, The (1972)</td><td>Crime|Drama</td><td>494</td><td>858</td><td>5.0</td><td>4.9345617</td></tr><tr><td>858</td><td>Godfather, The (1972)</td><td>Crime|Drama</td><td>59</td><td>858</td><td>5.0</td><td>4.9069448</td></tr><tr><td>858</td><td>Godfather, The (1972)</td><td>Crime|Drama</td><td>241</td><td>858</td><td>4.5</td><td>4.2980533</td></tr><tr><td>858</td><td>Godfather, The (1972)</td><td>Crime|Drama</td><td>495</td><td>858</td><td>4.5</td><td>5.0540195</td></tr><tr><td>858</td><td>Godfather, The (1972)</td><td>Crime|Drama</td><td>23</td><td>858</td><td>3.5</td><td>3.7669969</td></tr><tr><td>858</td><td>Godfather, The (1972)</td><td>Crime|Drama</td><td>39</td><td>858</td><td>4.0</td><td>4.603769</td></tr><tr><td>858</td><td>Godfather, The (1972)</td><td>Crime|Drama</td><td>380</td><td>858</td><td>4.0</td><td>4.5751247</td></tr><tr><td>858</td><td>Godfather, The (1972)</td><td>Crime|Drama</td><td>520</td><td>858</td><td>2.0</td><td>4.119173</td></tr><tr><td>858</td><td>Godfather, The (1972)</td><td>Crime|Drama</td><td>238</td><td>858</td><td>3.0</td><td>3.3562236</td></tr><tr><td>858</td><td>Godfather, The (1972)</td><td>Crime|Drama</td><td>84</td><td>858</td><td>4.0</td><td>4.0978327</td></tr><tr><td>858</td><td>Godfather, The (1972)</td><td>Crime|Drama</td><td>453</td><td>858</td><td>4.0</td><td>4.0941663</td></tr><tr><td>858</td><td>Godfather, The (1972)</td><td>Crime|Drama</td><td>247</td><td>858</td><td>4.0</td><td>4.0001965</td></tr><tr><td>858</td><td>Godfather, The (1972)</td><td>Crime|Drama</td><td>171</td><td>858</td><td>5.0</td><td>5.090206</td></tr><tr><td>858</td><td>Godfather, The (1972)</td><td>Crime|Drama</td><td>343</td><td>858</td><td>3.0</td><td>4.220475</td></tr><tr><td>858</td><td>Godfather, The (1972)</td><td>Crime|Drama</td><td>434</td><td>858</td><td>5.0</td><td>4.76587</td></tr><tr><td>858</td><td>Godfather, The (1972)</td><td>Crime|Drama</td><td>585</td><td>858</td><td>5.0</td><td>4.7521243</td></tr><tr><td>858</td><td>Godfather, The (1972)</td><td>Crime|Drama</td><td>51</td><td>858</td><td>3.5</td><td>5.3085785</td></tr><tr><td>858</td><td>Godfather, The (1972)</td><td>Crime|Drama</td><td>331</td><td>858</td><td>5.0</td><td>4.445954</td></tr><tr><td>858</td><td>Godfather, The (1972)</td><td>Crime|Drama</td><td>391</td><td>858</td><td>5.0</td><td>4.7932</td></tr><tr><td>858</td><td>Godfather, The (1972)</td><td>Crime|Drama</td><td>532</td><td>858</td><td>5.0</td><td>4.8315783</td></tr><tr><td>858</td><td>Godfather, The (1972)</td><td>Crime|Drama</td><td>166</td><td>858</td><td>4.5</td><td>4.3904</td></tr><tr><td>858</td><td>Godfather, The (1972)</td><td>Crime|Drama</td><td>448</td><td>858</td><td>5.0</td><td>4.60394</td></tr><tr><td>858</td><td>Godfather, The (1972)</td><td>Crime|Drama</td><td>97</td><td>858</td><td>5.0</td><td>4.5490646</td></tr><tr><td>858</td><td>Godfather, The (1972)</td><td>Crime|Drama</td><td>400</td><td>858</td><td>5.0</td><td>4.64637</td></tr><tr><td>858</td><td>Godfather, The (1972)</td><td>Crime|Drama</td><td>239</td><td>858</td><td>5.0</td><td>4.6788626</td></tr><tr><td>858</td><td>Godfather, The (1972)</td><td>Crime|Drama</td><td>63</td><td>858</td><td>4.0</td><td>4.008374</td></tr><tr><td>858</td><td>Godfather, The (1972)</td><td>Crime|Drama</td><td>361</td><td>858</td><td>2.5</td><td>1.747995</td></tr><tr><td>858</td><td>Godfather, The (1972)</td><td>Crime|Drama</td><td>50</td><td>858</td><td>4.0</td><td>3.7959745</td></tr><tr><td>858</td><td>Godfather, The (1972)</td><td>Crime|Drama</td><td>45</td><td>858</td><td>5.0</td><td>3.9841428</td></tr><tr><td>858</td><td>Godfather, The (1972)</td><td>Crime|Drama</td><td>82</td><td>858</td><td>3.5</td><td>3.501133</td></tr><tr><td>858</td><td>Godfather, The (1972)</td><td>Crime|Drama</td><td>249</td><td>858</td><td>4.5</td><td>4.5605154</td></tr><tr><td>858</td><td>Godfather, The (1972)</td><td>Crime|Drama</td><td>364</td><td>858</td><td>5.0</td><td>4.730242</td></tr><tr><td>858</td><td>Godfather, The (1972)</td><td>Crime|Drama</td><td>510</td><td>858</td><td>4.5</td><td>4.1856704</td></tr><tr><td>858</td><td>Godfather, The (1972)</td><td>Crime|Drama</td><td>80</td><td>858</td><td>4.0</td><td>4.5086617</td></tr><tr><td>858</td><td>Godfather, The (1972)</td><td>Crime|Drama</td><td>245</td><td>858</td><td>2.0</td><td>2.422425</td></tr><tr><td>858</td><td>Godfather, The (1972)</td><td>Crime|Drama</td><td>113</td><td>858</td><td>4.0</td><td>3.9516401</td></tr><tr><td>858</td><td>Godfather, The (1972)</td><td>Crime|Drama</td><td>160</td><td>858</td><td>5.0</td><td>4.0559244</td></tr><tr><td>858</td><td>Godfather, The (1972)</td><td>Crime|Drama</td><td>70</td><td>858</td><td>5.0</td><td>4.7402253</td></tr><tr><td>858</td><td>Godfather, The (1972)</td><td>Crime|Drama</td><td>62</td><td>858</td><td>5.0</td><td>5.180734</td></tr><tr><td>858</td><td>Godfather, The (1972)</td><td>Crime|Drama</td><td>125</td><td>858</td><td>4.5</td><td>4.8542023</td></tr><tr><td>858</td><td>Godfather, The (1972)</td><td>Crime|Drama</td><td>156</td><td>858</td><td>5.0</td><td>4.06987</td></tr><tr><td>858</td><td>Godfather, The (1972)</td><td>Crime|Drama</td><td>480</td><td>858</td><td>5.0</td><td>4.55246</td></tr><tr><td>858</td><td>Godfather, The (1972)</td><td>Crime|Drama</td><td>219</td><td>858</td><td>4.5</td><td>4.2065425</td></tr><tr><td>858</td><td>Godfather, The (1972)</td><td>Crime|Drama</td><td>29</td><td>858</td><td>4.5</td><td>4.7222753</td></tr><tr><td>858</td><td>Godfather, The (1972)</td><td>Crime|Drama</td><td>464</td><td>858</td><td>5.0</td><td>4.9200606</td></tr><tr><td>858</td><td>Godfather, The (1972)</td><td>Crime|Drama</td><td>21</td><td>858</td><td>2.5</td><td>3.3262906</td></tr><tr><td>858</td><td>Godfather, The (1972)</td><td>Crime|Drama</td><td>338</td><td>858</td><td>4.5</td><td>4.889768</td></tr><tr><td>858</td><td>Godfather, The (1972)</td><td>Crime|Drama</td><td>492</td><td>858</td><td>3.0</td><td>3.560085</td></tr><tr><td>858</td><td>Godfather, The (1972)</td><td>Crime|Drama</td><td>98</td><td>858</td><td>3.0</td><td>4.1772823</td></tr><tr><td>858</td><td>Godfather, The (1972)</td><td>Crime|Drama</td><td>60</td><td>858</td><td>5.0</td><td>4.0642548</td></tr><tr><td>858</td><td>Godfather, The (1972)</td><td>Crime|Drama</td><td>382</td><td>858</td><td>5.0</td><td>4.935823</td></tr><tr><td>858</td><td>Godfather, The (1972)</td><td>Crime|Drama</td><td>469</td><td>858</td><td>5.0</td><td>4.8185124</td></tr><tr><td>858</td><td>Godfather, The (1972)</td><td>Crime|Drama</td><td>221</td><td>858</td><td>4.5</td><td>4.9194145</td></tr><tr><td>858</td><td>Godfather, The (1972)</td><td>Crime|Drama</td><td>141</td><td>858</td><td>2.5</td><td>3.6353083</td></tr><tr><td>858</td><td>Godfather, The (1972)</td><td>Crime|Drama</td><td>414</td><td>858</td><td>5.0</td><td>4.7082896</td></tr><tr><td>858</td><td>Godfather, The (1972)</td><td>Crime|Drama</td><td>608</td><td>858</td><td>5.0</td><td>3.4368207</td></tr><tr><td>858</td><td>Godfather, The (1972)</td><td>Crime|Drama</td><td>376</td><td>858</td><td>4.0</td><td>4.4888573</td></tr><tr><td>858</td><td>Godfather, The (1972)</td><td>Crime|Drama</td><td>254</td><td>858</td><td>4.0</td><td>3.9818885</td></tr><tr><td>858</td><td>Godfather, The (1972)</td><td>Crime|Drama</td><td>378</td><td>858</td><td>3.0</td><td>4.6112647</td></tr><tr><td>858</td><td>Godfather, The (1972)</td><td>Crime|Drama</td><td>213</td><td>858</td><td>4.0</td><td>4.3126183</td></tr><tr><td>858</td><td>Godfather, The (1972)</td><td>Crime|Drama</td><td>228</td><td>858</td><td>4.0</td><td>4.036051</td></tr><tr><td>858</td><td>Godfather, The (1972)</td><td>Crime|Drama</td><td>354</td><td>858</td><td>4.0</td><td>4.1334515</td></tr><tr><td>858</td><td>Godfather, The (1972)</td><td>Crime|Drama</td><td>105</td><td>858</td><td>5.0</td><td>4.6859655</td></tr><tr><td>858</td><td>Godfather, The (1972)</td><td>Crime|Drama</td><td>298</td><td>858</td><td>5.0</td><td>3.8843539</td></tr><tr><td>858</td><td>Godfather, The (1972)</td><td>Crime|Drama</td><td>204</td><td>858</td><td>4.0</td><td>4.6338625</td></tr><tr><td>858</td><td>Godfather, The (1972)</td><td>Crime|Drama</td><td>413</td><td>858</td><td>5.0</td><td>4.5144663</td></tr><tr><td>858</td><td>Godfather, The (1972)</td><td>Crime|Drama</td><td>68</td><td>858</td><td>4.0</td><td>2.9717486</td></tr><tr><td>858</td><td>Godfather, The (1972)</td><td>Crime|Drama</td><td>116</td><td>858</td><td>1.5</td><td>2.1302927</td></tr><tr><td>858</td><td>Godfather, The (1972)</td><td>Crime|Drama</td><td>317</td><td>858</td><td>5.0</td><td>4.7448564</td></tr><tr><td>858</td><td>Godfather, The (1972)</td><td>Crime|Drama</td><td>600</td><td>858</td><td>4.0</td><td>3.588676</td></tr><tr><td>858</td><td>Godfather, The (1972)</td><td>Crime|Drama</td><td>424</td><td>858</td><td>3.0</td><td>3.782835</td></tr><tr><td>858</td><td>Godfather, The (1972)</td><td>Crime|Drama</td><td>199</td><td>858</td><td>4.0</td><td>4.308262</td></tr><tr><td>858</td><td>Godfather, The (1972)</td><td>Crime|Drama</td><td>135</td><td>858</td><td>4.0</td><td>4.2495666</td></tr><tr><td>858</td><td>Godfather, The (1972)</td><td>Crime|Drama</td><td>522</td><td>858</td><td>4.5</td><td>4.8621206</td></tr><tr><td>858</td><td>Godfather, The (1972)</td><td>Crime|Drama</td><td>42</td><td>858</td><td>5.0</td><td>4.442644</td></tr><tr><td>858</td><td>Godfather, The (1972)</td><td>Crime|Drama</td><td>79</td><td>858</td><td>5.0</td><td>5.249404</td></tr><tr><td>858</td><td>Godfather, The (1972)</td><td>Crime|Drama</td><td>131</td><td>858</td><td>4.0</td><td>4.2414746</td></tr><tr><td>858</td><td>Godfather, The (1972)</td><td>Crime|Drama</td><td>294</td><td>858</td><td>5.0</td><td>4.2302527</td></tr><tr><td>858</td><td>Godfather, The (1972)</td><td>Crime|Drama</td><td>357</td><td>858</td><td>5.0</td><td>4.091189</td></tr><tr><td>858</td><td>Godfather, The (1972)</td><td>Crime|Drama</td><td>118</td><td>858</td><td>5.0</td><td>4.456959</td></tr><tr><td>858</td><td>Godfather, The (1972)</td><td>Crime|Drama</td><td>573</td><td>858</td><td>5.0</td><td>4.362405</td></tr><tr><td>858</td><td>Godfather, The (1972)</td><td>Crime|Drama</td><td>302</td><td>858</td><td>5.0</td><td>5.0193353</td></tr><tr><td>858</td><td>Godfather, The (1972)</td><td>Crime|Drama</td><td>313</td><td>858</td><td>5.0</td><td>3.861159</td></tr><tr><td>858</td><td>Godfather, The (1972)</td><td>Crime|Drama</td><td>275</td><td>858</td><td>5.0</td><td>4.7331853</td></tr><tr><td>858</td><td>Godfather, The (1972)</td><td>Crime|Drama</td><td>282</td><td>858</td><td>5.0</td><td>4.669683</td></tr><tr><td>858</td><td>Godfather, The (1972)</td><td>Crime|Drama</td><td>153</td><td>858</td><td>1.0</td><td>2.1552348</td></tr><tr><td>858</td><td>Godfather, The (1972)</td><td>Crime|Drama</td><td>18</td><td>858</td><td>4.0</td><td>4.617146</td></tr><tr><td>858</td><td>Godfather, The (1972)</td><td>Crime|Drama</td><td>74</td><td>858</td><td>5.0</td><td>4.7063785</td></tr><tr><td>858</td><td>Godfather, The (1972)</td><td>Crime|Drama</td><td>104</td><td>858</td><td>1.5</td><td>4.0777435</td></tr><tr><td>858</td><td>Godfather, The (1972)</td><td>Crime|Drama</td><td>483</td><td>858</td><td>4.0</td><td>4.3031096</td></tr><tr><td>858</td><td>Godfather, The (1972)</td><td>Crime|Drama</td><td>422</td><td>858</td><td>4.0</td><td>4.3708906</td></tr><tr><td>897</td><td>For Whom the Bell Tolls (1943)</td><td>Adventure|Drama|Romance|War</td><td>606</td><td>897</td><td>3.5</td><td>3.5724893</td></tr><tr><td>897</td><td>For Whom the Bell Tolls (1943)</td><td>Adventure|Drama|Romance|War</td><td>57</td><td>897</td><td>4.0</td><td>4.025577</td></tr><tr><td>1025</td><td>Sword in the Stone, The (1963)</td><td>Animation|Children|Fantasy|Musical</td><td>211</td><td>1025</td><td>4.0</td><td>3.8825245</td></tr><tr><td>1025</td><td>Sword in the Stone, The (1963)</td><td>Animation|Children|Fantasy|Musical</td><td>103</td><td>1025</td><td>4.0</td><td>4.025104</td></tr><tr><td>1025</td><td>Sword in the Stone, The (1963)</td><td>Animation|Children|Fantasy|Musical</td><td>177</td><td>1025</td><td>4.0</td><td>3.9144144</td></tr><tr><td>1025</td><td>Sword in the Stone, The (1963)</td><td>Animation|Children|Fantasy|Musical</td><td>1</td><td>1025</td><td>5.0</td><td>5.182646</td></tr><tr><td>1025</td><td>Sword in the Stone, The (1963)</td><td>Animation|Children|Fantasy|Musical</td><td>274</td><td>1025</td><td>3.5</td><td>2.9380946</td></tr><tr><td>1025</td><td>Sword in the Stone, The (1963)</td><td>Animation|Children|Fantasy|Musical</td><td>474</td><td>1025</td><td>3.0</td><td>2.8971436</td></tr><tr><td>1025</td><td>Sword in the Stone, The (1963)</td><td>Animation|Children|Fantasy|Musical</td><td>328</td><td>1025</td><td>3.5</td><td>3.7513394</td></tr><tr><td>1025</td><td>Sword in the Stone, The (1963)</td><td>Animation|Children|Fantasy|Musical</td><td>20</td><td>1025</td><td>5.0</td><td>4.499312</td></tr><tr><td>1025</td><td>Sword in the Stone, The (1963)</td><td>Animation|Children|Fantasy|Musical</td><td>479</td><td>1025</td><td>3.0</td><td>3.5339506</td></tr><tr><td>1025</td><td>Sword in the Stone, The (1963)</td><td>Animation|Children|Fantasy|Musical</td><td>484</td><td>1025</td><td>5.0</td><td>4.4572988</td></tr><tr><td>1025</td><td>Sword in the Stone, The (1963)</td><td>Animation|Children|Fantasy|Musical</td><td>387</td><td>1025</td><td>3.0</td><td>3.12073</td></tr><tr><td>1025</td><td>Sword in the Stone, The (1963)</td><td>Animation|Children|Fantasy|Musical</td><td>4</td><td>1025</td><td>4.0</td><td>4.055913</td></tr><tr><td>1025</td><td>Sword in the Stone, The (1963)</td><td>Animation|Children|Fantasy|Musical</td><td>39</td><td>1025</td><td>4.0</td><td>3.7278326</td></tr><tr><td>1025</td><td>Sword in the Stone, The (1963)</td><td>Animation|Children|Fantasy|Musical</td><td>171</td><td>1025</td><td>4.0</td><td>4.1111636</td></tr><tr><td>1025</td><td>Sword in the Stone, The (1963)</td><td>Animation|Children|Fantasy|Musical</td><td>395</td><td>1025</td><td>3.0</td><td>3.3211055</td></tr><tr><td>1025</td><td>Sword in the Stone, The (1963)</td><td>Animation|Children|Fantasy|Musical</td><td>509</td><td>1025</td><td>2.5</td><td>3.3959088</td></tr><tr><td>1025</td><td>Sword in the Stone, The (1963)</td><td>Animation|Children|Fantasy|Musical</td><td>288</td><td>1025</td><td>2.0</td><td>2.9946704</td></tr><tr><td>1025</td><td>Sword in the Stone, The (1963)</td><td>Animation|Children|Fantasy|Musical</td><td>226</td><td>1025</td><td>4.0</td><td>4.018634</td></tr><tr><td>1025</td><td>Sword in the Stone, The (1963)</td><td>Animation|Children|Fantasy|Musical</td><td>414</td><td>1025</td><td>4.0</td><td>4.170482</td></tr><tr><td>1025</td><td>Sword in the Stone, The (1963)</td><td>Animation|Children|Fantasy|Musical</td><td>608</td><td>1025</td><td>3.5</td><td>3.3227012</td></tr><tr><td>1025</td><td>Sword in the Stone, The (1963)</td><td>Animation|Children|Fantasy|Musical</td><td>304</td><td>1025</td><td>4.0</td><td>3.2522056</td></tr><tr><td>1025</td><td>Sword in the Stone, The (1963)</td><td>Animation|Children|Fantasy|Musical</td><td>68</td><td>1025</td><td>2.5</td><td>2.88237</td></tr><tr><td>1025</td><td>Sword in the Stone, The (1963)</td><td>Animation|Children|Fantasy|Musical</td><td>600</td><td>1025</td><td>3.5</td><td>3.5811226</td></tr><tr><td>1025</td><td>Sword in the Stone, The (1963)</td><td>Animation|Children|Fantasy|Musical</td><td>605</td><td>1025</td><td>3.0</td><td>2.9461257</td></tr><tr><td>1025</td><td>Sword in the Stone, The (1963)</td><td>Animation|Children|Fantasy|Musical</td><td>517</td><td>1025</td><td>2.5</td><td>2.7901132</td></tr><tr><td>1084</td><td>Bonnie and Clyde (1967)</td><td>Crime|Drama</td><td>597</td><td>1084</td><td>5.0</td><td>4.7583923</td></tr><tr><td>1084</td><td>Bonnie and Clyde (1967)</td><td>Crime|Drama</td><td>103</td><td>1084</td><td>5.0</td><td>4.7738624</td></tr><tr><td>1084</td><td>Bonnie and Clyde (1967)</td><td>Crime|Drama</td><td>372</td><td>1084</td><td>3.0</td><td>4.0457845</td></tr><tr><td>1084</td><td>Bonnie and Clyde (1967)</td><td>Crime|Drama</td><td>599</td><td>1084</td><td>3.5</td><td>3.5617254</td></tr><tr><td>1084</td><td>Bonnie and Clyde (1967)</td><td>Crime|Drama</td><td>140</td><td>1084</td><td>4.0</td><td>3.7949157</td></tr><tr><td>1084</td><td>Bonnie and Clyde (1967)</td><td>Crime|Drama</td><td>177</td><td>1084</td><td>3.5</td><td>3.8567655</td></tr><tr><td>1084</td><td>Bonnie and Clyde (1967)</td><td>Crime|Drama</td><td>6</td><td>1084</td><td>3.0</td><td>3.8734064</td></tr><tr><td>1084</td><td>Bonnie and Clyde (1967)</td><td>Crime|Drama</td><td>474</td><td>1084</td><td>3.5</td><td>3.7767208</td></tr><tr><td>1084</td><td>Bonnie and Clyde (1967)</td><td>Crime|Drama</td><td>402</td><td>1084</td><td>5.0</td><td>4.6814556</td></tr><tr><td>1084</td><td>Bonnie and Clyde (1967)</td><td>Crime|Drama</td><td>309</td><td>1084</td><td>3.0</td><td>4.547655</td></tr><tr><td>1084</td><td>Bonnie and Clyde (1967)</td><td>Crime|Drama</td><td>484</td><td>1084</td><td>4.0</td><td>4.0279994</td></tr><tr><td>1084</td><td>Bonnie and Clyde (1967)</td><td>Crime|Drama</td><td>607</td><td>1084</td><td>4.0</td><td>3.69666</td></tr><tr><td>1084</td><td>Bonnie and Clyde (1967)</td><td>Crime|Drama</td><td>43</td><td>1084</td><td>5.0</td><td>4.6016445</td></tr><tr><td>1084</td><td>Bonnie and Clyde (1967)</td><td>Crime|Drama</td><td>590</td><td>1084</td><td>4.0</td><td>4.061063</td></tr><tr><td>1084</td><td>Bonnie and Clyde (1967)</td><td>Crime|Drama</td><td>610</td><td>1084</td><td>4.0</td><td>4.5370426</td></tr><tr><td>1084</td><td>Bonnie and Clyde (1967)</td><td>Crime|Drama</td><td>290</td><td>1084</td><td>5.0</td><td>4.4560394</td></tr><tr><td>1084</td><td>Bonnie and Clyde (1967)</td><td>Crime|Drama</td><td>4</td><td>1084</td><td>5.0</td><td>4.521387</td></tr><tr><td>1084</td><td>Bonnie and Clyde (1967)</td><td>Crime|Drama</td><td>63</td><td>1084</td><td>4.0</td><td>3.791163</td></tr><tr><td>1084</td><td>Bonnie and Clyde (1967)</td><td>Crime|Drama</td><td>589</td><td>1084</td><td>4.0</td><td>6.216818</td></tr><tr><td>1084</td><td>Bonnie and Clyde (1967)</td><td>Crime|Drama</td><td>181</td><td>1084</td><td>3.0</td><td>3.397556</td></tr><tr><td>1084</td><td>Bonnie and Clyde (1967)</td><td>Crime|Drama</td><td>288</td><td>1084</td><td>4.0</td><td>4.288682</td></tr><tr><td>1084</td><td>Bonnie and Clyde (1967)</td><td>Crime|Drama</td><td>125</td><td>1084</td><td>4.5</td><td>4.374849</td></tr><tr><td>1084</td><td>Bonnie and Clyde (1967)</td><td>Crime|Drama</td><td>156</td><td>1084</td><td>5.0</td><td>4.0800486</td></tr><tr><td>1084</td><td>Bonnie and Clyde (1967)</td><td>Crime|Drama</td><td>32</td><td>1084</td><td>4.0</td><td>4.138898</td></tr><tr><td>1084</td><td>Bonnie and Clyde (1967)</td><td>Crime|Drama</td><td>265</td><td>1084</td><td>3.0</td><td>3.2710383</td></tr><tr><td>1084</td><td>Bonnie and Clyde (1967)</td><td>Crime|Drama</td><td>414</td><td>1084</td><td>3.0</td><td>4.5042524</td></tr><tr><td>1084</td><td>Bonnie and Clyde (1967)</td><td>Crime|Drama</td><td>260</td><td>1084</td><td>4.5</td><td>4.3664994</td></tr><tr><td>1084</td><td>Bonnie and Clyde (1967)</td><td>Crime|Drama</td><td>600</td><td>1084</td><td>3.5</td><td>3.3824427</td></tr><tr><td>1084</td><td>Bonnie and Clyde (1967)</td><td>Crime|Drama</td><td>294</td><td>1084</td><td>4.0</td><td>3.7501705</td></tr><tr><td>1084</td><td>Bonnie and Clyde (1967)</td><td>Crime|Drama</td><td>357</td><td>1084</td><td>4.5</td><td>4.0042057</td></tr><tr><td>1084</td><td>Bonnie and Clyde (1967)</td><td>Crime|Drama</td><td>405</td><td>1084</td><td>4.0</td><td>3.9041443</td></tr><tr><td>1084</td><td>Bonnie and Clyde (1967)</td><td>Crime|Drama</td><td>275</td><td>1084</td><td>5.0</td><td>4.3392334</td></tr><tr><td>1084</td><td>Bonnie and Clyde (1967)</td><td>Crime|Drama</td><td>410</td><td>1084</td><td>4.0</td><td>3.9228303</td></tr><tr><td>1084</td><td>Bonnie and Clyde (1967)</td><td>Crime|Drama</td><td>74</td><td>1084</td><td>5.0</td><td>4.6899505</td></tr><tr><td>1084</td><td>Bonnie and Clyde (1967)</td><td>Crime|Drama</td><td>315</td><td>1084</td><td>4.0</td><td>2.8244274</td></tr><tr><td>1127</td><td>Abyss, The (1989)</td><td>Action|Adventure|Sci-Fi|Thriller</td><td>392</td><td>1127</td><td>3.0</td><td>2.9323575</td></tr><tr><td>1127</td><td>Abyss, The (1989)</td><td>Action|Adventure|Sci-Fi|Thriller</td><td>580</td><td>1127</td><td>4.0</td><td>3.0055103</td></tr><tr><td>1127</td><td>Abyss, The (1989)</td><td>Action|Adventure|Sci-Fi|Thriller</td><td>368</td><td>1127</td><td>4.0</td><td>3.8147533</td></tr><tr><td>1127</td><td>Abyss, The (1989)</td><td>Action|Adventure|Sci-Fi|Thriller</td><td>101</td><td>1127</td><td>4.0</td><td>3.5527978</td></tr><tr><td>1127</td><td>Abyss, The (1989)</td><td>Action|Adventure|Sci-Fi|Thriller</td><td>385</td><td>1127</td><td>3.0</td><td>2.56285</td></tr><tr><td>1127</td><td>Abyss, The (1989)</td><td>Action|Adventure|Sci-Fi|Thriller</td><td>27</td><td>1127</td><td>4.0</td><td>3.8501284</td></tr><tr><td>1127</td><td>Abyss, The (1989)</td><td>Action|Adventure|Sci-Fi|Thriller</td><td>577</td><td>1127</td><td>3.0</td><td>3.1201348</td></tr><tr><td>1127</td><td>Abyss, The (1989)</td><td>Action|Adventure|Sci-Fi|Thriller</td><td>271</td><td>1127</td><td>2.5</td><td>2.56444</td></tr><tr><td>1127</td><td>Abyss, The (1989)</td><td>Action|Adventure|Sci-Fi|Thriller</td><td>91</td><td>1127</td><td>4.0</td><td>3.1868632</td></tr><tr><td>1127</td><td>Abyss, The (1989)</td><td>Action|Adventure|Sci-Fi|Thriller</td><td>372</td><td>1127</td><td>4.0</td><td>4.021686</td></tr><tr><td>1127</td><td>Abyss, The (1989)</td><td>Action|Adventure|Sci-Fi|Thriller</td><td>599</td><td>1127</td><td>3.5</td><td>3.3050344</td></tr><tr><td>1127</td><td>Abyss, The (1989)</td><td>Action|Adventure|Sci-Fi|Thriller</td><td>140</td><td>1127</td><td>3.0</td><td>3.4986677</td></tr><tr><td>1127</td><td>Abyss, The (1989)</td><td>Action|Adventure|Sci-Fi|Thriller</td><td>325</td><td>1127</td><td>4.0</td><td>3.1332097</td></tr><tr><td>1127</td><td>Abyss, The (1989)</td><td>Action|Adventure|Sci-Fi|Thriller</td><td>603</td><td>1127</td><td>1.0</td><td>2.4397988</td></tr><tr><td>1127</td><td>Abyss, The (1989)</td><td>Action|Adventure|Sci-Fi|Thriller</td><td>1</td><td>1127</td><td>4.0</td><td>4.0529337</td></tr><tr><td>1127</td><td>Abyss, The (1989)</td><td>Action|Adventure|Sci-Fi|Thriller</td><td>182</td><td>1127</td><td>0.5</td><td>2.9374783</td></tr><tr><td>1127</td><td>Abyss, The (1989)</td><td>Action|Adventure|Sci-Fi|Thriller</td><td>377</td><td>1127</td><td>3.5</td><td>3.9606</td></tr><tr><td>1127</td><td>Abyss, The (1989)</td><td>Action|Adventure|Sci-Fi|Thriller</td><td>57</td><td>1127</td><td>4.0</td><td>3.782763</td></tr><tr><td>1127</td><td>Abyss, The (1989)</td><td>Action|Adventure|Sci-Fi|Thriller</td><td>570</td><td>1127</td><td>4.5</td><td>3.1462965</td></tr><tr><td>1127</td><td>Abyss, The (1989)</td><td>Action|Adventure|Sci-Fi|Thriller</td><td>452</td><td>1127</td><td>5.0</td><td>4.037435</td></tr><tr><td>1127</td><td>Abyss, The (1989)</td><td>Action|Adventure|Sci-Fi|Thriller</td><td>266</td><td>1127</td><td>4.0</td><td>3.4576433</td></tr><tr><td>1127</td><td>Abyss, The (1989)</td><td>Action|Adventure|Sci-Fi|Thriller</td><td>19</td><td>1127</td><td>3.0</td><td>3.0598068</td></tr><tr><td>1127</td><td>Abyss, The (1989)</td><td>Action|Adventure|Sci-Fi|Thriller</td><td>560</td><td>1127</td><td>4.0</td><td>3.5271177</td></tr><tr><td>1127</td><td>Abyss, The (1989)</td><td>Action|Adventure|Sci-Fi|Thriller</td><td>165</td><td>1127</td><td>4.0</td><td>3.6084075</td></tr><tr><td>1127</td><td>Abyss, The (1989)</td><td>Action|Adventure|Sci-Fi|Thriller</td><td>590</td><td>1127</td><td>3.5</td><td>3.7648115</td></tr><tr><td>1127</td><td>Abyss, The (1989)</td><td>Action|Adventure|Sci-Fi|Thriller</td><td>202</td><td>1127</td><td>5.0</td><td>3.0571005</td></tr><tr><td>1127</td><td>Abyss, The (1989)</td><td>Action|Adventure|Sci-Fi|Thriller</td><td>387</td><td>1127</td><td>4.5</td><td>3.4623616</td></tr><tr><td>1127</td><td>Abyss, The (1989)</td><td>Action|Adventure|Sci-Fi|Thriller</td><td>610</td><td>1127</td><td>4.0</td><td>3.4050617</td></tr><tr><td>1127</td><td>Abyss, The (1989)</td><td>Action|Adventure|Sci-Fi|Thriller</td><td>217</td><td>1127</td><td>4.0</td><td>2.1133738</td></tr><tr><td>1127</td><td>Abyss, The (1989)</td><td>Action|Adventure|Sci-Fi|Thriller</td><td>555</td><td>1127</td><td>3.0</td><td>3.864121</td></tr><tr><td>1127</td><td>Abyss, The (1989)</td><td>Action|Adventure|Sci-Fi|Thriller</td><td>39</td><td>1127</td><td>4.0</td><td>4.974875</td></tr><tr><td>1127</td><td>Abyss, The (1989)</td><td>Action|Adventure|Sci-Fi|Thriller</td><td>380</td><td>1127</td><td>4.0</td><td>2.9539402</td></tr><tr><td>1127</td><td>Abyss, The (1989)</td><td>Action|Adventure|Sci-Fi|Thriller</td><td>514</td><td>1127</td><td>3.5</td><td>3.8014157</td></tr><tr><td>1127</td><td>Abyss, The (1989)</td><td>Action|Adventure|Sci-Fi|Thriller</td><td>428</td><td>1127</td><td>2.5</td><td>2.5235279</td></tr><tr><td>1127</td><td>Abyss, The (1989)</td><td>Action|Adventure|Sci-Fi|Thriller</td><td>312</td><td>1127</td><td>4.0</td><td>3.6848114</td></tr><tr><td>1127</td><td>Abyss, The (1989)</td><td>Action|Adventure|Sci-Fi|Thriller</td><td>509</td><td>1127</td><td>3.5</td><td>3.3096554</td></tr></tbody></table></div>"
            ]
          },
          "metadata": {
            "tags": []
          }
        }
      ]
    },
    {
      "cell_type": "markdown",
      "metadata": {
        "id": "LCdFGl0IDlWV",
        "colab_type": "text"
      },
      "source": [
        "## Recommend moive to users with id: 575, 232. \n",
        "you can choose some users to recommend the moives"
      ]
    },
    {
      "cell_type": "code",
      "metadata": {
        "id": "1gfOemwXDlWV",
        "colab_type": "code",
        "colab": {},
        "outputId": "f9a81b64-9cca-4490-8aeb-8e336b84bf87"
      },
      "source": [
        "from pyspark.sql.functions import lit\n",
        "\n",
        "def recommendMovies(model, user, nbRecommendations):\n",
        "    # Create a Spark DataFrame with the specified user and all the movies listed in the ratings DataFrame\n",
        "    dataSet = movie_ratings.select('movieId').distinct().withColumn('userId', lit(user))\n",
        "\n",
        "    # Create a Spark DataFrame with the movies that have already been rated by this user\n",
        "    moviesAlreadyRated = movie_ratings.filter(movie_ratings.userId == user).select('movieId', 'userId')\n",
        "\n",
        "    # Apply the recommender system to the data set without the already rated movies to predict ratings\n",
        "    predictions = best_model.transform(dataSet.subtract(moviesAlreadyRated)).dropna().orderBy('prediction', ascending=False).limit(nbRecommendations).select('movieId', 'prediction')\n",
        "\n",
        "    # Join with the movies DataFrame to get the movies titles and genres\n",
        "    recommendations = predictions.join(movies_df, predictions.movieId == movies_df.movieId).select(predictions.movieId, movies_df.title, movies_df.genres, predictions.prediction)\n",
        "\n",
        "#     recommendations.show(truncate=False)\n",
        "    return recommendations"
      ],
      "execution_count": 0,
      "outputs": [
        {
          "output_type": "display_data",
          "data": {
            "text/html": [
              "<style scoped>\n",
              "  .ansiout {\n",
              "    display: block;\n",
              "    unicode-bidi: embed;\n",
              "    white-space: pre-wrap;\n",
              "    word-wrap: break-word;\n",
              "    word-break: break-all;\n",
              "    font-family: \"Source Code Pro\", \"Menlo\", monospace;;\n",
              "    font-size: 13px;\n",
              "    color: #555;\n",
              "    margin-left: 4px;\n",
              "    line-height: 19px;\n",
              "  }\n",
              "</style>\n",
              "<div class=\"ansiout\"></div>"
            ]
          },
          "metadata": {
            "tags": []
          }
        }
      ]
    },
    {
      "cell_type": "code",
      "metadata": {
        "id": "jxBDBjyjDlWX",
        "colab_type": "code",
        "colab": {},
        "outputId": "c563ac62-181e-423a-9ee1-15445cb9037f"
      },
      "source": [
        "# recommend movie to user with id 575\n",
        "print('Top 10 Recommendations for user 575:')\n",
        "recommendMovies(best_model, 575, 10).toPandas()"
      ],
      "execution_count": 0,
      "outputs": [
        {
          "output_type": "display_data",
          "data": {
            "text/html": [
              "<div>\n",
              "<style scoped>\n",
              "    .dataframe tbody tr th:only-of-type {\n",
              "        vertical-align: middle;\n",
              "    }\n",
              "\n",
              "    .dataframe tbody tr th {\n",
              "        vertical-align: top;\n",
              "    }\n",
              "\n",
              "    .dataframe thead th {\n",
              "        text-align: right;\n",
              "    }\n",
              "</style>\n",
              "<table border=\"1\" class=\"dataframe\">\n",
              "  <thead>\n",
              "    <tr style=\"text-align: right;\">\n",
              "      <th></th>\n",
              "      <th>movieId</th>\n",
              "      <th>title</th>\n",
              "      <th>genres</th>\n",
              "      <th>prediction</th>\n",
              "    </tr>\n",
              "  </thead>\n",
              "  <tbody>\n",
              "    <tr>\n",
              "      <th>0</th>\n",
              "      <td>1095</td>\n",
              "      <td>Glengarry Glen Ross (1992)</td>\n",
              "      <td>Drama</td>\n",
              "      <td>6.862888</td>\n",
              "    </tr>\n",
              "    <tr>\n",
              "      <th>1</th>\n",
              "      <td>1711</td>\n",
              "      <td>Midnight in the Garden of Good and Evil (1997)</td>\n",
              "      <td>Crime|Drama|Mystery</td>\n",
              "      <td>6.109157</td>\n",
              "    </tr>\n",
              "    <tr>\n",
              "      <th>2</th>\n",
              "      <td>2290</td>\n",
              "      <td>Stardust Memories (1980)</td>\n",
              "      <td>Comedy|Drama</td>\n",
              "      <td>6.411269</td>\n",
              "    </tr>\n",
              "    <tr>\n",
              "      <th>3</th>\n",
              "      <td>2387</td>\n",
              "      <td>Very Bad Things (1998)</td>\n",
              "      <td>Comedy|Crime</td>\n",
              "      <td>6.177738</td>\n",
              "    </tr>\n",
              "    <tr>\n",
              "      <th>4</th>\n",
              "      <td>2476</td>\n",
              "      <td>Heartbreak Ridge (1986)</td>\n",
              "      <td>Action|War</td>\n",
              "      <td>5.975768</td>\n",
              "    </tr>\n",
              "    <tr>\n",
              "      <th>5</th>\n",
              "      <td>3742</td>\n",
              "      <td>Battleship Potemkin (1925)</td>\n",
              "      <td>Drama|War</td>\n",
              "      <td>5.991602</td>\n",
              "    </tr>\n",
              "    <tr>\n",
              "      <th>6</th>\n",
              "      <td>3836</td>\n",
              "      <td>Kelly's Heroes (1970)</td>\n",
              "      <td>Action|Comedy|War</td>\n",
              "      <td>6.188545</td>\n",
              "    </tr>\n",
              "    <tr>\n",
              "      <th>7</th>\n",
              "      <td>5747</td>\n",
              "      <td>Gallipoli (1981)</td>\n",
              "      <td>Drama|War</td>\n",
              "      <td>6.395149</td>\n",
              "    </tr>\n",
              "    <tr>\n",
              "      <th>8</th>\n",
              "      <td>59900</td>\n",
              "      <td>You Don't Mess with the Zohan (2008)</td>\n",
              "      <td>Comedy</td>\n",
              "      <td>6.126216</td>\n",
              "    </tr>\n",
              "    <tr>\n",
              "      <th>9</th>\n",
              "      <td>92535</td>\n",
              "      <td>Louis C.K.: Live at the Beacon Theater (2011)</td>\n",
              "      <td>Comedy</td>\n",
              "      <td>6.102040</td>\n",
              "    </tr>\n",
              "  </tbody>\n",
              "</table>\n",
              "</div>"
            ]
          },
          "metadata": {
            "tags": []
          }
        }
      ]
    },
    {
      "cell_type": "code",
      "metadata": {
        "id": "wF4QCR9SDlWZ",
        "colab_type": "code",
        "colab": {},
        "outputId": "476d3e05-7ba7-462c-f87c-7ff9e4468beb"
      },
      "source": [
        "# recommend movie to user with id 232\n",
        "print('Top 10 Recommendations for user 232:')\n",
        "recommendMovies(best_model, 232, 10).toPandas()"
      ],
      "execution_count": 0,
      "outputs": [
        {
          "output_type": "display_data",
          "data": {
            "text/html": [
              "<div>\n",
              "<style scoped>\n",
              "    .dataframe tbody tr th:only-of-type {\n",
              "        vertical-align: middle;\n",
              "    }\n",
              "\n",
              "    .dataframe tbody tr th {\n",
              "        vertical-align: top;\n",
              "    }\n",
              "\n",
              "    .dataframe thead th {\n",
              "        text-align: right;\n",
              "    }\n",
              "</style>\n",
              "<table border=\"1\" class=\"dataframe\">\n",
              "  <thead>\n",
              "    <tr style=\"text-align: right;\">\n",
              "      <th></th>\n",
              "      <th>movieId</th>\n",
              "      <th>title</th>\n",
              "      <th>genres</th>\n",
              "      <th>prediction</th>\n",
              "    </tr>\n",
              "  </thead>\n",
              "  <tbody>\n",
              "    <tr>\n",
              "      <th>0</th>\n",
              "      <td>599</td>\n",
              "      <td>Wild Bunch, The (1969)</td>\n",
              "      <td>Adventure|Western</td>\n",
              "      <td>4.887916</td>\n",
              "    </tr>\n",
              "    <tr>\n",
              "      <th>1</th>\n",
              "      <td>3972</td>\n",
              "      <td>Legend of Drunken Master, The (Jui kuen II) (1...</td>\n",
              "      <td>Action|Comedy</td>\n",
              "      <td>4.855138</td>\n",
              "    </tr>\n",
              "    <tr>\n",
              "      <th>2</th>\n",
              "      <td>4437</td>\n",
              "      <td>Suspiria (1977)</td>\n",
              "      <td>Horror</td>\n",
              "      <td>4.829184</td>\n",
              "    </tr>\n",
              "    <tr>\n",
              "      <th>3</th>\n",
              "      <td>26133</td>\n",
              "      <td>Charlie Brown Christmas, A (1965)</td>\n",
              "      <td>Animation|Children|Comedy</td>\n",
              "      <td>5.299094</td>\n",
              "    </tr>\n",
              "    <tr>\n",
              "      <th>4</th>\n",
              "      <td>53123</td>\n",
              "      <td>Once (2006)</td>\n",
              "      <td>Drama|Musical|Romance</td>\n",
              "      <td>4.901923</td>\n",
              "    </tr>\n",
              "    <tr>\n",
              "      <th>5</th>\n",
              "      <td>56782</td>\n",
              "      <td>There Will Be Blood (2007)</td>\n",
              "      <td>Drama|Western</td>\n",
              "      <td>4.819464</td>\n",
              "    </tr>\n",
              "    <tr>\n",
              "      <th>6</th>\n",
              "      <td>91658</td>\n",
              "      <td>Girl with the Dragon Tattoo, The (2011)</td>\n",
              "      <td>Drama|Thriller</td>\n",
              "      <td>4.922301</td>\n",
              "    </tr>\n",
              "    <tr>\n",
              "      <th>7</th>\n",
              "      <td>102123</td>\n",
              "      <td>This Is the End (2013)</td>\n",
              "      <td>Action|Comedy</td>\n",
              "      <td>4.832106</td>\n",
              "    </tr>\n",
              "    <tr>\n",
              "      <th>8</th>\n",
              "      <td>142488</td>\n",
              "      <td>Spotlight (2015)</td>\n",
              "      <td>Thriller</td>\n",
              "      <td>4.789491</td>\n",
              "    </tr>\n",
              "    <tr>\n",
              "      <th>9</th>\n",
              "      <td>148626</td>\n",
              "      <td>Big Short, The (2015)</td>\n",
              "      <td>Drama</td>\n",
              "      <td>4.785877</td>\n",
              "    </tr>\n",
              "  </tbody>\n",
              "</table>\n",
              "</div>"
            ]
          },
          "metadata": {
            "tags": []
          }
        }
      ]
    },
    {
      "cell_type": "markdown",
      "metadata": {
        "id": "9YWjpMIcDlWc",
        "colab_type": "text"
      },
      "source": [
        "## Find the similar moives for moive with id: 4782\n",
        "You can find the similar moives based on the ALS results"
      ]
    },
    {
      "cell_type": "code",
      "metadata": {
        "id": "4y4zrGjODlWd",
        "colab_type": "code",
        "colab": {},
        "outputId": "6d71bf91-f0c1-46a6-dfaa-ca03548fb392"
      },
      "source": [
        "# find all the item-based recommendtions\n",
        "movieRecs = best_model.recommendForAllItems(10)\n",
        "movieRecs.show()"
      ],
      "execution_count": 0,
      "outputs": [
        {
          "output_type": "display_data",
          "data": {
            "text/html": [
              "<style scoped>\n",
              "  .ansiout {\n",
              "    display: block;\n",
              "    unicode-bidi: embed;\n",
              "    white-space: pre-wrap;\n",
              "    word-wrap: break-word;\n",
              "    word-break: break-all;\n",
              "    font-family: \"Source Code Pro\", \"Menlo\", monospace;;\n",
              "    font-size: 13px;\n",
              "    color: #555;\n",
              "    margin-left: 4px;\n",
              "    line-height: 19px;\n",
              "  }\n",
              "</style>\n",
              "<div class=\"ansiout\">+-------+--------------------+\n",
              "movieId|     recommendations|\n",
              "+-------+--------------------+\n",
              "   1580|[[197, 5.8360677]...|\n",
              "   4900|[[423, 6.5176425]...|\n",
              "   5300|[[289, 6.492154],...|\n",
              "   6620|[[35, 9.636635], ...|\n",
              "   7340|[[399, 8.002773],...|\n",
              "  32460|[[394, 9.85497], ...|\n",
              "  54190|[[574, 7.564083],...|\n",
              "    471|[[35, 10.447428],...|\n",
              "   1591|[[126, 10.908645]...|\n",
              " 140541|[[598, 8.144514],...|\n",
              "   1342|[[431, 8.158767],...|\n",
              "   2122|[[296, 10.386727]...|\n",
              "   2142|[[37, 5.9340525],...|\n",
              "   7982|[[394, 10.726069]...|\n",
              "  44022|[[399, 8.172369],...|\n",
              " 141422|[[147, 4.758255],...|\n",
              " 144522|[[498, 4.640779],...|\n",
              "    833|[[126, 4.463811],...|\n",
              "   5803|[[536, 2.9645333]...|\n",
              "   7833|[[303, 5.6197114]...|\n",
              "+-------+--------------------+\n",
              "only showing top 20 rows\n",
              "\n",
              "</div>"
            ]
          },
          "metadata": {
            "tags": []
          }
        }
      ]
    },
    {
      "cell_type": "code",
      "metadata": {
        "id": "deIqukvMDlWg",
        "colab_type": "code",
        "colab": {},
        "outputId": "5f02dc52-30d0-41dc-b650-1bc7bf0cbd70"
      },
      "source": [
        "movieRecs.registerTempTable(\"MR\")\n",
        "movies_df.registerTempTable(\"movies\")"
      ],
      "execution_count": 0,
      "outputs": [
        {
          "output_type": "display_data",
          "data": {
            "text/html": [
              "<style scoped>\n",
              "  .ansiout {\n",
              "    display: block;\n",
              "    unicode-bidi: embed;\n",
              "    white-space: pre-wrap;\n",
              "    word-wrap: break-word;\n",
              "    word-break: break-all;\n",
              "    font-family: \"Source Code Pro\", \"Menlo\", monospace;;\n",
              "    font-size: 13px;\n",
              "    color: #555;\n",
              "    margin-left: 4px;\n",
              "    line-height: 19px;\n",
              "  }\n",
              "</style>\n",
              "<div class=\"ansiout\"></div>"
            ]
          },
          "metadata": {
            "tags": []
          }
        }
      ]
    },
    {
      "cell_type": "code",
      "metadata": {
        "id": "iK33P67_DlWi",
        "colab_type": "code",
        "colab": {},
        "outputId": "3638c0be-7f28-4b1b-eeae-ca58151e8377"
      },
      "source": [
        "# find similar movie with movieId 4782 based on item-based recommendation. By the way, i am not sure about this."
      ],
      "execution_count": 0,
      "outputs": [
        {
          "output_type": "display_data",
          "data": {
            "text/html": [
              "<style scoped>\n",
              "  .ansiout {\n",
              "    display: block;\n",
              "    unicode-bidi: embed;\n",
              "    white-space: pre-wrap;\n",
              "    word-wrap: break-word;\n",
              "    word-break: break-all;\n",
              "    font-family: \"Source Code Pro\", \"Menlo\", monospace;;\n",
              "    font-size: 13px;\n",
              "    color: #555;\n",
              "    margin-left: 4px;\n",
              "    line-height: 19px;\n",
              "  }\n",
              "</style>\n",
              "<div class=\"ansiout\"></div>"
            ]
          },
          "metadata": {
            "tags": []
          }
        }
      ]
    },
    {
      "cell_type": "code",
      "metadata": {
        "id": "Vpl2xn2TDlWk",
        "colab_type": "code",
        "colab": {},
        "outputId": "ef4ec954-f47d-4b8d-b658-f0e3e8cfa60a"
      },
      "source": [
        "%sql \n",
        "select a1.title, \n",
        "       a1.genres, \n",
        "       a.movieId_1, \n",
        "       a.movieId_2 \n",
        "from movies a1 join\n",
        "(select m1.movieId as movieId_1, \n",
        "       m2.movieId as movieId_2 \n",
        "from MR m1, MR m2\n",
        "where m1.recommendations = m2.recommendations and m1.movieId != m2.movieId) a \n",
        "on a1.movieId = a.movieId_1\n",
        "where a.movieId_1 = 4782\n",
        "union all\n",
        "select a1.title, \n",
        "       a1.genres, \n",
        "       a.movieId_1, \n",
        "       a.movieId_2 \n",
        "from movies a1 join\n",
        "(select m1.movieId as movieId_1, \n",
        "       m2.movieId as movieId_2 \n",
        "from MR m1, MR m2\n",
        "where m1.recommendations = m2.recommendations and m1.movieId != m2.movieId) a \n",
        "on a1.movieId = a.movieId_1\n",
        "where a.movieId_1 = 5456"
      ],
      "execution_count": 0,
      "outputs": [
        {
          "output_type": "display_data",
          "data": {
            "text/html": [
              "<style scoped>\n",
              "  .table-result-container {\n",
              "    max-height: 300px;\n",
              "    overflow: auto;\n",
              "  }\n",
              "  table, th, td {\n",
              "    border: 1px solid black;\n",
              "    border-collapse: collapse;\n",
              "  }\n",
              "  th, td {\n",
              "    padding: 5px;\n",
              "  }\n",
              "  th {\n",
              "    text-align: left;\n",
              "  }\n",
              "</style><div class='table-result-container'><table class='table-result'><thead style='background-color: white'><tr><th>title</th><th>genres</th><th>movieId_1</th><th>movieId_2</th></tr></thead><tbody><tr><td>Sidewalks of New York (2001)</td><td>Comedy|Romance</td><td>4782</td><td>5456</td></tr><tr><td>Wagons East (1994)</td><td>Comedy|Western</td><td>5456</td><td>4782</td></tr></tbody></table></div>"
            ]
          },
          "metadata": {
            "tags": []
          }
        }
      ]
    },
    {
      "cell_type": "markdown",
      "metadata": {
        "id": "X0r0iVqZDlWm",
        "colab_type": "text"
      },
      "source": [
        "## Write the report \n",
        "motivation\n",
        "1. step1\n",
        "2. step2\n",
        "3. step3\n",
        "4. step4  \n",
        "output and conclusion"
      ]
    },
    {
      "cell_type": "markdown",
      "metadata": {
        "id": "rFEl9OtHDlWm",
        "colab_type": "text"
      },
      "source": [
        "## Report Conclusion\n",
        "1.First of all, loaded data to the Spark Filestore, then trying to do Data ETL and Exploration.  \n",
        "2.Used Spark SQL to extract movie, rating based on content infomation.  \n",
        "3.Preprocessed data such as data cleaning, converting data type.  \n",
        "4.Implemented ALS model to traing the data, and using grid search method to tune the hyperparameter with cross-validation such as rank, maxiter, Regparam. Finally, we extract best model to make a prediction.  \n",
        "5.After built model, using RMSE evaluator to evaluate the performance and apply the ALS model.  \n",
        "6.Applied ALS model, recommending top 10 movies to specific user based on User-based method, and recommend similar movies for specific movies based on Item-based method."
      ]
    }
  ]
}